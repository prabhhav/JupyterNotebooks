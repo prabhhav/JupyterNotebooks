{
  "nbformat": 4,
  "nbformat_minor": 0,
  "metadata": {
    "colab": {
      "name": "Custom Image Classifier.ipynb",
      "provenance": [],
      "collapsed_sections": [],
      "authorship_tag": "ABX9TyO5N9aLtcPwAVqoHzhf6BYA",
      "include_colab_link": true
    },
    "kernelspec": {
      "name": "python3",
      "display_name": "Python 3"
    }
  },
  "cells": [
    {
      "cell_type": "markdown",
      "metadata": {
        "id": "view-in-github",
        "colab_type": "text"
      },
      "source": [
        "<a href=\"https://colab.research.google.com/github/prabhhav/JupyterNotebooks/blob/main/Custom_Image_Classifier.ipynb\" target=\"_parent\"><img src=\"https://colab.research.google.com/assets/colab-badge.svg\" alt=\"Open In Colab\"/></a>"
      ]
    },
    {
      "cell_type": "code",
      "metadata": {
        "id": "a4z0sW6m3WXM"
      },
      "source": [
        "import os\r\n",
        "import cv2\r\n",
        "import numpy as np\r\n",
        "from zipfile import ZipFile\r\n",
        "from tqdm import tqdm"
      ],
      "execution_count": 7,
      "outputs": []
    },
    {
      "cell_type": "code",
      "metadata": {
        "colab": {
          "base_uri": "https://localhost:8080/"
        },
        "id": "WwXfVyIQ4IxD",
        "outputId": "013c6501-a458-4639-d826-62686113a9f2"
      },
      "source": [
        "!ls"
      ],
      "execution_count": 8,
      "outputs": [
        {
          "output_type": "stream",
          "text": [
            "ezyzip\tezyzip.zip  sample_data\n"
          ],
          "name": "stdout"
        }
      ]
    },
    {
      "cell_type": "code",
      "metadata": {
        "colab": {
          "base_uri": "https://localhost:8080/"
        },
        "id": "Pz0tHSJL4Mqe",
        "outputId": "c2651e3b-3769-434e-bc41-fbaf0e4ed321"
      },
      "source": [
        "os.listdir()"
      ],
      "execution_count": 9,
      "outputs": [
        {
          "output_type": "execute_result",
          "data": {
            "text/plain": [
              "['.config', 'ezyzip.zip', 'ezyzip', '.ipynb_checkpoints', 'sample_data']"
            ]
          },
          "metadata": {
            "tags": []
          },
          "execution_count": 9
        }
      ]
    },
    {
      "cell_type": "code",
      "metadata": {
        "id": "qzvnAjA94cvd"
      },
      "source": [
        "import shutil\r\n",
        "if(os.path.isdir(\"ezyzip\")):\r\n",
        "  shutil.rmtree(\"ezyzip\", ignore_errors=False, onerror=None)"
      ],
      "execution_count": 10,
      "outputs": []
    },
    {
      "cell_type": "code",
      "metadata": {
        "colab": {
          "base_uri": "https://localhost:8080/"
        },
        "id": "fgVEM8qv7rkA",
        "outputId": "3f4cf5b5-7145-46ab-e0a1-dd0dd125417d"
      },
      "source": [
        "os.path.isdir(\"ezyzip\")"
      ],
      "execution_count": 16,
      "outputs": [
        {
          "output_type": "execute_result",
          "data": {
            "text/plain": [
              "True"
            ]
          },
          "metadata": {
            "tags": []
          },
          "execution_count": 16
        }
      ]
    },
    {
      "cell_type": "code",
      "metadata": {
        "id": "R3d7DCYu8Iuv"
      },
      "source": [
        "root_path = \"ezyzip.zip\""
      ],
      "execution_count": 17,
      "outputs": []
    },
    {
      "cell_type": "code",
      "metadata": {
        "id": "mUMdLpN_9qjf"
      },
      "source": [
        "def uncompress_features_labels(dir,name):\r\n",
        "  if(os.path.isdir(\"ezyzip\")):\r\n",
        "    print(\"Data Extracted\")\r\n",
        "  else:\r\n",
        "     with ZipFile(dir) as zipf:\r\n",
        "       zipf.extractall(name)\r\n"
      ],
      "execution_count": 18,
      "outputs": []
    },
    {
      "cell_type": "code",
      "metadata": {
        "colab": {
          "base_uri": "https://localhost:8080/"
        },
        "id": "auh3hhaVsC9A",
        "outputId": "84c61988-9275-45d4-d2ce-96cdca270d2b"
      },
      "source": [
        "uncompress_features_labels(root_path,'ezyzip')"
      ],
      "execution_count": 19,
      "outputs": [
        {
          "output_type": "stream",
          "text": [
            "Data Extracted\n"
          ],
          "name": "stdout"
        }
      ]
    },
    {
      "cell_type": "code",
      "metadata": {
        "id": "JBSN_p31wIZ3"
      },
      "source": [
        "DATADIR = \"ezyzip/Data\"\r\n",
        "CATEGORIES = os.listdir(\"ezyzip/Data\")\r\n",
        "IMG_SIZE = 224"
      ],
      "execution_count": 20,
      "outputs": []
    },
    {
      "cell_type": "code",
      "metadata": {
        "colab": {
          "base_uri": "https://localhost:8080/"
        },
        "id": "B0a9LoJjxb0v",
        "outputId": "4a0a6f90-b5e6-47ef-ec0d-72ce6c3a52a6"
      },
      "source": [
        "os.listdir(DATADIR)"
      ],
      "execution_count": 21,
      "outputs": [
        {
          "output_type": "execute_result",
          "data": {
            "text/plain": [
              "['Plane', 'Cruise']"
            ]
          },
          "metadata": {
            "tags": []
          },
          "execution_count": 21
        }
      ]
    },
    {
      "cell_type": "code",
      "metadata": {
        "colab": {
          "base_uri": "https://localhost:8080/"
        },
        "id": "J8FjIOVcx08A",
        "outputId": "dbee6e50-acbc-49c7-f5ec-29aa97dd3f07"
      },
      "source": [
        "CATEGORIES"
      ],
      "execution_count": 22,
      "outputs": [
        {
          "output_type": "execute_result",
          "data": {
            "text/plain": [
              "['Plane', 'Cruise']"
            ]
          },
          "metadata": {
            "tags": []
          },
          "execution_count": 22
        }
      ]
    },
    {
      "cell_type": "markdown",
      "metadata": {
        "id": "r9MLiybwy0Sw"
      },
      "source": [
        "Create Training Data"
      ]
    },
    {
      "cell_type": "code",
      "metadata": {
        "colab": {
          "base_uri": "https://localhost:8080/"
        },
        "id": "s3dQl_1oyig4",
        "outputId": "263c4e08-6ad4-4926-ac74-20e39466deb0"
      },
      "source": [
        "training_data = []\r\n",
        "\r\n",
        "for category in CATEGORIES:\r\n",
        "  print(category)\r\n",
        "  path = os.path.join(DATADIR, category)\r\n",
        "  print(path)\r\n",
        "  class_num = CATEGORIES.index(category)\r\n",
        "  print(class_num)\r\n",
        "\r\n",
        "  for img in tqdm(os.listdir(path)):\r\n",
        "    print(img)\r\n",
        "    img_path = os.path.join(path,img)\r\n",
        "    img_array = cv2.imread(img_path, cv2.COLOR_BGR2RGB)\r\n",
        "    new_image = cv2.resize(img_array, (IMG_SIZE, IMG_SIZE))\r\n",
        "    training_data.append([new_image, class_num])"
      ],
      "execution_count": 23,
      "outputs": [
        {
          "output_type": "stream",
          "text": [
            " 13%|█▎        | 2/15 [00:00<00:00, 16.91it/s]"
          ],
          "name": "stderr"
        },
        {
          "output_type": "stream",
          "text": [
            "Plane\n",
            "ezyzip/Data/Plane\n",
            "0\n",
            "Plane4.jfif\n",
            "Plane11.jfif\n",
            "Plane3.jfif\n",
            "Plane1.jfif\n",
            "Plane5.jfif\n",
            "Plane15.jfif\n",
            "Plane10.jfif\n"
          ],
          "name": "stdout"
        },
        {
          "output_type": "stream",
          "text": [
            " 67%|██████▋   | 10/15 [00:00<00:00, 18.88it/s]"
          ],
          "name": "stderr"
        },
        {
          "output_type": "stream",
          "text": [
            "Plane8.jfif\n",
            "Plane9.jfif\n",
            "Plane2.jpg\n",
            "Plane14.jfif\n"
          ],
          "name": "stdout"
        },
        {
          "output_type": "stream",
          "text": [
            "\r 87%|████████▋ | 13/15 [00:00<00:00, 20.23it/s]"
          ],
          "name": "stderr"
        },
        {
          "output_type": "stream",
          "text": [
            "Plane13.jfif\n",
            "Plane12.jfif\n",
            "plane7.jfif\n"
          ],
          "name": "stdout"
        },
        {
          "output_type": "stream",
          "text": [
            "100%|██████████| 15/15 [00:00<00:00, 21.29it/s]\n",
            "  0%|          | 0/15 [00:00<?, ?it/s]"
          ],
          "name": "stderr"
        },
        {
          "output_type": "stream",
          "text": [
            "Plane6.jfif\n",
            "Cruise\n",
            "ezyzip/Data/Cruise\n",
            "1\n",
            "ship12.jfif\n",
            "ship5.jfif\n",
            "ship14.jfif\n",
            "ship4.jfif\n",
            "ship3.jfif\n",
            "ship10.jfif\n"
          ],
          "name": "stdout"
        },
        {
          "output_type": "stream",
          "text": [
            " 60%|██████    | 9/15 [00:00<00:00, 32.56it/s]"
          ],
          "name": "stderr"
        },
        {
          "output_type": "stream",
          "text": [
            "ship13.jfif\n",
            "ship6.jfif\n",
            "ship2.jfif\n",
            "ship9.jfif\n",
            "ship.jfif\n",
            "ship11.jfif\n",
            "ship7.jfif\n"
          ],
          "name": "stdout"
        },
        {
          "output_type": "stream",
          "text": [
            "100%|██████████| 15/15 [00:00<00:00, 34.63it/s]"
          ],
          "name": "stderr"
        },
        {
          "output_type": "stream",
          "text": [
            "ship8.jfif\n",
            "ship15.jfif\n"
          ],
          "name": "stdout"
        },
        {
          "output_type": "stream",
          "text": [
            "\n"
          ],
          "name": "stderr"
        }
      ]
    },
    {
      "cell_type": "code",
      "metadata": {
        "colab": {
          "base_uri": "https://localhost:8080/"
        },
        "id": "jxz4mRtw2jra",
        "outputId": "9cdcf96f-4184-470b-caeb-e941e723c653"
      },
      "source": [
        "len(training_data)"
      ],
      "execution_count": 24,
      "outputs": [
        {
          "output_type": "execute_result",
          "data": {
            "text/plain": [
              "30"
            ]
          },
          "metadata": {
            "tags": []
          },
          "execution_count": 24
        }
      ]
    },
    {
      "cell_type": "code",
      "metadata": {
        "colab": {
          "base_uri": "https://localhost:8080/"
        },
        "id": "pDoi4dymB1uj",
        "outputId": "966d0174-1d5b-4515-f442-82bfcac767b9"
      },
      "source": [
        "training_data[0][0]"
      ],
      "execution_count": 25,
      "outputs": [
        {
          "output_type": "execute_result",
          "data": {
            "text/plain": [
              "array([[[200, 144, 105],\n",
              "        [202, 145, 106],\n",
              "        [201, 146, 107],\n",
              "        ...,\n",
              "        [177, 117,  81],\n",
              "        [175, 117,  82],\n",
              "        [172, 113,  79]],\n",
              "\n",
              "       [[203, 148, 111],\n",
              "        [205, 147, 111],\n",
              "        [206, 150, 114],\n",
              "        ...,\n",
              "        [183, 122,  89],\n",
              "        [178, 121,  83],\n",
              "        [176, 117,  85]],\n",
              "\n",
              "       [[208, 152, 117],\n",
              "        [202, 149, 112],\n",
              "        [203, 151, 113],\n",
              "        ...,\n",
              "        [176, 120,  84],\n",
              "        [177, 121,  86],\n",
              "        [176, 120,  85]],\n",
              "\n",
              "       ...,\n",
              "\n",
              "       [[164, 159, 160],\n",
              "        [162, 157, 158],\n",
              "        [164, 159, 160],\n",
              "        ...,\n",
              "        [123, 104,  99],\n",
              "        [121, 102,  97],\n",
              "        [120, 104,  97]],\n",
              "\n",
              "       [[164, 159, 160],\n",
              "        [163, 158, 159],\n",
              "        [162, 157, 158],\n",
              "        ...,\n",
              "        [118, 100,  93],\n",
              "        [120, 101,  96],\n",
              "        [122, 104,  97]],\n",
              "\n",
              "       [[160, 155, 156],\n",
              "        [161, 156, 157],\n",
              "        [160, 155, 156],\n",
              "        ...,\n",
              "        [122, 103,  98],\n",
              "        [120, 101,  96],\n",
              "        [121, 103, 100]]], dtype=uint8)"
            ]
          },
          "metadata": {
            "tags": []
          },
          "execution_count": 25
        }
      ]
    },
    {
      "cell_type": "code",
      "metadata": {
        "colab": {
          "base_uri": "https://localhost:8080/"
        },
        "id": "CABS8hD2Cw8A",
        "outputId": "3a95f1fe-9434-4438-a3b6-e381f1288973"
      },
      "source": [
        "training_data[0][0].shape"
      ],
      "execution_count": 26,
      "outputs": [
        {
          "output_type": "execute_result",
          "data": {
            "text/plain": [
              "(224, 224, 3)"
            ]
          },
          "metadata": {
            "tags": []
          },
          "execution_count": 26
        }
      ]
    },
    {
      "cell_type": "markdown",
      "metadata": {
        "id": "ryqfQQacI2U2"
      },
      "source": [
        "Shuffle the data or else the order of the image may affect the performance of the network"
      ]
    },
    {
      "cell_type": "markdown",
      "metadata": {
        "id": "atiM3YtkTLSo"
      },
      "source": [
        "Basic methods for training to train a model with this dataset you will want the data\r\n",
        "* To be well shuffled\r\n",
        "* To be batched \r\n",
        "* Batches to be available as soon as possible"
      ]
    },
    {
      "cell_type": "code",
      "metadata": {
        "colab": {
          "base_uri": "https://localhost:8080/"
        },
        "id": "CwrMIlc-DCvJ",
        "outputId": "10d5bab7-dd60-4633-86ab-0540e9a5c8f4"
      },
      "source": [
        "# b4 shuffle \r\n",
        "for sample in training_data[:10]:\r\n",
        "  print(sample[1])"
      ],
      "execution_count": 27,
      "outputs": [
        {
          "output_type": "stream",
          "text": [
            "0\n",
            "0\n",
            "0\n",
            "0\n",
            "0\n",
            "0\n",
            "0\n",
            "0\n",
            "0\n",
            "0\n"
          ],
          "name": "stdout"
        }
      ]
    },
    {
      "cell_type": "code",
      "metadata": {
        "id": "tbYxaoY6UU0F"
      },
      "source": [
        "import random\r\n",
        "random.shuffle(training_data)"
      ],
      "execution_count": 28,
      "outputs": []
    },
    {
      "cell_type": "code",
      "metadata": {
        "id": "aWpiZJGXX2hw"
      },
      "source": [
        "images = []\r\n",
        "labels = []\r\n",
        "\r\n",
        "for features,label in training_data:\r\n",
        "  images.append(features)\r\n",
        "  labels.append(label)"
      ],
      "execution_count": 29,
      "outputs": []
    },
    {
      "cell_type": "code",
      "metadata": {
        "colab": {
          "base_uri": "https://localhost:8080/"
        },
        "id": "W4eVHmXqYNEG",
        "outputId": "3b35dabe-b45f-419b-fbde-e0cd412cdc89"
      },
      "source": [
        "labels"
      ],
      "execution_count": 30,
      "outputs": [
        {
          "output_type": "execute_result",
          "data": {
            "text/plain": [
              "[1,\n",
              " 0,\n",
              " 0,\n",
              " 1,\n",
              " 1,\n",
              " 0,\n",
              " 1,\n",
              " 1,\n",
              " 0,\n",
              " 1,\n",
              " 1,\n",
              " 0,\n",
              " 1,\n",
              " 1,\n",
              " 0,\n",
              " 1,\n",
              " 0,\n",
              " 1,\n",
              " 0,\n",
              " 0,\n",
              " 1,\n",
              " 0,\n",
              " 0,\n",
              " 1,\n",
              " 0,\n",
              " 0,\n",
              " 0,\n",
              " 0,\n",
              " 1,\n",
              " 1]"
            ]
          },
          "metadata": {
            "tags": []
          },
          "execution_count": 30
        }
      ]
    },
    {
      "cell_type": "code",
      "metadata": {
        "id": "rkUS8NJnYZvR"
      },
      "source": [
        "# input\r\n",
        "X = np.array(images)\r\n",
        "X = X/255\r\n",
        "\r\n",
        "# output\r\n",
        "y = np.array(labels)"
      ],
      "execution_count": 31,
      "outputs": []
    },
    {
      "cell_type": "code",
      "metadata": {
        "colab": {
          "base_uri": "https://localhost:8080/"
        },
        "id": "Z34lFHBNYztv",
        "outputId": "56248432-6aed-4071-aa3d-36b2c5b60f10"
      },
      "source": [
        "X.shape"
      ],
      "execution_count": 32,
      "outputs": [
        {
          "output_type": "execute_result",
          "data": {
            "text/plain": [
              "(30, 224, 224, 3)"
            ]
          },
          "metadata": {
            "tags": []
          },
          "execution_count": 32
        }
      ]
    },
    {
      "cell_type": "code",
      "metadata": {
        "id": "SYx_UqU0Y2_H"
      },
      "source": [
        "from sklearn.model_selection import train_test_split\r\n",
        "X_train, X_test, y_train, y_test = train_test_split(X,y,test_size=0.2, random_state=0)\r\n"
      ],
      "execution_count": 33,
      "outputs": []
    },
    {
      "cell_type": "code",
      "metadata": {
        "colab": {
          "base_uri": "https://localhost:8080/"
        },
        "id": "qObt2yluZdwJ",
        "outputId": "cdfde078-e15d-422d-8c31-901bcd3f1c44"
      },
      "source": [
        "print(X_train.shape)\r\n",
        "print(X_test.shape)\r\n",
        "print(y_train.shape)\r\n",
        "print(y_test.shape)"
      ],
      "execution_count": 34,
      "outputs": [
        {
          "output_type": "stream",
          "text": [
            "(24, 224, 224, 3)\n",
            "(6, 224, 224, 3)\n",
            "(24,)\n",
            "(6,)\n"
          ],
          "name": "stdout"
        }
      ]
    },
    {
      "cell_type": "markdown",
      "metadata": {
        "id": "m7uVCeDAcC_G"
      },
      "source": [
        ""
      ]
    },
    {
      "cell_type": "code",
      "metadata": {
        "colab": {
          "base_uri": "https://localhost:8080/"
        },
        "id": "W4RN0j3KbyYq",
        "outputId": "f522aa91-9f02-4506-b20e-5d3d0f71e4c0"
      },
      "source": [
        "print(y_train)\r\n",
        "print(y_test)"
      ],
      "execution_count": 35,
      "outputs": [
        {
          "output_type": "stream",
          "text": [
            "[0 0 1 0 0 0 0 0 1 1 0 1 1 1 0 0 1 1 0 1 1 0 1 1]\n",
            "[0 1 1 1 0 0]\n"
          ],
          "name": "stdout"
        }
      ]
    },
    {
      "cell_type": "code",
      "metadata": {
        "id": "-z2Ku9SLSWnc"
      },
      "source": [
        "import tensorflow as tf\r\n",
        "from keras.layers import Dense\r\n",
        "from keras.layers import Dropout\r\n",
        "from keras import regularizers\r\n",
        "from keras.optimizers import Adam\r\n"
      ],
      "execution_count": 36,
      "outputs": []
    },
    {
      "cell_type": "code",
      "metadata": {
        "id": "5xt0EKG-UXZ7"
      },
      "source": [
        "import tensorflow.keras.layers as layers\r\n",
        "from keras.models import Sequential"
      ],
      "execution_count": 37,
      "outputs": []
    },
    {
      "cell_type": "markdown",
      "metadata": {
        "id": "gL_eHIrde0PD"
      },
      "source": [
        "CNN"
      ]
    },
    {
      "cell_type": "code",
      "metadata": {
        "id": "kzFS5e5VeUjt"
      },
      "source": [
        "cnn_model = tf.keras.Sequential()\r\n",
        "\r\n",
        "cnn_model.add(layers.Conv2D(filters=32, kernel_size=(3,3), activation='relu', input_shape=(IMG_SIZE,IMG_SIZE,3)))\r\n",
        "cnn_model.add(layers.MaxPooling2D((2,2)))\r\n",
        "\r\n",
        "cnn_model.add(layers.Conv2D(filters=64, kernel_size=(3,3), activation='relu'))\r\n",
        "cnn_model.add(layers.MaxPooling2D((2,2)))\r\n",
        "\r\n",
        "\r\n",
        "cnn_model.add(layers.Conv2D(filters=128, kernel_size=(3,3), activation='relu'))\r\n",
        "\r\n",
        "cnn_model.add(layers.Flatten())\r\n",
        "\r\n",
        "cnn_model.add(layers.Dense(units=128, activation='relu'))\r\n",
        "\r\n",
        "cnn_model.add(layers.Dense(units=len(CATEGORIES), activation='softmax'))\r\n"
      ],
      "execution_count": 38,
      "outputs": []
    },
    {
      "cell_type": "code",
      "metadata": {
        "id": "s5D8rsADTuYp"
      },
      "source": [
        "cnn_model.compile(optimizer=\"adam\", loss='sparse_categorical_crossentropy', metrics=['accuracy'])"
      ],
      "execution_count": 39,
      "outputs": []
    },
    {
      "cell_type": "code",
      "metadata": {
        "id": "nQd-Zo4QRnJB"
      },
      "source": [
        "\r\n",
        "#cnn_model.compile(loss='mean_squared_error',  optimizer=tf.keras.optimizers.Adam(0.1))"
      ],
      "execution_count": 67,
      "outputs": []
    },
    {
      "cell_type": "code",
      "metadata": {
        "colab": {
          "base_uri": "https://localhost:8080/"
        },
        "id": "YLlkYW1OXJ1C",
        "outputId": "db4947a3-a61f-45fd-e5eb-5ecbc4e615e8"
      },
      "source": [
        "history = cnn_model.fit(X_train, y_train, epochs=20, validation_data=(X_test, y_test))"
      ],
      "execution_count": 40,
      "outputs": [
        {
          "output_type": "stream",
          "text": [
            "Epoch 1/20\n",
            "1/1 [==============================] - 4s 4s/step - loss: 0.6923 - accuracy: 0.4583 - val_loss: 2.7776 - val_accuracy: 0.5000\n",
            "Epoch 2/20\n",
            "1/1 [==============================] - 3s 3s/step - loss: 0.7000 - accuracy: 0.7083 - val_loss: 29.7720 - val_accuracy: 0.5000\n",
            "Epoch 3/20\n",
            "1/1 [==============================] - 3s 3s/step - loss: 27.4646 - accuracy: 0.5000 - val_loss: 10.0769 - val_accuracy: 0.5000\n",
            "Epoch 4/20\n",
            "1/1 [==============================] - 2s 2s/step - loss: 8.9817 - accuracy: 0.5000 - val_loss: 0.5728 - val_accuracy: 0.8333\n",
            "Epoch 5/20\n",
            "1/1 [==============================] - 3s 3s/step - loss: 0.3693 - accuracy: 0.9167 - val_loss: 2.3738 - val_accuracy: 0.5000\n",
            "Epoch 6/20\n",
            "1/1 [==============================] - 2s 2s/step - loss: 1.2639 - accuracy: 0.5000 - val_loss: 1.1794 - val_accuracy: 0.5000\n",
            "Epoch 7/20\n",
            "1/1 [==============================] - 2s 2s/step - loss: 0.6375 - accuracy: 0.5833 - val_loss: 0.5541 - val_accuracy: 1.0000\n",
            "Epoch 8/20\n",
            "1/1 [==============================] - 2s 2s/step - loss: 0.2156 - accuracy: 0.9583 - val_loss: 0.8323 - val_accuracy: 0.5000\n",
            "Epoch 9/20\n",
            "1/1 [==============================] - 2s 2s/step - loss: 0.2240 - accuracy: 0.9583 - val_loss: 0.5049 - val_accuracy: 1.0000\n",
            "Epoch 10/20\n",
            "1/1 [==============================] - 2s 2s/step - loss: 0.1064 - accuracy: 1.0000 - val_loss: 0.4501 - val_accuracy: 1.0000\n",
            "Epoch 11/20\n",
            "1/1 [==============================] - 2s 2s/step - loss: 0.0775 - accuracy: 1.0000 - val_loss: 1.2184 - val_accuracy: 0.5000\n",
            "Epoch 12/20\n",
            "1/1 [==============================] - 2s 2s/step - loss: 0.0762 - accuracy: 1.0000 - val_loss: 0.4811 - val_accuracy: 0.6667\n",
            "Epoch 13/20\n",
            "1/1 [==============================] - 2s 2s/step - loss: 0.0214 - accuracy: 1.0000 - val_loss: 0.2299 - val_accuracy: 1.0000\n",
            "Epoch 14/20\n",
            "1/1 [==============================] - 2s 2s/step - loss: 0.0372 - accuracy: 1.0000 - val_loss: 0.5456 - val_accuracy: 0.8333\n",
            "Epoch 15/20\n",
            "1/1 [==============================] - 2s 2s/step - loss: 0.0036 - accuracy: 1.0000 - val_loss: 1.3863 - val_accuracy: 0.5000\n",
            "Epoch 16/20\n",
            "1/1 [==============================] - 2s 2s/step - loss: 0.0102 - accuracy: 1.0000 - val_loss: 1.2996 - val_accuracy: 0.5000\n",
            "Epoch 17/20\n",
            "1/1 [==============================] - 2s 2s/step - loss: 0.0048 - accuracy: 1.0000 - val_loss: 0.5183 - val_accuracy: 0.8333\n",
            "Epoch 18/20\n",
            "1/1 [==============================] - 2s 2s/step - loss: 3.4028e-04 - accuracy: 1.0000 - val_loss: 0.1284 - val_accuracy: 1.0000\n",
            "Epoch 19/20\n",
            "1/1 [==============================] - 2s 2s/step - loss: 3.7044e-04 - accuracy: 1.0000 - val_loss: 0.2972 - val_accuracy: 0.6667\n",
            "Epoch 20/20\n",
            "1/1 [==============================] - 2s 2s/step - loss: 0.0026 - accuracy: 1.0000 - val_loss: 0.2270 - val_accuracy: 0.8333\n"
          ],
          "name": "stdout"
        }
      ]
    },
    {
      "cell_type": "code",
      "metadata": {
        "colab": {
          "base_uri": "https://localhost:8080/"
        },
        "id": "McUWvvN6UHLk",
        "outputId": "52a7adaa-71ae-433e-ac11-4e5fb8a16ff4"
      },
      "source": [
        "cnn_model.predict(X_test)"
      ],
      "execution_count": 48,
      "outputs": [
        {
          "output_type": "execute_result",
          "data": {
            "text/plain": [
              "array([[5.4696828e-01, 4.5303172e-01],\n",
              "       [1.3006508e-03, 9.9869931e-01],\n",
              "       [7.1643235e-06, 9.9999285e-01],\n",
              "       [3.5267405e-02, 9.6473253e-01],\n",
              "       [4.9525273e-01, 5.0474727e-01],\n",
              "       [9.8153704e-01, 1.8463010e-02]], dtype=float32)"
            ]
          },
          "metadata": {
            "tags": []
          },
          "execution_count": 48
        }
      ]
    },
    {
      "cell_type": "code",
      "metadata": {
        "id": "HDPqaGK2Qt4F"
      },
      "source": [
        "y_hat_test = np.argmax(cnn_model.predict(X_test), axis=-1)"
      ],
      "execution_count": 47,
      "outputs": []
    },
    {
      "cell_type": "code",
      "metadata": {
        "colab": {
          "base_uri": "https://localhost:8080/"
        },
        "id": "b1nDXgqsQuLP",
        "outputId": "9c8780d8-148c-4253-9ee1-9ca42f40c52e"
      },
      "source": [
        "y_test"
      ],
      "execution_count": 42,
      "outputs": [
        {
          "output_type": "execute_result",
          "data": {
            "text/plain": [
              "array([0, 1, 1, 1, 0, 0])"
            ]
          },
          "metadata": {
            "tags": []
          },
          "execution_count": 42
        }
      ]
    },
    {
      "cell_type": "code",
      "metadata": {
        "colab": {
          "base_uri": "https://localhost:8080/"
        },
        "id": "XsiHTjCENUoo",
        "outputId": "9972b49c-5bf9-40d7-fbd4-9f3b69117e6c"
      },
      "source": [
        "y_hat_test"
      ],
      "execution_count": 44,
      "outputs": [
        {
          "output_type": "execute_result",
          "data": {
            "text/plain": [
              "5"
            ]
          },
          "metadata": {
            "tags": []
          },
          "execution_count": 44
        }
      ]
    },
    {
      "cell_type": "code",
      "metadata": {
        "colab": {
          "base_uri": "https://localhost:8080/"
        },
        "id": "_9qPF1v1h5ag",
        "outputId": "d56eb3b0-b999-4a90-89a6-e0a5dde54047"
      },
      "source": [
        "y_hat_train = cnn_model.predict(X_train)\r\n",
        "print(y_train)\r\n",
        "print(np.argmax(y_hat_train, axis=-1))"
      ],
      "execution_count": 45,
      "outputs": [
        {
          "output_type": "stream",
          "text": [
            "[0 0 1 0 0 0 0 0 1 1 0 1 1 1 0 0 1 1 0 1 1 0 1 1]\n",
            "[0 0 1 0 0 0 0 0 1 1 0 1 1 1 0 0 1 1 0 1 1 0 1 1]\n"
          ],
          "name": "stdout"
        }
      ]
    },
    {
      "cell_type": "code",
      "metadata": {
        "colab": {
          "base_uri": "https://localhost:8080/"
        },
        "id": "qBjOsiASjbcD",
        "outputId": "d105e0de-ec3a-41db-e43f-91948aa53196"
      },
      "source": [
        "from sklearn.metrics import classification_report, confusion_matrix\r\n",
        "\r\n",
        "print('Confusion Matrix')\r\n",
        "print(confusion_matrix(y_test, y_hat_test))\r\n",
        "print('Classification Report')\r\n",
        "print(classification_report(y_test, y_hat_test, target_names=CATEGORIES))"
      ],
      "execution_count": 49,
      "outputs": [
        {
          "output_type": "stream",
          "text": [
            "Confusion Matrix\n",
            "[[2 1]\n",
            " [0 3]]\n",
            "Classification Report\n",
            "              precision    recall  f1-score   support\n",
            "\n",
            "       Plane       1.00      0.67      0.80         3\n",
            "      Cruise       0.75      1.00      0.86         3\n",
            "\n",
            "    accuracy                           0.83         6\n",
            "   macro avg       0.88      0.83      0.83         6\n",
            "weighted avg       0.88      0.83      0.83         6\n",
            "\n"
          ],
          "name": "stdout"
        }
      ]
    }
  ]
}