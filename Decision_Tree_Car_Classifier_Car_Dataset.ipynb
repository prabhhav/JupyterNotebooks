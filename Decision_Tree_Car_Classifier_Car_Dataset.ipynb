{
  "nbformat": 4,
  "nbformat_minor": 0,
  "metadata": {
    "colab": {
      "name": "Decision Tree Car Classifier Car Dataset.ipynb",
      "provenance": [],
      "authorship_tag": "ABX9TyNgz/AzmrbBxi2vCV6DYBaM",
      "include_colab_link": true
    },
    "kernelspec": {
      "name": "python3",
      "display_name": "Python 3"
    }
  },
  "cells": [
    {
      "cell_type": "markdown",
      "metadata": {
        "id": "view-in-github",
        "colab_type": "text"
      },
      "source": [
        "<a href=\"https://colab.research.google.com/github/prabhhav/JupyterNotebooks/blob/main/Decision_Tree_Car_Classifier_Car_Dataset.ipynb\" target=\"_parent\"><img src=\"https://colab.research.google.com/assets/colab-badge.svg\" alt=\"Open In Colab\"/></a>"
      ]
    },
    {
      "cell_type": "code",
      "metadata": {
        "id": "qDo14vTlFyrZ"
      },
      "source": [
        "import os\n",
        "import numpy as np\n",
        "import pandas as pd\n",
        "import matplotlib.pyplot as plt "
      ],
      "execution_count": 2,
      "outputs": []
    },
    {
      "cell_type": "code",
      "metadata": {
        "colab": {
          "base_uri": "https://localhost:8080/",
          "height": 419
        },
        "id": "_HhK2uizGYNv",
        "outputId": "4a482754-7fcf-4c41-94c8-1101735997ef"
      },
      "source": [
        "data = pd.read_csv('https://raw.githubusercontent.com/soaicbe/ml/master/car_data/car.data',names=['buying','maint','doors','persons','lug_boot','safety','class'])\n",
        "data"
      ],
      "execution_count": 3,
      "outputs": [
        {
          "output_type": "execute_result",
          "data": {
            "text/html": [
              "<div>\n",
              "<style scoped>\n",
              "    .dataframe tbody tr th:only-of-type {\n",
              "        vertical-align: middle;\n",
              "    }\n",
              "\n",
              "    .dataframe tbody tr th {\n",
              "        vertical-align: top;\n",
              "    }\n",
              "\n",
              "    .dataframe thead th {\n",
              "        text-align: right;\n",
              "    }\n",
              "</style>\n",
              "<table border=\"1\" class=\"dataframe\">\n",
              "  <thead>\n",
              "    <tr style=\"text-align: right;\">\n",
              "      <th></th>\n",
              "      <th>buying</th>\n",
              "      <th>maint</th>\n",
              "      <th>doors</th>\n",
              "      <th>persons</th>\n",
              "      <th>lug_boot</th>\n",
              "      <th>safety</th>\n",
              "      <th>class</th>\n",
              "    </tr>\n",
              "  </thead>\n",
              "  <tbody>\n",
              "    <tr>\n",
              "      <th>0</th>\n",
              "      <td>vhigh</td>\n",
              "      <td>vhigh</td>\n",
              "      <td>2</td>\n",
              "      <td>2</td>\n",
              "      <td>small</td>\n",
              "      <td>low</td>\n",
              "      <td>unacc</td>\n",
              "    </tr>\n",
              "    <tr>\n",
              "      <th>1</th>\n",
              "      <td>vhigh</td>\n",
              "      <td>vhigh</td>\n",
              "      <td>2</td>\n",
              "      <td>2</td>\n",
              "      <td>small</td>\n",
              "      <td>med</td>\n",
              "      <td>unacc</td>\n",
              "    </tr>\n",
              "    <tr>\n",
              "      <th>2</th>\n",
              "      <td>vhigh</td>\n",
              "      <td>vhigh</td>\n",
              "      <td>2</td>\n",
              "      <td>2</td>\n",
              "      <td>small</td>\n",
              "      <td>high</td>\n",
              "      <td>unacc</td>\n",
              "    </tr>\n",
              "    <tr>\n",
              "      <th>3</th>\n",
              "      <td>vhigh</td>\n",
              "      <td>vhigh</td>\n",
              "      <td>2</td>\n",
              "      <td>2</td>\n",
              "      <td>med</td>\n",
              "      <td>low</td>\n",
              "      <td>unacc</td>\n",
              "    </tr>\n",
              "    <tr>\n",
              "      <th>4</th>\n",
              "      <td>vhigh</td>\n",
              "      <td>vhigh</td>\n",
              "      <td>2</td>\n",
              "      <td>2</td>\n",
              "      <td>med</td>\n",
              "      <td>med</td>\n",
              "      <td>unacc</td>\n",
              "    </tr>\n",
              "    <tr>\n",
              "      <th>...</th>\n",
              "      <td>...</td>\n",
              "      <td>...</td>\n",
              "      <td>...</td>\n",
              "      <td>...</td>\n",
              "      <td>...</td>\n",
              "      <td>...</td>\n",
              "      <td>...</td>\n",
              "    </tr>\n",
              "    <tr>\n",
              "      <th>1723</th>\n",
              "      <td>low</td>\n",
              "      <td>low</td>\n",
              "      <td>5more</td>\n",
              "      <td>more</td>\n",
              "      <td>med</td>\n",
              "      <td>med</td>\n",
              "      <td>good</td>\n",
              "    </tr>\n",
              "    <tr>\n",
              "      <th>1724</th>\n",
              "      <td>low</td>\n",
              "      <td>low</td>\n",
              "      <td>5more</td>\n",
              "      <td>more</td>\n",
              "      <td>med</td>\n",
              "      <td>high</td>\n",
              "      <td>vgood</td>\n",
              "    </tr>\n",
              "    <tr>\n",
              "      <th>1725</th>\n",
              "      <td>low</td>\n",
              "      <td>low</td>\n",
              "      <td>5more</td>\n",
              "      <td>more</td>\n",
              "      <td>big</td>\n",
              "      <td>low</td>\n",
              "      <td>unacc</td>\n",
              "    </tr>\n",
              "    <tr>\n",
              "      <th>1726</th>\n",
              "      <td>low</td>\n",
              "      <td>low</td>\n",
              "      <td>5more</td>\n",
              "      <td>more</td>\n",
              "      <td>big</td>\n",
              "      <td>med</td>\n",
              "      <td>good</td>\n",
              "    </tr>\n",
              "    <tr>\n",
              "      <th>1727</th>\n",
              "      <td>low</td>\n",
              "      <td>low</td>\n",
              "      <td>5more</td>\n",
              "      <td>more</td>\n",
              "      <td>big</td>\n",
              "      <td>high</td>\n",
              "      <td>vgood</td>\n",
              "    </tr>\n",
              "  </tbody>\n",
              "</table>\n",
              "<p>1728 rows × 7 columns</p>\n",
              "</div>"
            ],
            "text/plain": [
              "     buying  maint  doors persons lug_boot safety  class\n",
              "0     vhigh  vhigh      2       2    small    low  unacc\n",
              "1     vhigh  vhigh      2       2    small    med  unacc\n",
              "2     vhigh  vhigh      2       2    small   high  unacc\n",
              "3     vhigh  vhigh      2       2      med    low  unacc\n",
              "4     vhigh  vhigh      2       2      med    med  unacc\n",
              "...     ...    ...    ...     ...      ...    ...    ...\n",
              "1723    low    low  5more    more      med    med   good\n",
              "1724    low    low  5more    more      med   high  vgood\n",
              "1725    low    low  5more    more      big    low  unacc\n",
              "1726    low    low  5more    more      big    med   good\n",
              "1727    low    low  5more    more      big   high  vgood\n",
              "\n",
              "[1728 rows x 7 columns]"
            ]
          },
          "metadata": {
            "tags": []
          },
          "execution_count": 3
        }
      ]
    },
    {
      "cell_type": "code",
      "metadata": {
        "colab": {
          "base_uri": "https://localhost:8080/"
        },
        "id": "QUSXIb5QI3cj",
        "outputId": "ad33af5e-f9ff-4166-a1aa-e9b6b8d3f35d"
      },
      "source": [
        "class_names = data['class'].unique()\n",
        "class_names"
      ],
      "execution_count": 4,
      "outputs": [
        {
          "output_type": "execute_result",
          "data": {
            "text/plain": [
              "array(['unacc', 'acc', 'vgood', 'good'], dtype=object)"
            ]
          },
          "metadata": {
            "tags": []
          },
          "execution_count": 4
        }
      ]
    },
    {
      "cell_type": "code",
      "metadata": {
        "colab": {
          "base_uri": "https://localhost:8080/"
        },
        "id": "BFWOdhaMKkA5",
        "outputId": "c5e79c13-4ca3-447d-bf92-00e16cd3920c"
      },
      "source": [
        "data.dtypes"
      ],
      "execution_count": 5,
      "outputs": [
        {
          "output_type": "execute_result",
          "data": {
            "text/plain": [
              "buying      object\n",
              "maint       object\n",
              "doors       object\n",
              "persons     object\n",
              "lug_boot    object\n",
              "safety      object\n",
              "class       object\n",
              "dtype: object"
            ]
          },
          "metadata": {
            "tags": []
          },
          "execution_count": 5
        }
      ]
    },
    {
      "cell_type": "code",
      "metadata": {
        "colab": {
          "base_uri": "https://localhost:8080/"
        },
        "id": "HBMlusYrKmbS",
        "outputId": "19974d3b-74e6-4c8f-b9f2-9df0f85acf73"
      },
      "source": [
        "data['class'].value_counts()"
      ],
      "execution_count": 6,
      "outputs": [
        {
          "output_type": "execute_result",
          "data": {
            "text/plain": [
              "unacc    1210\n",
              "acc       384\n",
              "good       69\n",
              "vgood      65\n",
              "Name: class, dtype: int64"
            ]
          },
          "metadata": {
            "tags": []
          },
          "execution_count": 6
        }
      ]
    },
    {
      "cell_type": "code",
      "metadata": {
        "colab": {
          "base_uri": "https://localhost:8080/"
        },
        "id": "BjcbvGacKq4U",
        "outputId": "135c23b1-75d1-4c23-eefb-19932a21f4e1"
      },
      "source": [
        "data['buying'].value_counts()"
      ],
      "execution_count": 7,
      "outputs": [
        {
          "output_type": "execute_result",
          "data": {
            "text/plain": [
              "high     432\n",
              "low      432\n",
              "vhigh    432\n",
              "med      432\n",
              "Name: buying, dtype: int64"
            ]
          },
          "metadata": {
            "tags": []
          },
          "execution_count": 7
        }
      ]
    },
    {
      "cell_type": "code",
      "metadata": {
        "colab": {
          "base_uri": "https://localhost:8080/"
        },
        "id": "2Nmj2jRGL-i9",
        "outputId": "894271d2-dfb9-498e-dd43-1c5b795dba94"
      },
      "source": [
        "data['safety'].unique()"
      ],
      "execution_count": 7,
      "outputs": [
        {
          "output_type": "execute_result",
          "data": {
            "text/plain": [
              "array(['low', 'med', 'high'], dtype=object)"
            ]
          },
          "metadata": {
            "tags": []
          },
          "execution_count": 7
        }
      ]
    },
    {
      "cell_type": "code",
      "metadata": {
        "colab": {
          "base_uri": "https://localhost:8080/"
        },
        "id": "D0-D5a7KMLjV",
        "outputId": "9d784e69-054d-4eea-a259-d59e7a4fcd31"
      },
      "source": [
        "data['doors'].unique()"
      ],
      "execution_count": 8,
      "outputs": [
        {
          "output_type": "execute_result",
          "data": {
            "text/plain": [
              "array(['2', '3', '4', '5more'], dtype=object)"
            ]
          },
          "metadata": {
            "tags": []
          },
          "execution_count": 8
        }
      ]
    },
    {
      "cell_type": "code",
      "metadata": {
        "colab": {
          "base_uri": "https://localhost:8080/"
        },
        "id": "SEAMlstNMRMd",
        "outputId": "607680ae-7619-4001-9069-002cd58a5b45"
      },
      "source": [
        "data[data['doors'] == '3'].count()"
      ],
      "execution_count": 9,
      "outputs": [
        {
          "output_type": "execute_result",
          "data": {
            "text/plain": [
              "buying      432\n",
              "maint       432\n",
              "doors       432\n",
              "persons     432\n",
              "lug_boot    432\n",
              "safety      432\n",
              "class       432\n",
              "dtype: int64"
            ]
          },
          "metadata": {
            "tags": []
          },
          "execution_count": 9
        }
      ]
    },
    {
      "cell_type": "code",
      "metadata": {
        "colab": {
          "base_uri": "https://localhost:8080/",
          "height": 173
        },
        "id": "NCcoWL6XNdDF",
        "outputId": "2b47e442-0c08-4994-a78a-f18c2fb07b54"
      },
      "source": [
        "data.describe()"
      ],
      "execution_count": 10,
      "outputs": [
        {
          "output_type": "execute_result",
          "data": {
            "text/html": [
              "<div>\n",
              "<style scoped>\n",
              "    .dataframe tbody tr th:only-of-type {\n",
              "        vertical-align: middle;\n",
              "    }\n",
              "\n",
              "    .dataframe tbody tr th {\n",
              "        vertical-align: top;\n",
              "    }\n",
              "\n",
              "    .dataframe thead th {\n",
              "        text-align: right;\n",
              "    }\n",
              "</style>\n",
              "<table border=\"1\" class=\"dataframe\">\n",
              "  <thead>\n",
              "    <tr style=\"text-align: right;\">\n",
              "      <th></th>\n",
              "      <th>buying</th>\n",
              "      <th>maint</th>\n",
              "      <th>doors</th>\n",
              "      <th>persons</th>\n",
              "      <th>lug_boot</th>\n",
              "      <th>safety</th>\n",
              "      <th>class</th>\n",
              "    </tr>\n",
              "  </thead>\n",
              "  <tbody>\n",
              "    <tr>\n",
              "      <th>count</th>\n",
              "      <td>1728</td>\n",
              "      <td>1728</td>\n",
              "      <td>1728</td>\n",
              "      <td>1728</td>\n",
              "      <td>1728</td>\n",
              "      <td>1728</td>\n",
              "      <td>1728</td>\n",
              "    </tr>\n",
              "    <tr>\n",
              "      <th>unique</th>\n",
              "      <td>4</td>\n",
              "      <td>4</td>\n",
              "      <td>4</td>\n",
              "      <td>3</td>\n",
              "      <td>3</td>\n",
              "      <td>3</td>\n",
              "      <td>4</td>\n",
              "    </tr>\n",
              "    <tr>\n",
              "      <th>top</th>\n",
              "      <td>high</td>\n",
              "      <td>high</td>\n",
              "      <td>4</td>\n",
              "      <td>4</td>\n",
              "      <td>small</td>\n",
              "      <td>high</td>\n",
              "      <td>unacc</td>\n",
              "    </tr>\n",
              "    <tr>\n",
              "      <th>freq</th>\n",
              "      <td>432</td>\n",
              "      <td>432</td>\n",
              "      <td>432</td>\n",
              "      <td>576</td>\n",
              "      <td>576</td>\n",
              "      <td>576</td>\n",
              "      <td>1210</td>\n",
              "    </tr>\n",
              "  </tbody>\n",
              "</table>\n",
              "</div>"
            ],
            "text/plain": [
              "       buying maint doors persons lug_boot safety  class\n",
              "count    1728  1728  1728    1728     1728   1728   1728\n",
              "unique      4     4     4       3        3      3      4\n",
              "top      high  high     4       4    small   high  unacc\n",
              "freq      432   432   432     576      576    576   1210"
            ]
          },
          "metadata": {
            "tags": []
          },
          "execution_count": 10
        }
      ]
    },
    {
      "cell_type": "code",
      "metadata": {
        "colab": {
          "base_uri": "https://localhost:8080/",
          "height": 419
        },
        "id": "BQ4eUZaNRfVp",
        "outputId": "a9378b5e-95ed-4f60-dc91-6d0bb4e5957f"
      },
      "source": [
        "data.dropna()"
      ],
      "execution_count": 11,
      "outputs": [
        {
          "output_type": "execute_result",
          "data": {
            "text/html": [
              "<div>\n",
              "<style scoped>\n",
              "    .dataframe tbody tr th:only-of-type {\n",
              "        vertical-align: middle;\n",
              "    }\n",
              "\n",
              "    .dataframe tbody tr th {\n",
              "        vertical-align: top;\n",
              "    }\n",
              "\n",
              "    .dataframe thead th {\n",
              "        text-align: right;\n",
              "    }\n",
              "</style>\n",
              "<table border=\"1\" class=\"dataframe\">\n",
              "  <thead>\n",
              "    <tr style=\"text-align: right;\">\n",
              "      <th></th>\n",
              "      <th>buying</th>\n",
              "      <th>maint</th>\n",
              "      <th>doors</th>\n",
              "      <th>persons</th>\n",
              "      <th>lug_boot</th>\n",
              "      <th>safety</th>\n",
              "      <th>class</th>\n",
              "    </tr>\n",
              "  </thead>\n",
              "  <tbody>\n",
              "    <tr>\n",
              "      <th>0</th>\n",
              "      <td>vhigh</td>\n",
              "      <td>vhigh</td>\n",
              "      <td>2</td>\n",
              "      <td>2</td>\n",
              "      <td>small</td>\n",
              "      <td>low</td>\n",
              "      <td>unacc</td>\n",
              "    </tr>\n",
              "    <tr>\n",
              "      <th>1</th>\n",
              "      <td>vhigh</td>\n",
              "      <td>vhigh</td>\n",
              "      <td>2</td>\n",
              "      <td>2</td>\n",
              "      <td>small</td>\n",
              "      <td>med</td>\n",
              "      <td>unacc</td>\n",
              "    </tr>\n",
              "    <tr>\n",
              "      <th>2</th>\n",
              "      <td>vhigh</td>\n",
              "      <td>vhigh</td>\n",
              "      <td>2</td>\n",
              "      <td>2</td>\n",
              "      <td>small</td>\n",
              "      <td>high</td>\n",
              "      <td>unacc</td>\n",
              "    </tr>\n",
              "    <tr>\n",
              "      <th>3</th>\n",
              "      <td>vhigh</td>\n",
              "      <td>vhigh</td>\n",
              "      <td>2</td>\n",
              "      <td>2</td>\n",
              "      <td>med</td>\n",
              "      <td>low</td>\n",
              "      <td>unacc</td>\n",
              "    </tr>\n",
              "    <tr>\n",
              "      <th>4</th>\n",
              "      <td>vhigh</td>\n",
              "      <td>vhigh</td>\n",
              "      <td>2</td>\n",
              "      <td>2</td>\n",
              "      <td>med</td>\n",
              "      <td>med</td>\n",
              "      <td>unacc</td>\n",
              "    </tr>\n",
              "    <tr>\n",
              "      <th>...</th>\n",
              "      <td>...</td>\n",
              "      <td>...</td>\n",
              "      <td>...</td>\n",
              "      <td>...</td>\n",
              "      <td>...</td>\n",
              "      <td>...</td>\n",
              "      <td>...</td>\n",
              "    </tr>\n",
              "    <tr>\n",
              "      <th>1723</th>\n",
              "      <td>low</td>\n",
              "      <td>low</td>\n",
              "      <td>5more</td>\n",
              "      <td>more</td>\n",
              "      <td>med</td>\n",
              "      <td>med</td>\n",
              "      <td>good</td>\n",
              "    </tr>\n",
              "    <tr>\n",
              "      <th>1724</th>\n",
              "      <td>low</td>\n",
              "      <td>low</td>\n",
              "      <td>5more</td>\n",
              "      <td>more</td>\n",
              "      <td>med</td>\n",
              "      <td>high</td>\n",
              "      <td>vgood</td>\n",
              "    </tr>\n",
              "    <tr>\n",
              "      <th>1725</th>\n",
              "      <td>low</td>\n",
              "      <td>low</td>\n",
              "      <td>5more</td>\n",
              "      <td>more</td>\n",
              "      <td>big</td>\n",
              "      <td>low</td>\n",
              "      <td>unacc</td>\n",
              "    </tr>\n",
              "    <tr>\n",
              "      <th>1726</th>\n",
              "      <td>low</td>\n",
              "      <td>low</td>\n",
              "      <td>5more</td>\n",
              "      <td>more</td>\n",
              "      <td>big</td>\n",
              "      <td>med</td>\n",
              "      <td>good</td>\n",
              "    </tr>\n",
              "    <tr>\n",
              "      <th>1727</th>\n",
              "      <td>low</td>\n",
              "      <td>low</td>\n",
              "      <td>5more</td>\n",
              "      <td>more</td>\n",
              "      <td>big</td>\n",
              "      <td>high</td>\n",
              "      <td>vgood</td>\n",
              "    </tr>\n",
              "  </tbody>\n",
              "</table>\n",
              "<p>1728 rows × 7 columns</p>\n",
              "</div>"
            ],
            "text/plain": [
              "     buying  maint  doors persons lug_boot safety  class\n",
              "0     vhigh  vhigh      2       2    small    low  unacc\n",
              "1     vhigh  vhigh      2       2    small    med  unacc\n",
              "2     vhigh  vhigh      2       2    small   high  unacc\n",
              "3     vhigh  vhigh      2       2      med    low  unacc\n",
              "4     vhigh  vhigh      2       2      med    med  unacc\n",
              "...     ...    ...    ...     ...      ...    ...    ...\n",
              "1723    low    low  5more    more      med    med   good\n",
              "1724    low    low  5more    more      med   high  vgood\n",
              "1725    low    low  5more    more      big    low  unacc\n",
              "1726    low    low  5more    more      big    med   good\n",
              "1727    low    low  5more    more      big   high  vgood\n",
              "\n",
              "[1728 rows x 7 columns]"
            ]
          },
          "metadata": {
            "tags": []
          },
          "execution_count": 11
        }
      ]
    },
    {
      "cell_type": "code",
      "metadata": {
        "colab": {
          "base_uri": "https://localhost:8080/"
        },
        "id": "QtGwP4TaU42n",
        "outputId": "19a06173-20e1-4e35-b56b-73f6d7fa315e"
      },
      "source": [
        "data.info()"
      ],
      "execution_count": 12,
      "outputs": [
        {
          "output_type": "stream",
          "text": [
            "<class 'pandas.core.frame.DataFrame'>\n",
            "RangeIndex: 1728 entries, 0 to 1727\n",
            "Data columns (total 7 columns):\n",
            " #   Column    Non-Null Count  Dtype \n",
            "---  ------    --------------  ----- \n",
            " 0   buying    1728 non-null   object\n",
            " 1   maint     1728 non-null   object\n",
            " 2   doors     1728 non-null   object\n",
            " 3   persons   1728 non-null   object\n",
            " 4   lug_boot  1728 non-null   object\n",
            " 5   safety    1728 non-null   object\n",
            " 6   class     1728 non-null   object\n",
            "dtypes: object(7)\n",
            "memory usage: 94.6+ KB\n"
          ],
          "name": "stdout"
        }
      ]
    },
    {
      "cell_type": "code",
      "metadata": {
        "colab": {
          "base_uri": "https://localhost:8080/",
          "height": 173
        },
        "id": "XYPGiQUsU89U",
        "outputId": "81c51f02-7a52-4686-ac9d-f5508b0ecc16"
      },
      "source": [
        "data.describe()"
      ],
      "execution_count": 13,
      "outputs": [
        {
          "output_type": "execute_result",
          "data": {
            "text/html": [
              "<div>\n",
              "<style scoped>\n",
              "    .dataframe tbody tr th:only-of-type {\n",
              "        vertical-align: middle;\n",
              "    }\n",
              "\n",
              "    .dataframe tbody tr th {\n",
              "        vertical-align: top;\n",
              "    }\n",
              "\n",
              "    .dataframe thead th {\n",
              "        text-align: right;\n",
              "    }\n",
              "</style>\n",
              "<table border=\"1\" class=\"dataframe\">\n",
              "  <thead>\n",
              "    <tr style=\"text-align: right;\">\n",
              "      <th></th>\n",
              "      <th>buying</th>\n",
              "      <th>maint</th>\n",
              "      <th>doors</th>\n",
              "      <th>persons</th>\n",
              "      <th>lug_boot</th>\n",
              "      <th>safety</th>\n",
              "      <th>class</th>\n",
              "    </tr>\n",
              "  </thead>\n",
              "  <tbody>\n",
              "    <tr>\n",
              "      <th>count</th>\n",
              "      <td>1728</td>\n",
              "      <td>1728</td>\n",
              "      <td>1728</td>\n",
              "      <td>1728</td>\n",
              "      <td>1728</td>\n",
              "      <td>1728</td>\n",
              "      <td>1728</td>\n",
              "    </tr>\n",
              "    <tr>\n",
              "      <th>unique</th>\n",
              "      <td>4</td>\n",
              "      <td>4</td>\n",
              "      <td>4</td>\n",
              "      <td>3</td>\n",
              "      <td>3</td>\n",
              "      <td>3</td>\n",
              "      <td>4</td>\n",
              "    </tr>\n",
              "    <tr>\n",
              "      <th>top</th>\n",
              "      <td>high</td>\n",
              "      <td>high</td>\n",
              "      <td>4</td>\n",
              "      <td>4</td>\n",
              "      <td>small</td>\n",
              "      <td>high</td>\n",
              "      <td>unacc</td>\n",
              "    </tr>\n",
              "    <tr>\n",
              "      <th>freq</th>\n",
              "      <td>432</td>\n",
              "      <td>432</td>\n",
              "      <td>432</td>\n",
              "      <td>576</td>\n",
              "      <td>576</td>\n",
              "      <td>576</td>\n",
              "      <td>1210</td>\n",
              "    </tr>\n",
              "  </tbody>\n",
              "</table>\n",
              "</div>"
            ],
            "text/plain": [
              "       buying maint doors persons lug_boot safety  class\n",
              "count    1728  1728  1728    1728     1728   1728   1728\n",
              "unique      4     4     4       3        3      3      4\n",
              "top      high  high     4       4    small   high  unacc\n",
              "freq      432   432   432     576      576    576   1210"
            ]
          },
          "metadata": {
            "tags": []
          },
          "execution_count": 13
        }
      ]
    },
    {
      "cell_type": "code",
      "metadata": {
        "colab": {
          "base_uri": "https://localhost:8080/"
        },
        "id": "Np1SQN4oU_wd",
        "outputId": "7462eeae-f529-4edd-c2c8-dded147ac57e"
      },
      "source": [
        "pd.factorize(data['class'])"
      ],
      "execution_count": 14,
      "outputs": [
        {
          "output_type": "execute_result",
          "data": {
            "text/plain": [
              "(array([0, 0, 0, ..., 0, 3, 2]),\n",
              " Index(['unacc', 'acc', 'vgood', 'good'], dtype='object'))"
            ]
          },
          "metadata": {
            "tags": []
          },
          "execution_count": 14
        }
      ]
    },
    {
      "cell_type": "code",
      "metadata": {
        "colab": {
          "base_uri": "https://localhost:8080/"
        },
        "id": "IgP6QqACVFfR",
        "outputId": "dd3db9d9-fb19-4340-d775-0986e95df32e"
      },
      "source": [
        "data['class'].unique()"
      ],
      "execution_count": 15,
      "outputs": [
        {
          "output_type": "execute_result",
          "data": {
            "text/plain": [
              "array(['unacc', 'acc', 'vgood', 'good'], dtype=object)"
            ]
          },
          "metadata": {
            "tags": []
          },
          "execution_count": 15
        }
      ]
    },
    {
      "cell_type": "code",
      "metadata": {
        "colab": {
          "base_uri": "https://localhost:8080/"
        },
        "id": "WuF4_azKzjtW",
        "outputId": "cda30382-817a-4297-c2b1-21e45278b2da"
      },
      "source": [
        "data['class'],class_names = pd.factorize(data['class'])\n",
        "\n",
        "print(class_names)"
      ],
      "execution_count": 16,
      "outputs": [
        {
          "output_type": "stream",
          "text": [
            "Index(['unacc', 'acc', 'vgood', 'good'], dtype='object')\n"
          ],
          "name": "stdout"
        }
      ]
    },
    {
      "cell_type": "code",
      "metadata": {
        "id": "mg4HWuOLzx3a"
      },
      "source": [
        "data['buying'],_ = pd.factorize(data['buying'])\n",
        "data['maint'],_ = pd.factorize(data['maint'])\n",
        "data['doors'],_ = pd.factorize(data['doors'])\n",
        "data['persons'],_ = pd.factorize(data['persons'])\n",
        "data['lug_boot'],_ = pd.factorize(data['lug_boot'])\n",
        "data['safety'],_ = pd.factorize(data['safety'])\n",
        "data['class'],_ = pd.factorize(data['class'])"
      ],
      "execution_count": 19,
      "outputs": []
    },
    {
      "cell_type": "code",
      "metadata": {
        "colab": {
          "base_uri": "https://localhost:8080/",
          "height": 204
        },
        "id": "1f-pNUrp0Sq2",
        "outputId": "8f99e453-349d-4cfd-fe41-408c88500f8a"
      },
      "source": [
        "data.head()"
      ],
      "execution_count": 20,
      "outputs": [
        {
          "output_type": "execute_result",
          "data": {
            "text/html": [
              "<div>\n",
              "<style scoped>\n",
              "    .dataframe tbody tr th:only-of-type {\n",
              "        vertical-align: middle;\n",
              "    }\n",
              "\n",
              "    .dataframe tbody tr th {\n",
              "        vertical-align: top;\n",
              "    }\n",
              "\n",
              "    .dataframe thead th {\n",
              "        text-align: right;\n",
              "    }\n",
              "</style>\n",
              "<table border=\"1\" class=\"dataframe\">\n",
              "  <thead>\n",
              "    <tr style=\"text-align: right;\">\n",
              "      <th></th>\n",
              "      <th>buying</th>\n",
              "      <th>maint</th>\n",
              "      <th>doors</th>\n",
              "      <th>persons</th>\n",
              "      <th>lug_boot</th>\n",
              "      <th>safety</th>\n",
              "      <th>class</th>\n",
              "    </tr>\n",
              "  </thead>\n",
              "  <tbody>\n",
              "    <tr>\n",
              "      <th>0</th>\n",
              "      <td>0</td>\n",
              "      <td>0</td>\n",
              "      <td>0</td>\n",
              "      <td>0</td>\n",
              "      <td>0</td>\n",
              "      <td>0</td>\n",
              "      <td>0</td>\n",
              "    </tr>\n",
              "    <tr>\n",
              "      <th>1</th>\n",
              "      <td>0</td>\n",
              "      <td>0</td>\n",
              "      <td>0</td>\n",
              "      <td>0</td>\n",
              "      <td>0</td>\n",
              "      <td>1</td>\n",
              "      <td>0</td>\n",
              "    </tr>\n",
              "    <tr>\n",
              "      <th>2</th>\n",
              "      <td>0</td>\n",
              "      <td>0</td>\n",
              "      <td>0</td>\n",
              "      <td>0</td>\n",
              "      <td>0</td>\n",
              "      <td>2</td>\n",
              "      <td>0</td>\n",
              "    </tr>\n",
              "    <tr>\n",
              "      <th>3</th>\n",
              "      <td>0</td>\n",
              "      <td>0</td>\n",
              "      <td>0</td>\n",
              "      <td>0</td>\n",
              "      <td>1</td>\n",
              "      <td>0</td>\n",
              "      <td>0</td>\n",
              "    </tr>\n",
              "    <tr>\n",
              "      <th>4</th>\n",
              "      <td>0</td>\n",
              "      <td>0</td>\n",
              "      <td>0</td>\n",
              "      <td>0</td>\n",
              "      <td>1</td>\n",
              "      <td>1</td>\n",
              "      <td>0</td>\n",
              "    </tr>\n",
              "  </tbody>\n",
              "</table>\n",
              "</div>"
            ],
            "text/plain": [
              "   buying  maint  doors  persons  lug_boot  safety  class\n",
              "0       0      0      0        0         0       0      0\n",
              "1       0      0      0        0         0       1      0\n",
              "2       0      0      0        0         0       2      0\n",
              "3       0      0      0        0         1       0      0\n",
              "4       0      0      0        0         1       1      0"
            ]
          },
          "metadata": {
            "tags": []
          },
          "execution_count": 20
        }
      ]
    },
    {
      "cell_type": "code",
      "metadata": {
        "colab": {
          "base_uri": "https://localhost:8080/",
          "height": 266
        },
        "id": "-zntw-cV0U2R",
        "outputId": "a9b3ef07-fd0d-4cb0-b091-fc6666a526cc"
      },
      "source": [
        "data.corr()"
      ],
      "execution_count": 21,
      "outputs": [
        {
          "output_type": "execute_result",
          "data": {
            "text/html": [
              "<div>\n",
              "<style scoped>\n",
              "    .dataframe tbody tr th:only-of-type {\n",
              "        vertical-align: middle;\n",
              "    }\n",
              "\n",
              "    .dataframe tbody tr th {\n",
              "        vertical-align: top;\n",
              "    }\n",
              "\n",
              "    .dataframe thead th {\n",
              "        text-align: right;\n",
              "    }\n",
              "</style>\n",
              "<table border=\"1\" class=\"dataframe\">\n",
              "  <thead>\n",
              "    <tr style=\"text-align: right;\">\n",
              "      <th></th>\n",
              "      <th>buying</th>\n",
              "      <th>maint</th>\n",
              "      <th>doors</th>\n",
              "      <th>persons</th>\n",
              "      <th>lug_boot</th>\n",
              "      <th>safety</th>\n",
              "      <th>class</th>\n",
              "    </tr>\n",
              "  </thead>\n",
              "  <tbody>\n",
              "    <tr>\n",
              "      <th>buying</th>\n",
              "      <td>1.000000</td>\n",
              "      <td>0.000000</td>\n",
              "      <td>0.000000</td>\n",
              "      <td>0.000000</td>\n",
              "      <td>0.000000</td>\n",
              "      <td>0.000000</td>\n",
              "      <td>0.286532</td>\n",
              "    </tr>\n",
              "    <tr>\n",
              "      <th>maint</th>\n",
              "      <td>0.000000</td>\n",
              "      <td>1.000000</td>\n",
              "      <td>0.000000</td>\n",
              "      <td>0.000000</td>\n",
              "      <td>0.000000</td>\n",
              "      <td>0.000000</td>\n",
              "      <td>0.254656</td>\n",
              "    </tr>\n",
              "    <tr>\n",
              "      <th>doors</th>\n",
              "      <td>0.000000</td>\n",
              "      <td>0.000000</td>\n",
              "      <td>1.000000</td>\n",
              "      <td>0.000000</td>\n",
              "      <td>0.000000</td>\n",
              "      <td>0.000000</td>\n",
              "      <td>0.056475</td>\n",
              "    </tr>\n",
              "    <tr>\n",
              "      <th>persons</th>\n",
              "      <td>0.000000</td>\n",
              "      <td>0.000000</td>\n",
              "      <td>0.000000</td>\n",
              "      <td>1.000000</td>\n",
              "      <td>0.000000</td>\n",
              "      <td>0.000000</td>\n",
              "      <td>0.336842</td>\n",
              "    </tr>\n",
              "    <tr>\n",
              "      <th>lug_boot</th>\n",
              "      <td>0.000000</td>\n",
              "      <td>0.000000</td>\n",
              "      <td>0.000000</td>\n",
              "      <td>0.000000</td>\n",
              "      <td>1.000000</td>\n",
              "      <td>0.000000</td>\n",
              "      <td>0.121453</td>\n",
              "    </tr>\n",
              "    <tr>\n",
              "      <th>safety</th>\n",
              "      <td>0.000000</td>\n",
              "      <td>0.000000</td>\n",
              "      <td>0.000000</td>\n",
              "      <td>0.000000</td>\n",
              "      <td>0.000000</td>\n",
              "      <td>1.000000</td>\n",
              "      <td>0.402313</td>\n",
              "    </tr>\n",
              "    <tr>\n",
              "      <th>class</th>\n",
              "      <td>0.286532</td>\n",
              "      <td>0.254656</td>\n",
              "      <td>0.056475</td>\n",
              "      <td>0.336842</td>\n",
              "      <td>0.121453</td>\n",
              "      <td>0.402313</td>\n",
              "      <td>1.000000</td>\n",
              "    </tr>\n",
              "  </tbody>\n",
              "</table>\n",
              "</div>"
            ],
            "text/plain": [
              "            buying     maint     doors   persons  lug_boot    safety     class\n",
              "buying    1.000000  0.000000  0.000000  0.000000  0.000000  0.000000  0.286532\n",
              "maint     0.000000  1.000000  0.000000  0.000000  0.000000  0.000000  0.254656\n",
              "doors     0.000000  0.000000  1.000000  0.000000  0.000000  0.000000  0.056475\n",
              "persons   0.000000  0.000000  0.000000  1.000000  0.000000  0.000000  0.336842\n",
              "lug_boot  0.000000  0.000000  0.000000  0.000000  1.000000  0.000000  0.121453\n",
              "safety    0.000000  0.000000  0.000000  0.000000  0.000000  1.000000  0.402313\n",
              "class     0.286532  0.254656  0.056475  0.336842  0.121453  0.402313  1.000000"
            ]
          },
          "metadata": {
            "tags": []
          },
          "execution_count": 21
        }
      ]
    },
    {
      "cell_type": "code",
      "metadata": {
        "id": "t7pb9nVC0byz"
      },
      "source": [
        "X = data.drop(['class'], axis='columns')\n",
        "y = data['class']"
      ],
      "execution_count": 22,
      "outputs": []
    },
    {
      "cell_type": "code",
      "metadata": {
        "id": "_RADxB9H0tZ6"
      },
      "source": [
        "from sklearn.model_selection import train_test_split \n",
        "X_train, X_test, y_train, y_test = train_test_split(X, y, test_size=0.3, random_state=0)"
      ],
      "execution_count": 23,
      "outputs": []
    },
    {
      "cell_type": "code",
      "metadata": {
        "colab": {
          "base_uri": "https://localhost:8080/"
        },
        "id": "kLBYRNur06OC",
        "outputId": "7bcd478a-50d7-4d3f-cc59-8d6508bc046d"
      },
      "source": [
        "from sklearn import tree, metrics\n",
        "dtree = tree.DecisionTreeClassifier(criterion='gini')\n",
        "dtree.fit(X_train, y_train)"
      ],
      "execution_count": 24,
      "outputs": [
        {
          "output_type": "execute_result",
          "data": {
            "text/plain": [
              "DecisionTreeClassifier(ccp_alpha=0.0, class_weight=None, criterion='gini',\n",
              "                       max_depth=None, max_features=None, max_leaf_nodes=None,\n",
              "                       min_impurity_decrease=0.0, min_impurity_split=None,\n",
              "                       min_samples_leaf=1, min_samples_split=2,\n",
              "                       min_weight_fraction_leaf=0.0, presort='deprecated',\n",
              "                       random_state=None, splitter='best')"
            ]
          },
          "metadata": {
            "tags": []
          },
          "execution_count": 24
        }
      ]
    },
    {
      "cell_type": "code",
      "metadata": {
        "colab": {
          "base_uri": "https://localhost:8080/"
        },
        "id": "bYwMWuwQ20gC",
        "outputId": "55a49f33-54e3-4c06-fa06-6bf37dd79690"
      },
      "source": [
        "y_train_pred = dtree.predict(X_train)\n",
        "\n",
        "accuracy = metrics.accuracy_score(y_train,y_train_pred)\n",
        "print('Train accuracy: {:.2f}'.format(accuracy))"
      ],
      "execution_count": 25,
      "outputs": [
        {
          "output_type": "stream",
          "text": [
            "Train accuracy: 1.00\n"
          ],
          "name": "stdout"
        }
      ]
    },
    {
      "cell_type": "code",
      "metadata": {
        "colab": {
          "base_uri": "https://localhost:8080/"
        },
        "id": "I_sQHGHFFJ0o",
        "outputId": "f7ad2934-cf13-4cc7-d202-498d5e548943"
      },
      "source": [
        "y_pred = dtree.predict(X_test)\n",
        "\n",
        "accuracy = metrics.accuracy_score(y_test, y_pred)\n",
        "print('Test accuracy: {:.2f}'.format(accuracy))"
      ],
      "execution_count": 26,
      "outputs": [
        {
          "output_type": "stream",
          "text": [
            "Test accuracy: 0.98\n"
          ],
          "name": "stdout"
        }
      ]
    },
    {
      "cell_type": "markdown",
      "metadata": {
        "id": "mowJwBOLFzSR"
      },
      "source": [
        "Evaluation Metrics"
      ]
    },
    {
      "cell_type": "code",
      "metadata": {
        "colab": {
          "base_uri": "https://localhost:8080/"
        },
        "id": "p3zxoXBVIWAI",
        "outputId": "77413e2c-6eca-48f6-899c-402c48f775ed"
      },
      "source": [
        "from sklearn.metrics import classification_report, confusion_matrix\n",
        "y_hat = dtree.predict(X_test)\n",
        "print(classification_report(y_test, y_hat))"
      ],
      "execution_count": 27,
      "outputs": [
        {
          "output_type": "stream",
          "text": [
            "              precision    recall  f1-score   support\n",
            "\n",
            "           0       0.99      1.00      0.99       363\n",
            "           1       0.97      0.92      0.95       115\n",
            "           2       1.00      0.94      0.97        16\n",
            "           3       0.86      0.96      0.91        25\n",
            "\n",
            "    accuracy                           0.98       519\n",
            "   macro avg       0.95      0.95      0.95       519\n",
            "weighted avg       0.98      0.98      0.98       519\n",
            "\n"
          ],
          "name": "stdout"
        }
      ]
    },
    {
      "cell_type": "code",
      "metadata": {
        "colab": {
          "base_uri": "https://localhost:8080/"
        },
        "id": "q2PgdUilItaW",
        "outputId": "d566a6f3-df24-4c86-c526-f1693b53e377"
      },
      "source": [
        "cm = confusion_matrix(y_test, y_hat)\n",
        "cm"
      ],
      "execution_count": 28,
      "outputs": [
        {
          "output_type": "execute_result",
          "data": {
            "text/plain": [
              "array([[362,   1,   0,   0],\n",
              "       [  5, 106,   0,   4],\n",
              "       [  0,   1,  15,   0],\n",
              "       [  0,   1,   0,  24]])"
            ]
          },
          "metadata": {
            "tags": []
          },
          "execution_count": 28
        }
      ]
    },
    {
      "cell_type": "code",
      "metadata": {
        "colab": {
          "base_uri": "https://localhost:8080/",
          "height": 242
        },
        "id": "8wgIBqsMI4KW",
        "outputId": "84d18489-e2d6-4074-8083-b43d03d0cf37"
      },
      "source": [
        "%matplotlib inline\n",
        "import matplotlib.pyplot as plt\n",
        "import seaborn as sn\n",
        "plt.figure(figsize=(4,3))\n",
        "sn.heatmap(cm,annot = True)\n",
        "plt.xlabel('Predicted')\n",
        "plt.ylabel('Truth')"
      ],
      "execution_count": 29,
      "outputs": [
        {
          "output_type": "execute_result",
          "data": {
            "text/plain": [
              "Text(15.0, 0.5, 'Truth')"
            ]
          },
          "metadata": {
            "tags": []
          },
          "execution_count": 29
        },
        {
          "output_type": "display_data",
          "data": {
            "image/png": "[encoded data removed]",
            "text/plain": [
              "<Figure size 288x216 with 2 Axes>"
            ]
          },
          "metadata": {
            "tags": [],
            "needs_background": "light"
          }
        }
      ]
    },
    {
      "cell_type": "code",
      "metadata": {
        "colab": {
          "base_uri": "https://localhost:8080/",
          "height": 35
        },
        "id": "3Qm7AeCLJTy8",
        "outputId": "eeb79d47-06ad-4c18-90d3-8f0c884432c4"
      },
      "source": [
        "str(class_names)"
      ],
      "execution_count": 30,
      "outputs": [
        {
          "output_type": "execute_result",
          "data": {
            "application/vnd.google.colaboratory.intrinsic+json": {
              "type": "string"
            },
            "text/plain": [
              "\"Index(['unacc', 'acc', 'vgood', 'good'], dtype='object')\""
            ]
          },
          "metadata": {
            "tags": []
          },
          "execution_count": 30
        }
      ]
    },
    {
      "cell_type": "markdown",
      "metadata": {
        "id": "CNz0iBxwJb2q"
      },
      "source": [
        "GraphViz"
      ]
    },
    {
      "cell_type": "code",
      "metadata": {
        "colab": {
          "base_uri": "https://localhost:8080/",
          "height": 1000
        },
        "id": "TeBSNqBMJeQ2",
        "outputId": "c74e2e04-72b8-4a92-8cb8-fe9b084f6880"
      },
      "source": [
        "import graphviz\n",
        "feature_names = X.columns\n",
        "\n",
        "dot_data = tree.export_graphviz(dtree, out_file=None, filled = True, rounded = True, special_characters=True, feature_names = feature_names, class_names = class_names)\n",
        "graph = graphviz.Source(dot_data)\n",
        "graph"
      ],
      "execution_count": 31,
      "outputs": [
        {
          "output_type": "execute_result",
          "data": {
            "text/plain": [
              "<graphviz.files.Source at 0x7fa0293f7dd8>"
            ],
            "image/svg+xml": "<?xml version=\"1.0\" encoding=\"UTF-8\" standalone=\"no\"?>\n<!DOCTYPE svg PUBLIC \"-//W3C//DTD SVG 1.1//EN\"\n \"http://www.w3.org/Graphics/SVG/1.1/DTD/svg11.dtd\">\n<!-- Generated by graphviz version 2.40.1 (20161225.0304)\n -->\n<!-- Title: Tree Pages: 1 -->\n<svg width=\"4544pt\" height=\"1385pt\"\n viewBox=\"0.00 0.00 4544.00 1385.00\" xmlns=\"http://www.w3.org/2000/svg\" xmlns:xlink=\"http://www.w3.org/1999/xlink\">\n<g id=\"graph0\" class=\"graph\" transform=\"scale(1 1) rotate(0) translate(4 1381)\">\n<title>Tree</title>\n<polygon fill=\"#ffffff\" stroke=\"transparent\" points=\"-4,4 -4,-1381 4540,-1381 4540,4 -4,4\"/>\n<!-- 0 -->\n<g id=\"node1\" class=\"node\">\n<title>0</title>\n<path fill=\"#efb285\" stroke=\"#000000\" d=\"M1184.5,-1377C1184.5,-1377 1028.5,-1377 1028.5,-1377 1022.5,-1377 1016.5,-1371 1016.5,-1365 1016.5,-1365 1016.5,-1306 1016.5,-1306 1016.5,-1300 1022.5,-1294 1028.5,-1294 1028.5,-1294 1184.5,-1294 1184.5,-1294 1190.5,-1294 1196.5,-1300 1196.5,-1306 1196.5,-1306 1196.5,-1365 1196.5,-1365 1196.5,-1371 1190.5,-1377 1184.5,-1377\"/>\n<text text-anchor=\"start\" x=\"1069\" y=\"-1361.8\" font-family=\"Helvetica,sans-Serif\" font-size=\"14.00\" fill=\"#000000\">safety ≤ 0.5</text>\n<text text-anchor=\"start\" x=\"1068.5\" y=\"-1346.8\" font-family=\"Helvetica,sans-Serif\" font-size=\"14.00\" fill=\"#000000\">gini = 0.457</text>\n<text text-anchor=\"start\" x=\"1054.5\" y=\"-1331.8\" font-family=\"Helvetica,sans-Serif\" font-size=\"14.00\" fill=\"#000000\">samples = 1209</text>\n<text text-anchor=\"start\" x=\"1024.5\" y=\"-1316.8\" font-family=\"Helvetica,sans-Serif\" font-size=\"14.00\" fill=\"#000000\">value = [847, 269, 49, 44]</text>\n<text text-anchor=\"start\" x=\"1061.5\" y=\"-1301.8\" font-family=\"Helvetica,sans-Serif\" font-size=\"14.00\" fill=\"#000000\">class = unacc</text>\n</g>\n<!-- 1 -->\n<g id=\"node2\" class=\"node\">\n<title>1</title>\n<path fill=\"#e58139\" stroke=\"#000000\" d=\"M1077,-1250.5C1077,-1250.5 954,-1250.5 954,-1250.5 948,-1250.5 942,-1244.5 942,-1238.5 942,-1238.5 942,-1194.5 942,-1194.5 942,-1188.5 948,-1182.5 954,-1182.5 954,-1182.5 1077,-1182.5 1077,-1182.5 1083,-1182.5 1089,-1188.5 1089,-1194.5 1089,-1194.5 1089,-1238.5 1089,-1238.5 1089,-1244.5 1083,-1250.5 1077,-1250.5\"/>\n<text text-anchor=\"start\" x=\"986\" y=\"-1235.3\" font-family=\"Helvetica,sans-Serif\" font-size=\"14.00\" fill=\"#000000\">gini = 0.0</text>\n<text text-anchor=\"start\" x=\"967.5\" y=\"-1220.3\" font-family=\"Helvetica,sans-Serif\" font-size=\"14.00\" fill=\"#000000\">samples = 411</text>\n<text text-anchor=\"start\" x=\"950\" y=\"-1205.3\" font-family=\"Helvetica,sans-Serif\" font-size=\"14.00\" fill=\"#000000\">value = [411, 0, 0, 0]</text>\n<text text-anchor=\"start\" x=\"970.5\" y=\"-1190.3\" font-family=\"Helvetica,sans-Serif\" font-size=\"14.00\" fill=\"#000000\">class = unacc</text>\n</g>\n<!-- 0&#45;&gt;1 -->\n<g id=\"edge1\" class=\"edge\">\n<title>0&#45;&gt;1</title>\n<path fill=\"none\" stroke=\"#000000\" d=\"M1074.6726,-1293.8796C1066.0116,-1282.5536 1056.6219,-1270.2748 1047.928,-1258.9058\"/>\n<polygon fill=\"#000000\" stroke=\"#000000\" points=\"1050.5956,-1256.6324 1041.7408,-1250.8149 1045.0351,-1260.8846 1050.5956,-1256.6324\"/>\n<text text-anchor=\"middle\" x=\"1038.4367\" y=\"-1271.8956\" font-family=\"Helvetica,sans-Serif\" font-size=\"14.00\" fill=\"#000000\">True</text>\n</g>\n<!-- 2 -->\n<g id=\"node3\" class=\"node\">\n<title>2</title>\n<path fill=\"#f7d7c0\" stroke=\"#000000\" d=\"M1275.5,-1258C1275.5,-1258 1119.5,-1258 1119.5,-1258 1113.5,-1258 1107.5,-1252 1107.5,-1246 1107.5,-1246 1107.5,-1187 1107.5,-1187 1107.5,-1181 1113.5,-1175 1119.5,-1175 1119.5,-1175 1275.5,-1175 1275.5,-1175 1281.5,-1175 1287.5,-1181 1287.5,-1187 1287.5,-1187 1287.5,-1246 1287.5,-1246 1287.5,-1252 1281.5,-1258 1275.5,-1258\"/>\n<text text-anchor=\"start\" x=\"1153.5\" y=\"-1242.8\" font-family=\"Helvetica,sans-Serif\" font-size=\"14.00\" fill=\"#000000\">persons ≤ 0.5</text>\n<text text-anchor=\"start\" x=\"1159.5\" y=\"-1227.8\" font-family=\"Helvetica,sans-Serif\" font-size=\"14.00\" fill=\"#000000\">gini = 0.581</text>\n<text text-anchor=\"start\" x=\"1149.5\" y=\"-1212.8\" font-family=\"Helvetica,sans-Serif\" font-size=\"14.00\" fill=\"#000000\">samples = 798</text>\n<text text-anchor=\"start\" x=\"1115.5\" y=\"-1197.8\" font-family=\"Helvetica,sans-Serif\" font-size=\"14.00\" fill=\"#000000\">value = [436, 269, 49, 44]</text>\n<text text-anchor=\"start\" x=\"1152.5\" y=\"-1182.8\" font-family=\"Helvetica,sans-Serif\" font-size=\"14.00\" fill=\"#000000\">class = unacc</text>\n</g>\n<!-- 0&#45;&gt;2 -->\n<g id=\"edge2\" class=\"edge\">\n<title>0&#45;&gt;2</title>\n<path fill=\"none\" stroke=\"#000000\" d=\"M1138.3274,-1293.8796C1145.1457,-1284.9633 1152.4156,-1275.4565 1159.4421,-1266.268\"/>\n<polygon fill=\"#000000\" stroke=\"#000000\" points=\"1162.2425,-1268.3678 1165.5368,-1258.2981 1156.682,-1264.1156 1162.2425,-1268.3678\"/>\n<text text-anchor=\"middle\" x=\"1168.8409\" y=\"-1279.3788\" font-family=\"Helvetica,sans-Serif\" font-size=\"14.00\" fill=\"#000000\">False</text>\n</g>\n<!-- 3 -->\n<g id=\"node4\" class=\"node\">\n<title>3</title>\n<path fill=\"#e58139\" stroke=\"#000000\" d=\"M1168,-1131.5C1168,-1131.5 1045,-1131.5 1045,-1131.5 1039,-1131.5 1033,-1125.5 1033,-1119.5 1033,-1119.5 1033,-1075.5 1033,-1075.5 1033,-1069.5 1039,-1063.5 1045,-1063.5 1045,-1063.5 1168,-1063.5 1168,-1063.5 1174,-1063.5 1180,-1069.5 1180,-1075.5 1180,-1075.5 1180,-1119.5 1180,-1119.5 1180,-1125.5 1174,-1131.5 1168,-1131.5\"/>\n<text text-anchor=\"start\" x=\"1077\" y=\"-1116.3\" font-family=\"Helvetica,sans-Serif\" font-size=\"14.00\" fill=\"#000000\">gini = 0.0</text>\n<text text-anchor=\"start\" x=\"1058.5\" y=\"-1101.3\" font-family=\"Helvetica,sans-Serif\" font-size=\"14.00\" fill=\"#000000\">samples = 263</text>\n<text text-anchor=\"start\" x=\"1041\" y=\"-1086.3\" font-family=\"Helvetica,sans-Serif\" font-size=\"14.00\" fill=\"#000000\">value = [263, 0, 0, 0]</text>\n<text text-anchor=\"start\" x=\"1061.5\" y=\"-1071.3\" font-family=\"Helvetica,sans-Serif\" font-size=\"14.00\" fill=\"#000000\">class = unacc</text>\n</g>\n<!-- 2&#45;&gt;3 -->\n<g id=\"edge3\" class=\"edge\">\n<title>2&#45;&gt;3</title>\n<path fill=\"none\" stroke=\"#000000\" d=\"M1165.6726,-1174.8796C1157.0116,-1163.5536 1147.6219,-1151.2748 1138.928,-1139.9058\"/>\n<polygon fill=\"#000000\" stroke=\"#000000\" points=\"1141.5956,-1137.6324 1132.7408,-1131.8149 1136.0351,-1141.8846 1141.5956,-1137.6324\"/>\n</g>\n<!-- 4 -->\n<g id=\"node5\" class=\"node\">\n<title>4</title>\n<path fill=\"#cef8ca\" stroke=\"#000000\" d=\"M1366.5,-1139C1366.5,-1139 1210.5,-1139 1210.5,-1139 1204.5,-1139 1198.5,-1133 1198.5,-1127 1198.5,-1127 1198.5,-1068 1198.5,-1068 1198.5,-1062 1204.5,-1056 1210.5,-1056 1210.5,-1056 1366.5,-1056 1366.5,-1056 1372.5,-1056 1378.5,-1062 1378.5,-1068 1378.5,-1068 1378.5,-1127 1378.5,-1127 1378.5,-1133 1372.5,-1139 1366.5,-1139\"/>\n<text text-anchor=\"start\" x=\"1249\" y=\"-1123.8\" font-family=\"Helvetica,sans-Serif\" font-size=\"14.00\" fill=\"#000000\">buying ≤ 1.5</text>\n<text text-anchor=\"start\" x=\"1250.5\" y=\"-1108.8\" font-family=\"Helvetica,sans-Serif\" font-size=\"14.00\" fill=\"#000000\">gini = 0.627</text>\n<text text-anchor=\"start\" x=\"1240.5\" y=\"-1093.8\" font-family=\"Helvetica,sans-Serif\" font-size=\"14.00\" fill=\"#000000\">samples = 535</text>\n<text text-anchor=\"start\" x=\"1206.5\" y=\"-1078.8\" font-family=\"Helvetica,sans-Serif\" font-size=\"14.00\" fill=\"#000000\">value = [173, 269, 49, 44]</text>\n<text text-anchor=\"start\" x=\"1252\" y=\"-1063.8\" font-family=\"Helvetica,sans-Serif\" font-size=\"14.00\" fill=\"#000000\">class = acc</text>\n</g>\n<!-- 2&#45;&gt;4 -->\n<g id=\"edge4\" class=\"edge\">\n<title>2&#45;&gt;4</title>\n<path fill=\"none\" stroke=\"#000000\" d=\"M1229.3274,-1174.8796C1236.1457,-1165.9633 1243.4156,-1156.4565 1250.4421,-1147.268\"/>\n<polygon fill=\"#000000\" stroke=\"#000000\" points=\"1253.2425,-1149.3678 1256.5368,-1139.2981 1247.682,-1145.1156 1253.2425,-1149.3678\"/>\n</g>\n<!-- 5 -->\n<g id=\"node6\" class=\"node\">\n<title>5</title>\n<path fill=\"#fffdfc\" stroke=\"#000000\" d=\"M972.5,-1020C972.5,-1020 832.5,-1020 832.5,-1020 826.5,-1020 820.5,-1014 820.5,-1008 820.5,-1008 820.5,-949 820.5,-949 820.5,-943 826.5,-937 832.5,-937 832.5,-937 972.5,-937 972.5,-937 978.5,-937 984.5,-943 984.5,-949 984.5,-949 984.5,-1008 984.5,-1008 984.5,-1014 978.5,-1020 972.5,-1020\"/>\n<text text-anchor=\"start\" x=\"867\" y=\"-1004.8\" font-family=\"Helvetica,sans-Serif\" font-size=\"14.00\" fill=\"#000000\">maint ≤ 1.5</text>\n<text text-anchor=\"start\" x=\"873\" y=\"-989.8\" font-family=\"Helvetica,sans-Serif\" font-size=\"14.00\" fill=\"#000000\">gini = 0.5</text>\n<text text-anchor=\"start\" x=\"854.5\" y=\"-974.8\" font-family=\"Helvetica,sans-Serif\" font-size=\"14.00\" fill=\"#000000\">samples = 278</text>\n<text text-anchor=\"start\" x=\"828.5\" y=\"-959.8\" font-family=\"Helvetica,sans-Serif\" font-size=\"14.00\" fill=\"#000000\">value = [140, 138, 0, 0]</text>\n<text text-anchor=\"start\" x=\"857.5\" y=\"-944.8\" font-family=\"Helvetica,sans-Serif\" font-size=\"14.00\" fill=\"#000000\">class = unacc</text>\n</g>\n<!-- 4&#45;&gt;5 -->\n<g id=\"edge5\" class=\"edge\">\n<title>4&#45;&gt;5</title>\n<path fill=\"none\" stroke=\"#000000\" d=\"M1198.4886,-1059.5199C1195.1284,-1058.3014 1191.7909,-1057.1235 1188.5,-1056 1124.6616,-1034.2053 1051.1851,-1014.4045 994.6929,-1000.2732\"/>\n<polygon fill=\"#000000\" stroke=\"#000000\" points=\"995.2558,-996.8066 984.7067,-997.7899 993.5665,-1003.5998 995.2558,-996.8066\"/>\n</g>\n<!-- 46 -->\n<g id=\"node47\" class=\"node\">\n<title>46</title>\n<path fill=\"#b6f5b1\" stroke=\"#000000\" d=\"M1942.5,-1020C1942.5,-1020 1794.5,-1020 1794.5,-1020 1788.5,-1020 1782.5,-1014 1782.5,-1008 1782.5,-1008 1782.5,-949 1782.5,-949 1782.5,-943 1788.5,-937 1794.5,-937 1794.5,-937 1942.5,-937 1942.5,-937 1948.5,-937 1954.5,-943 1954.5,-949 1954.5,-949 1954.5,-1008 1954.5,-1008 1954.5,-1014 1948.5,-1020 1942.5,-1020\"/>\n<text text-anchor=\"start\" x=\"1833\" y=\"-1004.8\" font-family=\"Helvetica,sans-Serif\" font-size=\"14.00\" fill=\"#000000\">maint ≤ 1.5</text>\n<text text-anchor=\"start\" x=\"1830.5\" y=\"-989.8\" font-family=\"Helvetica,sans-Serif\" font-size=\"14.00\" fill=\"#000000\">gini = 0.658</text>\n<text text-anchor=\"start\" x=\"1820.5\" y=\"-974.8\" font-family=\"Helvetica,sans-Serif\" font-size=\"14.00\" fill=\"#000000\">samples = 257</text>\n<text text-anchor=\"start\" x=\"1790.5\" y=\"-959.8\" font-family=\"Helvetica,sans-Serif\" font-size=\"14.00\" fill=\"#000000\">value = [33, 131, 49, 44]</text>\n<text text-anchor=\"start\" x=\"1832\" y=\"-944.8\" font-family=\"Helvetica,sans-Serif\" font-size=\"14.00\" fill=\"#000000\">class = acc</text>\n</g>\n<!-- 4&#45;&gt;46 -->\n<g id=\"edge46\" class=\"edge\">\n<title>4&#45;&gt;46</title>\n<path fill=\"none\" stroke=\"#000000\" d=\"M1378.8066,-1078.9716C1485.6364,-1057.0531 1662.7481,-1020.7146 1772.1492,-998.2685\"/>\n<polygon fill=\"#000000\" stroke=\"#000000\" points=\"1773.1005,-1001.6463 1782.193,-996.2078 1771.6936,-994.7892 1773.1005,-1001.6463\"/>\n</g>\n<!-- 6 -->\n<g id=\"node7\" class=\"node\">\n<title>6</title>\n<path fill=\"#eba069\" stroke=\"#000000\" d=\"M501,-901C501,-901 370,-901 370,-901 364,-901 358,-895 358,-889 358,-889 358,-830 358,-830 358,-824 364,-818 370,-818 370,-818 501,-818 501,-818 507,-818 513,-824 513,-830 513,-830 513,-889 513,-889 513,-895 507,-901 501,-901\"/>\n<text text-anchor=\"start\" x=\"396\" y=\"-885.8\" font-family=\"Helvetica,sans-Serif\" font-size=\"14.00\" fill=\"#000000\">buying ≤ 0.5</text>\n<text text-anchor=\"start\" x=\"397.5\" y=\"-870.8\" font-family=\"Helvetica,sans-Serif\" font-size=\"14.00\" fill=\"#000000\">gini = 0.315</text>\n<text text-anchor=\"start\" x=\"387.5\" y=\"-855.8\" font-family=\"Helvetica,sans-Serif\" font-size=\"14.00\" fill=\"#000000\">samples = 133</text>\n<text text-anchor=\"start\" x=\"366\" y=\"-840.8\" font-family=\"Helvetica,sans-Serif\" font-size=\"14.00\" fill=\"#000000\">value = [107, 26, 0, 0]</text>\n<text text-anchor=\"start\" x=\"390.5\" y=\"-825.8\" font-family=\"Helvetica,sans-Serif\" font-size=\"14.00\" fill=\"#000000\">class = unacc</text>\n</g>\n<!-- 5&#45;&gt;6 -->\n<g id=\"edge6\" class=\"edge\">\n<title>5&#45;&gt;6</title>\n<path fill=\"none\" stroke=\"#000000\" d=\"M820.3527,-957.5674C737.023,-936.3335 608.505,-903.5848 523.2252,-881.854\"/>\n<polygon fill=\"#000000\" stroke=\"#000000\" points=\"523.859,-878.4037 513.3044,-879.326 522.1305,-885.1869 523.859,-878.4037\"/>\n</g>\n<!-- 27 -->\n<g id=\"node28\" class=\"node\">\n<title>27</title>\n<path fill=\"#7ded73\" stroke=\"#000000\" d=\"M968,-901C968,-901 837,-901 837,-901 831,-901 825,-895 825,-889 825,-889 825,-830 825,-830 825,-824 831,-818 837,-818 837,-818 968,-818 968,-818 974,-818 980,-824 980,-830 980,-830 980,-889 980,-889 980,-895 974,-901 968,-901\"/>\n<text text-anchor=\"start\" x=\"856.5\" y=\"-885.8\" font-family=\"Helvetica,sans-Serif\" font-size=\"14.00\" fill=\"#000000\">lug_boot ≤ 0.5</text>\n<text text-anchor=\"start\" x=\"864.5\" y=\"-870.8\" font-family=\"Helvetica,sans-Serif\" font-size=\"14.00\" fill=\"#000000\">gini = 0.352</text>\n<text text-anchor=\"start\" x=\"854.5\" y=\"-855.8\" font-family=\"Helvetica,sans-Serif\" font-size=\"14.00\" fill=\"#000000\">samples = 145</text>\n<text text-anchor=\"start\" x=\"833\" y=\"-840.8\" font-family=\"Helvetica,sans-Serif\" font-size=\"14.00\" fill=\"#000000\">value = [33, 112, 0, 0]</text>\n<text text-anchor=\"start\" x=\"866\" y=\"-825.8\" font-family=\"Helvetica,sans-Serif\" font-size=\"14.00\" fill=\"#000000\">class = acc</text>\n</g>\n<!-- 5&#45;&gt;27 -->\n<g id=\"edge27\" class=\"edge\">\n<title>5&#45;&gt;27</title>\n<path fill=\"none\" stroke=\"#000000\" d=\"M902.5,-936.8796C902.5,-928.6838 902.5,-919.9891 902.5,-911.5013\"/>\n<polygon fill=\"#000000\" stroke=\"#000000\" points=\"906.0001,-911.298 902.5,-901.2981 899.0001,-911.2981 906.0001,-911.298\"/>\n</g>\n<!-- 7 -->\n<g id=\"node8\" class=\"node\">\n<title>7</title>\n<path fill=\"#e58139\" stroke=\"#000000\" d=\"M332,-774.5C332,-774.5 217,-774.5 217,-774.5 211,-774.5 205,-768.5 205,-762.5 205,-762.5 205,-718.5 205,-718.5 205,-712.5 211,-706.5 217,-706.5 217,-706.5 332,-706.5 332,-706.5 338,-706.5 344,-712.5 344,-718.5 344,-718.5 344,-762.5 344,-762.5 344,-768.5 338,-774.5 332,-774.5\"/>\n<text text-anchor=\"start\" x=\"245\" y=\"-759.3\" font-family=\"Helvetica,sans-Serif\" font-size=\"14.00\" fill=\"#000000\">gini = 0.0</text>\n<text text-anchor=\"start\" x=\"230.5\" y=\"-744.3\" font-family=\"Helvetica,sans-Serif\" font-size=\"14.00\" fill=\"#000000\">samples = 69</text>\n<text text-anchor=\"start\" x=\"213\" y=\"-729.3\" font-family=\"Helvetica,sans-Serif\" font-size=\"14.00\" fill=\"#000000\">value = [69, 0, 0, 0]</text>\n<text text-anchor=\"start\" x=\"229.5\" y=\"-714.3\" font-family=\"Helvetica,sans-Serif\" font-size=\"14.00\" fill=\"#000000\">class = unacc</text>\n</g>\n<!-- 6&#45;&gt;7 -->\n<g id=\"edge7\" class=\"edge\">\n<title>6&#45;&gt;7</title>\n<path fill=\"none\" stroke=\"#000000\" d=\"M379.19,-817.8796C362.8968,-805.8368 345.1461,-792.7167 328.9675,-780.7586\"/>\n<polygon fill=\"#000000\" stroke=\"#000000\" points=\"330.7886,-777.7524 320.6665,-774.623 326.6279,-783.3816 330.7886,-777.7524\"/>\n</g>\n<!-- 8 -->\n<g id=\"node9\" class=\"node\">\n<title>8</title>\n<path fill=\"#f7d7c0\" stroke=\"#000000\" d=\"M497,-782C497,-782 374,-782 374,-782 368,-782 362,-776 362,-770 362,-770 362,-711 362,-711 362,-705 368,-699 374,-699 374,-699 497,-699 497,-699 503,-699 509,-705 509,-711 509,-711 509,-770 509,-770 509,-776 503,-782 497,-782\"/>\n<text text-anchor=\"start\" x=\"400\" y=\"-766.8\" font-family=\"Helvetica,sans-Serif\" font-size=\"14.00\" fill=\"#000000\">maint ≤ 0.5</text>\n<text text-anchor=\"start\" x=\"397.5\" y=\"-751.8\" font-family=\"Helvetica,sans-Serif\" font-size=\"14.00\" fill=\"#000000\">gini = 0.482</text>\n<text text-anchor=\"start\" x=\"391.5\" y=\"-736.8\" font-family=\"Helvetica,sans-Serif\" font-size=\"14.00\" fill=\"#000000\">samples = 64</text>\n<text text-anchor=\"start\" x=\"370\" y=\"-721.8\" font-family=\"Helvetica,sans-Serif\" font-size=\"14.00\" fill=\"#000000\">value = [38, 26, 0, 0]</text>\n<text text-anchor=\"start\" x=\"390.5\" y=\"-706.8\" font-family=\"Helvetica,sans-Serif\" font-size=\"14.00\" fill=\"#000000\">class = unacc</text>\n</g>\n<!-- 6&#45;&gt;8 -->\n<g id=\"edge8\" class=\"edge\">\n<title>6&#45;&gt;8</title>\n<path fill=\"none\" stroke=\"#000000\" d=\"M435.5,-817.8796C435.5,-809.6838 435.5,-800.9891 435.5,-792.5013\"/>\n<polygon fill=\"#000000\" stroke=\"#000000\" points=\"439.0001,-792.298 435.5,-782.2981 432.0001,-792.2981 439.0001,-792.298\"/>\n</g>\n<!-- 9 -->\n<g id=\"node10\" class=\"node\">\n<title>9</title>\n<path fill=\"#e58139\" stroke=\"#000000\" d=\"M332,-655.5C332,-655.5 217,-655.5 217,-655.5 211,-655.5 205,-649.5 205,-643.5 205,-643.5 205,-599.5 205,-599.5 205,-593.5 211,-587.5 217,-587.5 217,-587.5 332,-587.5 332,-587.5 338,-587.5 344,-593.5 344,-599.5 344,-599.5 344,-643.5 344,-643.5 344,-649.5 338,-655.5 332,-655.5\"/>\n<text text-anchor=\"start\" x=\"245\" y=\"-640.3\" font-family=\"Helvetica,sans-Serif\" font-size=\"14.00\" fill=\"#000000\">gini = 0.0</text>\n<text text-anchor=\"start\" x=\"230.5\" y=\"-625.3\" font-family=\"Helvetica,sans-Serif\" font-size=\"14.00\" fill=\"#000000\">samples = 27</text>\n<text text-anchor=\"start\" x=\"213\" y=\"-610.3\" font-family=\"Helvetica,sans-Serif\" font-size=\"14.00\" fill=\"#000000\">value = [27, 0, 0, 0]</text>\n<text text-anchor=\"start\" x=\"229.5\" y=\"-595.3\" font-family=\"Helvetica,sans-Serif\" font-size=\"14.00\" fill=\"#000000\">class = unacc</text>\n</g>\n<!-- 8&#45;&gt;9 -->\n<g id=\"edge9\" class=\"edge\">\n<title>8&#45;&gt;9</title>\n<path fill=\"none\" stroke=\"#000000\" d=\"M379.19,-698.8796C362.8968,-686.8368 345.1461,-673.7167 328.9675,-661.7586\"/>\n<polygon fill=\"#000000\" stroke=\"#000000\" points=\"330.7886,-658.7524 320.6665,-655.623 326.6279,-664.3816 330.7886,-658.7524\"/>\n</g>\n<!-- 10 -->\n<g id=\"node11\" class=\"node\">\n<title>10</title>\n<path fill=\"#95f08d\" stroke=\"#000000\" d=\"M497,-663C497,-663 374,-663 374,-663 368,-663 362,-657 362,-651 362,-651 362,-592 362,-592 362,-586 368,-580 374,-580 374,-580 497,-580 497,-580 503,-580 509,-586 509,-592 509,-592 509,-651 509,-651 509,-657 503,-663 497,-663\"/>\n<text text-anchor=\"start\" x=\"389.5\" y=\"-647.8\" font-family=\"Helvetica,sans-Serif\" font-size=\"14.00\" fill=\"#000000\">lug_boot ≤ 0.5</text>\n<text text-anchor=\"start\" x=\"397.5\" y=\"-632.8\" font-family=\"Helvetica,sans-Serif\" font-size=\"14.00\" fill=\"#000000\">gini = 0.418</text>\n<text text-anchor=\"start\" x=\"391.5\" y=\"-617.8\" font-family=\"Helvetica,sans-Serif\" font-size=\"14.00\" fill=\"#000000\">samples = 37</text>\n<text text-anchor=\"start\" x=\"370\" y=\"-602.8\" font-family=\"Helvetica,sans-Serif\" font-size=\"14.00\" fill=\"#000000\">value = [11, 26, 0, 0]</text>\n<text text-anchor=\"start\" x=\"399\" y=\"-587.8\" font-family=\"Helvetica,sans-Serif\" font-size=\"14.00\" fill=\"#000000\">class = acc</text>\n</g>\n<!-- 8&#45;&gt;10 -->\n<g id=\"edge10\" class=\"edge\">\n<title>8&#45;&gt;10</title>\n<path fill=\"none\" stroke=\"#000000\" d=\"M435.5,-698.8796C435.5,-690.6838 435.5,-681.9891 435.5,-673.5013\"/>\n<polygon fill=\"#000000\" stroke=\"#000000\" points=\"439.0001,-673.298 435.5,-663.2981 432.0001,-673.2981 439.0001,-673.298\"/>\n</g>\n<!-- 11 -->\n<g id=\"node12\" class=\"node\">\n<title>11</title>\n<path fill=\"#f3c7a7\" stroke=\"#000000\" d=\"M268,-544C268,-544 161,-544 161,-544 155,-544 149,-538 149,-532 149,-532 149,-473 149,-473 149,-467 155,-461 161,-461 161,-461 268,-461 268,-461 274,-461 280,-467 280,-473 280,-473 280,-532 280,-532 280,-538 274,-544 268,-544\"/>\n<text text-anchor=\"start\" x=\"177\" y=\"-528.8\" font-family=\"Helvetica,sans-Serif\" font-size=\"14.00\" fill=\"#000000\">safety ≤ 1.5</text>\n<text text-anchor=\"start\" x=\"176.5\" y=\"-513.8\" font-family=\"Helvetica,sans-Serif\" font-size=\"14.00\" fill=\"#000000\">gini = 0.459</text>\n<text text-anchor=\"start\" x=\"170.5\" y=\"-498.8\" font-family=\"Helvetica,sans-Serif\" font-size=\"14.00\" fill=\"#000000\">samples = 14</text>\n<text text-anchor=\"start\" x=\"157\" y=\"-483.8\" font-family=\"Helvetica,sans-Serif\" font-size=\"14.00\" fill=\"#000000\">value = [9, 5, 0, 0]</text>\n<text text-anchor=\"start\" x=\"169.5\" y=\"-468.8\" font-family=\"Helvetica,sans-Serif\" font-size=\"14.00\" fill=\"#000000\">class = unacc</text>\n</g>\n<!-- 10&#45;&gt;11 -->\n<g id=\"edge11\" class=\"edge\">\n<title>10&#45;&gt;11</title>\n<path fill=\"none\" stroke=\"#000000\" d=\"M361.9102,-581.8747C338.5287,-569.2847 312.6562,-555.3534 289.1974,-542.7217\"/>\n<polygon fill=\"#000000\" stroke=\"#000000\" points=\"290.7991,-539.609 280.335,-537.9496 287.4804,-545.7723 290.7991,-539.609\"/>\n</g>\n<!-- 18 -->\n<g id=\"node19\" class=\"node\">\n<title>18</title>\n<path fill=\"#59e74c\" stroke=\"#000000\" d=\"M493,-544C493,-544 378,-544 378,-544 372,-544 366,-538 366,-532 366,-532 366,-473 366,-473 366,-467 372,-461 378,-461 378,-461 493,-461 493,-461 499,-461 505,-467 505,-473 505,-473 505,-532 505,-532 505,-538 499,-544 493,-544\"/>\n<text text-anchor=\"start\" x=\"399\" y=\"-528.8\" font-family=\"Helvetica,sans-Serif\" font-size=\"14.00\" fill=\"#000000\">doors ≤ 1.5</text>\n<text text-anchor=\"start\" x=\"397.5\" y=\"-513.8\" font-family=\"Helvetica,sans-Serif\" font-size=\"14.00\" fill=\"#000000\">gini = 0.159</text>\n<text text-anchor=\"start\" x=\"391.5\" y=\"-498.8\" font-family=\"Helvetica,sans-Serif\" font-size=\"14.00\" fill=\"#000000\">samples = 23</text>\n<text text-anchor=\"start\" x=\"374\" y=\"-483.8\" font-family=\"Helvetica,sans-Serif\" font-size=\"14.00\" fill=\"#000000\">value = [2, 21, 0, 0]</text>\n<text text-anchor=\"start\" x=\"399\" y=\"-468.8\" font-family=\"Helvetica,sans-Serif\" font-size=\"14.00\" fill=\"#000000\">class = acc</text>\n</g>\n<!-- 10&#45;&gt;18 -->\n<g id=\"edge18\" class=\"edge\">\n<title>10&#45;&gt;18</title>\n<path fill=\"none\" stroke=\"#000000\" d=\"M435.5,-579.8796C435.5,-571.6838 435.5,-562.9891 435.5,-554.5013\"/>\n<polygon fill=\"#000000\" stroke=\"#000000\" points=\"439.0001,-554.298 435.5,-544.2981 432.0001,-554.2981 439.0001,-554.298\"/>\n</g>\n<!-- 12 -->\n<g id=\"node13\" class=\"node\">\n<title>12</title>\n<path fill=\"#e58139\" stroke=\"#000000\" d=\"M119,-417.5C119,-417.5 12,-417.5 12,-417.5 6,-417.5 0,-411.5 0,-405.5 0,-405.5 0,-361.5 0,-361.5 0,-355.5 6,-349.5 12,-349.5 12,-349.5 119,-349.5 119,-349.5 125,-349.5 131,-355.5 131,-361.5 131,-361.5 131,-405.5 131,-405.5 131,-411.5 125,-417.5 119,-417.5\"/>\n<text text-anchor=\"start\" x=\"36\" y=\"-402.3\" font-family=\"Helvetica,sans-Serif\" font-size=\"14.00\" fill=\"#000000\">gini = 0.0</text>\n<text text-anchor=\"start\" x=\"26\" y=\"-387.3\" font-family=\"Helvetica,sans-Serif\" font-size=\"14.00\" fill=\"#000000\">samples = 8</text>\n<text text-anchor=\"start\" x=\"8\" y=\"-372.3\" font-family=\"Helvetica,sans-Serif\" font-size=\"14.00\" fill=\"#000000\">value = [8, 0, 0, 0]</text>\n<text text-anchor=\"start\" x=\"20.5\" y=\"-357.3\" font-family=\"Helvetica,sans-Serif\" font-size=\"14.00\" fill=\"#000000\">class = unacc</text>\n</g>\n<!-- 11&#45;&gt;12 -->\n<g id=\"edge12\" class=\"edge\">\n<title>11&#45;&gt;12</title>\n<path fill=\"none\" stroke=\"#000000\" d=\"M162.387,-460.8796C147.5174,-449.0038 131.336,-436.0804 116.5317,-424.2568\"/>\n<polygon fill=\"#000000\" stroke=\"#000000\" points=\"118.4638,-421.3207 108.4658,-417.8149 114.0954,-426.7904 118.4638,-421.3207\"/>\n</g>\n<!-- 13 -->\n<g id=\"node14\" class=\"node\">\n<title>13</title>\n<path fill=\"#6cea61\" stroke=\"#000000\" d=\"M268,-425C268,-425 161,-425 161,-425 155,-425 149,-419 149,-413 149,-413 149,-354 149,-354 149,-348 155,-342 161,-342 161,-342 268,-342 268,-342 274,-342 280,-348 280,-354 280,-354 280,-413 280,-413 280,-419 274,-425 268,-425\"/>\n<text text-anchor=\"start\" x=\"178\" y=\"-409.8\" font-family=\"Helvetica,sans-Serif\" font-size=\"14.00\" fill=\"#000000\">doors ≤ 0.5</text>\n<text text-anchor=\"start\" x=\"176.5\" y=\"-394.8\" font-family=\"Helvetica,sans-Serif\" font-size=\"14.00\" fill=\"#000000\">gini = 0.278</text>\n<text text-anchor=\"start\" x=\"175\" y=\"-379.8\" font-family=\"Helvetica,sans-Serif\" font-size=\"14.00\" fill=\"#000000\">samples = 6</text>\n<text text-anchor=\"start\" x=\"157\" y=\"-364.8\" font-family=\"Helvetica,sans-Serif\" font-size=\"14.00\" fill=\"#000000\">value = [1, 5, 0, 0]</text>\n<text text-anchor=\"start\" x=\"178\" y=\"-349.8\" font-family=\"Helvetica,sans-Serif\" font-size=\"14.00\" fill=\"#000000\">class = acc</text>\n</g>\n<!-- 11&#45;&gt;13 -->\n<g id=\"edge13\" class=\"edge\">\n<title>11&#45;&gt;13</title>\n<path fill=\"none\" stroke=\"#000000\" d=\"M214.5,-460.8796C214.5,-452.6838 214.5,-443.9891 214.5,-435.5013\"/>\n<polygon fill=\"#000000\" stroke=\"#000000\" points=\"218.0001,-435.298 214.5,-425.2981 211.0001,-435.2981 218.0001,-435.298\"/>\n</g>\n<!-- 14 -->\n<g id=\"node15\" class=\"node\">\n<title>14</title>\n<path fill=\"#ffffff\" stroke=\"#000000\" d=\"M119,-306C119,-306 12,-306 12,-306 6,-306 0,-300 0,-294 0,-294 0,-235 0,-235 0,-229 6,-223 12,-223 12,-223 119,-223 119,-223 125,-223 131,-229 131,-235 131,-235 131,-294 131,-294 131,-300 125,-306 119,-306\"/>\n<text text-anchor=\"start\" x=\"21.5\" y=\"-290.8\" font-family=\"Helvetica,sans-Serif\" font-size=\"14.00\" fill=\"#000000\">persons ≤ 1.5</text>\n<text text-anchor=\"start\" x=\"36\" y=\"-275.8\" font-family=\"Helvetica,sans-Serif\" font-size=\"14.00\" fill=\"#000000\">gini = 0.5</text>\n<text text-anchor=\"start\" x=\"26\" y=\"-260.8\" font-family=\"Helvetica,sans-Serif\" font-size=\"14.00\" fill=\"#000000\">samples = 2</text>\n<text text-anchor=\"start\" x=\"8\" y=\"-245.8\" font-family=\"Helvetica,sans-Serif\" font-size=\"14.00\" fill=\"#000000\">value = [1, 1, 0, 0]</text>\n<text text-anchor=\"start\" x=\"20.5\" y=\"-230.8\" font-family=\"Helvetica,sans-Serif\" font-size=\"14.00\" fill=\"#000000\">class = unacc</text>\n</g>\n<!-- 13&#45;&gt;14 -->\n<g id=\"edge14\" class=\"edge\">\n<title>13&#45;&gt;14</title>\n<path fill=\"none\" stroke=\"#000000\" d=\"M162.387,-341.8796C150.4775,-332.368 137.7266,-322.1843 125.5156,-312.432\"/>\n<polygon fill=\"#000000\" stroke=\"#000000\" points=\"127.5816,-309.6027 117.5835,-306.0969 123.2132,-315.0724 127.5816,-309.6027\"/>\n</g>\n<!-- 17 -->\n<g id=\"node18\" class=\"node\">\n<title>17</title>\n<path fill=\"#47e539\" stroke=\"#000000\" d=\"M268,-298.5C268,-298.5 161,-298.5 161,-298.5 155,-298.5 149,-292.5 149,-286.5 149,-286.5 149,-242.5 149,-242.5 149,-236.5 155,-230.5 161,-230.5 161,-230.5 268,-230.5 268,-230.5 274,-230.5 280,-236.5 280,-242.5 280,-242.5 280,-286.5 280,-286.5 280,-292.5 274,-298.5 268,-298.5\"/>\n<text text-anchor=\"start\" x=\"185\" y=\"-283.3\" font-family=\"Helvetica,sans-Serif\" font-size=\"14.00\" fill=\"#000000\">gini = 0.0</text>\n<text text-anchor=\"start\" x=\"175\" y=\"-268.3\" font-family=\"Helvetica,sans-Serif\" font-size=\"14.00\" fill=\"#000000\">samples = 4</text>\n<text text-anchor=\"start\" x=\"157\" y=\"-253.3\" font-family=\"Helvetica,sans-Serif\" font-size=\"14.00\" fill=\"#000000\">value = [0, 4, 0, 0]</text>\n<text text-anchor=\"start\" x=\"178\" y=\"-238.3\" font-family=\"Helvetica,sans-Serif\" font-size=\"14.00\" fill=\"#000000\">class = acc</text>\n</g>\n<!-- 13&#45;&gt;17 -->\n<g id=\"edge17\" class=\"edge\">\n<title>13&#45;&gt;17</title>\n<path fill=\"none\" stroke=\"#000000\" d=\"M214.5,-341.8796C214.5,-331.2134 214.5,-319.7021 214.5,-308.9015\"/>\n<polygon fill=\"#000000\" stroke=\"#000000\" points=\"218.0001,-308.8149 214.5,-298.8149 211.0001,-308.815 218.0001,-308.8149\"/>\n</g>\n<!-- 15 -->\n<g id=\"node16\" class=\"node\">\n<title>15</title>\n<path fill=\"#47e539\" stroke=\"#000000\" d=\"M119,-179.5C119,-179.5 12,-179.5 12,-179.5 6,-179.5 0,-173.5 0,-167.5 0,-167.5 0,-123.5 0,-123.5 0,-117.5 6,-111.5 12,-111.5 12,-111.5 119,-111.5 119,-111.5 125,-111.5 131,-117.5 131,-123.5 131,-123.5 131,-167.5 131,-167.5 131,-173.5 125,-179.5 119,-179.5\"/>\n<text text-anchor=\"start\" x=\"36\" y=\"-164.3\" font-family=\"Helvetica,sans-Serif\" font-size=\"14.00\" fill=\"#000000\">gini = 0.0</text>\n<text text-anchor=\"start\" x=\"26\" y=\"-149.3\" font-family=\"Helvetica,sans-Serif\" font-size=\"14.00\" fill=\"#000000\">samples = 1</text>\n<text text-anchor=\"start\" x=\"8\" y=\"-134.3\" font-family=\"Helvetica,sans-Serif\" font-size=\"14.00\" fill=\"#000000\">value = [0, 1, 0, 0]</text>\n<text text-anchor=\"start\" x=\"29\" y=\"-119.3\" font-family=\"Helvetica,sans-Serif\" font-size=\"14.00\" fill=\"#000000\">class = acc</text>\n</g>\n<!-- 14&#45;&gt;15 -->\n<g id=\"edge15\" class=\"edge\">\n<title>14&#45;&gt;15</title>\n<path fill=\"none\" stroke=\"#000000\" d=\"M65.5,-222.8796C65.5,-212.2134 65.5,-200.7021 65.5,-189.9015\"/>\n<polygon fill=\"#000000\" stroke=\"#000000\" points=\"69.0001,-189.8149 65.5,-179.8149 62.0001,-189.815 69.0001,-189.8149\"/>\n</g>\n<!-- 16 -->\n<g id=\"node17\" class=\"node\">\n<title>16</title>\n<path fill=\"#e58139\" stroke=\"#000000\" d=\"M268,-179.5C268,-179.5 161,-179.5 161,-179.5 155,-179.5 149,-173.5 149,-167.5 149,-167.5 149,-123.5 149,-123.5 149,-117.5 155,-111.5 161,-111.5 161,-111.5 268,-111.5 268,-111.5 274,-111.5 280,-117.5 280,-123.5 280,-123.5 280,-167.5 280,-167.5 280,-173.5 274,-179.5 268,-179.5\"/>\n<text text-anchor=\"start\" x=\"185\" y=\"-164.3\" font-family=\"Helvetica,sans-Serif\" font-size=\"14.00\" fill=\"#000000\">gini = 0.0</text>\n<text text-anchor=\"start\" x=\"175\" y=\"-149.3\" font-family=\"Helvetica,sans-Serif\" font-size=\"14.00\" fill=\"#000000\">samples = 1</text>\n<text text-anchor=\"start\" x=\"157\" y=\"-134.3\" font-family=\"Helvetica,sans-Serif\" font-size=\"14.00\" fill=\"#000000\">value = [1, 0, 0, 0]</text>\n<text text-anchor=\"start\" x=\"169.5\" y=\"-119.3\" font-family=\"Helvetica,sans-Serif\" font-size=\"14.00\" fill=\"#000000\">class = unacc</text>\n</g>\n<!-- 14&#45;&gt;16 -->\n<g id=\"edge16\" class=\"edge\">\n<title>14&#45;&gt;16</title>\n<path fill=\"none\" stroke=\"#000000\" d=\"M117.613,-222.8796C132.4826,-211.0038 148.664,-198.0804 163.4683,-186.2568\"/>\n<polygon fill=\"#000000\" stroke=\"#000000\" points=\"165.9046,-188.7904 171.5342,-179.8149 161.5362,-183.3207 165.9046,-188.7904\"/>\n</g>\n<!-- 19 -->\n<g id=\"node20\" class=\"node\">\n<title>19</title>\n<path fill=\"#7cec72\" stroke=\"#000000\" d=\"M417,-425C417,-425 310,-425 310,-425 304,-425 298,-419 298,-413 298,-413 298,-354 298,-354 298,-348 304,-342 310,-342 310,-342 417,-342 417,-342 423,-342 429,-348 429,-354 429,-354 429,-413 429,-413 429,-419 423,-425 417,-425\"/>\n<text text-anchor=\"start\" x=\"317.5\" y=\"-409.8\" font-family=\"Helvetica,sans-Serif\" font-size=\"14.00\" fill=\"#000000\">lug_boot ≤ 1.5</text>\n<text text-anchor=\"start\" x=\"325.5\" y=\"-394.8\" font-family=\"Helvetica,sans-Serif\" font-size=\"14.00\" fill=\"#000000\">gini = 0.346</text>\n<text text-anchor=\"start\" x=\"324\" y=\"-379.8\" font-family=\"Helvetica,sans-Serif\" font-size=\"14.00\" fill=\"#000000\">samples = 9</text>\n<text text-anchor=\"start\" x=\"306\" y=\"-364.8\" font-family=\"Helvetica,sans-Serif\" font-size=\"14.00\" fill=\"#000000\">value = [2, 7, 0, 0]</text>\n<text text-anchor=\"start\" x=\"327\" y=\"-349.8\" font-family=\"Helvetica,sans-Serif\" font-size=\"14.00\" fill=\"#000000\">class = acc</text>\n</g>\n<!-- 18&#45;&gt;19 -->\n<g id=\"edge19\" class=\"edge\">\n<title>18&#45;&gt;19</title>\n<path fill=\"none\" stroke=\"#000000\" d=\"M410.3179,-460.8796C405.0867,-452.2335 399.5195,-443.0322 394.1177,-434.1042\"/>\n<polygon fill=\"#000000\" stroke=\"#000000\" points=\"396.9608,-432.0421 388.7896,-425.2981 390.9717,-435.6658 396.9608,-432.0421\"/>\n</g>\n<!-- 26 -->\n<g id=\"node27\" class=\"node\">\n<title>26</title>\n<path fill=\"#47e539\" stroke=\"#000000\" d=\"M574,-417.5C574,-417.5 459,-417.5 459,-417.5 453,-417.5 447,-411.5 447,-405.5 447,-405.5 447,-361.5 447,-361.5 447,-355.5 453,-349.5 459,-349.5 459,-349.5 574,-349.5 574,-349.5 580,-349.5 586,-355.5 586,-361.5 586,-361.5 586,-405.5 586,-405.5 586,-411.5 580,-417.5 574,-417.5\"/>\n<text text-anchor=\"start\" x=\"487\" y=\"-402.3\" font-family=\"Helvetica,sans-Serif\" font-size=\"14.00\" fill=\"#000000\">gini = 0.0</text>\n<text text-anchor=\"start\" x=\"472.5\" y=\"-387.3\" font-family=\"Helvetica,sans-Serif\" font-size=\"14.00\" fill=\"#000000\">samples = 14</text>\n<text text-anchor=\"start\" x=\"455\" y=\"-372.3\" font-family=\"Helvetica,sans-Serif\" font-size=\"14.00\" fill=\"#000000\">value = [0, 14, 0, 0]</text>\n<text text-anchor=\"start\" x=\"480\" y=\"-357.3\" font-family=\"Helvetica,sans-Serif\" font-size=\"14.00\" fill=\"#000000\">class = acc</text>\n</g>\n<!-- 18&#45;&gt;26 -->\n<g id=\"edge26\" class=\"edge\">\n<title>18&#45;&gt;26</title>\n<path fill=\"none\" stroke=\"#000000\" d=\"M463.8299,-460.8796C471.4643,-449.6636 479.7348,-437.5131 487.4099,-426.2372\"/>\n<polygon fill=\"#000000\" stroke=\"#000000\" points=\"490.4092,-428.0511 493.1428,-417.8149 484.6225,-424.1122 490.4092,-428.0511\"/>\n</g>\n<!-- 20 -->\n<g id=\"node21\" class=\"node\">\n<title>20</title>\n<path fill=\"#ffffff\" stroke=\"#000000\" d=\"M417,-306C417,-306 310,-306 310,-306 304,-306 298,-300 298,-294 298,-294 298,-235 298,-235 298,-229 304,-223 310,-223 310,-223 417,-223 417,-223 423,-223 429,-229 429,-235 429,-235 429,-294 429,-294 429,-300 423,-306 417,-306\"/>\n<text text-anchor=\"start\" x=\"327\" y=\"-290.8\" font-family=\"Helvetica,sans-Serif\" font-size=\"14.00\" fill=\"#000000\">doors ≤ 0.5</text>\n<text text-anchor=\"start\" x=\"334\" y=\"-275.8\" font-family=\"Helvetica,sans-Serif\" font-size=\"14.00\" fill=\"#000000\">gini = 0.5</text>\n<text text-anchor=\"start\" x=\"324\" y=\"-260.8\" font-family=\"Helvetica,sans-Serif\" font-size=\"14.00\" fill=\"#000000\">samples = 4</text>\n<text text-anchor=\"start\" x=\"306\" y=\"-245.8\" font-family=\"Helvetica,sans-Serif\" font-size=\"14.00\" fill=\"#000000\">value = [2, 2, 0, 0]</text>\n<text text-anchor=\"start\" x=\"318.5\" y=\"-230.8\" font-family=\"Helvetica,sans-Serif\" font-size=\"14.00\" fill=\"#000000\">class = unacc</text>\n</g>\n<!-- 19&#45;&gt;20 -->\n<g id=\"edge20\" class=\"edge\">\n<title>19&#45;&gt;20</title>\n<path fill=\"none\" stroke=\"#000000\" d=\"M363.5,-341.8796C363.5,-333.6838 363.5,-324.9891 363.5,-316.5013\"/>\n<polygon fill=\"#000000\" stroke=\"#000000\" points=\"367.0001,-316.298 363.5,-306.2981 360.0001,-316.2981 367.0001,-316.298\"/>\n</g>\n<!-- 25 -->\n<g id=\"node26\" class=\"node\">\n<title>25</title>\n<path fill=\"#47e539\" stroke=\"#000000\" d=\"M566,-298.5C566,-298.5 459,-298.5 459,-298.5 453,-298.5 447,-292.5 447,-286.5 447,-286.5 447,-242.5 447,-242.5 447,-236.5 453,-230.5 459,-230.5 459,-230.5 566,-230.5 566,-230.5 572,-230.5 578,-236.5 578,-242.5 578,-242.5 578,-286.5 578,-286.5 578,-292.5 572,-298.5 566,-298.5\"/>\n<text text-anchor=\"start\" x=\"483\" y=\"-283.3\" font-family=\"Helvetica,sans-Serif\" font-size=\"14.00\" fill=\"#000000\">gini = 0.0</text>\n<text text-anchor=\"start\" x=\"473\" y=\"-268.3\" font-family=\"Helvetica,sans-Serif\" font-size=\"14.00\" fill=\"#000000\">samples = 5</text>\n<text text-anchor=\"start\" x=\"455\" y=\"-253.3\" font-family=\"Helvetica,sans-Serif\" font-size=\"14.00\" fill=\"#000000\">value = [0, 5, 0, 0]</text>\n<text text-anchor=\"start\" x=\"476\" y=\"-238.3\" font-family=\"Helvetica,sans-Serif\" font-size=\"14.00\" fill=\"#000000\">class = acc</text>\n</g>\n<!-- 19&#45;&gt;25 -->\n<g id=\"edge25\" class=\"edge\">\n<title>19&#45;&gt;25</title>\n<path fill=\"none\" stroke=\"#000000\" d=\"M415.613,-341.8796C430.4826,-330.0038 446.664,-317.0804 461.4683,-305.2568\"/>\n<polygon fill=\"#000000\" stroke=\"#000000\" points=\"463.9046,-307.7904 469.5342,-298.8149 459.5362,-302.3207 463.9046,-307.7904\"/>\n</g>\n<!-- 21 -->\n<g id=\"node22\" class=\"node\">\n<title>21</title>\n<path fill=\"#e58139\" stroke=\"#000000\" d=\"M417,-179.5C417,-179.5 310,-179.5 310,-179.5 304,-179.5 298,-173.5 298,-167.5 298,-167.5 298,-123.5 298,-123.5 298,-117.5 304,-111.5 310,-111.5 310,-111.5 417,-111.5 417,-111.5 423,-111.5 429,-117.5 429,-123.5 429,-123.5 429,-167.5 429,-167.5 429,-173.5 423,-179.5 417,-179.5\"/>\n<text text-anchor=\"start\" x=\"334\" y=\"-164.3\" font-family=\"Helvetica,sans-Serif\" font-size=\"14.00\" fill=\"#000000\">gini = 0.0</text>\n<text text-anchor=\"start\" x=\"324\" y=\"-149.3\" font-family=\"Helvetica,sans-Serif\" font-size=\"14.00\" fill=\"#000000\">samples = 1</text>\n<text text-anchor=\"start\" x=\"306\" y=\"-134.3\" font-family=\"Helvetica,sans-Serif\" font-size=\"14.00\" fill=\"#000000\">value = [1, 0, 0, 0]</text>\n<text text-anchor=\"start\" x=\"318.5\" y=\"-119.3\" font-family=\"Helvetica,sans-Serif\" font-size=\"14.00\" fill=\"#000000\">class = unacc</text>\n</g>\n<!-- 20&#45;&gt;21 -->\n<g id=\"edge21\" class=\"edge\">\n<title>20&#45;&gt;21</title>\n<path fill=\"none\" stroke=\"#000000\" d=\"M363.5,-222.8796C363.5,-212.2134 363.5,-200.7021 363.5,-189.9015\"/>\n<polygon fill=\"#000000\" stroke=\"#000000\" points=\"367.0001,-189.8149 363.5,-179.8149 360.0001,-189.815 367.0001,-189.8149\"/>\n</g>\n<!-- 22 -->\n<g id=\"node23\" class=\"node\">\n<title>22</title>\n<path fill=\"#a3f29c\" stroke=\"#000000\" d=\"M566,-187C566,-187 459,-187 459,-187 453,-187 447,-181 447,-175 447,-175 447,-116 447,-116 447,-110 453,-104 459,-104 459,-104 566,-104 566,-104 572,-104 578,-110 578,-116 578,-116 578,-175 578,-175 578,-181 572,-187 566,-187\"/>\n<text text-anchor=\"start\" x=\"468.5\" y=\"-171.8\" font-family=\"Helvetica,sans-Serif\" font-size=\"14.00\" fill=\"#000000\">persons ≤ 1.5</text>\n<text text-anchor=\"start\" x=\"474.5\" y=\"-156.8\" font-family=\"Helvetica,sans-Serif\" font-size=\"14.00\" fill=\"#000000\">gini = 0.444</text>\n<text text-anchor=\"start\" x=\"473\" y=\"-141.8\" font-family=\"Helvetica,sans-Serif\" font-size=\"14.00\" fill=\"#000000\">samples = 3</text>\n<text text-anchor=\"start\" x=\"455\" y=\"-126.8\" font-family=\"Helvetica,sans-Serif\" font-size=\"14.00\" fill=\"#000000\">value = [1, 2, 0, 0]</text>\n<text text-anchor=\"start\" x=\"476\" y=\"-111.8\" font-family=\"Helvetica,sans-Serif\" font-size=\"14.00\" fill=\"#000000\">class = acc</text>\n</g>\n<!-- 20&#45;&gt;22 -->\n<g id=\"edge22\" class=\"edge\">\n<title>20&#45;&gt;22</title>\n<path fill=\"none\" stroke=\"#000000\" d=\"M415.613,-222.8796C427.5225,-213.368 440.2734,-203.1843 452.4844,-193.432\"/>\n<polygon fill=\"#000000\" stroke=\"#000000\" points=\"454.7868,-196.0724 460.4165,-187.0969 450.4184,-190.6027 454.7868,-196.0724\"/>\n</g>\n<!-- 23 -->\n<g id=\"node24\" class=\"node\">\n<title>23</title>\n<path fill=\"#e58139\" stroke=\"#000000\" d=\"M492,-68C492,-68 385,-68 385,-68 379,-68 373,-62 373,-56 373,-56 373,-12 373,-12 373,-6 379,0 385,0 385,0 492,0 492,0 498,0 504,-6 504,-12 504,-12 504,-56 504,-56 504,-62 498,-68 492,-68\"/>\n<text text-anchor=\"start\" x=\"409\" y=\"-52.8\" font-family=\"Helvetica,sans-Serif\" font-size=\"14.00\" fill=\"#000000\">gini = 0.0</text>\n<text text-anchor=\"start\" x=\"399\" y=\"-37.8\" font-family=\"Helvetica,sans-Serif\" font-size=\"14.00\" fill=\"#000000\">samples = 1</text>\n<text text-anchor=\"start\" x=\"381\" y=\"-22.8\" font-family=\"Helvetica,sans-Serif\" font-size=\"14.00\" fill=\"#000000\">value = [1, 0, 0, 0]</text>\n<text text-anchor=\"start\" x=\"393.5\" y=\"-7.8\" font-family=\"Helvetica,sans-Serif\" font-size=\"14.00\" fill=\"#000000\">class = unacc</text>\n</g>\n<!-- 22&#45;&gt;23 -->\n<g id=\"edge23\" class=\"edge\">\n<title>22&#45;&gt;23</title>\n<path fill=\"none\" stroke=\"#000000\" d=\"M484.9451,-103.9815C479.0285,-95.0666 472.7665,-85.6313 466.8213,-76.6734\"/>\n<polygon fill=\"#000000\" stroke=\"#000000\" points=\"469.686,-74.6602 461.24,-68.2637 463.8536,-78.5311 469.686,-74.6602\"/>\n</g>\n<!-- 24 -->\n<g id=\"node25\" class=\"node\">\n<title>24</title>\n<path fill=\"#47e539\" stroke=\"#000000\" d=\"M641,-68C641,-68 534,-68 534,-68 528,-68 522,-62 522,-56 522,-56 522,-12 522,-12 522,-6 528,0 534,0 534,0 641,0 641,0 647,0 653,-6 653,-12 653,-12 653,-56 653,-56 653,-62 647,-68 641,-68\"/>\n<text text-anchor=\"start\" x=\"558\" y=\"-52.8\" font-family=\"Helvetica,sans-Serif\" font-size=\"14.00\" fill=\"#000000\">gini = 0.0</text>\n<text text-anchor=\"start\" x=\"548\" y=\"-37.8\" font-family=\"Helvetica,sans-Serif\" font-size=\"14.00\" fill=\"#000000\">samples = 2</text>\n<text text-anchor=\"start\" x=\"530\" y=\"-22.8\" font-family=\"Helvetica,sans-Serif\" font-size=\"14.00\" fill=\"#000000\">value = [0, 2, 0, 0]</text>\n<text text-anchor=\"start\" x=\"551\" y=\"-7.8\" font-family=\"Helvetica,sans-Serif\" font-size=\"14.00\" fill=\"#000000\">class = acc</text>\n</g>\n<!-- 22&#45;&gt;24 -->\n<g id=\"edge24\" class=\"edge\">\n<title>22&#45;&gt;24</title>\n<path fill=\"none\" stroke=\"#000000\" d=\"M540.4272,-103.9815C546.4238,-95.0666 552.7704,-85.6313 558.7959,-76.6734\"/>\n<polygon fill=\"#000000\" stroke=\"#000000\" points=\"561.7755,-78.5147 564.4527,-68.2637 555.9672,-74.6078 561.7755,-78.5147\"/>\n</g>\n<!-- 28 -->\n<g id=\"node29\" class=\"node\">\n<title>28</title>\n<path fill=\"#fae5d6\" stroke=\"#000000\" d=\"M883,-782C883,-782 760,-782 760,-782 754,-782 748,-776 748,-770 748,-770 748,-711 748,-711 748,-705 754,-699 760,-699 760,-699 883,-699 883,-699 889,-699 895,-705 895,-711 895,-711 895,-770 895,-770 895,-776 889,-782 883,-782\"/>\n<text text-anchor=\"start\" x=\"784\" y=\"-766.8\" font-family=\"Helvetica,sans-Serif\" font-size=\"14.00\" fill=\"#000000\">safety ≤ 1.5</text>\n<text text-anchor=\"start\" x=\"783.5\" y=\"-751.8\" font-family=\"Helvetica,sans-Serif\" font-size=\"14.00\" fill=\"#000000\">gini = 0.493</text>\n<text text-anchor=\"start\" x=\"777.5\" y=\"-736.8\" font-family=\"Helvetica,sans-Serif\" font-size=\"14.00\" fill=\"#000000\">samples = 43</text>\n<text text-anchor=\"start\" x=\"756\" y=\"-721.8\" font-family=\"Helvetica,sans-Serif\" font-size=\"14.00\" fill=\"#000000\">value = [24, 19, 0, 0]</text>\n<text text-anchor=\"start\" x=\"776.5\" y=\"-706.8\" font-family=\"Helvetica,sans-Serif\" font-size=\"14.00\" fill=\"#000000\">class = unacc</text>\n</g>\n<!-- 27&#45;&gt;28 -->\n<g id=\"edge28\" class=\"edge\">\n<title>27&#45;&gt;28</title>\n<path fill=\"none\" stroke=\"#000000\" d=\"M874.1701,-817.8796C868.2237,-809.1434 861.8914,-799.8404 855.755,-790.8253\"/>\n<polygon fill=\"#000000\" stroke=\"#000000\" points=\"858.4711,-788.5953 849.9508,-782.2981 852.6844,-792.5342 858.4711,-788.5953\"/>\n</g>\n<!-- 35 -->\n<g id=\"node36\" class=\"node\">\n<title>35</title>\n<path fill=\"#59e84c\" stroke=\"#000000\" d=\"M1040,-782C1040,-782 925,-782 925,-782 919,-782 913,-776 913,-770 913,-770 913,-711 913,-711 913,-705 919,-699 925,-699 925,-699 1040,-699 1040,-699 1046,-699 1052,-705 1052,-711 1052,-711 1052,-770 1052,-770 1052,-776 1046,-782 1040,-782\"/>\n<text text-anchor=\"start\" x=\"945\" y=\"-766.8\" font-family=\"Helvetica,sans-Serif\" font-size=\"14.00\" fill=\"#000000\">safety ≤ 1.5</text>\n<text text-anchor=\"start\" x=\"944.5\" y=\"-751.8\" font-family=\"Helvetica,sans-Serif\" font-size=\"14.00\" fill=\"#000000\">gini = 0.161</text>\n<text text-anchor=\"start\" x=\"934.5\" y=\"-736.8\" font-family=\"Helvetica,sans-Serif\" font-size=\"14.00\" fill=\"#000000\">samples = 102</text>\n<text text-anchor=\"start\" x=\"921\" y=\"-721.8\" font-family=\"Helvetica,sans-Serif\" font-size=\"14.00\" fill=\"#000000\">value = [9, 93, 0, 0]</text>\n<text text-anchor=\"start\" x=\"946\" y=\"-706.8\" font-family=\"Helvetica,sans-Serif\" font-size=\"14.00\" fill=\"#000000\">class = acc</text>\n</g>\n<!-- 27&#45;&gt;35 -->\n<g id=\"edge35\" class=\"edge\">\n<title>27&#45;&gt;35</title>\n<path fill=\"none\" stroke=\"#000000\" d=\"M930.4801,-817.8796C936.3531,-809.1434 942.6073,-799.8404 948.6679,-790.8253\"/>\n<polygon fill=\"#000000\" stroke=\"#000000\" points=\"951.7259,-792.5498 954.4005,-782.2981 945.9166,-788.6444 951.7259,-792.5498\"/>\n</g>\n<!-- 29 -->\n<g id=\"node30\" class=\"node\">\n<title>29</title>\n<path fill=\"#e58139\" stroke=\"#000000\" d=\"M722,-655.5C722,-655.5 607,-655.5 607,-655.5 601,-655.5 595,-649.5 595,-643.5 595,-643.5 595,-599.5 595,-599.5 595,-593.5 601,-587.5 607,-587.5 607,-587.5 722,-587.5 722,-587.5 728,-587.5 734,-593.5 734,-599.5 734,-599.5 734,-643.5 734,-643.5 734,-649.5 728,-655.5 722,-655.5\"/>\n<text text-anchor=\"start\" x=\"635\" y=\"-640.3\" font-family=\"Helvetica,sans-Serif\" font-size=\"14.00\" fill=\"#000000\">gini = 0.0</text>\n<text text-anchor=\"start\" x=\"620.5\" y=\"-625.3\" font-family=\"Helvetica,sans-Serif\" font-size=\"14.00\" fill=\"#000000\">samples = 21</text>\n<text text-anchor=\"start\" x=\"603\" y=\"-610.3\" font-family=\"Helvetica,sans-Serif\" font-size=\"14.00\" fill=\"#000000\">value = [21, 0, 0, 0]</text>\n<text text-anchor=\"start\" x=\"619.5\" y=\"-595.3\" font-family=\"Helvetica,sans-Serif\" font-size=\"14.00\" fill=\"#000000\">class = unacc</text>\n</g>\n<!-- 28&#45;&gt;29 -->\n<g id=\"edge29\" class=\"edge\">\n<title>28&#45;&gt;29</title>\n<path fill=\"none\" stroke=\"#000000\" d=\"M766.589,-698.8796C750.7006,-686.8368 733.3909,-673.7167 717.6143,-661.7586\"/>\n<polygon fill=\"#000000\" stroke=\"#000000\" points=\"719.6031,-658.8743 709.5195,-655.623 715.3747,-664.4529 719.6031,-658.8743\"/>\n</g>\n<!-- 30 -->\n<g id=\"node31\" class=\"node\">\n<title>30</title>\n<path fill=\"#64e958\" stroke=\"#000000\" d=\"M879,-663C879,-663 764,-663 764,-663 758,-663 752,-657 752,-651 752,-651 752,-592 752,-592 752,-586 758,-580 764,-580 764,-580 879,-580 879,-580 885,-580 891,-586 891,-592 891,-592 891,-651 891,-651 891,-657 885,-663 879,-663\"/>\n<text text-anchor=\"start\" x=\"785\" y=\"-647.8\" font-family=\"Helvetica,sans-Serif\" font-size=\"14.00\" fill=\"#000000\">doors ≤ 0.5</text>\n<text text-anchor=\"start\" x=\"783.5\" y=\"-632.8\" font-family=\"Helvetica,sans-Serif\" font-size=\"14.00\" fill=\"#000000\">gini = 0.236</text>\n<text text-anchor=\"start\" x=\"777.5\" y=\"-617.8\" font-family=\"Helvetica,sans-Serif\" font-size=\"14.00\" fill=\"#000000\">samples = 22</text>\n<text text-anchor=\"start\" x=\"760\" y=\"-602.8\" font-family=\"Helvetica,sans-Serif\" font-size=\"14.00\" fill=\"#000000\">value = [3, 19, 0, 0]</text>\n<text text-anchor=\"start\" x=\"785\" y=\"-587.8\" font-family=\"Helvetica,sans-Serif\" font-size=\"14.00\" fill=\"#000000\">class = acc</text>\n</g>\n<!-- 28&#45;&gt;30 -->\n<g id=\"edge30\" class=\"edge\">\n<title>28&#45;&gt;30</title>\n<path fill=\"none\" stroke=\"#000000\" d=\"M821.5,-698.8796C821.5,-690.6838 821.5,-681.9891 821.5,-673.5013\"/>\n<polygon fill=\"#000000\" stroke=\"#000000\" points=\"825.0001,-673.298 821.5,-663.2981 818.0001,-673.2981 825.0001,-673.298\"/>\n</g>\n<!-- 31 -->\n<g id=\"node32\" class=\"node\">\n<title>31</title>\n<path fill=\"#ffffff\" stroke=\"#000000\" d=\"M723,-544C723,-544 616,-544 616,-544 610,-544 604,-538 604,-532 604,-532 604,-473 604,-473 604,-467 610,-461 616,-461 616,-461 723,-461 723,-461 729,-461 735,-467 735,-473 735,-473 735,-532 735,-532 735,-538 729,-544 723,-544\"/>\n<text text-anchor=\"start\" x=\"625.5\" y=\"-528.8\" font-family=\"Helvetica,sans-Serif\" font-size=\"14.00\" fill=\"#000000\">persons ≤ 1.5</text>\n<text text-anchor=\"start\" x=\"640\" y=\"-513.8\" font-family=\"Helvetica,sans-Serif\" font-size=\"14.00\" fill=\"#000000\">gini = 0.5</text>\n<text text-anchor=\"start\" x=\"630\" y=\"-498.8\" font-family=\"Helvetica,sans-Serif\" font-size=\"14.00\" fill=\"#000000\">samples = 6</text>\n<text text-anchor=\"start\" x=\"612\" y=\"-483.8\" font-family=\"Helvetica,sans-Serif\" font-size=\"14.00\" fill=\"#000000\">value = [3, 3, 0, 0]</text>\n<text text-anchor=\"start\" x=\"624.5\" y=\"-468.8\" font-family=\"Helvetica,sans-Serif\" font-size=\"14.00\" fill=\"#000000\">class = unacc</text>\n</g>\n<!-- 30&#45;&gt;31 -->\n<g id=\"edge31\" class=\"edge\">\n<title>30&#45;&gt;31</title>\n<path fill=\"none\" stroke=\"#000000\" d=\"M768.3378,-579.8796C756.1885,-570.368 743.1808,-560.1843 730.724,-550.432\"/>\n<polygon fill=\"#000000\" stroke=\"#000000\" points=\"732.6638,-547.5055 722.6322,-544.0969 728.3486,-553.0173 732.6638,-547.5055\"/>\n</g>\n<!-- 34 -->\n<g id=\"node35\" class=\"node\">\n<title>34</title>\n<path fill=\"#47e539\" stroke=\"#000000\" d=\"M880,-536.5C880,-536.5 765,-536.5 765,-536.5 759,-536.5 753,-530.5 753,-524.5 753,-524.5 753,-480.5 753,-480.5 753,-474.5 759,-468.5 765,-468.5 765,-468.5 880,-468.5 880,-468.5 886,-468.5 892,-474.5 892,-480.5 892,-480.5 892,-524.5 892,-524.5 892,-530.5 886,-536.5 880,-536.5\"/>\n<text text-anchor=\"start\" x=\"793\" y=\"-521.3\" font-family=\"Helvetica,sans-Serif\" font-size=\"14.00\" fill=\"#000000\">gini = 0.0</text>\n<text text-anchor=\"start\" x=\"778.5\" y=\"-506.3\" font-family=\"Helvetica,sans-Serif\" font-size=\"14.00\" fill=\"#000000\">samples = 16</text>\n<text text-anchor=\"start\" x=\"761\" y=\"-491.3\" font-family=\"Helvetica,sans-Serif\" font-size=\"14.00\" fill=\"#000000\">value = [0, 16, 0, 0]</text>\n<text text-anchor=\"start\" x=\"786\" y=\"-476.3\" font-family=\"Helvetica,sans-Serif\" font-size=\"14.00\" fill=\"#000000\">class = acc</text>\n</g>\n<!-- 30&#45;&gt;34 -->\n<g id=\"edge34\" class=\"edge\">\n<title>30&#45;&gt;34</title>\n<path fill=\"none\" stroke=\"#000000\" d=\"M821.8498,-579.8796C821.9394,-569.2134 822.0361,-557.7021 822.1269,-546.9015\"/>\n<polygon fill=\"#000000\" stroke=\"#000000\" points=\"825.6274,-546.844 822.2116,-536.8149 818.6276,-546.7851 825.6274,-546.844\"/>\n</g>\n<!-- 32 -->\n<g id=\"node33\" class=\"node\">\n<title>32</title>\n<path fill=\"#47e539\" stroke=\"#000000\" d=\"M723,-417.5C723,-417.5 616,-417.5 616,-417.5 610,-417.5 604,-411.5 604,-405.5 604,-405.5 604,-361.5 604,-361.5 604,-355.5 610,-349.5 616,-349.5 616,-349.5 723,-349.5 723,-349.5 729,-349.5 735,-355.5 735,-361.5 735,-361.5 735,-405.5 735,-405.5 735,-411.5 729,-417.5 723,-417.5\"/>\n<text text-anchor=\"start\" x=\"640\" y=\"-402.3\" font-family=\"Helvetica,sans-Serif\" font-size=\"14.00\" fill=\"#000000\">gini = 0.0</text>\n<text text-anchor=\"start\" x=\"630\" y=\"-387.3\" font-family=\"Helvetica,sans-Serif\" font-size=\"14.00\" fill=\"#000000\">samples = 3</text>\n<text text-anchor=\"start\" x=\"612\" y=\"-372.3\" font-family=\"Helvetica,sans-Serif\" font-size=\"14.00\" fill=\"#000000\">value = [0, 3, 0, 0]</text>\n<text text-anchor=\"start\" x=\"633\" y=\"-357.3\" font-family=\"Helvetica,sans-Serif\" font-size=\"14.00\" fill=\"#000000\">class = acc</text>\n</g>\n<!-- 31&#45;&gt;32 -->\n<g id=\"edge32\" class=\"edge\">\n<title>31&#45;&gt;32</title>\n<path fill=\"none\" stroke=\"#000000\" d=\"M669.5,-460.8796C669.5,-450.2134 669.5,-438.7021 669.5,-427.9015\"/>\n<polygon fill=\"#000000\" stroke=\"#000000\" points=\"673.0001,-427.8149 669.5,-417.8149 666.0001,-427.815 673.0001,-427.8149\"/>\n</g>\n<!-- 33 -->\n<g id=\"node34\" class=\"node\">\n<title>33</title>\n<path fill=\"#e58139\" stroke=\"#000000\" d=\"M872,-417.5C872,-417.5 765,-417.5 765,-417.5 759,-417.5 753,-411.5 753,-405.5 753,-405.5 753,-361.5 753,-361.5 753,-355.5 759,-349.5 765,-349.5 765,-349.5 872,-349.5 872,-349.5 878,-349.5 884,-355.5 884,-361.5 884,-361.5 884,-405.5 884,-405.5 884,-411.5 878,-417.5 872,-417.5\"/>\n<text text-anchor=\"start\" x=\"789\" y=\"-402.3\" font-family=\"Helvetica,sans-Serif\" font-size=\"14.00\" fill=\"#000000\">gini = 0.0</text>\n<text text-anchor=\"start\" x=\"779\" y=\"-387.3\" font-family=\"Helvetica,sans-Serif\" font-size=\"14.00\" fill=\"#000000\">samples = 3</text>\n<text text-anchor=\"start\" x=\"761\" y=\"-372.3\" font-family=\"Helvetica,sans-Serif\" font-size=\"14.00\" fill=\"#000000\">value = [3, 0, 0, 0]</text>\n<text text-anchor=\"start\" x=\"773.5\" y=\"-357.3\" font-family=\"Helvetica,sans-Serif\" font-size=\"14.00\" fill=\"#000000\">class = unacc</text>\n</g>\n<!-- 31&#45;&gt;33 -->\n<g id=\"edge33\" class=\"edge\">\n<title>31&#45;&gt;33</title>\n<path fill=\"none\" stroke=\"#000000\" d=\"M721.613,-460.8796C736.4826,-449.0038 752.664,-436.0804 767.4683,-424.2568\"/>\n<polygon fill=\"#000000\" stroke=\"#000000\" points=\"769.9046,-426.7904 775.5342,-417.8149 765.5362,-421.3207 769.9046,-426.7904\"/>\n</g>\n<!-- 36 -->\n<g id=\"node37\" class=\"node\">\n<title>36</title>\n<path fill=\"#71eb67\" stroke=\"#000000\" d=\"M1038,-663C1038,-663 923,-663 923,-663 917,-663 911,-657 911,-651 911,-651 911,-592 911,-592 911,-586 917,-580 923,-580 923,-580 1038,-580 1038,-580 1044,-580 1050,-586 1050,-592 1050,-592 1050,-651 1050,-651 1050,-657 1044,-663 1038,-663\"/>\n<text text-anchor=\"start\" x=\"944\" y=\"-647.8\" font-family=\"Helvetica,sans-Serif\" font-size=\"14.00\" fill=\"#000000\">doors ≤ 1.5</text>\n<text text-anchor=\"start\" x=\"942.5\" y=\"-632.8\" font-family=\"Helvetica,sans-Serif\" font-size=\"14.00\" fill=\"#000000\">gini = 0.305</text>\n<text text-anchor=\"start\" x=\"936.5\" y=\"-617.8\" font-family=\"Helvetica,sans-Serif\" font-size=\"14.00\" fill=\"#000000\">samples = 48</text>\n<text text-anchor=\"start\" x=\"919\" y=\"-602.8\" font-family=\"Helvetica,sans-Serif\" font-size=\"14.00\" fill=\"#000000\">value = [9, 39, 0, 0]</text>\n<text text-anchor=\"start\" x=\"944\" y=\"-587.8\" font-family=\"Helvetica,sans-Serif\" font-size=\"14.00\" fill=\"#000000\">class = acc</text>\n</g>\n<!-- 35&#45;&gt;36 -->\n<g id=\"edge36\" class=\"edge\">\n<title>35&#45;&gt;36</title>\n<path fill=\"none\" stroke=\"#000000\" d=\"M981.8005,-698.8796C981.6628,-690.6838 981.5166,-681.9891 981.374,-673.5013\"/>\n<polygon fill=\"#000000\" stroke=\"#000000\" points=\"984.8701,-673.2378 981.2025,-663.2981 977.8711,-673.3555 984.8701,-673.2378\"/>\n</g>\n<!-- 45 -->\n<g id=\"node46\" class=\"node\">\n<title>45</title>\n<path fill=\"#47e539\" stroke=\"#000000\" d=\"M1195,-655.5C1195,-655.5 1080,-655.5 1080,-655.5 1074,-655.5 1068,-649.5 1068,-643.5 1068,-643.5 1068,-599.5 1068,-599.5 1068,-593.5 1074,-587.5 1080,-587.5 1080,-587.5 1195,-587.5 1195,-587.5 1201,-587.5 1207,-593.5 1207,-599.5 1207,-599.5 1207,-643.5 1207,-643.5 1207,-649.5 1201,-655.5 1195,-655.5\"/>\n<text text-anchor=\"start\" x=\"1108\" y=\"-640.3\" font-family=\"Helvetica,sans-Serif\" font-size=\"14.00\" fill=\"#000000\">gini = 0.0</text>\n<text text-anchor=\"start\" x=\"1093.5\" y=\"-625.3\" font-family=\"Helvetica,sans-Serif\" font-size=\"14.00\" fill=\"#000000\">samples = 54</text>\n<text text-anchor=\"start\" x=\"1076\" y=\"-610.3\" font-family=\"Helvetica,sans-Serif\" font-size=\"14.00\" fill=\"#000000\">value = [0, 54, 0, 0]</text>\n<text text-anchor=\"start\" x=\"1101\" y=\"-595.3\" font-family=\"Helvetica,sans-Serif\" font-size=\"14.00\" fill=\"#000000\">class = acc</text>\n</g>\n<!-- 35&#45;&gt;45 -->\n<g id=\"edge45\" class=\"edge\">\n<title>35&#45;&gt;45</title>\n<path fill=\"none\" stroke=\"#000000\" d=\"M1036.7115,-698.8796C1052.3231,-686.8938 1069.3247,-673.841 1084.8408,-661.9287\"/>\n<polygon fill=\"#000000\" stroke=\"#000000\" points=\"1087.0035,-664.6808 1092.8041,-655.8149 1082.7407,-659.1285 1087.0035,-664.6808\"/>\n</g>\n<!-- 37 -->\n<g id=\"node38\" class=\"node\">\n<title>37</title>\n<path fill=\"#b5f5b0\" stroke=\"#000000\" d=\"M1037,-544C1037,-544 922,-544 922,-544 916,-544 910,-538 910,-532 910,-532 910,-473 910,-473 910,-467 916,-461 922,-461 922,-461 1037,-461 1037,-461 1043,-461 1049,-467 1049,-473 1049,-473 1049,-532 1049,-532 1049,-538 1043,-544 1037,-544\"/>\n<text text-anchor=\"start\" x=\"933.5\" y=\"-528.8\" font-family=\"Helvetica,sans-Serif\" font-size=\"14.00\" fill=\"#000000\">lug_boot ≤ 1.5</text>\n<text text-anchor=\"start\" x=\"941.5\" y=\"-513.8\" font-family=\"Helvetica,sans-Serif\" font-size=\"14.00\" fill=\"#000000\">gini = 0.469</text>\n<text text-anchor=\"start\" x=\"935.5\" y=\"-498.8\" font-family=\"Helvetica,sans-Serif\" font-size=\"14.00\" fill=\"#000000\">samples = 24</text>\n<text text-anchor=\"start\" x=\"918\" y=\"-483.8\" font-family=\"Helvetica,sans-Serif\" font-size=\"14.00\" fill=\"#000000\">value = [9, 15, 0, 0]</text>\n<text text-anchor=\"start\" x=\"943\" y=\"-468.8\" font-family=\"Helvetica,sans-Serif\" font-size=\"14.00\" fill=\"#000000\">class = acc</text>\n</g>\n<!-- 36&#45;&gt;37 -->\n<g id=\"edge37\" class=\"edge\">\n<title>36&#45;&gt;37</title>\n<path fill=\"none\" stroke=\"#000000\" d=\"M980.1502,-579.8796C980.0814,-571.6838 980.0083,-562.9891 979.937,-554.5013\"/>\n<polygon fill=\"#000000\" stroke=\"#000000\" points=\"983.4352,-554.2683 979.8512,-544.2981 976.4355,-554.3272 983.4352,-554.2683\"/>\n</g>\n<!-- 44 -->\n<g id=\"node45\" class=\"node\">\n<title>44</title>\n<path fill=\"#47e539\" stroke=\"#000000\" d=\"M1194,-536.5C1194,-536.5 1079,-536.5 1079,-536.5 1073,-536.5 1067,-530.5 1067,-524.5 1067,-524.5 1067,-480.5 1067,-480.5 1067,-474.5 1073,-468.5 1079,-468.5 1079,-468.5 1194,-468.5 1194,-468.5 1200,-468.5 1206,-474.5 1206,-480.5 1206,-480.5 1206,-524.5 1206,-524.5 1206,-530.5 1200,-536.5 1194,-536.5\"/>\n<text text-anchor=\"start\" x=\"1107\" y=\"-521.3\" font-family=\"Helvetica,sans-Serif\" font-size=\"14.00\" fill=\"#000000\">gini = 0.0</text>\n<text text-anchor=\"start\" x=\"1092.5\" y=\"-506.3\" font-family=\"Helvetica,sans-Serif\" font-size=\"14.00\" fill=\"#000000\">samples = 24</text>\n<text text-anchor=\"start\" x=\"1075\" y=\"-491.3\" font-family=\"Helvetica,sans-Serif\" font-size=\"14.00\" fill=\"#000000\">value = [0, 24, 0, 0]</text>\n<text text-anchor=\"start\" x=\"1100\" y=\"-476.3\" font-family=\"Helvetica,sans-Serif\" font-size=\"14.00\" fill=\"#000000\">class = acc</text>\n</g>\n<!-- 36&#45;&gt;44 -->\n<g id=\"edge44\" class=\"edge\">\n<title>36&#45;&gt;44</title>\n<path fill=\"none\" stroke=\"#000000\" d=\"M1035.0612,-579.8796C1050.8484,-567.8368 1068.0479,-554.7167 1083.7241,-542.7586\"/>\n<polygon fill=\"#000000\" stroke=\"#000000\" points=\"1085.9392,-545.4709 1091.7673,-536.623 1081.6937,-539.9053 1085.9392,-545.4709\"/>\n</g>\n<!-- 38 -->\n<g id=\"node39\" class=\"node\">\n<title>38</title>\n<path fill=\"#f1b991\" stroke=\"#000000\" d=\"M1027,-425C1027,-425 920,-425 920,-425 914,-425 908,-419 908,-413 908,-413 908,-354 908,-354 908,-348 914,-342 920,-342 920,-342 1027,-342 1027,-342 1033,-342 1039,-348 1039,-354 1039,-354 1039,-413 1039,-413 1039,-419 1033,-425 1027,-425\"/>\n<text text-anchor=\"start\" x=\"937\" y=\"-409.8\" font-family=\"Helvetica,sans-Serif\" font-size=\"14.00\" fill=\"#000000\">doors ≤ 0.5</text>\n<text text-anchor=\"start\" x=\"935.5\" y=\"-394.8\" font-family=\"Helvetica,sans-Serif\" font-size=\"14.00\" fill=\"#000000\">gini = 0.426</text>\n<text text-anchor=\"start\" x=\"929.5\" y=\"-379.8\" font-family=\"Helvetica,sans-Serif\" font-size=\"14.00\" fill=\"#000000\">samples = 13</text>\n<text text-anchor=\"start\" x=\"916\" y=\"-364.8\" font-family=\"Helvetica,sans-Serif\" font-size=\"14.00\" fill=\"#000000\">value = [9, 4, 0, 0]</text>\n<text text-anchor=\"start\" x=\"928.5\" y=\"-349.8\" font-family=\"Helvetica,sans-Serif\" font-size=\"14.00\" fill=\"#000000\">class = unacc</text>\n</g>\n<!-- 37&#45;&gt;38 -->\n<g id=\"edge38\" class=\"edge\">\n<title>37&#45;&gt;38</title>\n<path fill=\"none\" stroke=\"#000000\" d=\"M977.4015,-460.8796C976.9883,-452.6838 976.5499,-443.9891 976.1219,-435.5013\"/>\n<polygon fill=\"#000000\" stroke=\"#000000\" points=\"979.6067,-435.1091 975.6075,-425.2981 972.6156,-435.4617 979.6067,-435.1091\"/>\n</g>\n<!-- 43 -->\n<g id=\"node44\" class=\"node\">\n<title>43</title>\n<path fill=\"#47e539\" stroke=\"#000000\" d=\"M1184,-417.5C1184,-417.5 1069,-417.5 1069,-417.5 1063,-417.5 1057,-411.5 1057,-405.5 1057,-405.5 1057,-361.5 1057,-361.5 1057,-355.5 1063,-349.5 1069,-349.5 1069,-349.5 1184,-349.5 1184,-349.5 1190,-349.5 1196,-355.5 1196,-361.5 1196,-361.5 1196,-405.5 1196,-405.5 1196,-411.5 1190,-417.5 1184,-417.5\"/>\n<text text-anchor=\"start\" x=\"1097\" y=\"-402.3\" font-family=\"Helvetica,sans-Serif\" font-size=\"14.00\" fill=\"#000000\">gini = 0.0</text>\n<text text-anchor=\"start\" x=\"1082.5\" y=\"-387.3\" font-family=\"Helvetica,sans-Serif\" font-size=\"14.00\" fill=\"#000000\">samples = 11</text>\n<text text-anchor=\"start\" x=\"1065\" y=\"-372.3\" font-family=\"Helvetica,sans-Serif\" font-size=\"14.00\" fill=\"#000000\">value = [0, 11, 0, 0]</text>\n<text text-anchor=\"start\" x=\"1090\" y=\"-357.3\" font-family=\"Helvetica,sans-Serif\" font-size=\"14.00\" fill=\"#000000\">class = acc</text>\n</g>\n<!-- 37&#45;&gt;43 -->\n<g id=\"edge43\" class=\"edge\">\n<title>37&#45;&gt;43</title>\n<path fill=\"none\" stroke=\"#000000\" d=\"M1030.9135,-460.8796C1045.5835,-449.0038 1061.5477,-436.0804 1076.1533,-424.2568\"/>\n<polygon fill=\"#000000\" stroke=\"#000000\" points=\"1078.5407,-426.8273 1084.111,-417.8149 1074.1363,-421.3866 1078.5407,-426.8273\"/>\n</g>\n<!-- 39 -->\n<g id=\"node40\" class=\"node\">\n<title>39</title>\n<path fill=\"#e58139\" stroke=\"#000000\" d=\"M953,-298.5C953,-298.5 846,-298.5 846,-298.5 840,-298.5 834,-292.5 834,-286.5 834,-286.5 834,-242.5 834,-242.5 834,-236.5 840,-230.5 846,-230.5 846,-230.5 953,-230.5 953,-230.5 959,-230.5 965,-236.5 965,-242.5 965,-242.5 965,-286.5 965,-286.5 965,-292.5 959,-298.5 953,-298.5\"/>\n<text text-anchor=\"start\" x=\"870\" y=\"-283.3\" font-family=\"Helvetica,sans-Serif\" font-size=\"14.00\" fill=\"#000000\">gini = 0.0</text>\n<text text-anchor=\"start\" x=\"860\" y=\"-268.3\" font-family=\"Helvetica,sans-Serif\" font-size=\"14.00\" fill=\"#000000\">samples = 6</text>\n<text text-anchor=\"start\" x=\"842\" y=\"-253.3\" font-family=\"Helvetica,sans-Serif\" font-size=\"14.00\" fill=\"#000000\">value = [6, 0, 0, 0]</text>\n<text text-anchor=\"start\" x=\"854.5\" y=\"-238.3\" font-family=\"Helvetica,sans-Serif\" font-size=\"14.00\" fill=\"#000000\">class = unacc</text>\n</g>\n<!-- 38&#45;&gt;39 -->\n<g id=\"edge39\" class=\"edge\">\n<title>38&#45;&gt;39</title>\n<path fill=\"none\" stroke=\"#000000\" d=\"M947.6184,-341.8796C940.7121,-330.7735 933.2361,-318.7513 926.2825,-307.5691\"/>\n<polygon fill=\"#000000\" stroke=\"#000000\" points=\"929.0917,-305.4587 920.8387,-298.8149 923.1473,-309.1552 929.0917,-305.4587\"/>\n</g>\n<!-- 40 -->\n<g id=\"node41\" class=\"node\">\n<title>40</title>\n<path fill=\"#d1f8ce\" stroke=\"#000000\" d=\"M1102,-306C1102,-306 995,-306 995,-306 989,-306 983,-300 983,-294 983,-294 983,-235 983,-235 983,-229 989,-223 995,-223 995,-223 1102,-223 1102,-223 1108,-223 1114,-229 1114,-235 1114,-235 1114,-294 1114,-294 1114,-300 1108,-306 1102,-306\"/>\n<text text-anchor=\"start\" x=\"1004.5\" y=\"-290.8\" font-family=\"Helvetica,sans-Serif\" font-size=\"14.00\" fill=\"#000000\">persons ≤ 1.5</text>\n<text text-anchor=\"start\" x=\"1015\" y=\"-275.8\" font-family=\"Helvetica,sans-Serif\" font-size=\"14.00\" fill=\"#000000\">gini = 0.49</text>\n<text text-anchor=\"start\" x=\"1009\" y=\"-260.8\" font-family=\"Helvetica,sans-Serif\" font-size=\"14.00\" fill=\"#000000\">samples = 7</text>\n<text text-anchor=\"start\" x=\"991\" y=\"-245.8\" font-family=\"Helvetica,sans-Serif\" font-size=\"14.00\" fill=\"#000000\">value = [3, 4, 0, 0]</text>\n<text text-anchor=\"start\" x=\"1012\" y=\"-230.8\" font-family=\"Helvetica,sans-Serif\" font-size=\"14.00\" fill=\"#000000\">class = acc</text>\n</g>\n<!-- 38&#45;&gt;40 -->\n<g id=\"edge40\" class=\"edge\">\n<title>38&#45;&gt;40</title>\n<path fill=\"none\" stroke=\"#000000\" d=\"M999.7314,-341.8796C1005.2373,-333.1434 1011.1006,-323.8404 1016.7824,-314.8253\"/>\n<polygon fill=\"#000000\" stroke=\"#000000\" points=\"1019.7857,-316.6242 1022.1567,-306.2981 1013.8637,-312.8919 1019.7857,-316.6242\"/>\n</g>\n<!-- 41 -->\n<g id=\"node42\" class=\"node\">\n<title>41</title>\n<path fill=\"#e58139\" stroke=\"#000000\" d=\"M1028,-179.5C1028,-179.5 921,-179.5 921,-179.5 915,-179.5 909,-173.5 909,-167.5 909,-167.5 909,-123.5 909,-123.5 909,-117.5 915,-111.5 921,-111.5 921,-111.5 1028,-111.5 1028,-111.5 1034,-111.5 1040,-117.5 1040,-123.5 1040,-123.5 1040,-167.5 1040,-167.5 1040,-173.5 1034,-179.5 1028,-179.5\"/>\n<text text-anchor=\"start\" x=\"945\" y=\"-164.3\" font-family=\"Helvetica,sans-Serif\" font-size=\"14.00\" fill=\"#000000\">gini = 0.0</text>\n<text text-anchor=\"start\" x=\"935\" y=\"-149.3\" font-family=\"Helvetica,sans-Serif\" font-size=\"14.00\" fill=\"#000000\">samples = 3</text>\n<text text-anchor=\"start\" x=\"917\" y=\"-134.3\" font-family=\"Helvetica,sans-Serif\" font-size=\"14.00\" fill=\"#000000\">value = [3, 0, 0, 0]</text>\n<text text-anchor=\"start\" x=\"929.5\" y=\"-119.3\" font-family=\"Helvetica,sans-Serif\" font-size=\"14.00\" fill=\"#000000\">class = unacc</text>\n</g>\n<!-- 40&#45;&gt;41 -->\n<g id=\"edge41\" class=\"edge\">\n<title>40&#45;&gt;41</title>\n<path fill=\"none\" stroke=\"#000000\" d=\"M1022.6184,-222.8796C1015.7121,-211.7735 1008.2361,-199.7513 1001.2825,-188.5691\"/>\n<polygon fill=\"#000000\" stroke=\"#000000\" points=\"1004.0917,-186.4587 995.8387,-179.8149 998.1473,-190.1552 1004.0917,-186.4587\"/>\n</g>\n<!-- 42 -->\n<g id=\"node43\" class=\"node\">\n<title>42</title>\n<path fill=\"#47e539\" stroke=\"#000000\" d=\"M1177,-179.5C1177,-179.5 1070,-179.5 1070,-179.5 1064,-179.5 1058,-173.5 1058,-167.5 1058,-167.5 1058,-123.5 1058,-123.5 1058,-117.5 1064,-111.5 1070,-111.5 1070,-111.5 1177,-111.5 1177,-111.5 1183,-111.5 1189,-117.5 1189,-123.5 1189,-123.5 1189,-167.5 1189,-167.5 1189,-173.5 1183,-179.5 1177,-179.5\"/>\n<text text-anchor=\"start\" x=\"1094\" y=\"-164.3\" font-family=\"Helvetica,sans-Serif\" font-size=\"14.00\" fill=\"#000000\">gini = 0.0</text>\n<text text-anchor=\"start\" x=\"1084\" y=\"-149.3\" font-family=\"Helvetica,sans-Serif\" font-size=\"14.00\" fill=\"#000000\">samples = 4</text>\n<text text-anchor=\"start\" x=\"1066\" y=\"-134.3\" font-family=\"Helvetica,sans-Serif\" font-size=\"14.00\" fill=\"#000000\">value = [0, 4, 0, 0]</text>\n<text text-anchor=\"start\" x=\"1087\" y=\"-119.3\" font-family=\"Helvetica,sans-Serif\" font-size=\"14.00\" fill=\"#000000\">class = acc</text>\n</g>\n<!-- 40&#45;&gt;42 -->\n<g id=\"edge42\" class=\"edge\">\n<title>40&#45;&gt;42</title>\n<path fill=\"none\" stroke=\"#000000\" d=\"M1074.7314,-222.8796C1081.731,-211.7735 1089.308,-199.7513 1096.3556,-188.5691\"/>\n<polygon fill=\"#000000\" stroke=\"#000000\" points=\"1099.502,-190.1411 1101.8729,-179.8149 1093.58,-186.4087 1099.502,-190.1411\"/>\n</g>\n<!-- 47 -->\n<g id=\"node48\" class=\"node\">\n<title>47</title>\n<path fill=\"#84ee7a\" stroke=\"#000000\" d=\"M1930,-901C1930,-901 1807,-901 1807,-901 1801,-901 1795,-895 1795,-889 1795,-889 1795,-830 1795,-830 1795,-824 1801,-818 1807,-818 1807,-818 1930,-818 1930,-818 1936,-818 1942,-824 1942,-830 1942,-830 1942,-889 1942,-889 1942,-895 1936,-901 1930,-901\"/>\n<text text-anchor=\"start\" x=\"1822.5\" y=\"-885.8\" font-family=\"Helvetica,sans-Serif\" font-size=\"14.00\" fill=\"#000000\">lug_boot ≤ 0.5</text>\n<text text-anchor=\"start\" x=\"1830.5\" y=\"-870.8\" font-family=\"Helvetica,sans-Serif\" font-size=\"14.00\" fill=\"#000000\">gini = 0.414</text>\n<text text-anchor=\"start\" x=\"1820.5\" y=\"-855.8\" font-family=\"Helvetica,sans-Serif\" font-size=\"14.00\" fill=\"#000000\">samples = 125</text>\n<text text-anchor=\"start\" x=\"1803\" y=\"-840.8\" font-family=\"Helvetica,sans-Serif\" font-size=\"14.00\" fill=\"#000000\">value = [25, 92, 8, 0]</text>\n<text text-anchor=\"start\" x=\"1832\" y=\"-825.8\" font-family=\"Helvetica,sans-Serif\" font-size=\"14.00\" fill=\"#000000\">class = acc</text>\n</g>\n<!-- 46&#45;&gt;47 -->\n<g id=\"edge47\" class=\"edge\">\n<title>46&#45;&gt;47</title>\n<path fill=\"none\" stroke=\"#000000\" d=\"M1868.5,-936.8796C1868.5,-928.6838 1868.5,-919.9891 1868.5,-911.5013\"/>\n<polygon fill=\"#000000\" stroke=\"#000000\" points=\"1872.0001,-911.298 1868.5,-901.2981 1865.0001,-911.2981 1872.0001,-911.298\"/>\n</g>\n<!-- 84 -->\n<g id=\"node85\" class=\"node\">\n<title>84</title>\n<path fill=\"#fef8fe\" stroke=\"#000000\" d=\"M2956,-901C2956,-901 2825,-901 2825,-901 2819,-901 2813,-895 2813,-889 2813,-889 2813,-830 2813,-830 2813,-824 2819,-818 2825,-818 2825,-818 2956,-818 2956,-818 2962,-818 2968,-824 2968,-830 2968,-830 2968,-889 2968,-889 2968,-895 2962,-901 2956,-901\"/>\n<text text-anchor=\"start\" x=\"2853\" y=\"-885.8\" font-family=\"Helvetica,sans-Serif\" font-size=\"14.00\" fill=\"#000000\">safety ≤ 1.5</text>\n<text text-anchor=\"start\" x=\"2852.5\" y=\"-870.8\" font-family=\"Helvetica,sans-Serif\" font-size=\"14.00\" fill=\"#000000\">gini = 0.701</text>\n<text text-anchor=\"start\" x=\"2842.5\" y=\"-855.8\" font-family=\"Helvetica,sans-Serif\" font-size=\"14.00\" fill=\"#000000\">samples = 132</text>\n<text text-anchor=\"start\" x=\"2821\" y=\"-840.8\" font-family=\"Helvetica,sans-Serif\" font-size=\"14.00\" fill=\"#000000\">value = [8, 39, 41, 44]</text>\n<text text-anchor=\"start\" x=\"2849\" y=\"-825.8\" font-family=\"Helvetica,sans-Serif\" font-size=\"14.00\" fill=\"#000000\">class = good</text>\n</g>\n<!-- 46&#45;&gt;84 -->\n<g id=\"edge84\" class=\"edge\">\n<title>46&#45;&gt;84</title>\n<path fill=\"none\" stroke=\"#000000\" d=\"M1954.7543,-968.4567C2147.0545,-946.0656 2609.1785,-892.2566 2802.8119,-869.7103\"/>\n<polygon fill=\"#000000\" stroke=\"#000000\" points=\"2803.4167,-873.1636 2812.9448,-868.5304 2802.6071,-866.2105 2803.4167,-873.1636\"/>\n</g>\n<!-- 48 -->\n<g id=\"node49\" class=\"node\">\n<title>48</title>\n<path fill=\"#ffffff\" stroke=\"#000000\" d=\"M1737,-782C1737,-782 1614,-782 1614,-782 1608,-782 1602,-776 1602,-770 1602,-770 1602,-711 1602,-711 1602,-705 1608,-699 1614,-699 1614,-699 1737,-699 1737,-699 1743,-699 1749,-705 1749,-711 1749,-711 1749,-770 1749,-770 1749,-776 1743,-782 1737,-782\"/>\n<text text-anchor=\"start\" x=\"1638\" y=\"-766.8\" font-family=\"Helvetica,sans-Serif\" font-size=\"14.00\" fill=\"#000000\">safety ≤ 1.5</text>\n<text text-anchor=\"start\" x=\"1646\" y=\"-751.8\" font-family=\"Helvetica,sans-Serif\" font-size=\"14.00\" fill=\"#000000\">gini = 0.5</text>\n<text text-anchor=\"start\" x=\"1631.5\" y=\"-736.8\" font-family=\"Helvetica,sans-Serif\" font-size=\"14.00\" fill=\"#000000\">samples = 42</text>\n<text text-anchor=\"start\" x=\"1610\" y=\"-721.8\" font-family=\"Helvetica,sans-Serif\" font-size=\"14.00\" fill=\"#000000\">value = [21, 21, 0, 0]</text>\n<text text-anchor=\"start\" x=\"1630.5\" y=\"-706.8\" font-family=\"Helvetica,sans-Serif\" font-size=\"14.00\" fill=\"#000000\">class = unacc</text>\n</g>\n<!-- 47&#45;&gt;48 -->\n<g id=\"edge48\" class=\"edge\">\n<title>47&#45;&gt;48</title>\n<path fill=\"none\" stroke=\"#000000\" d=\"M1800.998,-817.8796C1785.1308,-808.0962 1768.1106,-797.6019 1751.8844,-787.5971\"/>\n<polygon fill=\"#000000\" stroke=\"#000000\" points=\"1753.3129,-784.3661 1742.9639,-782.0969 1749.639,-790.3245 1753.3129,-784.3661\"/>\n</g>\n<!-- 63 -->\n<g id=\"node64\" class=\"node\">\n<title>63</title>\n<path fill=\"#64e959\" stroke=\"#000000\" d=\"M2042,-782C2042,-782 1927,-782 1927,-782 1921,-782 1915,-776 1915,-770 1915,-770 1915,-711 1915,-711 1915,-705 1921,-699 1927,-699 1927,-699 2042,-699 2042,-699 2048,-699 2054,-705 2054,-711 2054,-711 2054,-770 2054,-770 2054,-776 2048,-782 2042,-782\"/>\n<text text-anchor=\"start\" x=\"1947\" y=\"-766.8\" font-family=\"Helvetica,sans-Serif\" font-size=\"14.00\" fill=\"#000000\">safety ≤ 1.5</text>\n<text text-anchor=\"start\" x=\"1946.5\" y=\"-751.8\" font-family=\"Helvetica,sans-Serif\" font-size=\"14.00\" fill=\"#000000\">gini = 0.257</text>\n<text text-anchor=\"start\" x=\"1940.5\" y=\"-736.8\" font-family=\"Helvetica,sans-Serif\" font-size=\"14.00\" fill=\"#000000\">samples = 83</text>\n<text text-anchor=\"start\" x=\"1923\" y=\"-721.8\" font-family=\"Helvetica,sans-Serif\" font-size=\"14.00\" fill=\"#000000\">value = [4, 71, 8, 0]</text>\n<text text-anchor=\"start\" x=\"1948\" y=\"-706.8\" font-family=\"Helvetica,sans-Serif\" font-size=\"14.00\" fill=\"#000000\">class = acc</text>\n</g>\n<!-- 47&#45;&gt;63 -->\n<g id=\"edge63\" class=\"edge\">\n<title>47&#45;&gt;63</title>\n<path fill=\"none\" stroke=\"#000000\" d=\"M1909.0712,-817.8796C1917.9382,-808.7832 1927.4044,-799.0722 1936.5291,-789.7116\"/>\n<polygon fill=\"#000000\" stroke=\"#000000\" points=\"1939.2817,-791.9019 1943.7557,-782.2981 1934.2691,-787.0158 1939.2817,-791.9019\"/>\n</g>\n<!-- 49 -->\n<g id=\"node50\" class=\"node\">\n<title>49</title>\n<path fill=\"#eca26d\" stroke=\"#000000\" d=\"M1504,-663C1504,-663 1389,-663 1389,-663 1383,-663 1377,-657 1377,-651 1377,-651 1377,-592 1377,-592 1377,-586 1383,-580 1389,-580 1389,-580 1504,-580 1504,-580 1510,-580 1516,-586 1516,-592 1516,-592 1516,-651 1516,-651 1516,-657 1510,-663 1504,-663\"/>\n<text text-anchor=\"start\" x=\"1407\" y=\"-647.8\" font-family=\"Helvetica,sans-Serif\" font-size=\"14.00\" fill=\"#000000\">buying ≤ 2.5</text>\n<text text-anchor=\"start\" x=\"1413\" y=\"-632.8\" font-family=\"Helvetica,sans-Serif\" font-size=\"14.00\" fill=\"#000000\">gini = 0.33</text>\n<text text-anchor=\"start\" x=\"1402.5\" y=\"-617.8\" font-family=\"Helvetica,sans-Serif\" font-size=\"14.00\" fill=\"#000000\">samples = 24</text>\n<text text-anchor=\"start\" x=\"1385\" y=\"-602.8\" font-family=\"Helvetica,sans-Serif\" font-size=\"14.00\" fill=\"#000000\">value = [19, 5, 0, 0]</text>\n<text text-anchor=\"start\" x=\"1401.5\" y=\"-587.8\" font-family=\"Helvetica,sans-Serif\" font-size=\"14.00\" fill=\"#000000\">class = unacc</text>\n</g>\n<!-- 48&#45;&gt;49 -->\n<g id=\"edge49\" class=\"edge\">\n<title>48&#45;&gt;49</title>\n<path fill=\"none\" stroke=\"#000000\" d=\"M1601.7824,-702.1926C1577.3281,-689.4849 1550.0189,-675.2937 1525.2037,-662.3984\"/>\n<polygon fill=\"#000000\" stroke=\"#000000\" points=\"1526.6714,-659.2168 1516.1841,-657.7114 1523.4436,-665.4282 1526.6714,-659.2168\"/>\n</g>\n<!-- 58 -->\n<g id=\"node59\" class=\"node\">\n<title>58</title>\n<path fill=\"#5ee852\" stroke=\"#000000\" d=\"M1733,-663C1733,-663 1618,-663 1618,-663 1612,-663 1606,-657 1606,-651 1606,-651 1606,-592 1606,-592 1606,-586 1612,-580 1618,-580 1618,-580 1733,-580 1733,-580 1739,-580 1745,-586 1745,-592 1745,-592 1745,-651 1745,-651 1745,-657 1739,-663 1733,-663\"/>\n<text text-anchor=\"start\" x=\"1639\" y=\"-647.8\" font-family=\"Helvetica,sans-Serif\" font-size=\"14.00\" fill=\"#000000\">doors ≤ 0.5</text>\n<text text-anchor=\"start\" x=\"1637.5\" y=\"-632.8\" font-family=\"Helvetica,sans-Serif\" font-size=\"14.00\" fill=\"#000000\">gini = 0.198</text>\n<text text-anchor=\"start\" x=\"1631.5\" y=\"-617.8\" font-family=\"Helvetica,sans-Serif\" font-size=\"14.00\" fill=\"#000000\">samples = 18</text>\n<text text-anchor=\"start\" x=\"1614\" y=\"-602.8\" font-family=\"Helvetica,sans-Serif\" font-size=\"14.00\" fill=\"#000000\">value = [2, 16, 0, 0]</text>\n<text text-anchor=\"start\" x=\"1639\" y=\"-587.8\" font-family=\"Helvetica,sans-Serif\" font-size=\"14.00\" fill=\"#000000\">class = acc</text>\n</g>\n<!-- 48&#45;&gt;58 -->\n<g id=\"edge58\" class=\"edge\">\n<title>48&#45;&gt;58</title>\n<path fill=\"none\" stroke=\"#000000\" d=\"M1675.5,-698.8796C1675.5,-690.6838 1675.5,-681.9891 1675.5,-673.5013\"/>\n<polygon fill=\"#000000\" stroke=\"#000000\" points=\"1679.0001,-673.298 1675.5,-663.2981 1672.0001,-673.2981 1679.0001,-673.298\"/>\n</g>\n<!-- 50 -->\n<g id=\"node51\" class=\"node\">\n<title>50</title>\n<path fill=\"#e58139\" stroke=\"#000000\" d=\"M1351,-536.5C1351,-536.5 1236,-536.5 1236,-536.5 1230,-536.5 1224,-530.5 1224,-524.5 1224,-524.5 1224,-480.5 1224,-480.5 1224,-474.5 1230,-468.5 1236,-468.5 1236,-468.5 1351,-468.5 1351,-468.5 1357,-468.5 1363,-474.5 1363,-480.5 1363,-480.5 1363,-524.5 1363,-524.5 1363,-530.5 1357,-536.5 1351,-536.5\"/>\n<text text-anchor=\"start\" x=\"1264\" y=\"-521.3\" font-family=\"Helvetica,sans-Serif\" font-size=\"14.00\" fill=\"#000000\">gini = 0.0</text>\n<text text-anchor=\"start\" x=\"1249.5\" y=\"-506.3\" font-family=\"Helvetica,sans-Serif\" font-size=\"14.00\" fill=\"#000000\">samples = 14</text>\n<text text-anchor=\"start\" x=\"1232\" y=\"-491.3\" font-family=\"Helvetica,sans-Serif\" font-size=\"14.00\" fill=\"#000000\">value = [14, 0, 0, 0]</text>\n<text text-anchor=\"start\" x=\"1248.5\" y=\"-476.3\" font-family=\"Helvetica,sans-Serif\" font-size=\"14.00\" fill=\"#000000\">class = unacc</text>\n</g>\n<!-- 49&#45;&gt;50 -->\n<g id=\"edge50\" class=\"edge\">\n<title>49&#45;&gt;50</title>\n<path fill=\"none\" stroke=\"#000000\" d=\"M1392.988,-579.8796C1377.7192,-568.0038 1361.1034,-555.0804 1345.9016,-543.2568\"/>\n<polygon fill=\"#000000\" stroke=\"#000000\" points=\"1347.6616,-540.1916 1337.6192,-536.8149 1343.3639,-545.7171 1347.6616,-540.1916\"/>\n</g>\n<!-- 51 -->\n<g id=\"node52\" class=\"node\">\n<title>51</title>\n<path fill=\"#ffffff\" stroke=\"#000000\" d=\"M1500,-544C1500,-544 1393,-544 1393,-544 1387,-544 1381,-538 1381,-532 1381,-532 1381,-473 1381,-473 1381,-467 1387,-461 1393,-461 1393,-461 1500,-461 1500,-461 1506,-461 1512,-467 1512,-473 1512,-473 1512,-532 1512,-532 1512,-538 1506,-544 1500,-544\"/>\n<text text-anchor=\"start\" x=\"1411\" y=\"-528.8\" font-family=\"Helvetica,sans-Serif\" font-size=\"14.00\" fill=\"#000000\">maint ≤ 0.5</text>\n<text text-anchor=\"start\" x=\"1417\" y=\"-513.8\" font-family=\"Helvetica,sans-Serif\" font-size=\"14.00\" fill=\"#000000\">gini = 0.5</text>\n<text text-anchor=\"start\" x=\"1402.5\" y=\"-498.8\" font-family=\"Helvetica,sans-Serif\" font-size=\"14.00\" fill=\"#000000\">samples = 10</text>\n<text text-anchor=\"start\" x=\"1389\" y=\"-483.8\" font-family=\"Helvetica,sans-Serif\" font-size=\"14.00\" fill=\"#000000\">value = [5, 5, 0, 0]</text>\n<text text-anchor=\"start\" x=\"1401.5\" y=\"-468.8\" font-family=\"Helvetica,sans-Serif\" font-size=\"14.00\" fill=\"#000000\">class = unacc</text>\n</g>\n<!-- 49&#45;&gt;51 -->\n<g id=\"edge51\" class=\"edge\">\n<title>49&#45;&gt;51</title>\n<path fill=\"none\" stroke=\"#000000\" d=\"M1446.5,-579.8796C1446.5,-571.6838 1446.5,-562.9891 1446.5,-554.5013\"/>\n<polygon fill=\"#000000\" stroke=\"#000000\" points=\"1450.0001,-554.298 1446.5,-544.2981 1443.0001,-554.2981 1450.0001,-554.298\"/>\n</g>\n<!-- 52 -->\n<g id=\"node53\" class=\"node\">\n<title>52</title>\n<path fill=\"#e58139\" stroke=\"#000000\" d=\"M1351,-417.5C1351,-417.5 1244,-417.5 1244,-417.5 1238,-417.5 1232,-411.5 1232,-405.5 1232,-405.5 1232,-361.5 1232,-361.5 1232,-355.5 1238,-349.5 1244,-349.5 1244,-349.5 1351,-349.5 1351,-349.5 1357,-349.5 1363,-355.5 1363,-361.5 1363,-361.5 1363,-405.5 1363,-405.5 1363,-411.5 1357,-417.5 1351,-417.5\"/>\n<text text-anchor=\"start\" x=\"1268\" y=\"-402.3\" font-family=\"Helvetica,sans-Serif\" font-size=\"14.00\" fill=\"#000000\">gini = 0.0</text>\n<text text-anchor=\"start\" x=\"1258\" y=\"-387.3\" font-family=\"Helvetica,sans-Serif\" font-size=\"14.00\" fill=\"#000000\">samples = 4</text>\n<text text-anchor=\"start\" x=\"1240\" y=\"-372.3\" font-family=\"Helvetica,sans-Serif\" font-size=\"14.00\" fill=\"#000000\">value = [4, 0, 0, 0]</text>\n<text text-anchor=\"start\" x=\"1252.5\" y=\"-357.3\" font-family=\"Helvetica,sans-Serif\" font-size=\"14.00\" fill=\"#000000\">class = unacc</text>\n</g>\n<!-- 51&#45;&gt;52 -->\n<g id=\"edge52\" class=\"edge\">\n<title>51&#45;&gt;52</title>\n<path fill=\"none\" stroke=\"#000000\" d=\"M1394.387,-460.8796C1379.5174,-449.0038 1363.336,-436.0804 1348.5317,-424.2568\"/>\n<polygon fill=\"#000000\" stroke=\"#000000\" points=\"1350.4638,-421.3207 1340.4658,-417.8149 1346.0954,-426.7904 1350.4638,-421.3207\"/>\n</g>\n<!-- 53 -->\n<g id=\"node54\" class=\"node\">\n<title>53</title>\n<path fill=\"#6cea61\" stroke=\"#000000\" d=\"M1500,-425C1500,-425 1393,-425 1393,-425 1387,-425 1381,-419 1381,-413 1381,-413 1381,-354 1381,-354 1381,-348 1387,-342 1393,-342 1393,-342 1500,-342 1500,-342 1506,-342 1512,-348 1512,-354 1512,-354 1512,-413 1512,-413 1512,-419 1506,-425 1500,-425\"/>\n<text text-anchor=\"start\" x=\"1410\" y=\"-409.8\" font-family=\"Helvetica,sans-Serif\" font-size=\"14.00\" fill=\"#000000\">doors ≤ 0.5</text>\n<text text-anchor=\"start\" x=\"1408.5\" y=\"-394.8\" font-family=\"Helvetica,sans-Serif\" font-size=\"14.00\" fill=\"#000000\">gini = 0.278</text>\n<text text-anchor=\"start\" x=\"1407\" y=\"-379.8\" font-family=\"Helvetica,sans-Serif\" font-size=\"14.00\" fill=\"#000000\">samples = 6</text>\n<text text-anchor=\"start\" x=\"1389\" y=\"-364.8\" font-family=\"Helvetica,sans-Serif\" font-size=\"14.00\" fill=\"#000000\">value = [1, 5, 0, 0]</text>\n<text text-anchor=\"start\" x=\"1410\" y=\"-349.8\" font-family=\"Helvetica,sans-Serif\" font-size=\"14.00\" fill=\"#000000\">class = acc</text>\n</g>\n<!-- 51&#45;&gt;53 -->\n<g id=\"edge53\" class=\"edge\">\n<title>51&#45;&gt;53</title>\n<path fill=\"none\" stroke=\"#000000\" d=\"M1446.5,-460.8796C1446.5,-452.6838 1446.5,-443.9891 1446.5,-435.5013\"/>\n<polygon fill=\"#000000\" stroke=\"#000000\" points=\"1450.0001,-435.298 1446.5,-425.2981 1443.0001,-435.2981 1450.0001,-435.298\"/>\n</g>\n<!-- 54 -->\n<g id=\"node55\" class=\"node\">\n<title>54</title>\n<path fill=\"#ffffff\" stroke=\"#000000\" d=\"M1487,-306C1487,-306 1380,-306 1380,-306 1374,-306 1368,-300 1368,-294 1368,-294 1368,-235 1368,-235 1368,-229 1374,-223 1380,-223 1380,-223 1487,-223 1487,-223 1493,-223 1499,-229 1499,-235 1499,-235 1499,-294 1499,-294 1499,-300 1493,-306 1487,-306\"/>\n<text text-anchor=\"start\" x=\"1389.5\" y=\"-290.8\" font-family=\"Helvetica,sans-Serif\" font-size=\"14.00\" fill=\"#000000\">persons ≤ 1.5</text>\n<text text-anchor=\"start\" x=\"1404\" y=\"-275.8\" font-family=\"Helvetica,sans-Serif\" font-size=\"14.00\" fill=\"#000000\">gini = 0.5</text>\n<text text-anchor=\"start\" x=\"1394\" y=\"-260.8\" font-family=\"Helvetica,sans-Serif\" font-size=\"14.00\" fill=\"#000000\">samples = 2</text>\n<text text-anchor=\"start\" x=\"1376\" y=\"-245.8\" font-family=\"Helvetica,sans-Serif\" font-size=\"14.00\" fill=\"#000000\">value = [1, 1, 0, 0]</text>\n<text text-anchor=\"start\" x=\"1388.5\" y=\"-230.8\" font-family=\"Helvetica,sans-Serif\" font-size=\"14.00\" fill=\"#000000\">class = unacc</text>\n</g>\n<!-- 53&#45;&gt;54 -->\n<g id=\"edge54\" class=\"edge\">\n<title>53&#45;&gt;54</title>\n<path fill=\"none\" stroke=\"#000000\" d=\"M1441.9532,-341.8796C1441.0579,-333.6838 1440.1081,-324.9891 1439.1808,-316.5013\"/>\n<polygon fill=\"#000000\" stroke=\"#000000\" points=\"1442.6315,-315.8588 1438.0662,-306.2981 1435.6729,-316.6191 1442.6315,-315.8588\"/>\n</g>\n<!-- 57 -->\n<g id=\"node58\" class=\"node\">\n<title>57</title>\n<path fill=\"#47e539\" stroke=\"#000000\" d=\"M1636,-298.5C1636,-298.5 1529,-298.5 1529,-298.5 1523,-298.5 1517,-292.5 1517,-286.5 1517,-286.5 1517,-242.5 1517,-242.5 1517,-236.5 1523,-230.5 1529,-230.5 1529,-230.5 1636,-230.5 1636,-230.5 1642,-230.5 1648,-236.5 1648,-242.5 1648,-242.5 1648,-286.5 1648,-286.5 1648,-292.5 1642,-298.5 1636,-298.5\"/>\n<text text-anchor=\"start\" x=\"1553\" y=\"-283.3\" font-family=\"Helvetica,sans-Serif\" font-size=\"14.00\" fill=\"#000000\">gini = 0.0</text>\n<text text-anchor=\"start\" x=\"1543\" y=\"-268.3\" font-family=\"Helvetica,sans-Serif\" font-size=\"14.00\" fill=\"#000000\">samples = 4</text>\n<text text-anchor=\"start\" x=\"1525\" y=\"-253.3\" font-family=\"Helvetica,sans-Serif\" font-size=\"14.00\" fill=\"#000000\">value = [0, 4, 0, 0]</text>\n<text text-anchor=\"start\" x=\"1546\" y=\"-238.3\" font-family=\"Helvetica,sans-Serif\" font-size=\"14.00\" fill=\"#000000\">class = acc</text>\n</g>\n<!-- 53&#45;&gt;57 -->\n<g id=\"edge57\" class=\"edge\">\n<title>53&#45;&gt;57</title>\n<path fill=\"none\" stroke=\"#000000\" d=\"M1494.0662,-341.8796C1507.5128,-330.1138 1522.1347,-317.3197 1535.5451,-305.5855\"/>\n<polygon fill=\"#000000\" stroke=\"#000000\" points=\"1538.0619,-308.034 1543.2829,-298.8149 1533.4524,-302.766 1538.0619,-308.034\"/>\n</g>\n<!-- 55 -->\n<g id=\"node56\" class=\"node\">\n<title>55</title>\n<path fill=\"#47e539\" stroke=\"#000000\" d=\"M1413,-179.5C1413,-179.5 1306,-179.5 1306,-179.5 1300,-179.5 1294,-173.5 1294,-167.5 1294,-167.5 1294,-123.5 1294,-123.5 1294,-117.5 1300,-111.5 1306,-111.5 1306,-111.5 1413,-111.5 1413,-111.5 1419,-111.5 1425,-117.5 1425,-123.5 1425,-123.5 1425,-167.5 1425,-167.5 1425,-173.5 1419,-179.5 1413,-179.5\"/>\n<text text-anchor=\"start\" x=\"1330\" y=\"-164.3\" font-family=\"Helvetica,sans-Serif\" font-size=\"14.00\" fill=\"#000000\">gini = 0.0</text>\n<text text-anchor=\"start\" x=\"1320\" y=\"-149.3\" font-family=\"Helvetica,sans-Serif\" font-size=\"14.00\" fill=\"#000000\">samples = 1</text>\n<text text-anchor=\"start\" x=\"1302\" y=\"-134.3\" font-family=\"Helvetica,sans-Serif\" font-size=\"14.00\" fill=\"#000000\">value = [0, 1, 0, 0]</text>\n<text text-anchor=\"start\" x=\"1323\" y=\"-119.3\" font-family=\"Helvetica,sans-Serif\" font-size=\"14.00\" fill=\"#000000\">class = acc</text>\n</g>\n<!-- 54&#45;&gt;55 -->\n<g id=\"edge55\" class=\"edge\">\n<title>54&#45;&gt;55</title>\n<path fill=\"none\" stroke=\"#000000\" d=\"M1407.6184,-222.8796C1400.7121,-211.7735 1393.2361,-199.7513 1386.2825,-188.5691\"/>\n<polygon fill=\"#000000\" stroke=\"#000000\" points=\"1389.0917,-186.4587 1380.8387,-179.8149 1383.1473,-190.1552 1389.0917,-186.4587\"/>\n</g>\n<!-- 56 -->\n<g id=\"node57\" class=\"node\">\n<title>56</title>\n<path fill=\"#e58139\" stroke=\"#000000\" d=\"M1562,-179.5C1562,-179.5 1455,-179.5 1455,-179.5 1449,-179.5 1443,-173.5 1443,-167.5 1443,-167.5 1443,-123.5 1443,-123.5 1443,-117.5 1449,-111.5 1455,-111.5 1455,-111.5 1562,-111.5 1562,-111.5 1568,-111.5 1574,-117.5 1574,-123.5 1574,-123.5 1574,-167.5 1574,-167.5 1574,-173.5 1568,-179.5 1562,-179.5\"/>\n<text text-anchor=\"start\" x=\"1479\" y=\"-164.3\" font-family=\"Helvetica,sans-Serif\" font-size=\"14.00\" fill=\"#000000\">gini = 0.0</text>\n<text text-anchor=\"start\" x=\"1469\" y=\"-149.3\" font-family=\"Helvetica,sans-Serif\" font-size=\"14.00\" fill=\"#000000\">samples = 1</text>\n<text text-anchor=\"start\" x=\"1451\" y=\"-134.3\" font-family=\"Helvetica,sans-Serif\" font-size=\"14.00\" fill=\"#000000\">value = [1, 0, 0, 0]</text>\n<text text-anchor=\"start\" x=\"1463.5\" y=\"-119.3\" font-family=\"Helvetica,sans-Serif\" font-size=\"14.00\" fill=\"#000000\">class = unacc</text>\n</g>\n<!-- 54&#45;&gt;56 -->\n<g id=\"edge56\" class=\"edge\">\n<title>54&#45;&gt;56</title>\n<path fill=\"none\" stroke=\"#000000\" d=\"M1459.7314,-222.8796C1466.731,-211.7735 1474.308,-199.7513 1481.3556,-188.5691\"/>\n<polygon fill=\"#000000\" stroke=\"#000000\" points=\"1484.502,-190.1411 1486.8729,-179.8149 1478.58,-186.4087 1484.502,-190.1411\"/>\n</g>\n<!-- 59 -->\n<g id=\"node60\" class=\"node\">\n<title>59</title>\n<path fill=\"#c2f6bd\" stroke=\"#000000\" d=\"M1649,-544C1649,-544 1542,-544 1542,-544 1536,-544 1530,-538 1530,-532 1530,-532 1530,-473 1530,-473 1530,-467 1536,-461 1542,-461 1542,-461 1649,-461 1649,-461 1655,-461 1661,-467 1661,-473 1661,-473 1661,-532 1661,-532 1661,-538 1655,-544 1649,-544\"/>\n<text text-anchor=\"start\" x=\"1551.5\" y=\"-528.8\" font-family=\"Helvetica,sans-Serif\" font-size=\"14.00\" fill=\"#000000\">persons ≤ 1.5</text>\n<text text-anchor=\"start\" x=\"1562\" y=\"-513.8\" font-family=\"Helvetica,sans-Serif\" font-size=\"14.00\" fill=\"#000000\">gini = 0.48</text>\n<text text-anchor=\"start\" x=\"1556\" y=\"-498.8\" font-family=\"Helvetica,sans-Serif\" font-size=\"14.00\" fill=\"#000000\">samples = 5</text>\n<text text-anchor=\"start\" x=\"1538\" y=\"-483.8\" font-family=\"Helvetica,sans-Serif\" font-size=\"14.00\" fill=\"#000000\">value = [2, 3, 0, 0]</text>\n<text text-anchor=\"start\" x=\"1559\" y=\"-468.8\" font-family=\"Helvetica,sans-Serif\" font-size=\"14.00\" fill=\"#000000\">class = acc</text>\n</g>\n<!-- 58&#45;&gt;59 -->\n<g id=\"edge59\" class=\"edge\">\n<title>58&#45;&gt;59</title>\n<path fill=\"none\" stroke=\"#000000\" d=\"M1647.5199,-579.8796C1641.6469,-571.1434 1635.3927,-561.8404 1629.3321,-552.8253\"/>\n<polygon fill=\"#000000\" stroke=\"#000000\" points=\"1632.0834,-550.6444 1623.5995,-544.2981 1626.2741,-554.5498 1632.0834,-550.6444\"/>\n</g>\n<!-- 62 -->\n<g id=\"node63\" class=\"node\">\n<title>62</title>\n<path fill=\"#47e539\" stroke=\"#000000\" d=\"M1806,-536.5C1806,-536.5 1691,-536.5 1691,-536.5 1685,-536.5 1679,-530.5 1679,-524.5 1679,-524.5 1679,-480.5 1679,-480.5 1679,-474.5 1685,-468.5 1691,-468.5 1691,-468.5 1806,-468.5 1806,-468.5 1812,-468.5 1818,-474.5 1818,-480.5 1818,-480.5 1818,-524.5 1818,-524.5 1818,-530.5 1812,-536.5 1806,-536.5\"/>\n<text text-anchor=\"start\" x=\"1719\" y=\"-521.3\" font-family=\"Helvetica,sans-Serif\" font-size=\"14.00\" fill=\"#000000\">gini = 0.0</text>\n<text text-anchor=\"start\" x=\"1704.5\" y=\"-506.3\" font-family=\"Helvetica,sans-Serif\" font-size=\"14.00\" fill=\"#000000\">samples = 13</text>\n<text text-anchor=\"start\" x=\"1687\" y=\"-491.3\" font-family=\"Helvetica,sans-Serif\" font-size=\"14.00\" fill=\"#000000\">value = [0, 13, 0, 0]</text>\n<text text-anchor=\"start\" x=\"1712\" y=\"-476.3\" font-family=\"Helvetica,sans-Serif\" font-size=\"14.00\" fill=\"#000000\">class = acc</text>\n</g>\n<!-- 58&#45;&gt;62 -->\n<g id=\"edge62\" class=\"edge\">\n<title>58&#45;&gt;62</title>\n<path fill=\"none\" stroke=\"#000000\" d=\"M1701.0319,-579.8796C1707.8448,-568.7735 1715.2198,-556.7513 1722.0794,-545.5691\"/>\n<polygon fill=\"#000000\" stroke=\"#000000\" points=\"1725.204,-547.1691 1727.4497,-536.8149 1719.2372,-543.5087 1725.204,-547.1691\"/>\n</g>\n<!-- 60 -->\n<g id=\"node61\" class=\"node\">\n<title>60</title>\n<path fill=\"#47e539\" stroke=\"#000000\" d=\"M1649,-417.5C1649,-417.5 1542,-417.5 1542,-417.5 1536,-417.5 1530,-411.5 1530,-405.5 1530,-405.5 1530,-361.5 1530,-361.5 1530,-355.5 1536,-349.5 1542,-349.5 1542,-349.5 1649,-349.5 1649,-349.5 1655,-349.5 1661,-355.5 1661,-361.5 1661,-361.5 1661,-405.5 1661,-405.5 1661,-411.5 1655,-417.5 1649,-417.5\"/>\n<text text-anchor=\"start\" x=\"1566\" y=\"-402.3\" font-family=\"Helvetica,sans-Serif\" font-size=\"14.00\" fill=\"#000000\">gini = 0.0</text>\n<text text-anchor=\"start\" x=\"1556\" y=\"-387.3\" font-family=\"Helvetica,sans-Serif\" font-size=\"14.00\" fill=\"#000000\">samples = 3</text>\n<text text-anchor=\"start\" x=\"1538\" y=\"-372.3\" font-family=\"Helvetica,sans-Serif\" font-size=\"14.00\" fill=\"#000000\">value = [0, 3, 0, 0]</text>\n<text text-anchor=\"start\" x=\"1559\" y=\"-357.3\" font-family=\"Helvetica,sans-Serif\" font-size=\"14.00\" fill=\"#000000\">class = acc</text>\n</g>\n<!-- 59&#45;&gt;60 -->\n<g id=\"edge60\" class=\"edge\">\n<title>59&#45;&gt;60</title>\n<path fill=\"none\" stroke=\"#000000\" d=\"M1595.5,-460.8796C1595.5,-450.2134 1595.5,-438.7021 1595.5,-427.9015\"/>\n<polygon fill=\"#000000\" stroke=\"#000000\" points=\"1599.0001,-427.8149 1595.5,-417.8149 1592.0001,-427.815 1599.0001,-427.8149\"/>\n</g>\n<!-- 61 -->\n<g id=\"node62\" class=\"node\">\n<title>61</title>\n<path fill=\"#e58139\" stroke=\"#000000\" d=\"M1798,-417.5C1798,-417.5 1691,-417.5 1691,-417.5 1685,-417.5 1679,-411.5 1679,-405.5 1679,-405.5 1679,-361.5 1679,-361.5 1679,-355.5 1685,-349.5 1691,-349.5 1691,-349.5 1798,-349.5 1798,-349.5 1804,-349.5 1810,-355.5 1810,-361.5 1810,-361.5 1810,-405.5 1810,-405.5 1810,-411.5 1804,-417.5 1798,-417.5\"/>\n<text text-anchor=\"start\" x=\"1715\" y=\"-402.3\" font-family=\"Helvetica,sans-Serif\" font-size=\"14.00\" fill=\"#000000\">gini = 0.0</text>\n<text text-anchor=\"start\" x=\"1705\" y=\"-387.3\" font-family=\"Helvetica,sans-Serif\" font-size=\"14.00\" fill=\"#000000\">samples = 2</text>\n<text text-anchor=\"start\" x=\"1687\" y=\"-372.3\" font-family=\"Helvetica,sans-Serif\" font-size=\"14.00\" fill=\"#000000\">value = [2, 0, 0, 0]</text>\n<text text-anchor=\"start\" x=\"1699.5\" y=\"-357.3\" font-family=\"Helvetica,sans-Serif\" font-size=\"14.00\" fill=\"#000000\">class = unacc</text>\n</g>\n<!-- 59&#45;&gt;61 -->\n<g id=\"edge61\" class=\"edge\">\n<title>59&#45;&gt;61</title>\n<path fill=\"none\" stroke=\"#000000\" d=\"M1647.613,-460.8796C1662.4826,-449.0038 1678.664,-436.0804 1693.4683,-424.2568\"/>\n<polygon fill=\"#000000\" stroke=\"#000000\" points=\"1695.9046,-426.7904 1701.5342,-417.8149 1691.5362,-421.3207 1695.9046,-426.7904\"/>\n</g>\n<!-- 64 -->\n<g id=\"node65\" class=\"node\">\n<title>64</title>\n<path fill=\"#5be84e\" stroke=\"#000000\" d=\"M2042,-663C2042,-663 1927,-663 1927,-663 1921,-663 1915,-657 1915,-651 1915,-651 1915,-592 1915,-592 1915,-586 1921,-580 1927,-580 1927,-580 2042,-580 2042,-580 2048,-580 2054,-586 2054,-592 2054,-592 2054,-651 2054,-651 2054,-657 2048,-663 2042,-663\"/>\n<text text-anchor=\"start\" x=\"1948\" y=\"-647.8\" font-family=\"Helvetica,sans-Serif\" font-size=\"14.00\" fill=\"#000000\">doors ≤ 1.5</text>\n<text text-anchor=\"start\" x=\"1946.5\" y=\"-632.8\" font-family=\"Helvetica,sans-Serif\" font-size=\"14.00\" fill=\"#000000\">gini = 0.176</text>\n<text text-anchor=\"start\" x=\"1940.5\" y=\"-617.8\" font-family=\"Helvetica,sans-Serif\" font-size=\"14.00\" fill=\"#000000\">samples = 41</text>\n<text text-anchor=\"start\" x=\"1923\" y=\"-602.8\" font-family=\"Helvetica,sans-Serif\" font-size=\"14.00\" fill=\"#000000\">value = [4, 37, 0, 0]</text>\n<text text-anchor=\"start\" x=\"1948\" y=\"-587.8\" font-family=\"Helvetica,sans-Serif\" font-size=\"14.00\" fill=\"#000000\">class = acc</text>\n</g>\n<!-- 63&#45;&gt;64 -->\n<g id=\"edge64\" class=\"edge\">\n<title>63&#45;&gt;64</title>\n<path fill=\"none\" stroke=\"#000000\" d=\"M1984.5,-698.8796C1984.5,-690.6838 1984.5,-681.9891 1984.5,-673.5013\"/>\n<polygon fill=\"#000000\" stroke=\"#000000\" points=\"1988.0001,-673.298 1984.5,-663.2981 1981.0001,-673.2981 1988.0001,-673.298\"/>\n</g>\n<!-- 75 -->\n<g id=\"node76\" class=\"node\">\n<title>75</title>\n<path fill=\"#72eb68\" stroke=\"#000000\" d=\"M2277,-663C2277,-663 2162,-663 2162,-663 2156,-663 2150,-657 2150,-651 2150,-651 2150,-592 2150,-592 2150,-586 2156,-580 2162,-580 2162,-580 2277,-580 2277,-580 2283,-580 2289,-586 2289,-592 2289,-592 2289,-651 2289,-651 2289,-657 2283,-663 2277,-663\"/>\n<text text-anchor=\"start\" x=\"2180\" y=\"-647.8\" font-family=\"Helvetica,sans-Serif\" font-size=\"14.00\" fill=\"#000000\">buying ≤ 2.5</text>\n<text text-anchor=\"start\" x=\"2181.5\" y=\"-632.8\" font-family=\"Helvetica,sans-Serif\" font-size=\"14.00\" fill=\"#000000\">gini = 0.308</text>\n<text text-anchor=\"start\" x=\"2175.5\" y=\"-617.8\" font-family=\"Helvetica,sans-Serif\" font-size=\"14.00\" fill=\"#000000\">samples = 42</text>\n<text text-anchor=\"start\" x=\"2158\" y=\"-602.8\" font-family=\"Helvetica,sans-Serif\" font-size=\"14.00\" fill=\"#000000\">value = [0, 34, 8, 0]</text>\n<text text-anchor=\"start\" x=\"2183\" y=\"-587.8\" font-family=\"Helvetica,sans-Serif\" font-size=\"14.00\" fill=\"#000000\">class = acc</text>\n</g>\n<!-- 63&#45;&gt;75 -->\n<g id=\"edge75\" class=\"edge\">\n<title>63&#45;&gt;75</title>\n<path fill=\"none\" stroke=\"#000000\" d=\"M2054.0539,-705.2791C2081.2881,-691.4882 2112.6701,-675.5968 2140.7332,-661.3862\"/>\n<polygon fill=\"#000000\" stroke=\"#000000\" points=\"2142.3783,-664.4763 2149.7185,-656.8362 2139.2159,-658.2314 2142.3783,-664.4763\"/>\n</g>\n<!-- 65 -->\n<g id=\"node66\" class=\"node\">\n<title>65</title>\n<path fill=\"#78ec6e\" stroke=\"#000000\" d=\"M1963,-544C1963,-544 1848,-544 1848,-544 1842,-544 1836,-538 1836,-532 1836,-532 1836,-473 1836,-473 1836,-467 1842,-461 1848,-461 1848,-461 1963,-461 1963,-461 1969,-461 1975,-467 1975,-473 1975,-473 1975,-532 1975,-532 1975,-538 1969,-544 1963,-544\"/>\n<text text-anchor=\"start\" x=\"1859.5\" y=\"-528.8\" font-family=\"Helvetica,sans-Serif\" font-size=\"14.00\" fill=\"#000000\">lug_boot ≤ 1.5</text>\n<text text-anchor=\"start\" x=\"1867.5\" y=\"-513.8\" font-family=\"Helvetica,sans-Serif\" font-size=\"14.00\" fill=\"#000000\">gini = 0.332</text>\n<text text-anchor=\"start\" x=\"1861.5\" y=\"-498.8\" font-family=\"Helvetica,sans-Serif\" font-size=\"14.00\" fill=\"#000000\">samples = 19</text>\n<text text-anchor=\"start\" x=\"1844\" y=\"-483.8\" font-family=\"Helvetica,sans-Serif\" font-size=\"14.00\" fill=\"#000000\">value = [4, 15, 0, 0]</text>\n<text text-anchor=\"start\" x=\"1869\" y=\"-468.8\" font-family=\"Helvetica,sans-Serif\" font-size=\"14.00\" fill=\"#000000\">class = acc</text>\n</g>\n<!-- 64&#45;&gt;65 -->\n<g id=\"edge65\" class=\"edge\">\n<title>64&#45;&gt;65</title>\n<path fill=\"none\" stroke=\"#000000\" d=\"M1956.8696,-579.8796C1951.07,-571.1434 1944.8941,-561.8404 1938.9092,-552.8253\"/>\n<polygon fill=\"#000000\" stroke=\"#000000\" points=\"1941.6951,-550.6935 1933.2483,-544.2981 1935.8632,-554.5652 1941.6951,-550.6935\"/>\n</g>\n<!-- 74 -->\n<g id=\"node75\" class=\"node\">\n<title>74</title>\n<path fill=\"#47e539\" stroke=\"#000000\" d=\"M2120,-536.5C2120,-536.5 2005,-536.5 2005,-536.5 1999,-536.5 1993,-530.5 1993,-524.5 1993,-524.5 1993,-480.5 1993,-480.5 1993,-474.5 1999,-468.5 2005,-468.5 2005,-468.5 2120,-468.5 2120,-468.5 2126,-468.5 2132,-474.5 2132,-480.5 2132,-480.5 2132,-524.5 2132,-524.5 2132,-530.5 2126,-536.5 2120,-536.5\"/>\n<text text-anchor=\"start\" x=\"2033\" y=\"-521.3\" font-family=\"Helvetica,sans-Serif\" font-size=\"14.00\" fill=\"#000000\">gini = 0.0</text>\n<text text-anchor=\"start\" x=\"2018.5\" y=\"-506.3\" font-family=\"Helvetica,sans-Serif\" font-size=\"14.00\" fill=\"#000000\">samples = 22</text>\n<text text-anchor=\"start\" x=\"2001\" y=\"-491.3\" font-family=\"Helvetica,sans-Serif\" font-size=\"14.00\" fill=\"#000000\">value = [0, 22, 0, 0]</text>\n<text text-anchor=\"start\" x=\"2026\" y=\"-476.3\" font-family=\"Helvetica,sans-Serif\" font-size=\"14.00\" fill=\"#000000\">class = acc</text>\n</g>\n<!-- 64&#45;&gt;74 -->\n<g id=\"edge74\" class=\"edge\">\n<title>64&#45;&gt;74</title>\n<path fill=\"none\" stroke=\"#000000\" d=\"M2011.7806,-579.8796C2019.1323,-568.6636 2027.0964,-556.5131 2034.4874,-545.2372\"/>\n<polygon fill=\"#000000\" stroke=\"#000000\" points=\"2037.4531,-547.0972 2040.0079,-536.8149 2031.5986,-543.2598 2037.4531,-547.0972\"/>\n</g>\n<!-- 66 -->\n<g id=\"node67\" class=\"node\">\n<title>66</title>\n<path fill=\"#ffffff\" stroke=\"#000000\" d=\"M1953,-425C1953,-425 1846,-425 1846,-425 1840,-425 1834,-419 1834,-413 1834,-413 1834,-354 1834,-354 1834,-348 1840,-342 1846,-342 1846,-342 1953,-342 1953,-342 1959,-342 1965,-348 1965,-354 1965,-354 1965,-413 1965,-413 1965,-419 1959,-425 1953,-425\"/>\n<text text-anchor=\"start\" x=\"1860\" y=\"-409.8\" font-family=\"Helvetica,sans-Serif\" font-size=\"14.00\" fill=\"#000000\">buying ≤ 2.5</text>\n<text text-anchor=\"start\" x=\"1870\" y=\"-394.8\" font-family=\"Helvetica,sans-Serif\" font-size=\"14.00\" fill=\"#000000\">gini = 0.5</text>\n<text text-anchor=\"start\" x=\"1860\" y=\"-379.8\" font-family=\"Helvetica,sans-Serif\" font-size=\"14.00\" fill=\"#000000\">samples = 8</text>\n<text text-anchor=\"start\" x=\"1842\" y=\"-364.8\" font-family=\"Helvetica,sans-Serif\" font-size=\"14.00\" fill=\"#000000\">value = [4, 4, 0, 0]</text>\n<text text-anchor=\"start\" x=\"1854.5\" y=\"-349.8\" font-family=\"Helvetica,sans-Serif\" font-size=\"14.00\" fill=\"#000000\">class = unacc</text>\n</g>\n<!-- 65&#45;&gt;66 -->\n<g id=\"edge66\" class=\"edge\">\n<title>65&#45;&gt;66</title>\n<path fill=\"none\" stroke=\"#000000\" d=\"M1903.4015,-460.8796C1902.9883,-452.6838 1902.5499,-443.9891 1902.1219,-435.5013\"/>\n<polygon fill=\"#000000\" stroke=\"#000000\" points=\"1905.6067,-435.1091 1901.6075,-425.2981 1898.6156,-435.4617 1905.6067,-435.1091\"/>\n</g>\n<!-- 73 -->\n<g id=\"node74\" class=\"node\">\n<title>73</title>\n<path fill=\"#47e539\" stroke=\"#000000\" d=\"M2110,-417.5C2110,-417.5 1995,-417.5 1995,-417.5 1989,-417.5 1983,-411.5 1983,-405.5 1983,-405.5 1983,-361.5 1983,-361.5 1983,-355.5 1989,-349.5 1995,-349.5 1995,-349.5 2110,-349.5 2110,-349.5 2116,-349.5 2122,-355.5 2122,-361.5 2122,-361.5 2122,-405.5 2122,-405.5 2122,-411.5 2116,-417.5 2110,-417.5\"/>\n<text text-anchor=\"start\" x=\"2023\" y=\"-402.3\" font-family=\"Helvetica,sans-Serif\" font-size=\"14.00\" fill=\"#000000\">gini = 0.0</text>\n<text text-anchor=\"start\" x=\"2008.5\" y=\"-387.3\" font-family=\"Helvetica,sans-Serif\" font-size=\"14.00\" fill=\"#000000\">samples = 11</text>\n<text text-anchor=\"start\" x=\"1991\" y=\"-372.3\" font-family=\"Helvetica,sans-Serif\" font-size=\"14.00\" fill=\"#000000\">value = [0, 11, 0, 0]</text>\n<text text-anchor=\"start\" x=\"2016\" y=\"-357.3\" font-family=\"Helvetica,sans-Serif\" font-size=\"14.00\" fill=\"#000000\">class = acc</text>\n</g>\n<!-- 65&#45;&gt;73 -->\n<g id=\"edge73\" class=\"edge\">\n<title>65&#45;&gt;73</title>\n<path fill=\"none\" stroke=\"#000000\" d=\"M1956.9135,-460.8796C1971.5835,-449.0038 1987.5477,-436.0804 2002.1533,-424.2568\"/>\n<polygon fill=\"#000000\" stroke=\"#000000\" points=\"2004.5407,-426.8273 2010.111,-417.8149 2000.1363,-421.3866 2004.5407,-426.8273\"/>\n</g>\n<!-- 67 -->\n<g id=\"node68\" class=\"node\">\n<title>67</title>\n<path fill=\"#e58139\" stroke=\"#000000\" d=\"M1878,-298.5C1878,-298.5 1771,-298.5 1771,-298.5 1765,-298.5 1759,-292.5 1759,-286.5 1759,-286.5 1759,-242.5 1759,-242.5 1759,-236.5 1765,-230.5 1771,-230.5 1771,-230.5 1878,-230.5 1878,-230.5 1884,-230.5 1890,-236.5 1890,-242.5 1890,-242.5 1890,-286.5 1890,-286.5 1890,-292.5 1884,-298.5 1878,-298.5\"/>\n<text text-anchor=\"start\" x=\"1795\" y=\"-283.3\" font-family=\"Helvetica,sans-Serif\" font-size=\"14.00\" fill=\"#000000\">gini = 0.0</text>\n<text text-anchor=\"start\" x=\"1785\" y=\"-268.3\" font-family=\"Helvetica,sans-Serif\" font-size=\"14.00\" fill=\"#000000\">samples = 3</text>\n<text text-anchor=\"start\" x=\"1767\" y=\"-253.3\" font-family=\"Helvetica,sans-Serif\" font-size=\"14.00\" fill=\"#000000\">value = [3, 0, 0, 0]</text>\n<text text-anchor=\"start\" x=\"1779.5\" y=\"-238.3\" font-family=\"Helvetica,sans-Serif\" font-size=\"14.00\" fill=\"#000000\">class = unacc</text>\n</g>\n<!-- 66&#45;&gt;67 -->\n<g id=\"edge67\" class=\"edge\">\n<title>66&#45;&gt;67</title>\n<path fill=\"none\" stroke=\"#000000\" d=\"M1873.2686,-341.8796C1866.269,-330.7735 1858.692,-318.7513 1851.6444,-307.5691\"/>\n<polygon fill=\"#000000\" stroke=\"#000000\" points=\"1854.42,-305.4087 1846.1271,-298.8149 1848.498,-309.1411 1854.42,-305.4087\"/>\n</g>\n<!-- 68 -->\n<g id=\"node69\" class=\"node\">\n<title>68</title>\n<path fill=\"#75ec6a\" stroke=\"#000000\" d=\"M2027,-306C2027,-306 1920,-306 1920,-306 1914,-306 1908,-300 1908,-294 1908,-294 1908,-235 1908,-235 1908,-229 1914,-223 1920,-223 1920,-223 2027,-223 2027,-223 2033,-223 2039,-229 2039,-235 2039,-235 2039,-294 2039,-294 2039,-300 2033,-306 2027,-306\"/>\n<text text-anchor=\"start\" x=\"1938\" y=\"-290.8\" font-family=\"Helvetica,sans-Serif\" font-size=\"14.00\" fill=\"#000000\">maint ≤ 0.5</text>\n<text text-anchor=\"start\" x=\"1940\" y=\"-275.8\" font-family=\"Helvetica,sans-Serif\" font-size=\"14.00\" fill=\"#000000\">gini = 0.32</text>\n<text text-anchor=\"start\" x=\"1934\" y=\"-260.8\" font-family=\"Helvetica,sans-Serif\" font-size=\"14.00\" fill=\"#000000\">samples = 5</text>\n<text text-anchor=\"start\" x=\"1916\" y=\"-245.8\" font-family=\"Helvetica,sans-Serif\" font-size=\"14.00\" fill=\"#000000\">value = [1, 4, 0, 0]</text>\n<text text-anchor=\"start\" x=\"1937\" y=\"-230.8\" font-family=\"Helvetica,sans-Serif\" font-size=\"14.00\" fill=\"#000000\">class = acc</text>\n</g>\n<!-- 66&#45;&gt;68 -->\n<g id=\"edge68\" class=\"edge\">\n<title>66&#45;&gt;68</title>\n<path fill=\"none\" stroke=\"#000000\" d=\"M1925.3816,-341.8796C1930.8142,-333.1434 1936.5992,-323.8404 1942.2053,-314.8253\"/>\n<polygon fill=\"#000000\" stroke=\"#000000\" points=\"1945.1993,-316.6383 1947.5079,-306.2981 1939.2549,-312.9418 1945.1993,-316.6383\"/>\n</g>\n<!-- 69 -->\n<g id=\"node70\" class=\"node\">\n<title>69</title>\n<path fill=\"#ffffff\" stroke=\"#000000\" d=\"M1952,-187C1952,-187 1845,-187 1845,-187 1839,-187 1833,-181 1833,-175 1833,-175 1833,-116 1833,-116 1833,-110 1839,-104 1845,-104 1845,-104 1952,-104 1952,-104 1958,-104 1964,-110 1964,-116 1964,-116 1964,-175 1964,-175 1964,-181 1958,-187 1952,-187\"/>\n<text text-anchor=\"start\" x=\"1854.5\" y=\"-171.8\" font-family=\"Helvetica,sans-Serif\" font-size=\"14.00\" fill=\"#000000\">persons ≤ 1.5</text>\n<text text-anchor=\"start\" x=\"1869\" y=\"-156.8\" font-family=\"Helvetica,sans-Serif\" font-size=\"14.00\" fill=\"#000000\">gini = 0.5</text>\n<text text-anchor=\"start\" x=\"1859\" y=\"-141.8\" font-family=\"Helvetica,sans-Serif\" font-size=\"14.00\" fill=\"#000000\">samples = 2</text>\n<text text-anchor=\"start\" x=\"1841\" y=\"-126.8\" font-family=\"Helvetica,sans-Serif\" font-size=\"14.00\" fill=\"#000000\">value = [1, 1, 0, 0]</text>\n<text text-anchor=\"start\" x=\"1853.5\" y=\"-111.8\" font-family=\"Helvetica,sans-Serif\" font-size=\"14.00\" fill=\"#000000\">class = unacc</text>\n</g>\n<!-- 68&#45;&gt;69 -->\n<g id=\"edge69\" class=\"edge\">\n<title>68&#45;&gt;69</title>\n<path fill=\"none\" stroke=\"#000000\" d=\"M1947.2686,-222.8796C1941.7627,-214.1434 1935.8994,-204.8404 1930.2176,-195.8253\"/>\n<polygon fill=\"#000000\" stroke=\"#000000\" points=\"1933.1363,-193.8919 1924.8433,-187.2981 1927.2143,-197.6242 1933.1363,-193.8919\"/>\n</g>\n<!-- 72 -->\n<g id=\"node73\" class=\"node\">\n<title>72</title>\n<path fill=\"#47e539\" stroke=\"#000000\" d=\"M2101,-179.5C2101,-179.5 1994,-179.5 1994,-179.5 1988,-179.5 1982,-173.5 1982,-167.5 1982,-167.5 1982,-123.5 1982,-123.5 1982,-117.5 1988,-111.5 1994,-111.5 1994,-111.5 2101,-111.5 2101,-111.5 2107,-111.5 2113,-117.5 2113,-123.5 2113,-123.5 2113,-167.5 2113,-167.5 2113,-173.5 2107,-179.5 2101,-179.5\"/>\n<text text-anchor=\"start\" x=\"2018\" y=\"-164.3\" font-family=\"Helvetica,sans-Serif\" font-size=\"14.00\" fill=\"#000000\">gini = 0.0</text>\n<text text-anchor=\"start\" x=\"2008\" y=\"-149.3\" font-family=\"Helvetica,sans-Serif\" font-size=\"14.00\" fill=\"#000000\">samples = 3</text>\n<text text-anchor=\"start\" x=\"1990\" y=\"-134.3\" font-family=\"Helvetica,sans-Serif\" font-size=\"14.00\" fill=\"#000000\">value = [0, 3, 0, 0]</text>\n<text text-anchor=\"start\" x=\"2011\" y=\"-119.3\" font-family=\"Helvetica,sans-Serif\" font-size=\"14.00\" fill=\"#000000\">class = acc</text>\n</g>\n<!-- 68&#45;&gt;72 -->\n<g id=\"edge72\" class=\"edge\">\n<title>68&#45;&gt;72</title>\n<path fill=\"none\" stroke=\"#000000\" d=\"M1999.3816,-222.8796C2006.2879,-211.7735 2013.7639,-199.7513 2020.7175,-188.5691\"/>\n<polygon fill=\"#000000\" stroke=\"#000000\" points=\"2023.8527,-190.1552 2026.1613,-179.8149 2017.9083,-186.4587 2023.8527,-190.1552\"/>\n</g>\n<!-- 70 -->\n<g id=\"node71\" class=\"node\">\n<title>70</title>\n<path fill=\"#e58139\" stroke=\"#000000\" d=\"M1877,-68C1877,-68 1770,-68 1770,-68 1764,-68 1758,-62 1758,-56 1758,-56 1758,-12 1758,-12 1758,-6 1764,0 1770,0 1770,0 1877,0 1877,0 1883,0 1889,-6 1889,-12 1889,-12 1889,-56 1889,-56 1889,-62 1883,-68 1877,-68\"/>\n<text text-anchor=\"start\" x=\"1794\" y=\"-52.8\" font-family=\"Helvetica,sans-Serif\" font-size=\"14.00\" fill=\"#000000\">gini = 0.0</text>\n<text text-anchor=\"start\" x=\"1784\" y=\"-37.8\" font-family=\"Helvetica,sans-Serif\" font-size=\"14.00\" fill=\"#000000\">samples = 1</text>\n<text text-anchor=\"start\" x=\"1766\" y=\"-22.8\" font-family=\"Helvetica,sans-Serif\" font-size=\"14.00\" fill=\"#000000\">value = [1, 0, 0, 0]</text>\n<text text-anchor=\"start\" x=\"1778.5\" y=\"-7.8\" font-family=\"Helvetica,sans-Serif\" font-size=\"14.00\" fill=\"#000000\">class = unacc</text>\n</g>\n<!-- 69&#45;&gt;70 -->\n<g id=\"edge70\" class=\"edge\">\n<title>69&#45;&gt;70</title>\n<path fill=\"none\" stroke=\"#000000\" d=\"M1870.5728,-103.9815C1864.5762,-95.0666 1858.2296,-85.6313 1852.2041,-76.6734\"/>\n<polygon fill=\"#000000\" stroke=\"#000000\" points=\"1855.0328,-74.6078 1846.5473,-68.2637 1849.2245,-78.5147 1855.0328,-74.6078\"/>\n</g>\n<!-- 71 -->\n<g id=\"node72\" class=\"node\">\n<title>71</title>\n<path fill=\"#47e539\" stroke=\"#000000\" d=\"M2026,-68C2026,-68 1919,-68 1919,-68 1913,-68 1907,-62 1907,-56 1907,-56 1907,-12 1907,-12 1907,-6 1913,0 1919,0 1919,0 2026,0 2026,0 2032,0 2038,-6 2038,-12 2038,-12 2038,-56 2038,-56 2038,-62 2032,-68 2026,-68\"/>\n<text text-anchor=\"start\" x=\"1943\" y=\"-52.8\" font-family=\"Helvetica,sans-Serif\" font-size=\"14.00\" fill=\"#000000\">gini = 0.0</text>\n<text text-anchor=\"start\" x=\"1933\" y=\"-37.8\" font-family=\"Helvetica,sans-Serif\" font-size=\"14.00\" fill=\"#000000\">samples = 1</text>\n<text text-anchor=\"start\" x=\"1915\" y=\"-22.8\" font-family=\"Helvetica,sans-Serif\" font-size=\"14.00\" fill=\"#000000\">value = [0, 1, 0, 0]</text>\n<text text-anchor=\"start\" x=\"1936\" y=\"-7.8\" font-family=\"Helvetica,sans-Serif\" font-size=\"14.00\" fill=\"#000000\">class = acc</text>\n</g>\n<!-- 69&#45;&gt;71 -->\n<g id=\"edge71\" class=\"edge\">\n<title>69&#45;&gt;71</title>\n<path fill=\"none\" stroke=\"#000000\" d=\"M1926.0549,-103.9815C1931.9715,-95.0666 1938.2335,-85.6313 1944.1787,-76.6734\"/>\n<polygon fill=\"#000000\" stroke=\"#000000\" points=\"1947.1464,-78.5311 1949.76,-68.2637 1941.314,-74.6602 1947.1464,-78.5311\"/>\n</g>\n<!-- 76 -->\n<g id=\"node77\" class=\"node\">\n<title>76</title>\n<path fill=\"#47e539\" stroke=\"#000000\" d=\"M2277,-536.5C2277,-536.5 2162,-536.5 2162,-536.5 2156,-536.5 2150,-530.5 2150,-524.5 2150,-524.5 2150,-480.5 2150,-480.5 2150,-474.5 2156,-468.5 2162,-468.5 2162,-468.5 2277,-468.5 2277,-468.5 2283,-468.5 2289,-474.5 2289,-480.5 2289,-480.5 2289,-524.5 2289,-524.5 2289,-530.5 2283,-536.5 2277,-536.5\"/>\n<text text-anchor=\"start\" x=\"2190\" y=\"-521.3\" font-family=\"Helvetica,sans-Serif\" font-size=\"14.00\" fill=\"#000000\">gini = 0.0</text>\n<text text-anchor=\"start\" x=\"2175.5\" y=\"-506.3\" font-family=\"Helvetica,sans-Serif\" font-size=\"14.00\" fill=\"#000000\">samples = 21</text>\n<text text-anchor=\"start\" x=\"2158\" y=\"-491.3\" font-family=\"Helvetica,sans-Serif\" font-size=\"14.00\" fill=\"#000000\">value = [0, 21, 0, 0]</text>\n<text text-anchor=\"start\" x=\"2183\" y=\"-476.3\" font-family=\"Helvetica,sans-Serif\" font-size=\"14.00\" fill=\"#000000\">class = acc</text>\n</g>\n<!-- 75&#45;&gt;76 -->\n<g id=\"edge76\" class=\"edge\">\n<title>75&#45;&gt;76</title>\n<path fill=\"none\" stroke=\"#000000\" d=\"M2219.5,-579.8796C2219.5,-569.2134 2219.5,-557.7021 2219.5,-546.9015\"/>\n<polygon fill=\"#000000\" stroke=\"#000000\" points=\"2223.0001,-546.8149 2219.5,-536.8149 2216.0001,-546.815 2223.0001,-546.8149\"/>\n</g>\n<!-- 77 -->\n<g id=\"node78\" class=\"node\">\n<title>77</title>\n<path fill=\"#b8f5b3\" stroke=\"#000000\" d=\"M2434,-544C2434,-544 2319,-544 2319,-544 2313,-544 2307,-538 2307,-532 2307,-532 2307,-473 2307,-473 2307,-467 2313,-461 2319,-461 2319,-461 2434,-461 2434,-461 2440,-461 2446,-467 2446,-473 2446,-473 2446,-532 2446,-532 2446,-538 2440,-544 2434,-544\"/>\n<text text-anchor=\"start\" x=\"2341\" y=\"-528.8\" font-family=\"Helvetica,sans-Serif\" font-size=\"14.00\" fill=\"#000000\">maint ≤ 0.5</text>\n<text text-anchor=\"start\" x=\"2338.5\" y=\"-513.8\" font-family=\"Helvetica,sans-Serif\" font-size=\"14.00\" fill=\"#000000\">gini = 0.472</text>\n<text text-anchor=\"start\" x=\"2332.5\" y=\"-498.8\" font-family=\"Helvetica,sans-Serif\" font-size=\"14.00\" fill=\"#000000\">samples = 21</text>\n<text text-anchor=\"start\" x=\"2315\" y=\"-483.8\" font-family=\"Helvetica,sans-Serif\" font-size=\"14.00\" fill=\"#000000\">value = [0, 13, 8, 0]</text>\n<text text-anchor=\"start\" x=\"2340\" y=\"-468.8\" font-family=\"Helvetica,sans-Serif\" font-size=\"14.00\" fill=\"#000000\">class = acc</text>\n</g>\n<!-- 75&#45;&gt;77 -->\n<g id=\"edge77\" class=\"edge\">\n<title>75&#45;&gt;77</title>\n<path fill=\"none\" stroke=\"#000000\" d=\"M2274.411,-579.8796C2287.0794,-570.2774 2300.6515,-559.9903 2313.6295,-550.1534\"/>\n<polygon fill=\"#000000\" stroke=\"#000000\" points=\"2315.7648,-552.9268 2321.62,-544.0969 2311.5364,-547.3482 2315.7648,-552.9268\"/>\n</g>\n<!-- 78 -->\n<g id=\"node79\" class=\"node\">\n<title>78</title>\n<path fill=\"#47e539\" stroke=\"#000000\" d=\"M2281,-417.5C2281,-417.5 2166,-417.5 2166,-417.5 2160,-417.5 2154,-411.5 2154,-405.5 2154,-405.5 2154,-361.5 2154,-361.5 2154,-355.5 2160,-349.5 2166,-349.5 2166,-349.5 2281,-349.5 2281,-349.5 2287,-349.5 2293,-355.5 2293,-361.5 2293,-361.5 2293,-405.5 2293,-405.5 2293,-411.5 2287,-417.5 2281,-417.5\"/>\n<text text-anchor=\"start\" x=\"2194\" y=\"-402.3\" font-family=\"Helvetica,sans-Serif\" font-size=\"14.00\" fill=\"#000000\">gini = 0.0</text>\n<text text-anchor=\"start\" x=\"2179.5\" y=\"-387.3\" font-family=\"Helvetica,sans-Serif\" font-size=\"14.00\" fill=\"#000000\">samples = 10</text>\n<text text-anchor=\"start\" x=\"2162\" y=\"-372.3\" font-family=\"Helvetica,sans-Serif\" font-size=\"14.00\" fill=\"#000000\">value = [0, 10, 0, 0]</text>\n<text text-anchor=\"start\" x=\"2187\" y=\"-357.3\" font-family=\"Helvetica,sans-Serif\" font-size=\"14.00\" fill=\"#000000\">class = acc</text>\n</g>\n<!-- 77&#45;&gt;78 -->\n<g id=\"edge78\" class=\"edge\">\n<title>77&#45;&gt;78</title>\n<path fill=\"none\" stroke=\"#000000\" d=\"M2322.988,-460.8796C2307.7192,-449.0038 2291.1034,-436.0804 2275.9016,-424.2568\"/>\n<polygon fill=\"#000000\" stroke=\"#000000\" points=\"2277.6616,-421.1916 2267.6192,-417.8149 2273.3639,-426.7171 2277.6616,-421.1916\"/>\n</g>\n<!-- 79 -->\n<g id=\"node80\" class=\"node\">\n<title>79</title>\n<path fill=\"#83c2ef\" stroke=\"#000000\" d=\"M2430,-425C2430,-425 2323,-425 2323,-425 2317,-425 2311,-419 2311,-413 2311,-413 2311,-354 2311,-354 2311,-348 2317,-342 2323,-342 2323,-342 2430,-342 2430,-342 2436,-342 2442,-348 2442,-354 2442,-354 2442,-413 2442,-413 2442,-419 2436,-425 2430,-425\"/>\n<text text-anchor=\"start\" x=\"2330.5\" y=\"-409.8\" font-family=\"Helvetica,sans-Serif\" font-size=\"14.00\" fill=\"#000000\">lug_boot ≤ 1.5</text>\n<text text-anchor=\"start\" x=\"2338.5\" y=\"-394.8\" font-family=\"Helvetica,sans-Serif\" font-size=\"14.00\" fill=\"#000000\">gini = 0.397</text>\n<text text-anchor=\"start\" x=\"2332.5\" y=\"-379.8\" font-family=\"Helvetica,sans-Serif\" font-size=\"14.00\" fill=\"#000000\">samples = 11</text>\n<text text-anchor=\"start\" x=\"2319\" y=\"-364.8\" font-family=\"Helvetica,sans-Serif\" font-size=\"14.00\" fill=\"#000000\">value = [0, 3, 8, 0]</text>\n<text text-anchor=\"start\" x=\"2331\" y=\"-349.8\" font-family=\"Helvetica,sans-Serif\" font-size=\"14.00\" fill=\"#000000\">class = vgood</text>\n</g>\n<!-- 77&#45;&gt;79 -->\n<g id=\"edge79\" class=\"edge\">\n<title>77&#45;&gt;79</title>\n<path fill=\"none\" stroke=\"#000000\" d=\"M2376.5,-460.8796C2376.5,-452.6838 2376.5,-443.9891 2376.5,-435.5013\"/>\n<polygon fill=\"#000000\" stroke=\"#000000\" points=\"2380.0001,-435.298 2376.5,-425.2981 2373.0001,-435.2981 2380.0001,-435.298\"/>\n</g>\n<!-- 80 -->\n<g id=\"node81\" class=\"node\">\n<title>80</title>\n<path fill=\"#c2f6bd\" stroke=\"#000000\" d=\"M2356,-306C2356,-306 2249,-306 2249,-306 2243,-306 2237,-300 2237,-294 2237,-294 2237,-235 2237,-235 2237,-229 2243,-223 2249,-223 2249,-223 2356,-223 2356,-223 2362,-223 2368,-229 2368,-235 2368,-235 2368,-294 2368,-294 2368,-300 2362,-306 2356,-306\"/>\n<text text-anchor=\"start\" x=\"2266\" y=\"-290.8\" font-family=\"Helvetica,sans-Serif\" font-size=\"14.00\" fill=\"#000000\">doors ≤ 1.5</text>\n<text text-anchor=\"start\" x=\"2269\" y=\"-275.8\" font-family=\"Helvetica,sans-Serif\" font-size=\"14.00\" fill=\"#000000\">gini = 0.48</text>\n<text text-anchor=\"start\" x=\"2263\" y=\"-260.8\" font-family=\"Helvetica,sans-Serif\" font-size=\"14.00\" fill=\"#000000\">samples = 5</text>\n<text text-anchor=\"start\" x=\"2245\" y=\"-245.8\" font-family=\"Helvetica,sans-Serif\" font-size=\"14.00\" fill=\"#000000\">value = [0, 3, 2, 0]</text>\n<text text-anchor=\"start\" x=\"2266\" y=\"-230.8\" font-family=\"Helvetica,sans-Serif\" font-size=\"14.00\" fill=\"#000000\">class = acc</text>\n</g>\n<!-- 79&#45;&gt;80 -->\n<g id=\"edge80\" class=\"edge\">\n<title>79&#45;&gt;80</title>\n<path fill=\"none\" stroke=\"#000000\" d=\"M2350.6184,-341.8796C2345.1858,-333.1434 2339.4008,-323.8404 2333.7947,-314.8253\"/>\n<polygon fill=\"#000000\" stroke=\"#000000\" points=\"2336.7451,-312.9418 2328.4921,-306.2981 2330.8007,-316.6383 2336.7451,-312.9418\"/>\n</g>\n<!-- 83 -->\n<g id=\"node84\" class=\"node\">\n<title>83</title>\n<path fill=\"#399de5\" stroke=\"#000000\" d=\"M2505,-298.5C2505,-298.5 2398,-298.5 2398,-298.5 2392,-298.5 2386,-292.5 2386,-286.5 2386,-286.5 2386,-242.5 2386,-242.5 2386,-236.5 2392,-230.5 2398,-230.5 2398,-230.5 2505,-230.5 2505,-230.5 2511,-230.5 2517,-236.5 2517,-242.5 2517,-242.5 2517,-286.5 2517,-286.5 2517,-292.5 2511,-298.5 2505,-298.5\"/>\n<text text-anchor=\"start\" x=\"2422\" y=\"-283.3\" font-family=\"Helvetica,sans-Serif\" font-size=\"14.00\" fill=\"#000000\">gini = 0.0</text>\n<text text-anchor=\"start\" x=\"2412\" y=\"-268.3\" font-family=\"Helvetica,sans-Serif\" font-size=\"14.00\" fill=\"#000000\">samples = 6</text>\n<text text-anchor=\"start\" x=\"2394\" y=\"-253.3\" font-family=\"Helvetica,sans-Serif\" font-size=\"14.00\" fill=\"#000000\">value = [0, 0, 6, 0]</text>\n<text text-anchor=\"start\" x=\"2406\" y=\"-238.3\" font-family=\"Helvetica,sans-Serif\" font-size=\"14.00\" fill=\"#000000\">class = vgood</text>\n</g>\n<!-- 79&#45;&gt;83 -->\n<g id=\"edge83\" class=\"edge\">\n<title>79&#45;&gt;83</title>\n<path fill=\"none\" stroke=\"#000000\" d=\"M2402.7314,-341.8796C2409.731,-330.7735 2417.308,-318.7513 2424.3556,-307.5691\"/>\n<polygon fill=\"#000000\" stroke=\"#000000\" points=\"2427.502,-309.1411 2429.8729,-298.8149 2421.58,-305.4087 2427.502,-309.1411\"/>\n</g>\n<!-- 81 -->\n<g id=\"node82\" class=\"node\">\n<title>81</title>\n<path fill=\"#47e539\" stroke=\"#000000\" d=\"M2303,-179.5C2303,-179.5 2196,-179.5 2196,-179.5 2190,-179.5 2184,-173.5 2184,-167.5 2184,-167.5 2184,-123.5 2184,-123.5 2184,-117.5 2190,-111.5 2196,-111.5 2196,-111.5 2303,-111.5 2303,-111.5 2309,-111.5 2315,-117.5 2315,-123.5 2315,-123.5 2315,-167.5 2315,-167.5 2315,-173.5 2309,-179.5 2303,-179.5\"/>\n<text text-anchor=\"start\" x=\"2220\" y=\"-164.3\" font-family=\"Helvetica,sans-Serif\" font-size=\"14.00\" fill=\"#000000\">gini = 0.0</text>\n<text text-anchor=\"start\" x=\"2210\" y=\"-149.3\" font-family=\"Helvetica,sans-Serif\" font-size=\"14.00\" fill=\"#000000\">samples = 3</text>\n<text text-anchor=\"start\" x=\"2192\" y=\"-134.3\" font-family=\"Helvetica,sans-Serif\" font-size=\"14.00\" fill=\"#000000\">value = [0, 3, 0, 0]</text>\n<text text-anchor=\"start\" x=\"2213\" y=\"-119.3\" font-family=\"Helvetica,sans-Serif\" font-size=\"14.00\" fill=\"#000000\">class = acc</text>\n</g>\n<!-- 80&#45;&gt;81 -->\n<g id=\"edge81\" class=\"edge\">\n<title>80&#45;&gt;81</title>\n<path fill=\"none\" stroke=\"#000000\" d=\"M2283.9632,-222.8796C2279.1147,-211.9935 2273.8742,-200.227 2268.9783,-189.2344\"/>\n<polygon fill=\"#000000\" stroke=\"#000000\" points=\"2272.0489,-187.5259 2264.7831,-179.8149 2265.6545,-190.3739 2272.0489,-187.5259\"/>\n</g>\n<!-- 82 -->\n<g id=\"node83\" class=\"node\">\n<title>82</title>\n<path fill=\"#399de5\" stroke=\"#000000\" d=\"M2452,-179.5C2452,-179.5 2345,-179.5 2345,-179.5 2339,-179.5 2333,-173.5 2333,-167.5 2333,-167.5 2333,-123.5 2333,-123.5 2333,-117.5 2339,-111.5 2345,-111.5 2345,-111.5 2452,-111.5 2452,-111.5 2458,-111.5 2464,-117.5 2464,-123.5 2464,-123.5 2464,-167.5 2464,-167.5 2464,-173.5 2458,-179.5 2452,-179.5\"/>\n<text text-anchor=\"start\" x=\"2369\" y=\"-164.3\" font-family=\"Helvetica,sans-Serif\" font-size=\"14.00\" fill=\"#000000\">gini = 0.0</text>\n<text text-anchor=\"start\" x=\"2359\" y=\"-149.3\" font-family=\"Helvetica,sans-Serif\" font-size=\"14.00\" fill=\"#000000\">samples = 2</text>\n<text text-anchor=\"start\" x=\"2341\" y=\"-134.3\" font-family=\"Helvetica,sans-Serif\" font-size=\"14.00\" fill=\"#000000\">value = [0, 0, 2, 0]</text>\n<text text-anchor=\"start\" x=\"2353\" y=\"-119.3\" font-family=\"Helvetica,sans-Serif\" font-size=\"14.00\" fill=\"#000000\">class = vgood</text>\n</g>\n<!-- 80&#45;&gt;82 -->\n<g id=\"edge82\" class=\"edge\">\n<title>80&#45;&gt;82</title>\n<path fill=\"none\" stroke=\"#000000\" d=\"M2336.0761,-222.8796C2345.2131,-211.5536 2355.1187,-199.2748 2364.2902,-187.9058\"/>\n<polygon fill=\"#000000\" stroke=\"#000000\" points=\"2367.2626,-189.7957 2370.8174,-179.8149 2361.8144,-185.4005 2367.2626,-189.7957\"/>\n</g>\n<!-- 85 -->\n<g id=\"node86\" class=\"node\">\n<title>85</title>\n<path fill=\"#d7f9d4\" stroke=\"#000000\" d=\"M2952,-782C2952,-782 2829,-782 2829,-782 2823,-782 2817,-776 2817,-770 2817,-770 2817,-711 2817,-711 2817,-705 2823,-699 2829,-699 2829,-699 2952,-699 2952,-699 2958,-699 2964,-705 2964,-711 2964,-711 2964,-770 2964,-770 2964,-776 2958,-782 2952,-782\"/>\n<text text-anchor=\"start\" x=\"2844.5\" y=\"-766.8\" font-family=\"Helvetica,sans-Serif\" font-size=\"14.00\" fill=\"#000000\">lug_boot ≤ 0.5</text>\n<text text-anchor=\"start\" x=\"2857\" y=\"-751.8\" font-family=\"Helvetica,sans-Serif\" font-size=\"14.00\" fill=\"#000000\">gini = 0.55</text>\n<text text-anchor=\"start\" x=\"2846.5\" y=\"-736.8\" font-family=\"Helvetica,sans-Serif\" font-size=\"14.00\" fill=\"#000000\">samples = 62</text>\n<text text-anchor=\"start\" x=\"2825\" y=\"-721.8\" font-family=\"Helvetica,sans-Serif\" font-size=\"14.00\" fill=\"#000000\">value = [4, 33, 0, 25]</text>\n<text text-anchor=\"start\" x=\"2854\" y=\"-706.8\" font-family=\"Helvetica,sans-Serif\" font-size=\"14.00\" fill=\"#000000\">class = acc</text>\n</g>\n<!-- 84&#45;&gt;85 -->\n<g id=\"edge85\" class=\"edge\">\n<title>84&#45;&gt;85</title>\n<path fill=\"none\" stroke=\"#000000\" d=\"M2890.5,-817.8796C2890.5,-809.6838 2890.5,-800.9891 2890.5,-792.5013\"/>\n<polygon fill=\"#000000\" stroke=\"#000000\" points=\"2894.0001,-792.298 2890.5,-782.2981 2887.0001,-792.2981 2894.0001,-792.298\"/>\n</g>\n<!-- 106 -->\n<g id=\"node107\" class=\"node\">\n<title>106</title>\n<path fill=\"#aad5f4\" stroke=\"#000000\" d=\"M3784,-782C3784,-782 3661,-782 3661,-782 3655,-782 3649,-776 3649,-770 3649,-770 3649,-711 3649,-711 3649,-705 3655,-699 3661,-699 3661,-699 3784,-699 3784,-699 3790,-699 3796,-705 3796,-711 3796,-711 3796,-770 3796,-770 3796,-776 3790,-782 3784,-782\"/>\n<text text-anchor=\"start\" x=\"3676.5\" y=\"-766.8\" font-family=\"Helvetica,sans-Serif\" font-size=\"14.00\" fill=\"#000000\">lug_boot ≤ 0.5</text>\n<text text-anchor=\"start\" x=\"3684.5\" y=\"-751.8\" font-family=\"Helvetica,sans-Serif\" font-size=\"14.00\" fill=\"#000000\">gini = 0.573</text>\n<text text-anchor=\"start\" x=\"3678.5\" y=\"-736.8\" font-family=\"Helvetica,sans-Serif\" font-size=\"14.00\" fill=\"#000000\">samples = 70</text>\n<text text-anchor=\"start\" x=\"3657\" y=\"-721.8\" font-family=\"Helvetica,sans-Serif\" font-size=\"14.00\" fill=\"#000000\">value = [4, 6, 41, 19]</text>\n<text text-anchor=\"start\" x=\"3677\" y=\"-706.8\" font-family=\"Helvetica,sans-Serif\" font-size=\"14.00\" fill=\"#000000\">class = vgood</text>\n</g>\n<!-- 84&#45;&gt;106 -->\n<g id=\"edge106\" class=\"edge\">\n<title>84&#45;&gt;106</title>\n<path fill=\"none\" stroke=\"#000000\" d=\"M2968.0254,-848.4116C3124.4409,-826.0397 3476.6419,-775.6648 3638.3878,-752.5305\"/>\n<polygon fill=\"#000000\" stroke=\"#000000\" points=\"3639.3585,-755.9273 3648.7622,-751.0466 3638.3674,-748.9979 3639.3585,-755.9273\"/>\n</g>\n<!-- 86 -->\n<g id=\"node87\" class=\"node\">\n<title>86</title>\n<path fill=\"#6aea5f\" stroke=\"#000000\" d=\"M2868,-663C2868,-663 2753,-663 2753,-663 2747,-663 2741,-657 2741,-651 2741,-651 2741,-592 2741,-592 2741,-586 2747,-580 2753,-580 2753,-580 2868,-580 2868,-580 2874,-580 2880,-586 2880,-592 2880,-592 2880,-651 2880,-651 2880,-657 2874,-663 2868,-663\"/>\n<text text-anchor=\"start\" x=\"2774\" y=\"-647.8\" font-family=\"Helvetica,sans-Serif\" font-size=\"14.00\" fill=\"#000000\">doors ≤ 0.5</text>\n<text text-anchor=\"start\" x=\"2772.5\" y=\"-632.8\" font-family=\"Helvetica,sans-Serif\" font-size=\"14.00\" fill=\"#000000\">gini = 0.269</text>\n<text text-anchor=\"start\" x=\"2766.5\" y=\"-617.8\" font-family=\"Helvetica,sans-Serif\" font-size=\"14.00\" fill=\"#000000\">samples = 25</text>\n<text text-anchor=\"start\" x=\"2749\" y=\"-602.8\" font-family=\"Helvetica,sans-Serif\" font-size=\"14.00\" fill=\"#000000\">value = [4, 21, 0, 0]</text>\n<text text-anchor=\"start\" x=\"2774\" y=\"-587.8\" font-family=\"Helvetica,sans-Serif\" font-size=\"14.00\" fill=\"#000000\">class = acc</text>\n</g>\n<!-- 85&#45;&gt;86 -->\n<g id=\"edge86\" class=\"edge\">\n<title>85&#45;&gt;86</title>\n<path fill=\"none\" stroke=\"#000000\" d=\"M2862.5199,-698.8796C2856.6469,-690.1434 2850.3927,-680.8404 2844.3321,-671.8253\"/>\n<polygon fill=\"#000000\" stroke=\"#000000\" points=\"2847.0834,-669.6444 2838.5995,-663.2981 2841.2741,-673.5498 2847.0834,-669.6444\"/>\n</g>\n<!-- 91 -->\n<g id=\"node92\" class=\"node\">\n<title>91</title>\n<path fill=\"#ea98f1\" stroke=\"#000000\" d=\"M3033,-663C3033,-663 2910,-663 2910,-663 2904,-663 2898,-657 2898,-651 2898,-651 2898,-592 2898,-592 2898,-586 2904,-580 2910,-580 2910,-580 3033,-580 3033,-580 3039,-580 3045,-586 3045,-592 3045,-592 3045,-651 3045,-651 3045,-657 3039,-663 3033,-663\"/>\n<text text-anchor=\"start\" x=\"2932\" y=\"-647.8\" font-family=\"Helvetica,sans-Serif\" font-size=\"14.00\" fill=\"#000000\">buying ≤ 2.5</text>\n<text text-anchor=\"start\" x=\"2933.5\" y=\"-632.8\" font-family=\"Helvetica,sans-Serif\" font-size=\"14.00\" fill=\"#000000\">gini = 0.438</text>\n<text text-anchor=\"start\" x=\"2927.5\" y=\"-617.8\" font-family=\"Helvetica,sans-Serif\" font-size=\"14.00\" fill=\"#000000\">samples = 37</text>\n<text text-anchor=\"start\" x=\"2906\" y=\"-602.8\" font-family=\"Helvetica,sans-Serif\" font-size=\"14.00\" fill=\"#000000\">value = [0, 12, 0, 25]</text>\n<text text-anchor=\"start\" x=\"2930\" y=\"-587.8\" font-family=\"Helvetica,sans-Serif\" font-size=\"14.00\" fill=\"#000000\">class = good</text>\n</g>\n<!-- 85&#45;&gt;91 -->\n<g id=\"edge91\" class=\"edge\">\n<title>85&#45;&gt;91</title>\n<path fill=\"none\" stroke=\"#000000\" d=\"M2918.8299,-698.8796C2924.7763,-690.1434 2931.1086,-680.8404 2937.245,-671.8253\"/>\n<polygon fill=\"#000000\" stroke=\"#000000\" points=\"2940.3156,-673.5342 2943.0492,-663.2981 2934.5289,-669.5953 2940.3156,-673.5342\"/>\n</g>\n<!-- 87 -->\n<g id=\"node88\" class=\"node\">\n<title>87</title>\n<path fill=\"#ffffff\" stroke=\"#000000\" d=\"M2712,-544C2712,-544 2605,-544 2605,-544 2599,-544 2593,-538 2593,-532 2593,-532 2593,-473 2593,-473 2593,-467 2599,-461 2605,-461 2605,-461 2712,-461 2712,-461 2718,-461 2724,-467 2724,-473 2724,-473 2724,-532 2724,-532 2724,-538 2718,-544 2712,-544\"/>\n<text text-anchor=\"start\" x=\"2614.5\" y=\"-528.8\" font-family=\"Helvetica,sans-Serif\" font-size=\"14.00\" fill=\"#000000\">persons ≤ 1.5</text>\n<text text-anchor=\"start\" x=\"2629\" y=\"-513.8\" font-family=\"Helvetica,sans-Serif\" font-size=\"14.00\" fill=\"#000000\">gini = 0.5</text>\n<text text-anchor=\"start\" x=\"2619\" y=\"-498.8\" font-family=\"Helvetica,sans-Serif\" font-size=\"14.00\" fill=\"#000000\">samples = 8</text>\n<text text-anchor=\"start\" x=\"2601\" y=\"-483.8\" font-family=\"Helvetica,sans-Serif\" font-size=\"14.00\" fill=\"#000000\">value = [4, 4, 0, 0]</text>\n<text text-anchor=\"start\" x=\"2613.5\" y=\"-468.8\" font-family=\"Helvetica,sans-Serif\" font-size=\"14.00\" fill=\"#000000\">class = unacc</text>\n</g>\n<!-- 86&#45;&gt;87 -->\n<g id=\"edge87\" class=\"edge\">\n<title>86&#45;&gt;87</title>\n<path fill=\"none\" stroke=\"#000000\" d=\"M2757.3378,-579.8796C2745.1885,-570.368 2732.1808,-560.1843 2719.724,-550.432\"/>\n<polygon fill=\"#000000\" stroke=\"#000000\" points=\"2721.6638,-547.5055 2711.6322,-544.0969 2717.3486,-553.0173 2721.6638,-547.5055\"/>\n</g>\n<!-- 90 -->\n<g id=\"node91\" class=\"node\">\n<title>90</title>\n<path fill=\"#47e539\" stroke=\"#000000\" d=\"M2869,-536.5C2869,-536.5 2754,-536.5 2754,-536.5 2748,-536.5 2742,-530.5 2742,-524.5 2742,-524.5 2742,-480.5 2742,-480.5 2742,-474.5 2748,-468.5 2754,-468.5 2754,-468.5 2869,-468.5 2869,-468.5 2875,-468.5 2881,-474.5 2881,-480.5 2881,-480.5 2881,-524.5 2881,-524.5 2881,-530.5 2875,-536.5 2869,-536.5\"/>\n<text text-anchor=\"start\" x=\"2782\" y=\"-521.3\" font-family=\"Helvetica,sans-Serif\" font-size=\"14.00\" fill=\"#000000\">gini = 0.0</text>\n<text text-anchor=\"start\" x=\"2767.5\" y=\"-506.3\" font-family=\"Helvetica,sans-Serif\" font-size=\"14.00\" fill=\"#000000\">samples = 17</text>\n<text text-anchor=\"start\" x=\"2750\" y=\"-491.3\" font-family=\"Helvetica,sans-Serif\" font-size=\"14.00\" fill=\"#000000\">value = [0, 17, 0, 0]</text>\n<text text-anchor=\"start\" x=\"2775\" y=\"-476.3\" font-family=\"Helvetica,sans-Serif\" font-size=\"14.00\" fill=\"#000000\">class = acc</text>\n</g>\n<!-- 86&#45;&gt;90 -->\n<g id=\"edge90\" class=\"edge\">\n<title>86&#45;&gt;90</title>\n<path fill=\"none\" stroke=\"#000000\" d=\"M2810.8498,-579.8796C2810.9394,-569.2134 2811.0361,-557.7021 2811.1269,-546.9015\"/>\n<polygon fill=\"#000000\" stroke=\"#000000\" points=\"2814.6274,-546.844 2811.2116,-536.8149 2807.6276,-546.7851 2814.6274,-546.844\"/>\n</g>\n<!-- 88 -->\n<g id=\"node89\" class=\"node\">\n<title>88</title>\n<path fill=\"#47e539\" stroke=\"#000000\" d=\"M2579,-417.5C2579,-417.5 2472,-417.5 2472,-417.5 2466,-417.5 2460,-411.5 2460,-405.5 2460,-405.5 2460,-361.5 2460,-361.5 2460,-355.5 2466,-349.5 2472,-349.5 2472,-349.5 2579,-349.5 2579,-349.5 2585,-349.5 2591,-355.5 2591,-361.5 2591,-361.5 2591,-405.5 2591,-405.5 2591,-411.5 2585,-417.5 2579,-417.5\"/>\n<text text-anchor=\"start\" x=\"2496\" y=\"-402.3\" font-family=\"Helvetica,sans-Serif\" font-size=\"14.00\" fill=\"#000000\">gini = 0.0</text>\n<text text-anchor=\"start\" x=\"2486\" y=\"-387.3\" font-family=\"Helvetica,sans-Serif\" font-size=\"14.00\" fill=\"#000000\">samples = 4</text>\n<text text-anchor=\"start\" x=\"2468\" y=\"-372.3\" font-family=\"Helvetica,sans-Serif\" font-size=\"14.00\" fill=\"#000000\">value = [0, 4, 0, 0]</text>\n<text text-anchor=\"start\" x=\"2489\" y=\"-357.3\" font-family=\"Helvetica,sans-Serif\" font-size=\"14.00\" fill=\"#000000\">class = acc</text>\n</g>\n<!-- 87&#45;&gt;88 -->\n<g id=\"edge88\" class=\"edge\">\n<title>87&#45;&gt;88</title>\n<path fill=\"none\" stroke=\"#000000\" d=\"M2611.9831,-460.8796C2598.833,-449.1138 2584.5337,-436.3197 2571.4191,-424.5855\"/>\n<polygon fill=\"#000000\" stroke=\"#000000\" points=\"2573.6382,-421.8746 2563.852,-417.8149 2568.9706,-427.0913 2573.6382,-421.8746\"/>\n</g>\n<!-- 89 -->\n<g id=\"node90\" class=\"node\">\n<title>89</title>\n<path fill=\"#e58139\" stroke=\"#000000\" d=\"M2728,-417.5C2728,-417.5 2621,-417.5 2621,-417.5 2615,-417.5 2609,-411.5 2609,-405.5 2609,-405.5 2609,-361.5 2609,-361.5 2609,-355.5 2615,-349.5 2621,-349.5 2621,-349.5 2728,-349.5 2728,-349.5 2734,-349.5 2740,-355.5 2740,-361.5 2740,-361.5 2740,-405.5 2740,-405.5 2740,-411.5 2734,-417.5 2728,-417.5\"/>\n<text text-anchor=\"start\" x=\"2645\" y=\"-402.3\" font-family=\"Helvetica,sans-Serif\" font-size=\"14.00\" fill=\"#000000\">gini = 0.0</text>\n<text text-anchor=\"start\" x=\"2635\" y=\"-387.3\" font-family=\"Helvetica,sans-Serif\" font-size=\"14.00\" fill=\"#000000\">samples = 4</text>\n<text text-anchor=\"start\" x=\"2617\" y=\"-372.3\" font-family=\"Helvetica,sans-Serif\" font-size=\"14.00\" fill=\"#000000\">value = [4, 0, 0, 0]</text>\n<text text-anchor=\"start\" x=\"2629.5\" y=\"-357.3\" font-family=\"Helvetica,sans-Serif\" font-size=\"14.00\" fill=\"#000000\">class = unacc</text>\n</g>\n<!-- 87&#45;&gt;89 -->\n<g id=\"edge89\" class=\"edge\">\n<title>87&#45;&gt;89</title>\n<path fill=\"none\" stroke=\"#000000\" d=\"M2664.096,-460.8796C2665.5301,-450.2134 2667.0779,-438.7021 2668.53,-427.9015\"/>\n<polygon fill=\"#000000\" stroke=\"#000000\" points=\"2672.0224,-428.1922 2669.8862,-417.8149 2665.0848,-427.2593 2672.0224,-428.1922\"/>\n</g>\n<!-- 92 -->\n<g id=\"node93\" class=\"node\">\n<title>92</title>\n<path fill=\"#dafad7\" stroke=\"#000000\" d=\"M3028,-544C3028,-544 2913,-544 2913,-544 2907,-544 2901,-538 2901,-532 2901,-532 2901,-473 2901,-473 2901,-467 2907,-461 2913,-461 2913,-461 3028,-461 3028,-461 3034,-461 3040,-467 3040,-473 3040,-473 3040,-532 3040,-532 3040,-538 3034,-544 3028,-544\"/>\n<text text-anchor=\"start\" x=\"2935\" y=\"-528.8\" font-family=\"Helvetica,sans-Serif\" font-size=\"14.00\" fill=\"#000000\">maint ≤ 2.5</text>\n<text text-anchor=\"start\" x=\"2932.5\" y=\"-513.8\" font-family=\"Helvetica,sans-Serif\" font-size=\"14.00\" fill=\"#000000\">gini = 0.494</text>\n<text text-anchor=\"start\" x=\"2926.5\" y=\"-498.8\" font-family=\"Helvetica,sans-Serif\" font-size=\"14.00\" fill=\"#000000\">samples = 18</text>\n<text text-anchor=\"start\" x=\"2909\" y=\"-483.8\" font-family=\"Helvetica,sans-Serif\" font-size=\"14.00\" fill=\"#000000\">value = [0, 10, 0, 8]</text>\n<text text-anchor=\"start\" x=\"2934\" y=\"-468.8\" font-family=\"Helvetica,sans-Serif\" font-size=\"14.00\" fill=\"#000000\">class = acc</text>\n</g>\n<!-- 91&#45;&gt;92 -->\n<g id=\"edge92\" class=\"edge\">\n<title>91&#45;&gt;92</title>\n<path fill=\"none\" stroke=\"#000000\" d=\"M2971.1502,-579.8796C2971.0814,-571.6838 2971.0083,-562.9891 2970.937,-554.5013\"/>\n<polygon fill=\"#000000\" stroke=\"#000000\" points=\"2974.4352,-554.2683 2970.8512,-544.2981 2967.4355,-554.3272 2974.4352,-554.2683\"/>\n</g>\n<!-- 99 -->\n<g id=\"node100\" class=\"node\">\n<title>99</title>\n<path fill=\"#dc50e8\" stroke=\"#000000\" d=\"M3185,-544C3185,-544 3070,-544 3070,-544 3064,-544 3058,-538 3058,-532 3058,-532 3058,-473 3058,-473 3058,-467 3064,-461 3070,-461 3070,-461 3185,-461 3185,-461 3191,-461 3197,-467 3197,-473 3197,-473 3197,-532 3197,-532 3197,-538 3191,-544 3185,-544\"/>\n<text text-anchor=\"start\" x=\"3091\" y=\"-528.8\" font-family=\"Helvetica,sans-Serif\" font-size=\"14.00\" fill=\"#000000\">doors ≤ 1.5</text>\n<text text-anchor=\"start\" x=\"3089.5\" y=\"-513.8\" font-family=\"Helvetica,sans-Serif\" font-size=\"14.00\" fill=\"#000000\">gini = 0.188</text>\n<text text-anchor=\"start\" x=\"3083.5\" y=\"-498.8\" font-family=\"Helvetica,sans-Serif\" font-size=\"14.00\" fill=\"#000000\">samples = 19</text>\n<text text-anchor=\"start\" x=\"3066\" y=\"-483.8\" font-family=\"Helvetica,sans-Serif\" font-size=\"14.00\" fill=\"#000000\">value = [0, 2, 0, 17]</text>\n<text text-anchor=\"start\" x=\"3086\" y=\"-468.8\" font-family=\"Helvetica,sans-Serif\" font-size=\"14.00\" fill=\"#000000\">class = good</text>\n</g>\n<!-- 91&#45;&gt;99 -->\n<g id=\"edge99\" class=\"edge\">\n<title>91&#45;&gt;99</title>\n<path fill=\"none\" stroke=\"#000000\" d=\"M3026.0612,-579.8796C3038.5302,-570.368 3051.8802,-560.1843 3064.6648,-550.432\"/>\n<polygon fill=\"#000000\" stroke=\"#000000\" points=\"3067.1415,-552.9448 3072.9696,-544.0969 3062.896,-547.3792 3067.1415,-552.9448\"/>\n</g>\n<!-- 93 -->\n<g id=\"node94\" class=\"node\">\n<title>93</title>\n<path fill=\"#47e539\" stroke=\"#000000\" d=\"M2877,-417.5C2877,-417.5 2770,-417.5 2770,-417.5 2764,-417.5 2758,-411.5 2758,-405.5 2758,-405.5 2758,-361.5 2758,-361.5 2758,-355.5 2764,-349.5 2770,-349.5 2770,-349.5 2877,-349.5 2877,-349.5 2883,-349.5 2889,-355.5 2889,-361.5 2889,-361.5 2889,-405.5 2889,-405.5 2889,-411.5 2883,-417.5 2877,-417.5\"/>\n<text text-anchor=\"start\" x=\"2794\" y=\"-402.3\" font-family=\"Helvetica,sans-Serif\" font-size=\"14.00\" fill=\"#000000\">gini = 0.0</text>\n<text text-anchor=\"start\" x=\"2784\" y=\"-387.3\" font-family=\"Helvetica,sans-Serif\" font-size=\"14.00\" fill=\"#000000\">samples = 9</text>\n<text text-anchor=\"start\" x=\"2766\" y=\"-372.3\" font-family=\"Helvetica,sans-Serif\" font-size=\"14.00\" fill=\"#000000\">value = [0, 9, 0, 0]</text>\n<text text-anchor=\"start\" x=\"2787\" y=\"-357.3\" font-family=\"Helvetica,sans-Serif\" font-size=\"14.00\" fill=\"#000000\">class = acc</text>\n</g>\n<!-- 92&#45;&gt;93 -->\n<g id=\"edge93\" class=\"edge\">\n<title>92&#45;&gt;93</title>\n<path fill=\"none\" stroke=\"#000000\" d=\"M2919.0865,-460.8796C2904.4165,-449.0038 2888.4523,-436.0804 2873.8467,-424.2568\"/>\n<polygon fill=\"#000000\" stroke=\"#000000\" points=\"2875.8637,-421.3866 2865.889,-417.8149 2871.4593,-426.8273 2875.8637,-421.3866\"/>\n</g>\n<!-- 94 -->\n<g id=\"node95\" class=\"node\">\n<title>94</title>\n<path fill=\"#dc52e8\" stroke=\"#000000\" d=\"M3026,-425C3026,-425 2919,-425 2919,-425 2913,-425 2907,-419 2907,-413 2907,-413 2907,-354 2907,-354 2907,-348 2913,-342 2919,-342 2919,-342 3026,-342 3026,-342 3032,-342 3038,-348 3038,-354 3038,-354 3038,-413 3038,-413 3038,-419 3032,-425 3026,-425\"/>\n<text text-anchor=\"start\" x=\"2936\" y=\"-409.8\" font-family=\"Helvetica,sans-Serif\" font-size=\"14.00\" fill=\"#000000\">doors ≤ 0.5</text>\n<text text-anchor=\"start\" x=\"2934.5\" y=\"-394.8\" font-family=\"Helvetica,sans-Serif\" font-size=\"14.00\" fill=\"#000000\">gini = 0.198</text>\n<text text-anchor=\"start\" x=\"2933\" y=\"-379.8\" font-family=\"Helvetica,sans-Serif\" font-size=\"14.00\" fill=\"#000000\">samples = 9</text>\n<text text-anchor=\"start\" x=\"2915\" y=\"-364.8\" font-family=\"Helvetica,sans-Serif\" font-size=\"14.00\" fill=\"#000000\">value = [0, 1, 0, 8]</text>\n<text text-anchor=\"start\" x=\"2931\" y=\"-349.8\" font-family=\"Helvetica,sans-Serif\" font-size=\"14.00\" fill=\"#000000\">class = good</text>\n</g>\n<!-- 92&#45;&gt;94 -->\n<g id=\"edge94\" class=\"edge\">\n<title>92&#45;&gt;94</title>\n<path fill=\"none\" stroke=\"#000000\" d=\"M2971.1995,-460.8796C2971.3372,-452.6838 2971.4834,-443.9891 2971.626,-435.5013\"/>\n<polygon fill=\"#000000\" stroke=\"#000000\" points=\"2975.1289,-435.3555 2971.7975,-425.2981 2968.1299,-435.2378 2975.1289,-435.3555\"/>\n</g>\n<!-- 95 -->\n<g id=\"node96\" class=\"node\">\n<title>95</title>\n<path fill=\"#ffffff\" stroke=\"#000000\" d=\"M2877,-306C2877,-306 2770,-306 2770,-306 2764,-306 2758,-300 2758,-294 2758,-294 2758,-235 2758,-235 2758,-229 2764,-223 2770,-223 2770,-223 2877,-223 2877,-223 2883,-223 2889,-229 2889,-235 2889,-235 2889,-294 2889,-294 2889,-300 2883,-306 2877,-306\"/>\n<text text-anchor=\"start\" x=\"2777.5\" y=\"-290.8\" font-family=\"Helvetica,sans-Serif\" font-size=\"14.00\" fill=\"#000000\">lug_boot ≤ 1.5</text>\n<text text-anchor=\"start\" x=\"2794\" y=\"-275.8\" font-family=\"Helvetica,sans-Serif\" font-size=\"14.00\" fill=\"#000000\">gini = 0.5</text>\n<text text-anchor=\"start\" x=\"2784\" y=\"-260.8\" font-family=\"Helvetica,sans-Serif\" font-size=\"14.00\" fill=\"#000000\">samples = 2</text>\n<text text-anchor=\"start\" x=\"2766\" y=\"-245.8\" font-family=\"Helvetica,sans-Serif\" font-size=\"14.00\" fill=\"#000000\">value = [0, 1, 0, 1]</text>\n<text text-anchor=\"start\" x=\"2787\" y=\"-230.8\" font-family=\"Helvetica,sans-Serif\" font-size=\"14.00\" fill=\"#000000\">class = acc</text>\n</g>\n<!-- 94&#45;&gt;95 -->\n<g id=\"edge95\" class=\"edge\">\n<title>94&#45;&gt;95</title>\n<path fill=\"none\" stroke=\"#000000\" d=\"M2920.387,-341.8796C2908.4775,-332.368 2895.7266,-322.1843 2883.5156,-312.432\"/>\n<polygon fill=\"#000000\" stroke=\"#000000\" points=\"2885.5816,-309.6027 2875.5835,-306.0969 2881.2132,-315.0724 2885.5816,-309.6027\"/>\n</g>\n<!-- 98 -->\n<g id=\"node99\" class=\"node\">\n<title>98</title>\n<path fill=\"#d739e5\" stroke=\"#000000\" d=\"M3026,-298.5C3026,-298.5 2919,-298.5 2919,-298.5 2913,-298.5 2907,-292.5 2907,-286.5 2907,-286.5 2907,-242.5 2907,-242.5 2907,-236.5 2913,-230.5 2919,-230.5 2919,-230.5 3026,-230.5 3026,-230.5 3032,-230.5 3038,-236.5 3038,-242.5 3038,-242.5 3038,-286.5 3038,-286.5 3038,-292.5 3032,-298.5 3026,-298.5\"/>\n<text text-anchor=\"start\" x=\"2943\" y=\"-283.3\" font-family=\"Helvetica,sans-Serif\" font-size=\"14.00\" fill=\"#000000\">gini = 0.0</text>\n<text text-anchor=\"start\" x=\"2933\" y=\"-268.3\" font-family=\"Helvetica,sans-Serif\" font-size=\"14.00\" fill=\"#000000\">samples = 7</text>\n<text text-anchor=\"start\" x=\"2915\" y=\"-253.3\" font-family=\"Helvetica,sans-Serif\" font-size=\"14.00\" fill=\"#000000\">value = [0, 0, 0, 7]</text>\n<text text-anchor=\"start\" x=\"2931\" y=\"-238.3\" font-family=\"Helvetica,sans-Serif\" font-size=\"14.00\" fill=\"#000000\">class = good</text>\n</g>\n<!-- 94&#45;&gt;98 -->\n<g id=\"edge98\" class=\"edge\">\n<title>94&#45;&gt;98</title>\n<path fill=\"none\" stroke=\"#000000\" d=\"M2972.5,-341.8796C2972.5,-331.2134 2972.5,-319.7021 2972.5,-308.9015\"/>\n<polygon fill=\"#000000\" stroke=\"#000000\" points=\"2976.0001,-308.8149 2972.5,-298.8149 2969.0001,-308.815 2976.0001,-308.8149\"/>\n</g>\n<!-- 96 -->\n<g id=\"node97\" class=\"node\">\n<title>96</title>\n<path fill=\"#47e539\" stroke=\"#000000\" d=\"M2765,-179.5C2765,-179.5 2658,-179.5 2658,-179.5 2652,-179.5 2646,-173.5 2646,-167.5 2646,-167.5 2646,-123.5 2646,-123.5 2646,-117.5 2652,-111.5 2658,-111.5 2658,-111.5 2765,-111.5 2765,-111.5 2771,-111.5 2777,-117.5 2777,-123.5 2777,-123.5 2777,-167.5 2777,-167.5 2777,-173.5 2771,-179.5 2765,-179.5\"/>\n<text text-anchor=\"start\" x=\"2682\" y=\"-164.3\" font-family=\"Helvetica,sans-Serif\" font-size=\"14.00\" fill=\"#000000\">gini = 0.0</text>\n<text text-anchor=\"start\" x=\"2672\" y=\"-149.3\" font-family=\"Helvetica,sans-Serif\" font-size=\"14.00\" fill=\"#000000\">samples = 1</text>\n<text text-anchor=\"start\" x=\"2654\" y=\"-134.3\" font-family=\"Helvetica,sans-Serif\" font-size=\"14.00\" fill=\"#000000\">value = [0, 1, 0, 0]</text>\n<text text-anchor=\"start\" x=\"2675\" y=\"-119.3\" font-family=\"Helvetica,sans-Serif\" font-size=\"14.00\" fill=\"#000000\">class = acc</text>\n</g>\n<!-- 95&#45;&gt;96 -->\n<g id=\"edge96\" class=\"edge\">\n<title>95&#45;&gt;96</title>\n<path fill=\"none\" stroke=\"#000000\" d=\"M2784.3278,-222.8796C2773.4611,-211.3337 2761.6624,-198.7976 2750.7891,-187.2446\"/>\n<polygon fill=\"#000000\" stroke=\"#000000\" points=\"2753.1988,-184.6982 2743.7964,-179.8149 2748.1014,-189.4958 2753.1988,-184.6982\"/>\n</g>\n<!-- 97 -->\n<g id=\"node98\" class=\"node\">\n<title>97</title>\n<path fill=\"#d739e5\" stroke=\"#000000\" d=\"M2914,-179.5C2914,-179.5 2807,-179.5 2807,-179.5 2801,-179.5 2795,-173.5 2795,-167.5 2795,-167.5 2795,-123.5 2795,-123.5 2795,-117.5 2801,-111.5 2807,-111.5 2807,-111.5 2914,-111.5 2914,-111.5 2920,-111.5 2926,-117.5 2926,-123.5 2926,-123.5 2926,-167.5 2926,-167.5 2926,-173.5 2920,-179.5 2914,-179.5\"/>\n<text text-anchor=\"start\" x=\"2831\" y=\"-164.3\" font-family=\"Helvetica,sans-Serif\" font-size=\"14.00\" fill=\"#000000\">gini = 0.0</text>\n<text text-anchor=\"start\" x=\"2821\" y=\"-149.3\" font-family=\"Helvetica,sans-Serif\" font-size=\"14.00\" fill=\"#000000\">samples = 1</text>\n<text text-anchor=\"start\" x=\"2803\" y=\"-134.3\" font-family=\"Helvetica,sans-Serif\" font-size=\"14.00\" fill=\"#000000\">value = [0, 0, 0, 1]</text>\n<text text-anchor=\"start\" x=\"2819\" y=\"-119.3\" font-family=\"Helvetica,sans-Serif\" font-size=\"14.00\" fill=\"#000000\">class = good</text>\n</g>\n<!-- 95&#45;&gt;97 -->\n<g id=\"edge97\" class=\"edge\">\n<title>95&#45;&gt;97</title>\n<path fill=\"none\" stroke=\"#000000\" d=\"M2836.4408,-222.8796C2839.7914,-212.1034 2843.4101,-200.4647 2846.7983,-189.5677\"/>\n<polygon fill=\"#000000\" stroke=\"#000000\" points=\"2850.2037,-190.4032 2849.8307,-179.8149 2843.5194,-188.3248 2850.2037,-190.4032\"/>\n</g>\n<!-- 100 -->\n<g id=\"node101\" class=\"node\">\n<title>100</title>\n<path fill=\"#e47bee\" stroke=\"#000000\" d=\"M3179,-425C3179,-425 3072,-425 3072,-425 3066,-425 3060,-419 3060,-413 3060,-413 3060,-354 3060,-354 3060,-348 3066,-342 3072,-342 3072,-342 3179,-342 3179,-342 3185,-342 3191,-348 3191,-354 3191,-354 3191,-413 3191,-413 3191,-419 3185,-425 3179,-425\"/>\n<text text-anchor=\"start\" x=\"3079.5\" y=\"-409.8\" font-family=\"Helvetica,sans-Serif\" font-size=\"14.00\" fill=\"#000000\">lug_boot ≤ 1.5</text>\n<text text-anchor=\"start\" x=\"3087.5\" y=\"-394.8\" font-family=\"Helvetica,sans-Serif\" font-size=\"14.00\" fill=\"#000000\">gini = 0.375</text>\n<text text-anchor=\"start\" x=\"3086\" y=\"-379.8\" font-family=\"Helvetica,sans-Serif\" font-size=\"14.00\" fill=\"#000000\">samples = 8</text>\n<text text-anchor=\"start\" x=\"3068\" y=\"-364.8\" font-family=\"Helvetica,sans-Serif\" font-size=\"14.00\" fill=\"#000000\">value = [0, 2, 0, 6]</text>\n<text text-anchor=\"start\" x=\"3084\" y=\"-349.8\" font-family=\"Helvetica,sans-Serif\" font-size=\"14.00\" fill=\"#000000\">class = good</text>\n</g>\n<!-- 99&#45;&gt;100 -->\n<g id=\"edge100\" class=\"edge\">\n<title>99&#45;&gt;100</title>\n<path fill=\"none\" stroke=\"#000000\" d=\"M3126.8005,-460.8796C3126.6628,-452.6838 3126.5166,-443.9891 3126.374,-435.5013\"/>\n<polygon fill=\"#000000\" stroke=\"#000000\" points=\"3129.8701,-435.2378 3126.2025,-425.2981 3122.8711,-435.3555 3129.8701,-435.2378\"/>\n</g>\n<!-- 105 -->\n<g id=\"node106\" class=\"node\">\n<title>105</title>\n<path fill=\"#d739e5\" stroke=\"#000000\" d=\"M3336,-417.5C3336,-417.5 3221,-417.5 3221,-417.5 3215,-417.5 3209,-411.5 3209,-405.5 3209,-405.5 3209,-361.5 3209,-361.5 3209,-355.5 3215,-349.5 3221,-349.5 3221,-349.5 3336,-349.5 3336,-349.5 3342,-349.5 3348,-355.5 3348,-361.5 3348,-361.5 3348,-405.5 3348,-405.5 3348,-411.5 3342,-417.5 3336,-417.5\"/>\n<text text-anchor=\"start\" x=\"3249\" y=\"-402.3\" font-family=\"Helvetica,sans-Serif\" font-size=\"14.00\" fill=\"#000000\">gini = 0.0</text>\n<text text-anchor=\"start\" x=\"3234.5\" y=\"-387.3\" font-family=\"Helvetica,sans-Serif\" font-size=\"14.00\" fill=\"#000000\">samples = 11</text>\n<text text-anchor=\"start\" x=\"3217\" y=\"-372.3\" font-family=\"Helvetica,sans-Serif\" font-size=\"14.00\" fill=\"#000000\">value = [0, 0, 0, 11]</text>\n<text text-anchor=\"start\" x=\"3237\" y=\"-357.3\" font-family=\"Helvetica,sans-Serif\" font-size=\"14.00\" fill=\"#000000\">class = good</text>\n</g>\n<!-- 99&#45;&gt;105 -->\n<g id=\"edge105\" class=\"edge\">\n<title>99&#45;&gt;105</title>\n<path fill=\"none\" stroke=\"#000000\" d=\"M3180.3125,-460.8796C3195.3817,-449.0038 3211.7803,-436.0804 3226.7834,-424.2568\"/>\n<polygon fill=\"#000000\" stroke=\"#000000\" points=\"3229.2698,-426.7536 3234.9575,-417.8149 3224.9369,-421.2557 3229.2698,-426.7536\"/>\n</g>\n<!-- 101 -->\n<g id=\"node102\" class=\"node\">\n<title>101</title>\n<path fill=\"#ffffff\" stroke=\"#000000\" d=\"M3175,-306C3175,-306 3068,-306 3068,-306 3062,-306 3056,-300 3056,-294 3056,-294 3056,-235 3056,-235 3056,-229 3062,-223 3068,-223 3068,-223 3175,-223 3175,-223 3181,-223 3187,-229 3187,-235 3187,-235 3187,-294 3187,-294 3187,-300 3181,-306 3175,-306\"/>\n<text text-anchor=\"start\" x=\"3077.5\" y=\"-290.8\" font-family=\"Helvetica,sans-Serif\" font-size=\"14.00\" fill=\"#000000\">persons ≤ 1.5</text>\n<text text-anchor=\"start\" x=\"3092\" y=\"-275.8\" font-family=\"Helvetica,sans-Serif\" font-size=\"14.00\" fill=\"#000000\">gini = 0.5</text>\n<text text-anchor=\"start\" x=\"3082\" y=\"-260.8\" font-family=\"Helvetica,sans-Serif\" font-size=\"14.00\" fill=\"#000000\">samples = 4</text>\n<text text-anchor=\"start\" x=\"3064\" y=\"-245.8\" font-family=\"Helvetica,sans-Serif\" font-size=\"14.00\" fill=\"#000000\">value = [0, 2, 0, 2]</text>\n<text text-anchor=\"start\" x=\"3085\" y=\"-230.8\" font-family=\"Helvetica,sans-Serif\" font-size=\"14.00\" fill=\"#000000\">class = acc</text>\n</g>\n<!-- 100&#45;&gt;101 -->\n<g id=\"edge101\" class=\"edge\">\n<title>100&#45;&gt;101</title>\n<path fill=\"none\" stroke=\"#000000\" d=\"M3124.101,-341.8796C3123.8255,-333.6838 3123.5332,-324.9891 3123.2479,-316.5013\"/>\n<polygon fill=\"#000000\" stroke=\"#000000\" points=\"3126.739,-316.1748 3122.905,-306.2981 3119.743,-316.41 3126.739,-316.1748\"/>\n</g>\n<!-- 104 -->\n<g id=\"node105\" class=\"node\">\n<title>104</title>\n<path fill=\"#d739e5\" stroke=\"#000000\" d=\"M3324,-298.5C3324,-298.5 3217,-298.5 3217,-298.5 3211,-298.5 3205,-292.5 3205,-286.5 3205,-286.5 3205,-242.5 3205,-242.5 3205,-236.5 3211,-230.5 3217,-230.5 3217,-230.5 3324,-230.5 3324,-230.5 3330,-230.5 3336,-236.5 3336,-242.5 3336,-242.5 3336,-286.5 3336,-286.5 3336,-292.5 3330,-298.5 3324,-298.5\"/>\n<text text-anchor=\"start\" x=\"3241\" y=\"-283.3\" font-family=\"Helvetica,sans-Serif\" font-size=\"14.00\" fill=\"#000000\">gini = 0.0</text>\n<text text-anchor=\"start\" x=\"3231\" y=\"-268.3\" font-family=\"Helvetica,sans-Serif\" font-size=\"14.00\" fill=\"#000000\">samples = 4</text>\n<text text-anchor=\"start\" x=\"3213\" y=\"-253.3\" font-family=\"Helvetica,sans-Serif\" font-size=\"14.00\" fill=\"#000000\">value = [0, 0, 0, 4]</text>\n<text text-anchor=\"start\" x=\"3229\" y=\"-238.3\" font-family=\"Helvetica,sans-Serif\" font-size=\"14.00\" fill=\"#000000\">class = good</text>\n</g>\n<!-- 100&#45;&gt;104 -->\n<g id=\"edge104\" class=\"edge\">\n<title>100&#45;&gt;104</title>\n<path fill=\"none\" stroke=\"#000000\" d=\"M3176.214,-341.8796C3190.6844,-330.0038 3206.4314,-317.0804 3220.8383,-305.2568\"/>\n<polygon fill=\"#000000\" stroke=\"#000000\" points=\"3223.178,-307.8645 3228.6877,-298.8149 3218.7372,-302.4534 3223.178,-307.8645\"/>\n</g>\n<!-- 102 -->\n<g id=\"node103\" class=\"node\">\n<title>102</title>\n<path fill=\"#47e539\" stroke=\"#000000\" d=\"M3101,-179.5C3101,-179.5 2994,-179.5 2994,-179.5 2988,-179.5 2982,-173.5 2982,-167.5 2982,-167.5 2982,-123.5 2982,-123.5 2982,-117.5 2988,-111.5 2994,-111.5 2994,-111.5 3101,-111.5 3101,-111.5 3107,-111.5 3113,-117.5 3113,-123.5 3113,-123.5 3113,-167.5 3113,-167.5 3113,-173.5 3107,-179.5 3101,-179.5\"/>\n<text text-anchor=\"start\" x=\"3018\" y=\"-164.3\" font-family=\"Helvetica,sans-Serif\" font-size=\"14.00\" fill=\"#000000\">gini = 0.0</text>\n<text text-anchor=\"start\" x=\"3008\" y=\"-149.3\" font-family=\"Helvetica,sans-Serif\" font-size=\"14.00\" fill=\"#000000\">samples = 2</text>\n<text text-anchor=\"start\" x=\"2990\" y=\"-134.3\" font-family=\"Helvetica,sans-Serif\" font-size=\"14.00\" fill=\"#000000\">value = [0, 2, 0, 0]</text>\n<text text-anchor=\"start\" x=\"3011\" y=\"-119.3\" font-family=\"Helvetica,sans-Serif\" font-size=\"14.00\" fill=\"#000000\">class = acc</text>\n</g>\n<!-- 101&#45;&gt;102 -->\n<g id=\"edge102\" class=\"edge\">\n<title>101&#45;&gt;102</title>\n<path fill=\"none\" stroke=\"#000000\" d=\"M3095.6184,-222.8796C3088.7121,-211.7735 3081.2361,-199.7513 3074.2825,-188.5691\"/>\n<polygon fill=\"#000000\" stroke=\"#000000\" points=\"3077.0917,-186.4587 3068.8387,-179.8149 3071.1473,-190.1552 3077.0917,-186.4587\"/>\n</g>\n<!-- 103 -->\n<g id=\"node104\" class=\"node\">\n<title>103</title>\n<path fill=\"#d739e5\" stroke=\"#000000\" d=\"M3250,-179.5C3250,-179.5 3143,-179.5 3143,-179.5 3137,-179.5 3131,-173.5 3131,-167.5 3131,-167.5 3131,-123.5 3131,-123.5 3131,-117.5 3137,-111.5 3143,-111.5 3143,-111.5 3250,-111.5 3250,-111.5 3256,-111.5 3262,-117.5 3262,-123.5 3262,-123.5 3262,-167.5 3262,-167.5 3262,-173.5 3256,-179.5 3250,-179.5\"/>\n<text text-anchor=\"start\" x=\"3167\" y=\"-164.3\" font-family=\"Helvetica,sans-Serif\" font-size=\"14.00\" fill=\"#000000\">gini = 0.0</text>\n<text text-anchor=\"start\" x=\"3157\" y=\"-149.3\" font-family=\"Helvetica,sans-Serif\" font-size=\"14.00\" fill=\"#000000\">samples = 2</text>\n<text text-anchor=\"start\" x=\"3139\" y=\"-134.3\" font-family=\"Helvetica,sans-Serif\" font-size=\"14.00\" fill=\"#000000\">value = [0, 0, 0, 2]</text>\n<text text-anchor=\"start\" x=\"3155\" y=\"-119.3\" font-family=\"Helvetica,sans-Serif\" font-size=\"14.00\" fill=\"#000000\">class = good</text>\n</g>\n<!-- 101&#45;&gt;103 -->\n<g id=\"edge103\" class=\"edge\">\n<title>101&#45;&gt;103</title>\n<path fill=\"none\" stroke=\"#000000\" d=\"M3147.7314,-222.8796C3154.731,-211.7735 3162.308,-199.7513 3169.3556,-188.5691\"/>\n<polygon fill=\"#000000\" stroke=\"#000000\" points=\"3172.502,-190.1411 3174.8729,-179.8149 3166.58,-186.4087 3172.502,-190.1411\"/>\n</g>\n<!-- 107 -->\n<g id=\"node108\" class=\"node\">\n<title>107</title>\n<path fill=\"#e991f1\" stroke=\"#000000\" d=\"M3780,-663C3780,-663 3665,-663 3665,-663 3659,-663 3653,-657 3653,-651 3653,-651 3653,-592 3653,-592 3653,-586 3659,-580 3665,-580 3665,-580 3780,-580 3780,-580 3786,-580 3792,-586 3792,-592 3792,-592 3792,-651 3792,-651 3792,-657 3786,-663 3780,-663\"/>\n<text text-anchor=\"start\" x=\"3686\" y=\"-647.8\" font-family=\"Helvetica,sans-Serif\" font-size=\"14.00\" fill=\"#000000\">doors ≤ 0.5</text>\n<text text-anchor=\"start\" x=\"3684.5\" y=\"-632.8\" font-family=\"Helvetica,sans-Serif\" font-size=\"14.00\" fill=\"#000000\">gini = 0.529</text>\n<text text-anchor=\"start\" x=\"3678.5\" y=\"-617.8\" font-family=\"Helvetica,sans-Serif\" font-size=\"14.00\" fill=\"#000000\">samples = 22</text>\n<text text-anchor=\"start\" x=\"3661\" y=\"-602.8\" font-family=\"Helvetica,sans-Serif\" font-size=\"14.00\" fill=\"#000000\">value = [4, 4, 0, 14]</text>\n<text text-anchor=\"start\" x=\"3681\" y=\"-587.8\" font-family=\"Helvetica,sans-Serif\" font-size=\"14.00\" fill=\"#000000\">class = good</text>\n</g>\n<!-- 106&#45;&gt;107 -->\n<g id=\"edge107\" class=\"edge\">\n<title>106&#45;&gt;107</title>\n<path fill=\"none\" stroke=\"#000000\" d=\"M3722.5,-698.8796C3722.5,-690.6838 3722.5,-681.9891 3722.5,-673.5013\"/>\n<polygon fill=\"#000000\" stroke=\"#000000\" points=\"3726.0001,-673.298 3722.5,-663.2981 3719.0001,-673.2981 3726.0001,-673.298\"/>\n</g>\n<!-- 118 -->\n<g id=\"node119\" class=\"node\">\n<title>118</title>\n<path fill=\"#59ade9\" stroke=\"#000000\" d=\"M4185,-663C4185,-663 4070,-663 4070,-663 4064,-663 4058,-657 4058,-651 4058,-651 4058,-592 4058,-592 4058,-586 4064,-580 4070,-580 4070,-580 4185,-580 4185,-580 4191,-580 4197,-586 4197,-592 4197,-592 4197,-651 4197,-651 4197,-657 4191,-663 4185,-663\"/>\n<text text-anchor=\"start\" x=\"4081.5\" y=\"-647.8\" font-family=\"Helvetica,sans-Serif\" font-size=\"14.00\" fill=\"#000000\">lug_boot ≤ 1.5</text>\n<text text-anchor=\"start\" x=\"4089.5\" y=\"-632.8\" font-family=\"Helvetica,sans-Serif\" font-size=\"14.00\" fill=\"#000000\">gini = 0.258</text>\n<text text-anchor=\"start\" x=\"4083.5\" y=\"-617.8\" font-family=\"Helvetica,sans-Serif\" font-size=\"14.00\" fill=\"#000000\">samples = 48</text>\n<text text-anchor=\"start\" x=\"4066\" y=\"-602.8\" font-family=\"Helvetica,sans-Serif\" font-size=\"14.00\" fill=\"#000000\">value = [0, 2, 41, 5]</text>\n<text text-anchor=\"start\" x=\"4082\" y=\"-587.8\" font-family=\"Helvetica,sans-Serif\" font-size=\"14.00\" fill=\"#000000\">class = vgood</text>\n</g>\n<!-- 106&#45;&gt;118 -->\n<g id=\"edge118\" class=\"edge\">\n<title>106&#45;&gt;118</title>\n<path fill=\"none\" stroke=\"#000000\" d=\"M3796.3123,-718.8119C3867.6044,-697.8644 3975.2321,-666.2405 4048.2911,-644.7737\"/>\n<polygon fill=\"#000000\" stroke=\"#000000\" points=\"4049.3086,-648.1228 4057.9163,-641.9456 4047.3351,-641.4067 4049.3086,-648.1228\"/>\n</g>\n<!-- 108 -->\n<g id=\"node109\" class=\"node\">\n<title>108</title>\n<path fill=\"#efb388\" stroke=\"#000000\" d=\"M3699,-544C3699,-544 3592,-544 3592,-544 3586,-544 3580,-538 3580,-532 3580,-532 3580,-473 3580,-473 3580,-467 3586,-461 3592,-461 3592,-461 3699,-461 3699,-461 3705,-461 3711,-467 3711,-473 3711,-473 3711,-532 3711,-532 3711,-538 3705,-544 3699,-544\"/>\n<text text-anchor=\"start\" x=\"3601.5\" y=\"-528.8\" font-family=\"Helvetica,sans-Serif\" font-size=\"14.00\" fill=\"#000000\">persons ≤ 1.5</text>\n<text text-anchor=\"start\" x=\"3616\" y=\"-513.8\" font-family=\"Helvetica,sans-Serif\" font-size=\"14.00\" fill=\"#000000\">gini = 0.5</text>\n<text text-anchor=\"start\" x=\"3606\" y=\"-498.8\" font-family=\"Helvetica,sans-Serif\" font-size=\"14.00\" fill=\"#000000\">samples = 6</text>\n<text text-anchor=\"start\" x=\"3588\" y=\"-483.8\" font-family=\"Helvetica,sans-Serif\" font-size=\"14.00\" fill=\"#000000\">value = [4, 1, 0, 1]</text>\n<text text-anchor=\"start\" x=\"3600.5\" y=\"-468.8\" font-family=\"Helvetica,sans-Serif\" font-size=\"14.00\" fill=\"#000000\">class = unacc</text>\n</g>\n<!-- 107&#45;&gt;108 -->\n<g id=\"edge108\" class=\"edge\">\n<title>107&#45;&gt;108</title>\n<path fill=\"none\" stroke=\"#000000\" d=\"M3695.5691,-579.8796C3689.9163,-571.1434 3683.8967,-561.8404 3678.0634,-552.8253\"/>\n<polygon fill=\"#000000\" stroke=\"#000000\" points=\"3680.9169,-550.7924 3672.5458,-544.2981 3675.0399,-554.5952 3680.9169,-550.7924\"/>\n</g>\n<!-- 113 -->\n<g id=\"node114\" class=\"node\">\n<title>113</title>\n<path fill=\"#e067eb\" stroke=\"#000000\" d=\"M3856,-544C3856,-544 3741,-544 3741,-544 3735,-544 3729,-538 3729,-532 3729,-532 3729,-473 3729,-473 3729,-467 3735,-461 3741,-461 3741,-461 3856,-461 3856,-461 3862,-461 3868,-467 3868,-473 3868,-473 3868,-532 3868,-532 3868,-538 3862,-544 3856,-544\"/>\n<text text-anchor=\"start\" x=\"3759\" y=\"-528.8\" font-family=\"Helvetica,sans-Serif\" font-size=\"14.00\" fill=\"#000000\">buying ≤ 2.5</text>\n<text text-anchor=\"start\" x=\"3760.5\" y=\"-513.8\" font-family=\"Helvetica,sans-Serif\" font-size=\"14.00\" fill=\"#000000\">gini = 0.305</text>\n<text text-anchor=\"start\" x=\"3754.5\" y=\"-498.8\" font-family=\"Helvetica,sans-Serif\" font-size=\"14.00\" fill=\"#000000\">samples = 16</text>\n<text text-anchor=\"start\" x=\"3737\" y=\"-483.8\" font-family=\"Helvetica,sans-Serif\" font-size=\"14.00\" fill=\"#000000\">value = [0, 3, 0, 13]</text>\n<text text-anchor=\"start\" x=\"3757\" y=\"-468.8\" font-family=\"Helvetica,sans-Serif\" font-size=\"14.00\" fill=\"#000000\">class = good</text>\n</g>\n<!-- 107&#45;&gt;113 -->\n<g id=\"edge113\" class=\"edge\">\n<title>107&#45;&gt;113</title>\n<path fill=\"none\" stroke=\"#000000\" d=\"M3749.0811,-579.8796C3754.6605,-571.1434 3760.6019,-561.8404 3766.3595,-552.8253\"/>\n<polygon fill=\"#000000\" stroke=\"#000000\" points=\"3769.3726,-554.6098 3771.8054,-544.2981 3763.4731,-550.8421 3769.3726,-554.6098\"/>\n</g>\n<!-- 109 -->\n<g id=\"node110\" class=\"node\">\n<title>109</title>\n<path fill=\"#ffffff\" stroke=\"#000000\" d=\"M3551,-425C3551,-425 3444,-425 3444,-425 3438,-425 3432,-419 3432,-413 3432,-413 3432,-354 3432,-354 3432,-348 3438,-342 3444,-342 3444,-342 3551,-342 3551,-342 3557,-342 3563,-348 3563,-354 3563,-354 3563,-413 3563,-413 3563,-419 3557,-425 3551,-425\"/>\n<text text-anchor=\"start\" x=\"3462\" y=\"-409.8\" font-family=\"Helvetica,sans-Serif\" font-size=\"14.00\" fill=\"#000000\">maint ≤ 2.5</text>\n<text text-anchor=\"start\" x=\"3468\" y=\"-394.8\" font-family=\"Helvetica,sans-Serif\" font-size=\"14.00\" fill=\"#000000\">gini = 0.5</text>\n<text text-anchor=\"start\" x=\"3458\" y=\"-379.8\" font-family=\"Helvetica,sans-Serif\" font-size=\"14.00\" fill=\"#000000\">samples = 2</text>\n<text text-anchor=\"start\" x=\"3440\" y=\"-364.8\" font-family=\"Helvetica,sans-Serif\" font-size=\"14.00\" fill=\"#000000\">value = [0, 1, 0, 1]</text>\n<text text-anchor=\"start\" x=\"3461\" y=\"-349.8\" font-family=\"Helvetica,sans-Serif\" font-size=\"14.00\" fill=\"#000000\">class = acc</text>\n</g>\n<!-- 108&#45;&gt;109 -->\n<g id=\"edge109\" class=\"edge\">\n<title>108&#45;&gt;109</title>\n<path fill=\"none\" stroke=\"#000000\" d=\"M3593.7368,-460.8796C3581.9072,-451.368 3569.2419,-441.1843 3557.1129,-431.432\"/>\n<polygon fill=\"#000000\" stroke=\"#000000\" points=\"3559.2204,-428.6355 3549.234,-425.0969 3554.8341,-434.0908 3559.2204,-428.6355\"/>\n</g>\n<!-- 112 -->\n<g id=\"node113\" class=\"node\">\n<title>112</title>\n<path fill=\"#e58139\" stroke=\"#000000\" d=\"M3700,-417.5C3700,-417.5 3593,-417.5 3593,-417.5 3587,-417.5 3581,-411.5 3581,-405.5 3581,-405.5 3581,-361.5 3581,-361.5 3581,-355.5 3587,-349.5 3593,-349.5 3593,-349.5 3700,-349.5 3700,-349.5 3706,-349.5 3712,-355.5 3712,-361.5 3712,-361.5 3712,-405.5 3712,-405.5 3712,-411.5 3706,-417.5 3700,-417.5\"/>\n<text text-anchor=\"start\" x=\"3617\" y=\"-402.3\" font-family=\"Helvetica,sans-Serif\" font-size=\"14.00\" fill=\"#000000\">gini = 0.0</text>\n<text text-anchor=\"start\" x=\"3607\" y=\"-387.3\" font-family=\"Helvetica,sans-Serif\" font-size=\"14.00\" fill=\"#000000\">samples = 4</text>\n<text text-anchor=\"start\" x=\"3589\" y=\"-372.3\" font-family=\"Helvetica,sans-Serif\" font-size=\"14.00\" fill=\"#000000\">value = [4, 0, 0, 0]</text>\n<text text-anchor=\"start\" x=\"3601.5\" y=\"-357.3\" font-family=\"Helvetica,sans-Serif\" font-size=\"14.00\" fill=\"#000000\">class = unacc</text>\n</g>\n<!-- 108&#45;&gt;112 -->\n<g id=\"edge112\" class=\"edge\">\n<title>108&#45;&gt;112</title>\n<path fill=\"none\" stroke=\"#000000\" d=\"M3645.8498,-460.8796C3645.9394,-450.2134 3646.0361,-438.7021 3646.1269,-427.9015\"/>\n<polygon fill=\"#000000\" stroke=\"#000000\" points=\"3649.6274,-427.844 3646.2116,-417.8149 3642.6276,-427.7851 3649.6274,-427.844\"/>\n</g>\n<!-- 110 -->\n<g id=\"node111\" class=\"node\">\n<title>110</title>\n<path fill=\"#47e539\" stroke=\"#000000\" d=\"M3473,-298.5C3473,-298.5 3366,-298.5 3366,-298.5 3360,-298.5 3354,-292.5 3354,-286.5 3354,-286.5 3354,-242.5 3354,-242.5 3354,-236.5 3360,-230.5 3366,-230.5 3366,-230.5 3473,-230.5 3473,-230.5 3479,-230.5 3485,-236.5 3485,-242.5 3485,-242.5 3485,-286.5 3485,-286.5 3485,-292.5 3479,-298.5 3473,-298.5\"/>\n<text text-anchor=\"start\" x=\"3390\" y=\"-283.3\" font-family=\"Helvetica,sans-Serif\" font-size=\"14.00\" fill=\"#000000\">gini = 0.0</text>\n<text text-anchor=\"start\" x=\"3380\" y=\"-268.3\" font-family=\"Helvetica,sans-Serif\" font-size=\"14.00\" fill=\"#000000\">samples = 1</text>\n<text text-anchor=\"start\" x=\"3362\" y=\"-253.3\" font-family=\"Helvetica,sans-Serif\" font-size=\"14.00\" fill=\"#000000\">value = [0, 1, 0, 0]</text>\n<text text-anchor=\"start\" x=\"3383\" y=\"-238.3\" font-family=\"Helvetica,sans-Serif\" font-size=\"14.00\" fill=\"#000000\">class = acc</text>\n</g>\n<!-- 109&#45;&gt;110 -->\n<g id=\"edge110\" class=\"edge\">\n<title>109&#45;&gt;110</title>\n<path fill=\"none\" stroke=\"#000000\" d=\"M3470.2194,-341.8796C3462.8677,-330.6636 3454.9036,-318.5131 3447.5126,-307.2372\"/>\n<polygon fill=\"#000000\" stroke=\"#000000\" points=\"3450.4014,-305.2598 3441.9921,-298.8149 3444.5469,-309.0972 3450.4014,-305.2598\"/>\n</g>\n<!-- 111 -->\n<g id=\"node112\" class=\"node\">\n<title>111</title>\n<path fill=\"#d739e5\" stroke=\"#000000\" d=\"M3622,-298.5C3622,-298.5 3515,-298.5 3515,-298.5 3509,-298.5 3503,-292.5 3503,-286.5 3503,-286.5 3503,-242.5 3503,-242.5 3503,-236.5 3509,-230.5 3515,-230.5 3515,-230.5 3622,-230.5 3622,-230.5 3628,-230.5 3634,-236.5 3634,-242.5 3634,-242.5 3634,-286.5 3634,-286.5 3634,-292.5 3628,-298.5 3622,-298.5\"/>\n<text text-anchor=\"start\" x=\"3539\" y=\"-283.3\" font-family=\"Helvetica,sans-Serif\" font-size=\"14.00\" fill=\"#000000\">gini = 0.0</text>\n<text text-anchor=\"start\" x=\"3529\" y=\"-268.3\" font-family=\"Helvetica,sans-Serif\" font-size=\"14.00\" fill=\"#000000\">samples = 1</text>\n<text text-anchor=\"start\" x=\"3511\" y=\"-253.3\" font-family=\"Helvetica,sans-Serif\" font-size=\"14.00\" fill=\"#000000\">value = [0, 0, 0, 1]</text>\n<text text-anchor=\"start\" x=\"3527\" y=\"-238.3\" font-family=\"Helvetica,sans-Serif\" font-size=\"14.00\" fill=\"#000000\">class = good</text>\n</g>\n<!-- 109&#45;&gt;111 -->\n<g id=\"edge111\" class=\"edge\">\n<title>109&#45;&gt;111</title>\n<path fill=\"none\" stroke=\"#000000\" d=\"M3522.3324,-341.8796C3528.9587,-330.7735 3536.1316,-318.7513 3542.8033,-307.5691\"/>\n<polygon fill=\"#000000\" stroke=\"#000000\" points=\"3545.9083,-309.1959 3548.0264,-298.8149 3539.8969,-305.6093 3545.9083,-309.1959\"/>\n</g>\n<!-- 114 -->\n<g id=\"node115\" class=\"node\">\n<title>114</title>\n<path fill=\"#f5cef8\" stroke=\"#000000\" d=\"M3851,-425C3851,-425 3744,-425 3744,-425 3738,-425 3732,-419 3732,-413 3732,-413 3732,-354 3732,-354 3732,-348 3738,-342 3744,-342 3744,-342 3851,-342 3851,-342 3857,-342 3863,-348 3863,-354 3863,-354 3863,-413 3863,-413 3863,-419 3857,-425 3851,-425\"/>\n<text text-anchor=\"start\" x=\"3762\" y=\"-409.8\" font-family=\"Helvetica,sans-Serif\" font-size=\"14.00\" fill=\"#000000\">maint ≤ 2.5</text>\n<text text-anchor=\"start\" x=\"3764\" y=\"-394.8\" font-family=\"Helvetica,sans-Serif\" font-size=\"14.00\" fill=\"#000000\">gini = 0.49</text>\n<text text-anchor=\"start\" x=\"3758\" y=\"-379.8\" font-family=\"Helvetica,sans-Serif\" font-size=\"14.00\" fill=\"#000000\">samples = 7</text>\n<text text-anchor=\"start\" x=\"3740\" y=\"-364.8\" font-family=\"Helvetica,sans-Serif\" font-size=\"14.00\" fill=\"#000000\">value = [0, 3, 0, 4]</text>\n<text text-anchor=\"start\" x=\"3756\" y=\"-349.8\" font-family=\"Helvetica,sans-Serif\" font-size=\"14.00\" fill=\"#000000\">class = good</text>\n</g>\n<!-- 113&#45;&gt;114 -->\n<g id=\"edge114\" class=\"edge\">\n<title>113&#45;&gt;114</title>\n<path fill=\"none\" stroke=\"#000000\" d=\"M3798.1502,-460.8796C3798.0814,-452.6838 3798.0083,-443.9891 3797.937,-435.5013\"/>\n<polygon fill=\"#000000\" stroke=\"#000000\" points=\"3801.4352,-435.2683 3797.8512,-425.2981 3794.4355,-435.3272 3801.4352,-435.2683\"/>\n</g>\n<!-- 117 -->\n<g id=\"node118\" class=\"node\">\n<title>117</title>\n<path fill=\"#d739e5\" stroke=\"#000000\" d=\"M4000,-417.5C4000,-417.5 3893,-417.5 3893,-417.5 3887,-417.5 3881,-411.5 3881,-405.5 3881,-405.5 3881,-361.5 3881,-361.5 3881,-355.5 3887,-349.5 3893,-349.5 3893,-349.5 4000,-349.5 4000,-349.5 4006,-349.5 4012,-355.5 4012,-361.5 4012,-361.5 4012,-405.5 4012,-405.5 4012,-411.5 4006,-417.5 4000,-417.5\"/>\n<text text-anchor=\"start\" x=\"3917\" y=\"-402.3\" font-family=\"Helvetica,sans-Serif\" font-size=\"14.00\" fill=\"#000000\">gini = 0.0</text>\n<text text-anchor=\"start\" x=\"3907\" y=\"-387.3\" font-family=\"Helvetica,sans-Serif\" font-size=\"14.00\" fill=\"#000000\">samples = 9</text>\n<text text-anchor=\"start\" x=\"3889\" y=\"-372.3\" font-family=\"Helvetica,sans-Serif\" font-size=\"14.00\" fill=\"#000000\">value = [0, 0, 0, 9]</text>\n<text text-anchor=\"start\" x=\"3905\" y=\"-357.3\" font-family=\"Helvetica,sans-Serif\" font-size=\"14.00\" fill=\"#000000\">class = good</text>\n</g>\n<!-- 113&#45;&gt;117 -->\n<g id=\"edge117\" class=\"edge\">\n<title>113&#45;&gt;117</title>\n<path fill=\"none\" stroke=\"#000000\" d=\"M3850.2632,-460.8796C3865.0331,-449.0038 3881.1059,-436.0804 3895.8108,-424.2568\"/>\n<polygon fill=\"#000000\" stroke=\"#000000\" points=\"3898.2225,-426.8088 3903.8226,-417.8149 3893.8361,-421.3535 3898.2225,-426.8088\"/>\n</g>\n<!-- 115 -->\n<g id=\"node116\" class=\"node\">\n<title>115</title>\n<path fill=\"#47e539\" stroke=\"#000000\" d=\"M3771,-298.5C3771,-298.5 3664,-298.5 3664,-298.5 3658,-298.5 3652,-292.5 3652,-286.5 3652,-286.5 3652,-242.5 3652,-242.5 3652,-236.5 3658,-230.5 3664,-230.5 3664,-230.5 3771,-230.5 3771,-230.5 3777,-230.5 3783,-236.5 3783,-242.5 3783,-242.5 3783,-286.5 3783,-286.5 3783,-292.5 3777,-298.5 3771,-298.5\"/>\n<text text-anchor=\"start\" x=\"3688\" y=\"-283.3\" font-family=\"Helvetica,sans-Serif\" font-size=\"14.00\" fill=\"#000000\">gini = 0.0</text>\n<text text-anchor=\"start\" x=\"3678\" y=\"-268.3\" font-family=\"Helvetica,sans-Serif\" font-size=\"14.00\" fill=\"#000000\">samples = 3</text>\n<text text-anchor=\"start\" x=\"3660\" y=\"-253.3\" font-family=\"Helvetica,sans-Serif\" font-size=\"14.00\" fill=\"#000000\">value = [0, 3, 0, 0]</text>\n<text text-anchor=\"start\" x=\"3681\" y=\"-238.3\" font-family=\"Helvetica,sans-Serif\" font-size=\"14.00\" fill=\"#000000\">class = acc</text>\n</g>\n<!-- 114&#45;&gt;115 -->\n<g id=\"edge115\" class=\"edge\">\n<title>114&#45;&gt;115</title>\n<path fill=\"none\" stroke=\"#000000\" d=\"M3769.5199,-341.8796C3761.9797,-330.6636 3753.8113,-318.5131 3746.2309,-307.2372\"/>\n<polygon fill=\"#000000\" stroke=\"#000000\" points=\"3749.0527,-305.1612 3740.5689,-298.8149 3743.2434,-309.0667 3749.0527,-305.1612\"/>\n</g>\n<!-- 116 -->\n<g id=\"node117\" class=\"node\">\n<title>116</title>\n<path fill=\"#d739e5\" stroke=\"#000000\" d=\"M3920,-298.5C3920,-298.5 3813,-298.5 3813,-298.5 3807,-298.5 3801,-292.5 3801,-286.5 3801,-286.5 3801,-242.5 3801,-242.5 3801,-236.5 3807,-230.5 3813,-230.5 3813,-230.5 3920,-230.5 3920,-230.5 3926,-230.5 3932,-236.5 3932,-242.5 3932,-242.5 3932,-286.5 3932,-286.5 3932,-292.5 3926,-298.5 3920,-298.5\"/>\n<text text-anchor=\"start\" x=\"3837\" y=\"-283.3\" font-family=\"Helvetica,sans-Serif\" font-size=\"14.00\" fill=\"#000000\">gini = 0.0</text>\n<text text-anchor=\"start\" x=\"3827\" y=\"-268.3\" font-family=\"Helvetica,sans-Serif\" font-size=\"14.00\" fill=\"#000000\">samples = 4</text>\n<text text-anchor=\"start\" x=\"3809\" y=\"-253.3\" font-family=\"Helvetica,sans-Serif\" font-size=\"14.00\" fill=\"#000000\">value = [0, 0, 0, 4]</text>\n<text text-anchor=\"start\" x=\"3825\" y=\"-238.3\" font-family=\"Helvetica,sans-Serif\" font-size=\"14.00\" fill=\"#000000\">class = good</text>\n</g>\n<!-- 114&#45;&gt;116 -->\n<g id=\"edge116\" class=\"edge\">\n<title>114&#45;&gt;116</title>\n<path fill=\"none\" stroke=\"#000000\" d=\"M3821.6329,-341.8796C3828.0725,-330.7735 3835.0434,-318.7513 3841.5271,-307.5691\"/>\n<polygon fill=\"#000000\" stroke=\"#000000\" points=\"3844.6148,-309.2215 3846.6031,-298.8149 3838.5591,-305.7102 3844.6148,-309.2215\"/>\n</g>\n<!-- 119 -->\n<g id=\"node120\" class=\"node\">\n<title>119</title>\n<path fill=\"#86c3ef\" stroke=\"#000000\" d=\"M4185,-544C4185,-544 4070,-544 4070,-544 4064,-544 4058,-538 4058,-532 4058,-532 4058,-473 4058,-473 4058,-467 4064,-461 4070,-461 4070,-461 4185,-461 4185,-461 4191,-461 4197,-467 4197,-473 4197,-473 4197,-532 4197,-532 4197,-538 4191,-544 4185,-544\"/>\n<text text-anchor=\"start\" x=\"4091\" y=\"-528.8\" font-family=\"Helvetica,sans-Serif\" font-size=\"14.00\" fill=\"#000000\">doors ≤ 0.5</text>\n<text text-anchor=\"start\" x=\"4089.5\" y=\"-513.8\" font-family=\"Helvetica,sans-Serif\" font-size=\"14.00\" fill=\"#000000\">gini = 0.461</text>\n<text text-anchor=\"start\" x=\"4083.5\" y=\"-498.8\" font-family=\"Helvetica,sans-Serif\" font-size=\"14.00\" fill=\"#000000\">samples = 23</text>\n<text text-anchor=\"start\" x=\"4066\" y=\"-483.8\" font-family=\"Helvetica,sans-Serif\" font-size=\"14.00\" fill=\"#000000\">value = [0, 2, 16, 5]</text>\n<text text-anchor=\"start\" x=\"4082\" y=\"-468.8\" font-family=\"Helvetica,sans-Serif\" font-size=\"14.00\" fill=\"#000000\">class = vgood</text>\n</g>\n<!-- 118&#45;&gt;119 -->\n<g id=\"edge119\" class=\"edge\">\n<title>118&#45;&gt;119</title>\n<path fill=\"none\" stroke=\"#000000\" d=\"M4127.5,-579.8796C4127.5,-571.6838 4127.5,-562.9891 4127.5,-554.5013\"/>\n<polygon fill=\"#000000\" stroke=\"#000000\" points=\"4131.0001,-554.298 4127.5,-544.2981 4124.0001,-554.2981 4131.0001,-554.298\"/>\n</g>\n<!-- 130 -->\n<g id=\"node131\" class=\"node\">\n<title>130</title>\n<path fill=\"#399de5\" stroke=\"#000000\" d=\"M4342,-536.5C4342,-536.5 4227,-536.5 4227,-536.5 4221,-536.5 4215,-530.5 4215,-524.5 4215,-524.5 4215,-480.5 4215,-480.5 4215,-474.5 4221,-468.5 4227,-468.5 4227,-468.5 4342,-468.5 4342,-468.5 4348,-468.5 4354,-474.5 4354,-480.5 4354,-480.5 4354,-524.5 4354,-524.5 4354,-530.5 4348,-536.5 4342,-536.5\"/>\n<text text-anchor=\"start\" x=\"4255\" y=\"-521.3\" font-family=\"Helvetica,sans-Serif\" font-size=\"14.00\" fill=\"#000000\">gini = 0.0</text>\n<text text-anchor=\"start\" x=\"4240.5\" y=\"-506.3\" font-family=\"Helvetica,sans-Serif\" font-size=\"14.00\" fill=\"#000000\">samples = 25</text>\n<text text-anchor=\"start\" x=\"4223\" y=\"-491.3\" font-family=\"Helvetica,sans-Serif\" font-size=\"14.00\" fill=\"#000000\">value = [0, 0, 25, 0]</text>\n<text text-anchor=\"start\" x=\"4239\" y=\"-476.3\" font-family=\"Helvetica,sans-Serif\" font-size=\"14.00\" fill=\"#000000\">class = vgood</text>\n</g>\n<!-- 118&#45;&gt;130 -->\n<g id=\"edge130\" class=\"edge\">\n<title>118&#45;&gt;130</title>\n<path fill=\"none\" stroke=\"#000000\" d=\"M4182.411,-579.8796C4198.2994,-567.8368 4215.6091,-554.7167 4231.3857,-542.7586\"/>\n<polygon fill=\"#000000\" stroke=\"#000000\" points=\"4233.6253,-545.4529 4239.4805,-536.623 4229.3969,-539.8743 4233.6253,-545.4529\"/>\n</g>\n<!-- 120 -->\n<g id=\"node121\" class=\"node\">\n<title>120</title>\n<path fill=\"#f2bdf6\" stroke=\"#000000\" d=\"M4181,-425C4181,-425 4074,-425 4074,-425 4068,-425 4062,-419 4062,-413 4062,-413 4062,-354 4062,-354 4062,-348 4068,-342 4074,-342 4074,-342 4181,-342 4181,-342 4187,-342 4193,-348 4193,-354 4193,-354 4193,-413 4193,-413 4193,-419 4187,-425 4181,-425\"/>\n<text text-anchor=\"start\" x=\"4088\" y=\"-409.8\" font-family=\"Helvetica,sans-Serif\" font-size=\"14.00\" fill=\"#000000\">buying ≤ 2.5</text>\n<text text-anchor=\"start\" x=\"4094\" y=\"-394.8\" font-family=\"Helvetica,sans-Serif\" font-size=\"14.00\" fill=\"#000000\">gini = 0.48</text>\n<text text-anchor=\"start\" x=\"4088\" y=\"-379.8\" font-family=\"Helvetica,sans-Serif\" font-size=\"14.00\" fill=\"#000000\">samples = 5</text>\n<text text-anchor=\"start\" x=\"4070\" y=\"-364.8\" font-family=\"Helvetica,sans-Serif\" font-size=\"14.00\" fill=\"#000000\">value = [0, 2, 0, 3]</text>\n<text text-anchor=\"start\" x=\"4086\" y=\"-349.8\" font-family=\"Helvetica,sans-Serif\" font-size=\"14.00\" fill=\"#000000\">class = good</text>\n</g>\n<!-- 119&#45;&gt;120 -->\n<g id=\"edge120\" class=\"edge\">\n<title>119&#45;&gt;120</title>\n<path fill=\"none\" stroke=\"#000000\" d=\"M4127.5,-460.8796C4127.5,-452.6838 4127.5,-443.9891 4127.5,-435.5013\"/>\n<polygon fill=\"#000000\" stroke=\"#000000\" points=\"4131.0001,-435.298 4127.5,-425.2981 4124.0001,-435.2981 4131.0001,-435.298\"/>\n</g>\n<!-- 125 -->\n<g id=\"node126\" class=\"node\">\n<title>125</title>\n<path fill=\"#52a9e8\" stroke=\"#000000\" d=\"M4371,-425C4371,-425 4256,-425 4256,-425 4250,-425 4244,-419 4244,-413 4244,-413 4244,-354 4244,-354 4244,-348 4250,-342 4256,-342 4256,-342 4371,-342 4371,-342 4377,-342 4383,-348 4383,-354 4383,-354 4383,-413 4383,-413 4383,-419 4377,-425 4371,-425\"/>\n<text text-anchor=\"start\" x=\"4277\" y=\"-409.8\" font-family=\"Helvetica,sans-Serif\" font-size=\"14.00\" fill=\"#000000\">doors ≤ 1.5</text>\n<text text-anchor=\"start\" x=\"4275.5\" y=\"-394.8\" font-family=\"Helvetica,sans-Serif\" font-size=\"14.00\" fill=\"#000000\">gini = 0.198</text>\n<text text-anchor=\"start\" x=\"4269.5\" y=\"-379.8\" font-family=\"Helvetica,sans-Serif\" font-size=\"14.00\" fill=\"#000000\">samples = 18</text>\n<text text-anchor=\"start\" x=\"4252\" y=\"-364.8\" font-family=\"Helvetica,sans-Serif\" font-size=\"14.00\" fill=\"#000000\">value = [0, 0, 16, 2]</text>\n<text text-anchor=\"start\" x=\"4268\" y=\"-349.8\" font-family=\"Helvetica,sans-Serif\" font-size=\"14.00\" fill=\"#000000\">class = vgood</text>\n</g>\n<!-- 119&#45;&gt;125 -->\n<g id=\"edge125\" class=\"edge\">\n<title>119&#45;&gt;125</title>\n<path fill=\"none\" stroke=\"#000000\" d=\"M4192.5538,-460.8796C4207.8454,-451.0962 4224.2484,-440.6019 4239.886,-430.5971\"/>\n<polygon fill=\"#000000\" stroke=\"#000000\" points=\"4241.9457,-433.4345 4248.483,-425.0969 4238.1732,-427.538 4241.9457,-433.4345\"/>\n</g>\n<!-- 121 -->\n<g id=\"node122\" class=\"node\">\n<title>121</title>\n<path fill=\"#a3f29c\" stroke=\"#000000\" d=\"M4069,-306C4069,-306 3962,-306 3962,-306 3956,-306 3950,-300 3950,-294 3950,-294 3950,-235 3950,-235 3950,-229 3956,-223 3962,-223 3962,-223 4069,-223 4069,-223 4075,-223 4081,-229 4081,-235 4081,-235 4081,-294 4081,-294 4081,-300 4075,-306 4069,-306\"/>\n<text text-anchor=\"start\" x=\"3980\" y=\"-290.8\" font-family=\"Helvetica,sans-Serif\" font-size=\"14.00\" fill=\"#000000\">maint ≤ 2.5</text>\n<text text-anchor=\"start\" x=\"3977.5\" y=\"-275.8\" font-family=\"Helvetica,sans-Serif\" font-size=\"14.00\" fill=\"#000000\">gini = 0.444</text>\n<text text-anchor=\"start\" x=\"3976\" y=\"-260.8\" font-family=\"Helvetica,sans-Serif\" font-size=\"14.00\" fill=\"#000000\">samples = 3</text>\n<text text-anchor=\"start\" x=\"3958\" y=\"-245.8\" font-family=\"Helvetica,sans-Serif\" font-size=\"14.00\" fill=\"#000000\">value = [0, 2, 0, 1]</text>\n<text text-anchor=\"start\" x=\"3979\" y=\"-230.8\" font-family=\"Helvetica,sans-Serif\" font-size=\"14.00\" fill=\"#000000\">class = acc</text>\n</g>\n<!-- 120&#45;&gt;121 -->\n<g id=\"edge121\" class=\"edge\">\n<title>120&#45;&gt;121</title>\n<path fill=\"none\" stroke=\"#000000\" d=\"M4088.3278,-341.8796C4079.7665,-332.7832 4070.6268,-323.0722 4061.8168,-313.7116\"/>\n<polygon fill=\"#000000\" stroke=\"#000000\" points=\"4064.2417,-311.1813 4054.8394,-306.2981 4059.1443,-315.9789 4064.2417,-311.1813\"/>\n</g>\n<!-- 124 -->\n<g id=\"node125\" class=\"node\">\n<title>124</title>\n<path fill=\"#d739e5\" stroke=\"#000000\" d=\"M4218,-298.5C4218,-298.5 4111,-298.5 4111,-298.5 4105,-298.5 4099,-292.5 4099,-286.5 4099,-286.5 4099,-242.5 4099,-242.5 4099,-236.5 4105,-230.5 4111,-230.5 4111,-230.5 4218,-230.5 4218,-230.5 4224,-230.5 4230,-236.5 4230,-242.5 4230,-242.5 4230,-286.5 4230,-286.5 4230,-292.5 4224,-298.5 4218,-298.5\"/>\n<text text-anchor=\"start\" x=\"4135\" y=\"-283.3\" font-family=\"Helvetica,sans-Serif\" font-size=\"14.00\" fill=\"#000000\">gini = 0.0</text>\n<text text-anchor=\"start\" x=\"4125\" y=\"-268.3\" font-family=\"Helvetica,sans-Serif\" font-size=\"14.00\" fill=\"#000000\">samples = 2</text>\n<text text-anchor=\"start\" x=\"4107\" y=\"-253.3\" font-family=\"Helvetica,sans-Serif\" font-size=\"14.00\" fill=\"#000000\">value = [0, 0, 0, 2]</text>\n<text text-anchor=\"start\" x=\"4123\" y=\"-238.3\" font-family=\"Helvetica,sans-Serif\" font-size=\"14.00\" fill=\"#000000\">class = good</text>\n</g>\n<!-- 120&#45;&gt;124 -->\n<g id=\"edge124\" class=\"edge\">\n<title>120&#45;&gt;124</title>\n<path fill=\"none\" stroke=\"#000000\" d=\"M4140.4408,-341.8796C4143.7914,-331.1034 4147.4101,-319.4647 4150.7983,-308.5677\"/>\n<polygon fill=\"#000000\" stroke=\"#000000\" points=\"4154.2037,-309.4032 4153.8307,-298.8149 4147.5194,-307.3248 4154.2037,-309.4032\"/>\n</g>\n<!-- 122 -->\n<g id=\"node123\" class=\"node\">\n<title>122</title>\n<path fill=\"#47e539\" stroke=\"#000000\" d=\"M3994,-179.5C3994,-179.5 3887,-179.5 3887,-179.5 3881,-179.5 3875,-173.5 3875,-167.5 3875,-167.5 3875,-123.5 3875,-123.5 3875,-117.5 3881,-111.5 3887,-111.5 3887,-111.5 3994,-111.5 3994,-111.5 4000,-111.5 4006,-117.5 4006,-123.5 4006,-123.5 4006,-167.5 4006,-167.5 4006,-173.5 4000,-179.5 3994,-179.5\"/>\n<text text-anchor=\"start\" x=\"3911\" y=\"-164.3\" font-family=\"Helvetica,sans-Serif\" font-size=\"14.00\" fill=\"#000000\">gini = 0.0</text>\n<text text-anchor=\"start\" x=\"3901\" y=\"-149.3\" font-family=\"Helvetica,sans-Serif\" font-size=\"14.00\" fill=\"#000000\">samples = 2</text>\n<text text-anchor=\"start\" x=\"3883\" y=\"-134.3\" font-family=\"Helvetica,sans-Serif\" font-size=\"14.00\" fill=\"#000000\">value = [0, 2, 0, 0]</text>\n<text text-anchor=\"start\" x=\"3904\" y=\"-119.3\" font-family=\"Helvetica,sans-Serif\" font-size=\"14.00\" fill=\"#000000\">class = acc</text>\n</g>\n<!-- 121&#45;&gt;122 -->\n<g id=\"edge122\" class=\"edge\">\n<title>121&#45;&gt;122</title>\n<path fill=\"none\" stroke=\"#000000\" d=\"M3989.2686,-222.8796C3982.269,-211.7735 3974.692,-199.7513 3967.6444,-188.5691\"/>\n<polygon fill=\"#000000\" stroke=\"#000000\" points=\"3970.42,-186.4087 3962.1271,-179.8149 3964.498,-190.1411 3970.42,-186.4087\"/>\n</g>\n<!-- 123 -->\n<g id=\"node124\" class=\"node\">\n<title>123</title>\n<path fill=\"#d739e5\" stroke=\"#000000\" d=\"M4143,-179.5C4143,-179.5 4036,-179.5 4036,-179.5 4030,-179.5 4024,-173.5 4024,-167.5 4024,-167.5 4024,-123.5 4024,-123.5 4024,-117.5 4030,-111.5 4036,-111.5 4036,-111.5 4143,-111.5 4143,-111.5 4149,-111.5 4155,-117.5 4155,-123.5 4155,-123.5 4155,-167.5 4155,-167.5 4155,-173.5 4149,-179.5 4143,-179.5\"/>\n<text text-anchor=\"start\" x=\"4060\" y=\"-164.3\" font-family=\"Helvetica,sans-Serif\" font-size=\"14.00\" fill=\"#000000\">gini = 0.0</text>\n<text text-anchor=\"start\" x=\"4050\" y=\"-149.3\" font-family=\"Helvetica,sans-Serif\" font-size=\"14.00\" fill=\"#000000\">samples = 1</text>\n<text text-anchor=\"start\" x=\"4032\" y=\"-134.3\" font-family=\"Helvetica,sans-Serif\" font-size=\"14.00\" fill=\"#000000\">value = [0, 0, 0, 1]</text>\n<text text-anchor=\"start\" x=\"4048\" y=\"-119.3\" font-family=\"Helvetica,sans-Serif\" font-size=\"14.00\" fill=\"#000000\">class = good</text>\n</g>\n<!-- 121&#45;&gt;123 -->\n<g id=\"edge123\" class=\"edge\">\n<title>121&#45;&gt;123</title>\n<path fill=\"none\" stroke=\"#000000\" d=\"M4041.3816,-222.8796C4048.2879,-211.7735 4055.7639,-199.7513 4062.7175,-188.5691\"/>\n<polygon fill=\"#000000\" stroke=\"#000000\" points=\"4065.8527,-190.1552 4068.1613,-179.8149 4059.9083,-186.4587 4065.8527,-190.1552\"/>\n</g>\n<!-- 126 -->\n<g id=\"node127\" class=\"node\">\n<title>126</title>\n<path fill=\"#9ccef2\" stroke=\"#000000\" d=\"M4367,-306C4367,-306 4260,-306 4260,-306 4254,-306 4248,-300 4248,-294 4248,-294 4248,-235 4248,-235 4248,-229 4254,-223 4260,-223 4260,-223 4367,-223 4367,-223 4373,-223 4379,-229 4379,-235 4379,-235 4379,-294 4379,-294 4379,-300 4373,-306 4367,-306\"/>\n<text text-anchor=\"start\" x=\"4269.5\" y=\"-290.8\" font-family=\"Helvetica,sans-Serif\" font-size=\"14.00\" fill=\"#000000\">persons ≤ 1.5</text>\n<text text-anchor=\"start\" x=\"4275.5\" y=\"-275.8\" font-family=\"Helvetica,sans-Serif\" font-size=\"14.00\" fill=\"#000000\">gini = 0.444</text>\n<text text-anchor=\"start\" x=\"4274\" y=\"-260.8\" font-family=\"Helvetica,sans-Serif\" font-size=\"14.00\" fill=\"#000000\">samples = 6</text>\n<text text-anchor=\"start\" x=\"4256\" y=\"-245.8\" font-family=\"Helvetica,sans-Serif\" font-size=\"14.00\" fill=\"#000000\">value = [0, 0, 4, 2]</text>\n<text text-anchor=\"start\" x=\"4268\" y=\"-230.8\" font-family=\"Helvetica,sans-Serif\" font-size=\"14.00\" fill=\"#000000\">class = vgood</text>\n</g>\n<!-- 125&#45;&gt;126 -->\n<g id=\"edge126\" class=\"edge\">\n<title>125&#45;&gt;126</title>\n<path fill=\"none\" stroke=\"#000000\" d=\"M4313.5,-341.8796C4313.5,-333.6838 4313.5,-324.9891 4313.5,-316.5013\"/>\n<polygon fill=\"#000000\" stroke=\"#000000\" points=\"4317.0001,-316.298 4313.5,-306.2981 4310.0001,-316.2981 4317.0001,-316.298\"/>\n</g>\n<!-- 129 -->\n<g id=\"node130\" class=\"node\">\n<title>129</title>\n<path fill=\"#399de5\" stroke=\"#000000\" d=\"M4524,-298.5C4524,-298.5 4409,-298.5 4409,-298.5 4403,-298.5 4397,-292.5 4397,-286.5 4397,-286.5 4397,-242.5 4397,-242.5 4397,-236.5 4403,-230.5 4409,-230.5 4409,-230.5 4524,-230.5 4524,-230.5 4530,-230.5 4536,-236.5 4536,-242.5 4536,-242.5 4536,-286.5 4536,-286.5 4536,-292.5 4530,-298.5 4524,-298.5\"/>\n<text text-anchor=\"start\" x=\"4437\" y=\"-283.3\" font-family=\"Helvetica,sans-Serif\" font-size=\"14.00\" fill=\"#000000\">gini = 0.0</text>\n<text text-anchor=\"start\" x=\"4422.5\" y=\"-268.3\" font-family=\"Helvetica,sans-Serif\" font-size=\"14.00\" fill=\"#000000\">samples = 12</text>\n<text text-anchor=\"start\" x=\"4405\" y=\"-253.3\" font-family=\"Helvetica,sans-Serif\" font-size=\"14.00\" fill=\"#000000\">value = [0, 0, 12, 0]</text>\n<text text-anchor=\"start\" x=\"4421\" y=\"-238.3\" font-family=\"Helvetica,sans-Serif\" font-size=\"14.00\" fill=\"#000000\">class = vgood</text>\n</g>\n<!-- 125&#45;&gt;129 -->\n<g id=\"edge129\" class=\"edge\">\n<title>125&#45;&gt;129</title>\n<path fill=\"none\" stroke=\"#000000\" d=\"M4367.012,-341.8796C4382.2808,-330.0038 4398.8966,-317.0804 4414.0984,-305.2568\"/>\n<polygon fill=\"#000000\" stroke=\"#000000\" points=\"4416.6361,-307.7171 4422.3808,-298.8149 4412.3384,-302.1916 4416.6361,-307.7171\"/>\n</g>\n<!-- 127 -->\n<g id=\"node128\" class=\"node\">\n<title>127</title>\n<path fill=\"#d739e5\" stroke=\"#000000\" d=\"M4292,-179.5C4292,-179.5 4185,-179.5 4185,-179.5 4179,-179.5 4173,-173.5 4173,-167.5 4173,-167.5 4173,-123.5 4173,-123.5 4173,-117.5 4179,-111.5 4185,-111.5 4185,-111.5 4292,-111.5 4292,-111.5 4298,-111.5 4304,-117.5 4304,-123.5 4304,-123.5 4304,-167.5 4304,-167.5 4304,-173.5 4298,-179.5 4292,-179.5\"/>\n<text text-anchor=\"start\" x=\"4209\" y=\"-164.3\" font-family=\"Helvetica,sans-Serif\" font-size=\"14.00\" fill=\"#000000\">gini = 0.0</text>\n<text text-anchor=\"start\" x=\"4199\" y=\"-149.3\" font-family=\"Helvetica,sans-Serif\" font-size=\"14.00\" fill=\"#000000\">samples = 2</text>\n<text text-anchor=\"start\" x=\"4181\" y=\"-134.3\" font-family=\"Helvetica,sans-Serif\" font-size=\"14.00\" fill=\"#000000\">value = [0, 0, 0, 2]</text>\n<text text-anchor=\"start\" x=\"4197\" y=\"-119.3\" font-family=\"Helvetica,sans-Serif\" font-size=\"14.00\" fill=\"#000000\">class = good</text>\n</g>\n<!-- 126&#45;&gt;127 -->\n<g id=\"edge127\" class=\"edge\">\n<title>126&#45;&gt;127</title>\n<path fill=\"none\" stroke=\"#000000\" d=\"M4287.2686,-222.8796C4280.269,-211.7735 4272.692,-199.7513 4265.6444,-188.5691\"/>\n<polygon fill=\"#000000\" stroke=\"#000000\" points=\"4268.42,-186.4087 4260.1271,-179.8149 4262.498,-190.1411 4268.42,-186.4087\"/>\n</g>\n<!-- 128 -->\n<g id=\"node129\" class=\"node\">\n<title>128</title>\n<path fill=\"#399de5\" stroke=\"#000000\" d=\"M4441,-179.5C4441,-179.5 4334,-179.5 4334,-179.5 4328,-179.5 4322,-173.5 4322,-167.5 4322,-167.5 4322,-123.5 4322,-123.5 4322,-117.5 4328,-111.5 4334,-111.5 4334,-111.5 4441,-111.5 4441,-111.5 4447,-111.5 4453,-117.5 4453,-123.5 4453,-123.5 4453,-167.5 4453,-167.5 4453,-173.5 4447,-179.5 4441,-179.5\"/>\n<text text-anchor=\"start\" x=\"4358\" y=\"-164.3\" font-family=\"Helvetica,sans-Serif\" font-size=\"14.00\" fill=\"#000000\">gini = 0.0</text>\n<text text-anchor=\"start\" x=\"4348\" y=\"-149.3\" font-family=\"Helvetica,sans-Serif\" font-size=\"14.00\" fill=\"#000000\">samples = 4</text>\n<text text-anchor=\"start\" x=\"4330\" y=\"-134.3\" font-family=\"Helvetica,sans-Serif\" font-size=\"14.00\" fill=\"#000000\">value = [0, 0, 4, 0]</text>\n<text text-anchor=\"start\" x=\"4342\" y=\"-119.3\" font-family=\"Helvetica,sans-Serif\" font-size=\"14.00\" fill=\"#000000\">class = vgood</text>\n</g>\n<!-- 126&#45;&gt;128 -->\n<g id=\"edge128\" class=\"edge\">\n<title>126&#45;&gt;128</title>\n<path fill=\"none\" stroke=\"#000000\" d=\"M4339.3816,-222.8796C4346.2879,-211.7735 4353.7639,-199.7513 4360.7175,-188.5691\"/>\n<polygon fill=\"#000000\" stroke=\"#000000\" points=\"4363.8527,-190.1552 4366.1613,-179.8149 4357.9083,-186.4587 4363.8527,-190.1552\"/>\n</g>\n</g>\n</svg>\n"
          },
          "metadata": {
            "tags": []
          },
          "execution_count": 31
        }
      ]
    }
  ]
}