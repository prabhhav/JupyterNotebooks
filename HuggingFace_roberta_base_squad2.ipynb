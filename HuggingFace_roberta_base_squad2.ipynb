{
  "nbformat": 4,
  "nbformat_minor": 0,
  "metadata": {
    "colab": {
      "name": "HuggingFace roberta-base-squad2.ipynb",
      "provenance": [],
      "include_colab_link": true
    },
    "kernelspec": {
      "name": "python3",
      "display_name": "Python 3"
    }
  },
  "cells": [
    {
      "cell_type": "markdown",
      "metadata": {
        "id": "view-in-github",
        "colab_type": "text"
      },
      "source": [
        "<a href=\"https://colab.research.google.com/github/prabhhav/JupyterNotebooks/blob/main/HuggingFace_roberta_base_squad2.ipynb\" target=\"_parent\"><img src=\"https://colab.research.google.com/assets/colab-badge.svg\" alt=\"Open In Colab\"/></a>"
      ]
    },
    {
      "cell_type": "code",
      "metadata": {
        "colab": {
          "base_uri": "https://localhost:8080/"
        },
        "id": "eYI749pJhZCL",
        "outputId": "7a152013-1d6b-4bcf-c55c-11485f560d08"
      },
      "source": [
        "!pip install transformers"
      ],
      "execution_count": null,
      "outputs": [
        {
          "output_type": "stream",
          "text": [
            "Requirement already satisfied: transformers in /usr/local/lib/python3.6/dist-packages (4.2.2)\n",
            "Requirement already satisfied: filelock in /usr/local/lib/python3.6/dist-packages (from transformers) (3.0.12)\n",
            "Requirement already satisfied: tqdm>=4.27 in /usr/local/lib/python3.6/dist-packages (from transformers) (4.41.1)\n",
            "Requirement already satisfied: numpy in /usr/local/lib/python3.6/dist-packages (from transformers) (1.19.5)\n",
            "Requirement already satisfied: regex!=2019.12.17 in /usr/local/lib/python3.6/dist-packages (from transformers) (2019.12.20)\n",
            "Requirement already satisfied: requests in /usr/local/lib/python3.6/dist-packages (from transformers) (2.23.0)\n",
            "Requirement already satisfied: sacremoses in /usr/local/lib/python3.6/dist-packages (from transformers) (0.0.43)\n",
            "Requirement already satisfied: dataclasses; python_version < \"3.7\" in /usr/local/lib/python3.6/dist-packages (from transformers) (0.8)\n",
            "Requirement already satisfied: tokenizers==0.9.4 in /usr/local/lib/python3.6/dist-packages (from transformers) (0.9.4)\n",
            "Requirement already satisfied: importlib-metadata; python_version < \"3.8\" in /usr/local/lib/python3.6/dist-packages (from transformers) (3.4.0)\n",
            "Requirement already satisfied: packaging in /usr/local/lib/python3.6/dist-packages (from transformers) (20.8)\n",
            "Requirement already satisfied: certifi>=2017.4.17 in /usr/local/lib/python3.6/dist-packages (from requests->transformers) (2020.12.5)\n",
            "Requirement already satisfied: idna<3,>=2.5 in /usr/local/lib/python3.6/dist-packages (from requests->transformers) (2.10)\n",
            "Requirement already satisfied: urllib3!=1.25.0,!=1.25.1,<1.26,>=1.21.1 in /usr/local/lib/python3.6/dist-packages (from requests->transformers) (1.24.3)\n",
            "Requirement already satisfied: chardet<4,>=3.0.2 in /usr/local/lib/python3.6/dist-packages (from requests->transformers) (3.0.4)\n",
            "Requirement already satisfied: joblib in /usr/local/lib/python3.6/dist-packages (from sacremoses->transformers) (1.0.0)\n",
            "Requirement already satisfied: click in /usr/local/lib/python3.6/dist-packages (from sacremoses->transformers) (7.1.2)\n",
            "Requirement already satisfied: six in /usr/local/lib/python3.6/dist-packages (from sacremoses->transformers) (1.15.0)\n",
            "Requirement already satisfied: zipp>=0.5 in /usr/local/lib/python3.6/dist-packages (from importlib-metadata; python_version < \"3.8\"->transformers) (3.4.0)\n",
            "Requirement already satisfied: typing-extensions>=3.6.4; python_version < \"3.8\" in /usr/local/lib/python3.6/dist-packages (from importlib-metadata; python_version < \"3.8\"->transformers) (3.7.4.3)\n",
            "Requirement already satisfied: pyparsing>=2.0.2 in /usr/local/lib/python3.6/dist-packages (from packaging->transformers) (2.4.7)\n"
          ],
          "name": "stdout"
        }
      ]
    },
    {
      "cell_type": "code",
      "metadata": {
        "id": "tX_1zk5QhLSG"
      },
      "source": [
        "from transformers import AutoModelForQuestionAnswering, AutoTokenizer, pipeline"
      ],
      "execution_count": null,
      "outputs": []
    },
    {
      "cell_type": "code",
      "metadata": {
        "id": "Ot7LAEZIhTIi"
      },
      "source": [
        "model_name = \"deepset/roberta-base-squad2\""
      ],
      "execution_count": null,
      "outputs": []
    },
    {
      "cell_type": "code",
      "metadata": {
        "colab": {
          "base_uri": "https://localhost:8080/"
        },
        "id": "dsF0eWezhX--",
        "outputId": "536c40c2-a887-4ebe-9e8b-0bfcbc57d817"
      },
      "source": [
        "# a) Get predictions\r\n",
        "nlp = pipeline('question-answering', model=model_name, tokenizer=model_name)"
      ],
      "execution_count": null,
      "outputs": [
        {
          "output_type": "stream",
          "text": [
            "Some weights of RobertaModel were not initialized from the model checkpoint at deepset/roberta-base-squad2 and are newly initialized: ['roberta.pooler.dense.weight', 'roberta.pooler.dense.bias']\n",
            "You should probably TRAIN this model on a down-stream task to be able to use it for predictions and inference.\n"
          ],
          "name": "stderr"
        }
      ]
    },
    {
      "cell_type": "code",
      "metadata": {
        "colab": {
          "base_uri": "https://localhost:8080/"
        },
        "id": "xTnAlcj3hoT6",
        "outputId": "69e85b90-27b7-4395-f9b5-139debcb6b66"
      },
      "source": [
        "QA_input = {\r\n",
        "    'question': 'Why is model conversion important?',\r\n",
        "    'context': 'The option to convert models between FARM and transformers gives freedom to the user and let people easily switch between frameworks.'\r\n",
        "}\r\n",
        "res = nlp(QA_input)\r\n",
        "res"
      ],
      "execution_count": null,
      "outputs": [
        {
          "output_type": "execute_result",
          "data": {
            "text/plain": [
              "{'answer': 'gives freedom to the user',\n",
              " 'end': 84,\n",
              " 'score': 0.23607021570205688,\n",
              " 'start': 59}"
            ]
          },
          "metadata": {
            "tags": []
          },
          "execution_count": 35
        }
      ]
    },
    {
      "cell_type": "code",
      "metadata": {
        "colab": {
          "base_uri": "https://localhost:8080/"
        },
        "id": "Vyi9hGjPhySY",
        "outputId": "930b5d97-ed49-410c-ba0c-c63e80e48efd"
      },
      "source": [
        "QA_input = {\r\n",
        "    'question': 'What does gotcha mean?',\r\n",
        "    'context': 'GOTCHA means \"I Understand,\" and \"Fooled You!\".'\r\n",
        "}\r\n",
        "res = nlp(QA_input)\r\n",
        "res"
      ],
      "execution_count": null,
      "outputs": [
        {
          "output_type": "execute_result",
          "data": {
            "text/plain": [
              "{'answer': '\"I Understand',\n",
              " 'end': 26,\n",
              " 'score': 0.27326658368110657,\n",
              " 'start': 13}"
            ]
          },
          "metadata": {
            "tags": []
          },
          "execution_count": 36
        }
      ]
    },
    {
      "cell_type": "code",
      "metadata": {
        "colab": {
          "base_uri": "https://localhost:8080/"
        },
        "id": "wqMtXrQdiHxS",
        "outputId": "9e18c290-67a1-4bc5-b6e5-8cc8d6e4e85b"
      },
      "source": [
        "QA_input = {\r\n",
        "    'question': 'What are CNN used for?',\r\n",
        "    'context': 'In deep learning, a convolutional neural network is a class of deep neural networks, most commonly applied to analyzing visual imagery. They are also known as shift invariant or space invariant artificial neural networks, based on their shared-weights architecture and translation invariance characteristics.'\r\n",
        "}\r\n",
        "res = nlp(QA_input)\r\n",
        "res"
      ],
      "execution_count": null,
      "outputs": [
        {
          "output_type": "execute_result",
          "data": {
            "text/plain": [
              "{'answer': 'analyzing visual imagery',\n",
              " 'end': 134,\n",
              " 'score': 0.46349385380744934,\n",
              " 'start': 110}"
            ]
          },
          "metadata": {
            "tags": []
          },
          "execution_count": 37
        }
      ]
    },
    {
      "cell_type": "code",
      "metadata": {
        "colab": {
          "base_uri": "https://localhost:8080/"
        },
        "id": "K8Torqp1j8sJ",
        "outputId": "c318e1f2-1e46-4378-8731-1081834382c6"
      },
      "source": [
        "QA_input = {\r\n",
        "    'question': \"What is cinderella's stepmom name?\",\r\n",
        "    'context': \"Cinderella, the beautiful and kind-hearted daughter, sees her world turn upside down when her beloved mother dies, and her pained father remarries another woman, the wicked Lady Tremaine, who has two equally cruel daughters, the jealous Anastasia and Drizella. But, once more, things will go from bad to worse, When Cinderella's father, too, dies, leaving her all alone in the Lady's clutches to serve as her maid-of-all-work. Under those circumstances, a shabby and neglected Cinderella doesn't stand much of a chance of attending the King's royal ball--let alone, captivate the handsome Prince--unless she turns to her loving Fairy Godmother who has quite a few tricks up her sleeve.\"\r\n",
        "}\r\n",
        "res = nlp(QA_input)\r\n",
        "res"
      ],
      "execution_count": null,
      "outputs": [
        {
          "output_type": "execute_result",
          "data": {
            "text/plain": [
              "{'answer': 'Lady Tremaine',\n",
              " 'end': 186,\n",
              " 'score': 0.20741043984889984,\n",
              " 'start': 173}"
            ]
          },
          "metadata": {
            "tags": []
          },
          "execution_count": 38
        }
      ]
    },
    {
      "cell_type": "code",
      "metadata": {
        "colab": {
          "base_uri": "https://localhost:8080/"
        },
        "id": "yn4RB8vPqG3B",
        "outputId": "83560195-7a5b-4501-8a81-d61e04bc9e89"
      },
      "source": [
        "QA_input = {\r\n",
        "    'question': \"What happened to cinderella's mother?\",\r\n",
        "    'context': \"Cinderella, the beautiful and kind-hearted daughter, sees her world turn upside down when her beloved mother dies, and her pained father remarries another woman, the wicked Lady Tremaine, who has two equally cruel daughters, the jealous Anastasia and Drizella. But, once more, things will go from bad to worse, When Cinderella's father, too, dies, leaving her all alone in the Lady's clutches to serve as her maid-of-all-work. Under those circumstances, a shabby and neglected Cinderella doesn't stand much of a chance of attending the King's royal ball--let alone, captivate the handsome Prince--unless she turns to her loving Fairy Godmother who has quite a few tricks up her sleeve.\"\r\n",
        "}\r\n",
        "res = nlp(QA_input)\r\n",
        "res"
      ],
      "execution_count": null,
      "outputs": [
        {
          "output_type": "execute_result",
          "data": {
            "text/plain": [
              "{'answer': 'dies', 'end': 113, 'score': 0.9060446619987488, 'start': 109}"
            ]
          },
          "metadata": {
            "tags": []
          },
          "execution_count": 39
        }
      ]
    },
    {
      "cell_type": "code",
      "metadata": {
        "colab": {
          "base_uri": "https://localhost:8080/"
        },
        "id": "gxhT51nOrRwr",
        "outputId": "86ece24f-063d-4899-8e17-45efc2d8ecf2"
      },
      "source": [
        "QA_input = {\r\n",
        "    'question': \"how is Drizella related to cinderella?\",\r\n",
        "    'context': \"Cinderella, the beautiful and kind-hearted daughter, sees her world turn upside down when her beloved mother dies, and her pained father remarries another woman, the wicked Lady Tremaine, who has two equally cruel daughters, the jealous Anastasia and Drizella. But, once more, things will go from bad to worse, When Cinderella's father, too, dies, leaving her all alone in the Lady's clutches to serve as her maid-of-all-work. Under those circumstances, a shabby and neglected Cinderella doesn't stand much of a chance of attending the King's royal ball--let alone, captivate the handsome Prince--unless she turns to her loving Fairy Godmother who has quite a few tricks up her sleeve.\"\r\n",
        "}\r\n",
        "res = nlp(QA_input)\r\n",
        "res"
      ],
      "execution_count": null,
      "outputs": [
        {
          "output_type": "execute_result",
          "data": {
            "text/plain": [
              "{'answer': 'Lady Tremaine',\n",
              " 'end': 186,\n",
              " 'score': 0.12946957349777222,\n",
              " 'start': 173}"
            ]
          },
          "metadata": {
            "tags": []
          },
          "execution_count": 40
        }
      ]
    },
    {
      "cell_type": "code",
      "metadata": {
        "colab": {
          "base_uri": "https://localhost:8080/"
        },
        "id": "-XOCjgTgr_Q0",
        "outputId": "d99e289d-a187-4694-fc78-2474467f9db0"
      },
      "source": [
        "QA_input = {\r\n",
        "    'question': \"who is Anastasia's sister?\",\r\n",
        "    'context': \"Cinderella, the beautiful and kind-hearted daughter, sees her world turn upside down when her beloved mother dies, and her pained father remarries another woman, the wicked Lady Tremaine, who has two equally cruel daughters, the jealous Anastasia and Drizella. But, once more, things will go from bad to worse, When Cinderella's father, too, dies, leaving her all alone in the Lady's clutches to serve as her maid-of-all-work. Under those circumstances, a shabby and neglected Cinderella doesn't stand much of a chance of attending the King's royal ball--let alone, captivate the handsome Prince--unless she turns to her loving Fairy Godmother who has quite a few tricks up her sleeve.\"\r\n",
        "}\r\n",
        "res = nlp(QA_input)\r\n",
        "res"
      ],
      "execution_count": null,
      "outputs": [
        {
          "output_type": "execute_result",
          "data": {
            "text/plain": [
              "{'answer': 'Drizella', 'end': 259, 'score': 0.9820518493652344, 'start': 251}"
            ]
          },
          "metadata": {
            "tags": []
          },
          "execution_count": 41
        }
      ]
    },
    {
      "cell_type": "code",
      "metadata": {
        "colab": {
          "base_uri": "https://localhost:8080/"
        },
        "id": "T_uVgLgNsNYo",
        "outputId": "db291fce-7c74-455c-d1e4-067dc7925ed5"
      },
      "source": [
        "QA_input = {\r\n",
        "    'question': \"who are cinderella's step sisters?\",\r\n",
        "    'context': \"Cinderella, the beautiful and kind-hearted daughter, sees her world turn upside down when her beloved mother dies, and her pained father remarries another woman, the wicked Lady Tremaine, who has two equally cruel daughters, the jealous Anastasia and Drizella. But, once more, things will go from bad to worse, When Cinderella's father, too, dies, leaving her all alone in the Lady's clutches to serve as her maid-of-all-work. Under those circumstances, a shabby and neglected Cinderella doesn't stand much of a chance of attending the King's royal ball--let alone, captivate the handsome Prince--unless she turns to her loving Fairy Godmother who has quite a few tricks up her sleeve.\"\r\n",
        "}\r\n",
        "res = nlp(QA_input)\r\n",
        "res"
      ],
      "execution_count": null,
      "outputs": [
        {
          "output_type": "execute_result",
          "data": {
            "text/plain": [
              "{'answer': 'Anastasia and Drizella',\n",
              " 'end': 259,\n",
              " 'score': 0.8908311128616333,\n",
              " 'start': 237}"
            ]
          },
          "metadata": {
            "tags": []
          },
          "execution_count": 29
        }
      ]
    },
    {
      "cell_type": "code",
      "metadata": {
        "id": "0_Y0m4JrsbQh",
        "colab": {
          "base_uri": "https://localhost:8080/"
        },
        "outputId": "9d9dafde-436c-4cf8-f2d0-c38dd95baf6f"
      },
      "source": [
        "QA_input = {\r\n",
        "    'question': \"what is the relationship between cinderella and drizella?\",\r\n",
        "    'context': \"Cinderella, the beautiful and kind-hearted daughter, sees her world turn upside down when her beloved mother dies, and her pained father remarries another woman, the wicked Lady Tremaine, who has two equally cruel daughters, the jealous Anastasia and Drizella. But, once more, things will go from bad to worse, When Cinderella's father, too, dies, leaving her all alone in the Lady's clutches to serve as her maid-of-all-work. Under those circumstances, a shabby and neglected Cinderella doesn't stand much of a chance of attending the King's royal ball--let alone, captivate the handsome Prince--unless she turns to her loving Fairy Godmother who has quite a few tricks up her sleeve.\"\r\n",
        "}\r\n",
        "res = nlp(QA_input)\r\n",
        "res"
      ],
      "execution_count": null,
      "outputs": [
        {
          "output_type": "execute_result",
          "data": {
            "text/plain": [
              "{'answer': 'jealous', 'end': 236, 'score': 0.08271651715040207, 'start': 229}"
            ]
          },
          "metadata": {
            "tags": []
          },
          "execution_count": 30
        }
      ]
    },
    {
      "cell_type": "code",
      "metadata": {
        "colab": {
          "base_uri": "https://localhost:8080/"
        },
        "id": "ia4Trupeqxe4",
        "outputId": "6b86f098-c906-4b15-c4fb-c4c90f15662f"
      },
      "source": [
        "QA_input = {\r\n",
        "    'question': \"What happenes to cinderella after her father die?\",\r\n",
        "    'context': \"Cinderella, the beautiful and kind-hearted daughter, sees her world turn upside down when her beloved mother dies, and her pained father remarries another woman, the wicked Lady Tremaine, who has two equally cruel daughters, the jealous Anastasia and Drizella. But, once more, things will go from bad to worse, When Cinderella's father, too, dies, leaving her all alone in the Lady's clutches to serve as her maid-of-all-work. Under those circumstances, a shabby and neglected Cinderella doesn't stand much of a chance of attending the King's royal ball--let alone, captivate the handsome Prince--unless she turns to her loving Fairy Godmother who has quite a few tricks up her sleeve.\"\r\n",
        "}\r\n",
        "res = nlp(QA_input)\r\n",
        "res"
      ],
      "execution_count": null,
      "outputs": [
        {
          "output_type": "execute_result",
          "data": {
            "text/plain": [
              "{'answer': 'things will go from bad to worse',\n",
              " 'end': 309,\n",
              " 'score': 0.05285244435071945,\n",
              " 'start': 277}"
            ]
          },
          "metadata": {
            "tags": []
          },
          "execution_count": 21
        }
      ]
    },
    {
      "cell_type": "code",
      "metadata": {
        "colab": {
          "base_uri": "https://localhost:8080/"
        },
        "id": "-OLXKPC4rGHR",
        "outputId": "3065c490-9e5f-4db4-cc91-2f849b096524"
      },
      "source": [
        "QA_input = {\r\n",
        "    'question': \"who helps cinderella?\",\r\n",
        "    'context': \"Cinderella, the beautiful and kind-hearted daughter, sees her world turn upside down when her beloved mother dies, and her pained father remarries another woman, the wicked Lady Tremaine, who has two equally cruel daughters, the jealous Anastasia and Drizella. But, once more, things will go from bad to worse, When Cinderella's father, too, dies, leaving her all alone in the Lady's clutches to serve as her maid-of-all-work. Under those circumstances, a shabby and neglected Cinderella doesn't stand much of a chance of attending the King's royal ball--let alone, captivate the handsome Prince--unless she turns to her loving Fairy Godmother who has quite a few tricks up her sleeve.\"\r\n",
        "}\r\n",
        "res = nlp(QA_input)\r\n",
        "res"
      ],
      "execution_count": null,
      "outputs": [
        {
          "output_type": "execute_result",
          "data": {
            "text/plain": [
              "{'answer': 'Fairy Godmother',\n",
              " 'end': 643,\n",
              " 'score': 0.8188452124595642,\n",
              " 'start': 628}"
            ]
          },
          "metadata": {
            "tags": []
          },
          "execution_count": 22
        }
      ]
    },
    {
      "cell_type": "code",
      "metadata": {
        "id": "K0ocV_Q2hgPX"
      },
      "source": [
        "# b) Load model & tokenizer\r\n",
        "model = AutoModelForQuestionAnswering.from_pretrained(model_name)\r\n",
        "tokenizer = AutoTokenizer.from_pretrained(model_name)"
      ],
      "execution_count": null,
      "outputs": []
    }
  ]
}