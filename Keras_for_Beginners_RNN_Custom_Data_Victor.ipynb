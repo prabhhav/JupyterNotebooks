{
  "nbformat": 4,
  "nbformat_minor": 0,
  "metadata": {
    "accelerator": "GPU",
    "colab": {
      "name": "Keras for Beginners: RNN Custom Data - Victor.ipynb",
      "provenance": [],
      "include_colab_link": true
    },
    "kernelspec": {
      "display_name": "Python 3",
      "name": "python3"
    }
  },
  "cells": [
    {
      "cell_type": "markdown",
      "metadata": {
        "id": "view-in-github",
        "colab_type": "text"
      },
      "source": [
        "<a href=\"https://colab.research.google.com/github/prabhhav/JupyterNotebooks/blob/main/Keras_for_Beginners_RNN_Custom_Data_Victor.ipynb\" target=\"_parent\"><img src=\"https://colab.research.google.com/assets/colab-badge.svg\" alt=\"Open In Colab\"/></a>"
      ]
    },
    {
      "cell_type": "code",
      "metadata": {
        "id": "H4N3jg-N_zQ7"
      },
      "source": [
        "train_data = {\r\n",
        "  'good': True,\r\n",
        "  'bad': False,\r\n",
        "  'happy': True,\r\n",
        "  'sad': False,\r\n",
        "  'not good': False,\r\n",
        "  'not bad': True,\r\n",
        "  'not happy': False,\r\n",
        "  'not sad': True,\r\n",
        "  'very good': True,\r\n",
        "  'very bad': False,\r\n",
        "  'very happy': True,\r\n",
        "  'very sad': False,\r\n",
        "  'i am happy': True,\r\n",
        "  'this is good': True,\r\n",
        "  'i am bad': False,\r\n",
        "  'this is bad': False,\r\n",
        "  'i am sad': False,\r\n",
        "  'this is sad': False,\r\n",
        "  'i am not happy': False,\r\n",
        "  'this is not good': False,\r\n",
        "  'i am not bad': True,\r\n",
        "  'this is not sad': True,\r\n",
        "  'i am very happy': True,\r\n",
        "  'this is very good': True,\r\n",
        "  'i am very bad': False,\r\n",
        "  'this is very sad': False,\r\n",
        "  'this is very happy': True,\r\n",
        "  'i am good not bad': True,\r\n",
        "  'this is good not bad': True,\r\n",
        "  'i am bad not good': False,\r\n",
        "  'i am good and happy': True,\r\n",
        "  'this is not good and not happy': False,\r\n",
        "  'i am not at all good': False,\r\n",
        "  'i am not at all bad': True,\r\n",
        "  'i am not at all happy': False,\r\n",
        "  'this is not at all sad': True,\r\n",
        "  'this is not at all happy': False,\r\n",
        "  'i am good right now': True,\r\n",
        "  'i am bad right now': False,\r\n",
        "  'this is bad right now': False,\r\n",
        "  'i am sad right now': False,\r\n",
        "  'i was good earlier': True,\r\n",
        "  'i was happy earlier': True,\r\n",
        "  'i was bad earlier': False,\r\n",
        "  'i was sad earlier': False,\r\n",
        "  'i am very bad right now': False,\r\n",
        "  'this is very good right now': True,\r\n",
        "  'this is very sad right now': False,\r\n",
        "  'this was bad earlier': False,\r\n",
        "  'this was very good earlier': True,\r\n",
        "  'this was very bad earlier': False,\r\n",
        "  'this was very happy earlier': True,\r\n",
        "  'this was very sad earlier': False,\r\n",
        "  'i was good and not bad earlier': True,\r\n",
        "  'i was not good and not happy earlier': False,\r\n",
        "  'i am not at all bad or sad right now': True,\r\n",
        "  'i am not at all good or happy right now': False,\r\n",
        "  'this was not happy and not good earlier': False,\r\n",
        "}\r\n",
        "\r\n",
        "test_data = {\r\n",
        "  'this is happy': True,\r\n",
        "  'i am good': True,\r\n",
        "  'this is not happy': False,\r\n",
        "  'i am not good': False,\r\n",
        "  'this is not bad': True,\r\n",
        "  'i am not sad': True,\r\n",
        "  'i am very good': True,\r\n",
        "  'this is very bad': False,\r\n",
        "  'i am very sad': False,\r\n",
        "  'this is bad not good': False,\r\n",
        "  'this is good and happy': True,\r\n",
        "  'i am not good and not happy': False,\r\n",
        "  'i am not at all sad': True,\r\n",
        "  'this is not at all good': False,\r\n",
        "  'this is not at all bad': True,\r\n",
        "  'this is good right now': True,\r\n",
        "  'this is sad right now': False,\r\n",
        "  'this is very bad right now': False,\r\n",
        "  'this was good earlier': True,\r\n",
        "  'i was not happy and not good earlier': False,\r\n",
        "}"
      ],
      "execution_count": null,
      "outputs": []
    },
    {
      "cell_type": "code",
      "metadata": {
        "id": "v5WkQNYyHKVw"
      },
      "source": [
        "X_train = list(train_data.keys())\r\n",
        "y_train = list(train_data.values())\r\n",
        "X_test = list(test_data.keys())\r\n",
        "y_test = list(test_data.values())"
      ],
      "execution_count": null,
      "outputs": []
    },
    {
      "cell_type": "code",
      "metadata": {
        "colab": {
          "base_uri": "https://localhost:8080/"
        },
        "id": "bIOLxaa3ZFbT",
        "outputId": "aeb2b094-d9b9-4b69-e738-207112178c11"
      },
      "source": [
        "X_train\r\n"
      ],
      "execution_count": null,
      "outputs": [
        {
          "output_type": "execute_result",
          "data": {
            "text/plain": [
              "['good',\n",
              " 'bad',\n",
              " 'happy',\n",
              " 'sad',\n",
              " 'not good',\n",
              " 'not bad',\n",
              " 'not happy',\n",
              " 'not sad',\n",
              " 'very good',\n",
              " 'very bad',\n",
              " 'very happy',\n",
              " 'very sad',\n",
              " 'i am happy',\n",
              " 'this is good',\n",
              " 'i am bad',\n",
              " 'this is bad',\n",
              " 'i am sad',\n",
              " 'this is sad',\n",
              " 'i am not happy',\n",
              " 'this is not good',\n",
              " 'i am not bad',\n",
              " 'this is not sad',\n",
              " 'i am very happy',\n",
              " 'this is very good',\n",
              " 'i am very bad',\n",
              " 'this is very sad',\n",
              " 'this is very happy',\n",
              " 'i am good not bad',\n",
              " 'this is good not bad',\n",
              " 'i am bad not good',\n",
              " 'i am good and happy',\n",
              " 'this is not good and not happy',\n",
              " 'i am not at all good',\n",
              " 'i am not at all bad',\n",
              " 'i am not at all happy',\n",
              " 'this is not at all sad',\n",
              " 'this is not at all happy',\n",
              " 'i am good right now',\n",
              " 'i am bad right now',\n",
              " 'this is bad right now',\n",
              " 'i am sad right now',\n",
              " 'i was good earlier',\n",
              " 'i was happy earlier',\n",
              " 'i was bad earlier',\n",
              " 'i was sad earlier',\n",
              " 'i am very bad right now',\n",
              " 'this is very good right now',\n",
              " 'this is very sad right now',\n",
              " 'this was bad earlier',\n",
              " 'this was very good earlier',\n",
              " 'this was very bad earlier',\n",
              " 'this was very happy earlier',\n",
              " 'this was very sad earlier',\n",
              " 'i was good and not bad earlier',\n",
              " 'i was not good and not happy earlier',\n",
              " 'i am not at all bad or sad right now',\n",
              " 'i am not at all good or happy right now',\n",
              " 'this was not happy and not good earlier']"
            ]
          },
          "metadata": {
            "tags": []
          },
          "execution_count": 4
        }
      ]
    },
    {
      "cell_type": "markdown",
      "metadata": {
        "id": "WyzKdxpZAHXB"
      },
      "source": [
        "## 3. Building the Model"
      ]
    },
    {
      "cell_type": "code",
      "metadata": {
        "id": "6qxdeLaw_7r-"
      },
      "source": [
        "from tensorflow.keras.models import Sequential\r\n",
        "from tensorflow.keras import Input\r\n",
        "\r\n",
        "model = Sequential()\r\n",
        "model.add(Input(shape=(1,), dtype=\"string\"))"
      ],
      "execution_count": null,
      "outputs": []
    },
    {
      "cell_type": "markdown",
      "metadata": {
        "id": "rAXAGfORAPZK"
      },
      "source": [
        "### 3.1 Text Vectorization"
      ]
    },
    {
      "cell_type": "code",
      "metadata": {
        "id": "CrcPKb7BAKhn"
      },
      "source": [
        "from tensorflow.keras.layers.experimental.preprocessing import TextVectorization\r\n",
        "\r\n",
        "max_tokens = 20\r\n",
        "max_len = 5\r\n",
        "vectorize_layer = TextVectorization(\r\n",
        "  # Max vocab size. Any words outside of the max_tokens most common ones\r\n",
        "  # will be treated the same way: as \"out of vocabulary\" (OOV) tokens.\r\n",
        "  max_tokens=max_tokens,\r\n",
        "  # Output integer indices, one per string token\r\n",
        "  output_mode=\"int\",\r\n",
        "  # Always pad or truncate to exactly this many tokens\r\n",
        "  output_sequence_length=max_len,\r\n",
        ")"
      ],
      "execution_count": null,
      "outputs": []
    },
    {
      "cell_type": "code",
      "metadata": {
        "id": "POZvOPAoAVFy"
      },
      "source": [
        "# Call adapt(), which fits the TextVectorization layer to our text dataset.\r\n",
        "# This is when the max_tokens most common words (i.e. the vocabulary) are selected.\r\n",
        "vectorize_layer.adapt(X_train)"
      ],
      "execution_count": null,
      "outputs": []
    },
    {
      "cell_type": "code",
      "metadata": {
        "id": "BhKcVkW3Fi-Y",
        "colab": {
          "base_uri": "https://localhost:8080/"
        },
        "outputId": "68590d3a-cdbb-4c5b-ba3b-f2318a0e2315"
      },
      "source": [
        "reverse_word_index = vectorize_layer.get_vocabulary()\r\n",
        "reverse_word_index"
      ],
      "execution_count": null,
      "outputs": [
        {
          "output_type": "execute_result",
          "data": {
            "text/plain": [
              "['',\n",
              " '[UNK]',\n",
              " 'not',\n",
              " 'i',\n",
              " 'this',\n",
              " 'good',\n",
              " 'bad',\n",
              " 'am',\n",
              " 'very',\n",
              " 'happy',\n",
              " 'is',\n",
              " 'sad',\n",
              " 'was',\n",
              " 'earlier',\n",
              " 'right',\n",
              " 'now',\n",
              " 'at',\n",
              " 'all',\n",
              " 'and',\n",
              " 'or']"
            ]
          },
          "metadata": {
            "tags": []
          },
          "execution_count": 8
        }
      ]
    },
    {
      "cell_type": "code",
      "metadata": {
        "colab": {
          "base_uri": "https://localhost:8080/"
        },
        "id": "Xv-EbOgVHGT-",
        "outputId": "4d0d862c-2057-45eb-dd10-387d71972f7c"
      },
      "source": [
        "vectorize_layer.get_weights()"
      ],
      "execution_count": null,
      "outputs": [
        {
          "output_type": "execute_result",
          "data": {
            "text/plain": [
              "[array([b'and', b'good', b'i', b'[UNK]', b'or', b'was', b'not', b'very',\n",
              "        b'', b'am', b'at', b'happy', b'this', b'is', b'sad', b'bad',\n",
              "        b'right', b'now', b'earlier', b'all'], dtype=object),\n",
              " array([18,  5,  3,  1, 19, 12,  2,  8,  0,  7, 16,  9,  4, 10, 11,  6, 14,\n",
              "        15, 13, 17])]"
            ]
          },
          "metadata": {
            "tags": []
          },
          "execution_count": 28
        }
      ]
    },
    {
      "cell_type": "code",
      "metadata": {
        "id": "uoNJo5ccAXvf"
      },
      "source": [
        "model.add(vectorize_layer)"
      ],
      "execution_count": null,
      "outputs": []
    },
    {
      "cell_type": "markdown",
      "metadata": {
        "id": "r6bBw8dTAnaQ"
      },
      "source": [
        "## 3.2 Embedding"
      ]
    },
    {
      "cell_type": "code",
      "metadata": {
        "id": "ehy7303RAdtQ"
      },
      "source": [
        "from tensorflow.keras.layers import Embedding\r\n",
        "\r\n",
        "# Note that we're using max_tokens + 1 here, since there's an\r\n",
        "# out-of-vocabulary (OOV) token that gets added to the vocab.\r\n",
        "model.add(Embedding(max_tokens + 1, 8))"
      ],
      "execution_count": null,
      "outputs": []
    },
    {
      "cell_type": "markdown",
      "metadata": {
        "id": "Z_4TH4I6Bobj"
      },
      "source": [
        "## 3.3 The Recurrent Layer"
      ]
    },
    {
      "cell_type": "code",
      "metadata": {
        "id": "cp-8qCsKArVz"
      },
      "source": [
        "from tensorflow.keras.layers import LSTM, SimpleRNN\r\n",
        "\r\n",
        "# 64 is the \"units\" parameter, which is the\r\n",
        "# dimensionality of the output space.\r\n",
        "model.add(LSTM(16))"
      ],
      "execution_count": null,
      "outputs": []
    },
    {
      "cell_type": "code",
      "metadata": {
        "id": "Zswf4hPFBqnn"
      },
      "source": [
        "from tensorflow.keras.layers import Dense\r\n",
        "\r\n",
        "model.add(Dense(16, activation=\"relu\"))\r\n",
        "model.add(Dense(1, activation=\"sigmoid\"))"
      ],
      "execution_count": null,
      "outputs": []
    },
    {
      "cell_type": "code",
      "metadata": {
        "colab": {
          "base_uri": "https://localhost:8080/"
        },
        "id": "oxDeNXJ4biV9",
        "outputId": "7b3035e6-2aa9-4ef9-b91d-70e3bd1bd362"
      },
      "source": [
        "model.summary()"
      ],
      "execution_count": null,
      "outputs": [
        {
          "output_type": "stream",
          "text": [
            "Model: \"sequential\"\n",
            "_________________________________________________________________\n",
            "Layer (type)                 Output Shape              Param #   \n",
            "=================================================================\n",
            "text_vectorization (TextVect (None, 5)                 0         \n",
            "_________________________________________________________________\n",
            "embedding (Embedding)        (None, 5, 8)              168       \n",
            "_________________________________________________________________\n",
            "lstm (LSTM)                  (None, 16)                1600      \n",
            "_________________________________________________________________\n",
            "dense (Dense)                (None, 16)                272       \n",
            "_________________________________________________________________\n",
            "dense_1 (Dense)              (None, 1)                 17        \n",
            "=================================================================\n",
            "Total params: 2,057\n",
            "Trainable params: 2,057\n",
            "Non-trainable params: 0\n",
            "_________________________________________________________________\n"
          ],
          "name": "stdout"
        }
      ]
    },
    {
      "cell_type": "markdown",
      "metadata": {
        "id": "feZEEzS6C8i1"
      },
      "source": [
        "## 4. Compiling the Model\r\n"
      ]
    },
    {
      "cell_type": "code",
      "metadata": {
        "id": "muOOF3SaC5Zn"
      },
      "source": [
        "model.compile(\r\n",
        "  optimizer='adam',\r\n",
        "  loss='binary_crossentropy',\r\n",
        "  metrics=['accuracy'],\r\n",
        ")"
      ],
      "execution_count": null,
      "outputs": []
    },
    {
      "cell_type": "markdown",
      "metadata": {
        "id": "k-rSv0GYDAaZ"
      },
      "source": [
        "## 5. Training the Model\r\n"
      ]
    },
    {
      "cell_type": "code",
      "metadata": {
        "id": "cA5K15UeC-PM",
        "colab": {
          "base_uri": "https://localhost:8080/"
        },
        "outputId": "617add5e-4441-4a5f-864c-dc9f96cd081b"
      },
      "source": [
        "history = model.fit(X_train, y_train, epochs=200)\r\n"
      ],
      "execution_count": null,
      "outputs": [
        {
          "output_type": "stream",
          "text": [
            "Epoch 1/200\n",
            "2/2 [==============================] - 8s 10ms/step - loss: 0.6932 - accuracy: 0.4573\n",
            "Epoch 2/200\n",
            "2/2 [==============================] - 0s 8ms/step - loss: 0.6927 - accuracy: 0.5449\n",
            "Epoch 3/200\n",
            "2/2 [==============================] - 0s 8ms/step - loss: 0.6922 - accuracy: 0.5449\n",
            "Epoch 4/200\n",
            "2/2 [==============================] - 0s 8ms/step - loss: 0.6907 - accuracy: 0.5970\n",
            "Epoch 5/200\n",
            "2/2 [==============================] - 0s 8ms/step - loss: 0.6911 - accuracy: 0.5553\n",
            "Epoch 6/200\n",
            "2/2 [==============================] - 0s 7ms/step - loss: 0.6910 - accuracy: 0.5449\n",
            "Epoch 7/200\n",
            "2/2 [==============================] - 0s 8ms/step - loss: 0.6900 - accuracy: 0.5657\n",
            "Epoch 8/200\n",
            "2/2 [==============================] - 0s 8ms/step - loss: 0.6899 - accuracy: 0.5553\n",
            "Epoch 9/200\n",
            "2/2 [==============================] - 0s 8ms/step - loss: 0.6917 - accuracy: 0.5136\n",
            "Epoch 10/200\n",
            "2/2 [==============================] - 0s 8ms/step - loss: 0.6899 - accuracy: 0.5449\n",
            "Epoch 11/200\n",
            "2/2 [==============================] - 0s 7ms/step - loss: 0.6893 - accuracy: 0.5449\n",
            "Epoch 12/200\n",
            "2/2 [==============================] - 0s 8ms/step - loss: 0.6913 - accuracy: 0.5136\n",
            "Epoch 13/200\n",
            "2/2 [==============================] - 0s 8ms/step - loss: 0.6886 - accuracy: 0.5449\n",
            "Epoch 14/200\n",
            "2/2 [==============================] - 0s 8ms/step - loss: 0.6867 - accuracy: 0.5657\n",
            "Epoch 15/200\n",
            "2/2 [==============================] - 0s 8ms/step - loss: 0.6849 - accuracy: 0.5761\n",
            "Epoch 16/200\n",
            "2/2 [==============================] - 0s 8ms/step - loss: 0.6845 - accuracy: 0.5761\n",
            "Epoch 17/200\n",
            "2/2 [==============================] - 0s 8ms/step - loss: 0.6870 - accuracy: 0.5449\n",
            "Epoch 18/200\n",
            "2/2 [==============================] - 0s 11ms/step - loss: 0.6879 - accuracy: 0.5345\n",
            "Epoch 19/200\n",
            "2/2 [==============================] - 0s 7ms/step - loss: 0.6824 - accuracy: 0.5761\n",
            "Epoch 20/200\n",
            "2/2 [==============================] - 0s 11ms/step - loss: 0.6819 - accuracy: 0.5761\n",
            "Epoch 21/200\n",
            "2/2 [==============================] - 0s 8ms/step - loss: 0.6864 - accuracy: 0.5345\n",
            "Epoch 22/200\n",
            "2/2 [==============================] - 0s 8ms/step - loss: 0.6825 - accuracy: 0.5553\n",
            "Epoch 23/200\n",
            "2/2 [==============================] - 0s 8ms/step - loss: 0.6865 - accuracy: 0.5241\n",
            "Epoch 24/200\n",
            "2/2 [==============================] - 0s 7ms/step - loss: 0.6837 - accuracy: 0.5345\n",
            "Epoch 25/200\n",
            "2/2 [==============================] - 0s 7ms/step - loss: 0.6849 - accuracy: 0.5241\n",
            "Epoch 26/200\n",
            "2/2 [==============================] - 0s 8ms/step - loss: 0.6830 - accuracy: 0.5345\n",
            "Epoch 27/200\n",
            "2/2 [==============================] - 0s 7ms/step - loss: 0.6836 - accuracy: 0.5241\n",
            "Epoch 28/200\n",
            "2/2 [==============================] - 0s 9ms/step - loss: 0.6768 - accuracy: 0.5553\n",
            "Epoch 29/200\n",
            "2/2 [==============================] - 0s 9ms/step - loss: 0.6753 - accuracy: 0.5553\n",
            "Epoch 30/200\n",
            "2/2 [==============================] - 0s 8ms/step - loss: 0.6803 - accuracy: 0.5136\n",
            "Epoch 31/200\n",
            "2/2 [==============================] - 0s 7ms/step - loss: 0.6667 - accuracy: 0.5761\n",
            "Epoch 32/200\n",
            "2/2 [==============================] - 0s 8ms/step - loss: 0.6718 - accuracy: 0.5449\n",
            "Epoch 33/200\n",
            "2/2 [==============================] - 0s 8ms/step - loss: 0.6685 - accuracy: 0.5553\n",
            "Epoch 34/200\n",
            "2/2 [==============================] - 0s 8ms/step - loss: 0.6666 - accuracy: 0.5449\n",
            "Epoch 35/200\n",
            "2/2 [==============================] - 0s 8ms/step - loss: 0.6650 - accuracy: 0.5449\n",
            "Epoch 36/200\n",
            "2/2 [==============================] - 0s 7ms/step - loss: 0.6650 - accuracy: 0.5345\n",
            "Epoch 37/200\n",
            "2/2 [==============================] - 0s 9ms/step - loss: 0.6559 - accuracy: 0.5553\n",
            "Epoch 38/200\n",
            "2/2 [==============================] - 0s 9ms/step - loss: 0.6520 - accuracy: 0.5553\n",
            "Epoch 39/200\n",
            "2/2 [==============================] - 0s 9ms/step - loss: 0.6513 - accuracy: 0.5449\n",
            "Epoch 40/200\n",
            "2/2 [==============================] - 0s 9ms/step - loss: 0.6511 - accuracy: 0.5679\n",
            "Epoch 41/200\n",
            "2/2 [==============================] - 0s 9ms/step - loss: 0.6361 - accuracy: 0.6210\n",
            "Epoch 42/200\n",
            "2/2 [==============================] - 0s 9ms/step - loss: 0.6290 - accuracy: 0.6336\n",
            "Epoch 43/200\n",
            "2/2 [==============================] - 0s 9ms/step - loss: 0.6291 - accuracy: 0.6889\n",
            "Epoch 44/200\n",
            "2/2 [==============================] - 0s 9ms/step - loss: 0.6282 - accuracy: 0.6900\n",
            "Epoch 45/200\n",
            "2/2 [==============================] - 0s 10ms/step - loss: 0.6252 - accuracy: 0.7568\n",
            "Epoch 46/200\n",
            "2/2 [==============================] - 0s 11ms/step - loss: 0.6105 - accuracy: 0.8111\n",
            "Epoch 47/200\n",
            "2/2 [==============================] - 0s 10ms/step - loss: 0.5989 - accuracy: 0.7881\n",
            "Epoch 48/200\n",
            "2/2 [==============================] - 0s 12ms/step - loss: 0.5986 - accuracy: 0.7777\n",
            "Epoch 49/200\n",
            "2/2 [==============================] - 0s 10ms/step - loss: 0.5885 - accuracy: 0.7777\n",
            "Epoch 50/200\n",
            "2/2 [==============================] - 0s 9ms/step - loss: 0.5727 - accuracy: 0.7892\n",
            "Epoch 51/200\n",
            "2/2 [==============================] - 0s 9ms/step - loss: 0.5771 - accuracy: 0.7453\n",
            "Epoch 52/200\n",
            "2/2 [==============================] - 0s 9ms/step - loss: 0.5823 - accuracy: 0.7464\n",
            "Epoch 53/200\n",
            "2/2 [==============================] - 0s 9ms/step - loss: 0.5533 - accuracy: 0.7662\n",
            "Epoch 54/200\n",
            "2/2 [==============================] - 0s 11ms/step - loss: 0.5576 - accuracy: 0.7547\n",
            "Epoch 55/200\n",
            "2/2 [==============================] - 0s 9ms/step - loss: 0.5361 - accuracy: 0.7443\n",
            "Epoch 56/200\n",
            "2/2 [==============================] - 0s 9ms/step - loss: 0.5459 - accuracy: 0.7338\n",
            "Epoch 57/200\n",
            "2/2 [==============================] - 0s 9ms/step - loss: 0.5455 - accuracy: 0.7338\n",
            "Epoch 58/200\n",
            "2/2 [==============================] - 0s 8ms/step - loss: 0.5358 - accuracy: 0.7672\n",
            "Epoch 59/200\n",
            "2/2 [==============================] - 0s 9ms/step - loss: 0.4852 - accuracy: 0.8089\n",
            "Epoch 60/200\n",
            "2/2 [==============================] - 0s 9ms/step - loss: 0.4977 - accuracy: 0.7881\n",
            "Epoch 61/200\n",
            "2/2 [==============================] - 0s 9ms/step - loss: 0.4892 - accuracy: 0.7985\n",
            "Epoch 62/200\n",
            "2/2 [==============================] - 0s 10ms/step - loss: 0.5055 - accuracy: 0.7672\n",
            "Epoch 63/200\n",
            "2/2 [==============================] - 0s 14ms/step - loss: 0.4872 - accuracy: 0.7777\n",
            "Epoch 64/200\n",
            "2/2 [==============================] - 0s 9ms/step - loss: 0.5033 - accuracy: 0.7672\n",
            "Epoch 65/200\n",
            "2/2 [==============================] - 0s 13ms/step - loss: 0.5127 - accuracy: 0.7568\n",
            "Epoch 66/200\n",
            "2/2 [==============================] - 0s 10ms/step - loss: 0.5255 - accuracy: 0.7464\n",
            "Epoch 67/200\n",
            "2/2 [==============================] - 0s 8ms/step - loss: 0.4885 - accuracy: 0.7777\n",
            "Epoch 68/200\n",
            "2/2 [==============================] - 0s 8ms/step - loss: 0.4752 - accuracy: 0.7881\n",
            "Epoch 69/200\n",
            "2/2 [==============================] - 0s 8ms/step - loss: 0.4892 - accuracy: 0.7777\n",
            "Epoch 70/200\n",
            "2/2 [==============================] - 0s 8ms/step - loss: 0.4653 - accuracy: 0.7881\n",
            "Epoch 71/200\n",
            "2/2 [==============================] - 0s 8ms/step - loss: 0.4808 - accuracy: 0.7672\n",
            "Epoch 72/200\n",
            "2/2 [==============================] - 0s 8ms/step - loss: 0.4893 - accuracy: 0.7777\n",
            "Epoch 73/200\n",
            "2/2 [==============================] - 0s 8ms/step - loss: 0.4463 - accuracy: 0.7985\n",
            "Epoch 74/200\n",
            "2/2 [==============================] - 0s 7ms/step - loss: 0.4647 - accuracy: 0.7881\n",
            "Epoch 75/200\n",
            "2/2 [==============================] - 0s 10ms/step - loss: 0.4435 - accuracy: 0.7985\n",
            "Epoch 76/200\n",
            "2/2 [==============================] - 0s 11ms/step - loss: 0.4294 - accuracy: 0.7985\n",
            "Epoch 77/200\n",
            "2/2 [==============================] - 0s 8ms/step - loss: 0.4544 - accuracy: 0.7996\n",
            "Epoch 78/200\n",
            "2/2 [==============================] - 0s 8ms/step - loss: 0.4468 - accuracy: 0.7996\n",
            "Epoch 79/200\n",
            "2/2 [==============================] - 0s 8ms/step - loss: 0.4099 - accuracy: 0.8308\n",
            "Epoch 80/200\n",
            "2/2 [==============================] - 0s 8ms/step - loss: 0.4418 - accuracy: 0.7996\n",
            "Epoch 81/200\n",
            "2/2 [==============================] - 0s 9ms/step - loss: 0.4470 - accuracy: 0.7787\n",
            "Epoch 82/200\n",
            "2/2 [==============================] - 0s 11ms/step - loss: 0.4327 - accuracy: 0.8100\n",
            "Epoch 83/200\n",
            "2/2 [==============================] - 0s 8ms/step - loss: 0.4401 - accuracy: 0.7996\n",
            "Epoch 84/200\n",
            "2/2 [==============================] - 0s 9ms/step - loss: 0.3822 - accuracy: 0.8308\n",
            "Epoch 85/200\n",
            "2/2 [==============================] - 0s 12ms/step - loss: 0.4315 - accuracy: 0.8006\n",
            "Epoch 86/200\n",
            "2/2 [==============================] - 0s 9ms/step - loss: 0.3969 - accuracy: 0.8215\n",
            "Epoch 87/200\n",
            "2/2 [==============================] - 0s 9ms/step - loss: 0.4214 - accuracy: 0.8006\n",
            "Epoch 88/200\n",
            "2/2 [==============================] - 0s 8ms/step - loss: 0.4022 - accuracy: 0.8111\n",
            "Epoch 89/200\n",
            "2/2 [==============================] - 0s 11ms/step - loss: 0.4210 - accuracy: 0.7902\n",
            "Epoch 90/200\n",
            "2/2 [==============================] - 0s 9ms/step - loss: 0.3651 - accuracy: 0.8423\n",
            "Epoch 91/200\n",
            "2/2 [==============================] - 0s 8ms/step - loss: 0.4276 - accuracy: 0.7798\n",
            "Epoch 92/200\n",
            "2/2 [==============================] - 0s 8ms/step - loss: 0.3986 - accuracy: 0.8006\n",
            "Epoch 93/200\n",
            "2/2 [==============================] - 0s 8ms/step - loss: 0.3536 - accuracy: 0.8538\n",
            "Epoch 94/200\n",
            "2/2 [==============================] - 0s 9ms/step - loss: 0.3532 - accuracy: 0.8434\n",
            "Epoch 95/200\n",
            "2/2 [==============================] - 0s 10ms/step - loss: 0.3768 - accuracy: 0.8226\n",
            "Epoch 96/200\n",
            "2/2 [==============================] - 0s 9ms/step - loss: 0.3690 - accuracy: 0.8445\n",
            "Epoch 97/200\n",
            "2/2 [==============================] - 0s 10ms/step - loss: 0.3689 - accuracy: 0.8341\n",
            "Epoch 98/200\n",
            "2/2 [==============================] - 0s 9ms/step - loss: 0.3349 - accuracy: 0.8549\n",
            "Epoch 99/200\n",
            "2/2 [==============================] - 0s 9ms/step - loss: 0.3069 - accuracy: 0.8768\n",
            "Epoch 100/200\n",
            "2/2 [==============================] - 0s 9ms/step - loss: 0.3370 - accuracy: 0.8560\n",
            "Epoch 101/200\n",
            "2/2 [==============================] - 0s 9ms/step - loss: 0.3381 - accuracy: 0.8560\n",
            "Epoch 102/200\n",
            "2/2 [==============================] - 0s 8ms/step - loss: 0.3318 - accuracy: 0.8664\n",
            "Epoch 103/200\n",
            "2/2 [==============================] - 0s 9ms/step - loss: 0.3141 - accuracy: 0.8560\n",
            "Epoch 104/200\n",
            "2/2 [==============================] - 0s 9ms/step - loss: 0.3191 - accuracy: 0.8675\n",
            "Epoch 105/200\n",
            "2/2 [==============================] - 0s 8ms/step - loss: 0.3209 - accuracy: 0.8675\n",
            "Epoch 106/200\n",
            "2/2 [==============================] - 0s 9ms/step - loss: 0.2956 - accuracy: 0.8779\n",
            "Epoch 107/200\n",
            "2/2 [==============================] - 0s 8ms/step - loss: 0.3077 - accuracy: 0.8779\n",
            "Epoch 108/200\n",
            "2/2 [==============================] - 0s 8ms/step - loss: 0.3043 - accuracy: 0.8779\n",
            "Epoch 109/200\n",
            "2/2 [==============================] - 0s 10ms/step - loss: 0.2757 - accuracy: 0.8883\n",
            "Epoch 110/200\n",
            "2/2 [==============================] - 0s 9ms/step - loss: 0.2758 - accuracy: 0.8779\n",
            "Epoch 111/200\n",
            "2/2 [==============================] - 0s 8ms/step - loss: 0.2773 - accuracy: 0.8779\n",
            "Epoch 112/200\n",
            "2/2 [==============================] - 0s 10ms/step - loss: 0.2475 - accuracy: 0.8987\n",
            "Epoch 113/200\n",
            "2/2 [==============================] - 0s 8ms/step - loss: 0.2614 - accuracy: 0.8987\n",
            "Epoch 114/200\n",
            "2/2 [==============================] - 0s 9ms/step - loss: 0.2691 - accuracy: 0.8779\n",
            "Epoch 115/200\n",
            "2/2 [==============================] - 0s 14ms/step - loss: 0.2486 - accuracy: 0.8883\n",
            "Epoch 116/200\n",
            "2/2 [==============================] - 0s 9ms/step - loss: 0.2568 - accuracy: 0.8675\n",
            "Epoch 117/200\n",
            "2/2 [==============================] - 0s 9ms/step - loss: 0.2696 - accuracy: 0.8675\n",
            "Epoch 118/200\n",
            "2/2 [==============================] - 0s 8ms/step - loss: 0.2632 - accuracy: 0.8675\n",
            "Epoch 119/200\n",
            "2/2 [==============================] - 0s 11ms/step - loss: 0.2392 - accuracy: 0.8987\n",
            "Epoch 120/200\n",
            "2/2 [==============================] - 0s 9ms/step - loss: 0.2531 - accuracy: 0.8779\n",
            "Epoch 121/200\n",
            "2/2 [==============================] - 0s 9ms/step - loss: 0.2311 - accuracy: 0.8987\n",
            "Epoch 122/200\n",
            "2/2 [==============================] - 0s 10ms/step - loss: 0.2647 - accuracy: 0.8675\n",
            "Epoch 123/200\n",
            "2/2 [==============================] - 0s 8ms/step - loss: 0.2547 - accuracy: 0.8675\n",
            "Epoch 124/200\n",
            "2/2 [==============================] - 0s 9ms/step - loss: 0.2449 - accuracy: 0.8675\n",
            "Epoch 125/200\n",
            "2/2 [==============================] - 0s 11ms/step - loss: 0.2214 - accuracy: 0.8779\n",
            "Epoch 126/200\n",
            "2/2 [==============================] - 0s 10ms/step - loss: 0.2362 - accuracy: 0.8779\n",
            "Epoch 127/200\n",
            "2/2 [==============================] - 0s 10ms/step - loss: 0.2559 - accuracy: 0.8570\n",
            "Epoch 128/200\n",
            "2/2 [==============================] - 0s 10ms/step - loss: 0.2514 - accuracy: 0.8570\n",
            "Epoch 129/200\n",
            "2/2 [==============================] - 0s 10ms/step - loss: 0.2362 - accuracy: 0.8779\n",
            "Epoch 130/200\n",
            "2/2 [==============================] - 0s 14ms/step - loss: 0.2545 - accuracy: 0.8570\n",
            "Epoch 131/200\n",
            "2/2 [==============================] - 0s 9ms/step - loss: 0.2499 - accuracy: 0.8675\n",
            "Epoch 132/200\n",
            "2/2 [==============================] - 0s 8ms/step - loss: 0.2141 - accuracy: 0.8779\n",
            "Epoch 133/200\n",
            "2/2 [==============================] - 0s 8ms/step - loss: 0.2298 - accuracy: 0.8779\n",
            "Epoch 134/200\n",
            "2/2 [==============================] - 0s 8ms/step - loss: 0.2137 - accuracy: 0.8883\n",
            "Epoch 135/200\n",
            "2/2 [==============================] - 0s 9ms/step - loss: 0.2195 - accuracy: 0.8883\n",
            "Epoch 136/200\n",
            "2/2 [==============================] - 0s 8ms/step - loss: 0.2341 - accuracy: 0.8675\n",
            "Epoch 137/200\n",
            "2/2 [==============================] - 0s 15ms/step - loss: 0.2268 - accuracy: 0.8675\n",
            "Epoch 138/200\n",
            "2/2 [==============================] - 0s 8ms/step - loss: 0.2351 - accuracy: 0.8675\n",
            "Epoch 139/200\n",
            "2/2 [==============================] - 0s 9ms/step - loss: 0.2017 - accuracy: 0.8987\n",
            "Epoch 140/200\n",
            "2/2 [==============================] - 0s 10ms/step - loss: 0.1862 - accuracy: 0.8987\n",
            "Epoch 141/200\n",
            "2/2 [==============================] - 0s 8ms/step - loss: 0.2185 - accuracy: 0.8675\n",
            "Epoch 142/200\n",
            "2/2 [==============================] - 0s 8ms/step - loss: 0.2176 - accuracy: 0.8570\n",
            "Epoch 143/200\n",
            "2/2 [==============================] - 0s 10ms/step - loss: 0.2035 - accuracy: 0.8883\n",
            "Epoch 144/200\n",
            "2/2 [==============================] - 0s 15ms/step - loss: 0.1897 - accuracy: 0.8883\n",
            "Epoch 145/200\n",
            "2/2 [==============================] - 0s 17ms/step - loss: 0.2082 - accuracy: 0.8883\n",
            "Epoch 146/200\n",
            "2/2 [==============================] - 0s 10ms/step - loss: 0.2215 - accuracy: 0.8675\n",
            "Epoch 147/200\n",
            "2/2 [==============================] - 0s 9ms/step - loss: 0.1914 - accuracy: 0.9102\n",
            "Epoch 148/200\n",
            "2/2 [==============================] - 0s 10ms/step - loss: 0.1816 - accuracy: 0.9206\n",
            "Epoch 149/200\n",
            "2/2 [==============================] - 0s 10ms/step - loss: 0.1884 - accuracy: 0.9102\n",
            "Epoch 150/200\n",
            "2/2 [==============================] - 0s 9ms/step - loss: 0.2099 - accuracy: 0.9009\n",
            "Epoch 151/200\n",
            "2/2 [==============================] - 0s 10ms/step - loss: 0.1941 - accuracy: 0.9113\n",
            "Epoch 152/200\n",
            "2/2 [==============================] - 0s 10ms/step - loss: 0.2054 - accuracy: 0.9113\n",
            "Epoch 153/200\n",
            "2/2 [==============================] - 0s 8ms/step - loss: 0.2059 - accuracy: 0.9009\n",
            "Epoch 154/200\n",
            "2/2 [==============================] - 0s 9ms/step - loss: 0.1958 - accuracy: 0.9113\n",
            "Epoch 155/200\n",
            "2/2 [==============================] - 0s 9ms/step - loss: 0.1891 - accuracy: 0.9217\n",
            "Epoch 156/200\n",
            "2/2 [==============================] - 0s 11ms/step - loss: 0.1956 - accuracy: 0.9009\n",
            "Epoch 157/200\n",
            "2/2 [==============================] - 0s 9ms/step - loss: 0.1949 - accuracy: 0.9009\n",
            "Epoch 158/200\n",
            "2/2 [==============================] - 0s 10ms/step - loss: 0.1649 - accuracy: 0.9217\n",
            "Epoch 159/200\n",
            "2/2 [==============================] - 0s 9ms/step - loss: 0.1985 - accuracy: 0.9009\n",
            "Epoch 160/200\n",
            "2/2 [==============================] - 0s 9ms/step - loss: 0.1687 - accuracy: 0.9217\n",
            "Epoch 161/200\n",
            "2/2 [==============================] - 0s 9ms/step - loss: 0.1775 - accuracy: 0.9113\n",
            "Epoch 162/200\n",
            "2/2 [==============================] - 0s 9ms/step - loss: 0.1603 - accuracy: 0.9217\n",
            "Epoch 163/200\n",
            "2/2 [==============================] - 0s 9ms/step - loss: 0.1777 - accuracy: 0.9113\n",
            "Epoch 164/200\n",
            "2/2 [==============================] - 0s 9ms/step - loss: 0.1715 - accuracy: 0.9217\n",
            "Epoch 165/200\n",
            "2/2 [==============================] - 0s 8ms/step - loss: 0.1569 - accuracy: 0.9321\n",
            "Epoch 166/200\n",
            "2/2 [==============================] - 0s 8ms/step - loss: 0.1695 - accuracy: 0.9113\n",
            "Epoch 167/200\n",
            "2/2 [==============================] - 0s 10ms/step - loss: 0.1680 - accuracy: 0.9113\n",
            "Epoch 168/200\n",
            "2/2 [==============================] - 0s 10ms/step - loss: 0.1616 - accuracy: 0.9113\n",
            "Epoch 169/200\n",
            "2/2 [==============================] - 0s 12ms/step - loss: 0.1873 - accuracy: 0.9009\n",
            "Epoch 170/200\n",
            "2/2 [==============================] - 0s 9ms/step - loss: 0.1606 - accuracy: 0.9113\n",
            "Epoch 171/200\n",
            "2/2 [==============================] - 0s 9ms/step - loss: 0.1497 - accuracy: 0.9217\n",
            "Epoch 172/200\n",
            "2/2 [==============================] - 0s 9ms/step - loss: 0.1766 - accuracy: 0.9009\n",
            "Epoch 173/200\n",
            "2/2 [==============================] - 0s 10ms/step - loss: 0.1491 - accuracy: 0.9113\n",
            "Epoch 174/200\n",
            "2/2 [==============================] - 0s 10ms/step - loss: 0.1560 - accuracy: 0.9113\n",
            "Epoch 175/200\n",
            "2/2 [==============================] - 0s 8ms/step - loss: 0.1631 - accuracy: 0.9113\n",
            "Epoch 176/200\n",
            "2/2 [==============================] - 0s 12ms/step - loss: 0.1409 - accuracy: 0.9321\n",
            "Epoch 177/200\n",
            "2/2 [==============================] - 0s 9ms/step - loss: 0.1413 - accuracy: 0.9217\n",
            "Epoch 178/200\n",
            "2/2 [==============================] - 0s 9ms/step - loss: 0.1449 - accuracy: 0.9113\n",
            "Epoch 179/200\n",
            "2/2 [==============================] - 0s 10ms/step - loss: 0.1625 - accuracy: 0.9009\n",
            "Epoch 180/200\n",
            "2/2 [==============================] - 0s 10ms/step - loss: 0.1353 - accuracy: 0.9113\n",
            "Epoch 181/200\n",
            "2/2 [==============================] - 0s 8ms/step - loss: 0.1319 - accuracy: 0.9217\n",
            "Epoch 182/200\n",
            "2/2 [==============================] - 0s 11ms/step - loss: 0.1444 - accuracy: 0.9228\n",
            "Epoch 183/200\n",
            "2/2 [==============================] - 0s 8ms/step - loss: 0.1555 - accuracy: 0.9228\n",
            "Epoch 184/200\n",
            "2/2 [==============================] - 0s 8ms/step - loss: 0.1473 - accuracy: 0.9228\n",
            "Epoch 185/200\n",
            "2/2 [==============================] - 0s 9ms/step - loss: 0.1485 - accuracy: 0.9124\n",
            "Epoch 186/200\n",
            "2/2 [==============================] - 0s 9ms/step - loss: 0.1366 - accuracy: 0.9332\n",
            "Epoch 187/200\n",
            "2/2 [==============================] - 0s 10ms/step - loss: 0.1410 - accuracy: 0.9332\n",
            "Epoch 188/200\n",
            "2/2 [==============================] - 0s 11ms/step - loss: 0.1408 - accuracy: 0.9332\n",
            "Epoch 189/200\n",
            "2/2 [==============================] - 0s 9ms/step - loss: 0.1269 - accuracy: 0.9332\n",
            "Epoch 190/200\n",
            "2/2 [==============================] - 0s 10ms/step - loss: 0.1303 - accuracy: 0.9332\n",
            "Epoch 191/200\n",
            "2/2 [==============================] - 0s 10ms/step - loss: 0.1341 - accuracy: 0.9332\n",
            "Epoch 192/200\n",
            "2/2 [==============================] - 0s 8ms/step - loss: 0.1395 - accuracy: 0.9228\n",
            "Epoch 193/200\n",
            "2/2 [==============================] - 0s 13ms/step - loss: 0.1588 - accuracy: 0.9124\n",
            "Epoch 194/200\n",
            "2/2 [==============================] - 0s 9ms/step - loss: 0.1614 - accuracy: 0.9124\n",
            "Epoch 195/200\n",
            "2/2 [==============================] - 0s 9ms/step - loss: 0.1290 - accuracy: 0.9332\n",
            "Epoch 196/200\n",
            "2/2 [==============================] - 0s 9ms/step - loss: 0.1388 - accuracy: 0.9447\n",
            "Epoch 197/200\n",
            "2/2 [==============================] - 0s 9ms/step - loss: 0.1303 - accuracy: 0.9447\n",
            "Epoch 198/200\n",
            "2/2 [==============================] - 0s 7ms/step - loss: 0.1350 - accuracy: 0.9551\n",
            "Epoch 199/200\n",
            "2/2 [==============================] - 0s 10ms/step - loss: 0.1276 - accuracy: 0.9551\n",
            "Epoch 200/200\n",
            "2/2 [==============================] - 0s 10ms/step - loss: 0.1319 - accuracy: 0.9447\n"
          ],
          "name": "stdout"
        }
      ]
    },
    {
      "cell_type": "code",
      "metadata": {
        "id": "XIC50BW_LYro"
      },
      "source": [
        "import matplotlib.pylab as plt\r\n"
      ],
      "execution_count": null,
      "outputs": []
    },
    {
      "cell_type": "code",
      "metadata": {
        "colab": {
          "base_uri": "https://localhost:8080/",
          "height": 295
        },
        "id": "CzhQA7HYLVxp",
        "outputId": "5dce8237-b397-443b-931a-c778739dc310"
      },
      "source": [
        "# summarize history for accuracy\r\n",
        "plt.plot(history.history['accuracy'])\r\n",
        "plt.title('model accuracy')\r\n",
        "plt.ylabel('accuracy')\r\n",
        "plt.xlabel('epoch')\r\n",
        "plt.legend(['train', 'test'], loc='upper left')\r\n",
        "plt.show()\r\n"
      ],
      "execution_count": null,
      "outputs": [
        {
          "output_type": "display_data",
          "data": {
            "image/png": "[encoded data removed]",
            "text/plain": [
              "<Figure size 432x288 with 1 Axes>"
            ]
          },
          "metadata": {
            "tags": [],
            "needs_background": "light"
          }
        }
      ]
    },
    {
      "cell_type": "code",
      "metadata": {
        "colab": {
          "base_uri": "https://localhost:8080/",
          "height": 295
        },
        "id": "3bs_hCcsLqgE",
        "outputId": "4347c240-9791-479f-c74b-c4a1f2760170"
      },
      "source": [
        "# summarize history for loss\r\n",
        "plt.plot(history.history['loss'])\r\n",
        "plt.title('model loss')\r\n",
        "plt.ylabel('loss')\r\n",
        "plt.xlabel('epoch')\r\n",
        "plt.legend(['train', 'test'], loc='upper left')\r\n",
        "plt.show()"
      ],
      "execution_count": null,
      "outputs": [
        {
          "output_type": "display_data",
          "data": {
            "image/png": "[encoded data removed]",
            "text/plain": [
              "<Figure size 432x288 with 1 Axes>"
            ]
          },
          "metadata": {
            "tags": [],
            "needs_background": "light"
          }
        }
      ]
    },
    {
      "cell_type": "code",
      "metadata": {
        "colab": {
          "base_uri": "https://localhost:8080/"
        },
        "id": "MjcLUKxCKZ_z",
        "outputId": "106b35ee-2a01-45d6-ea95-ecee8eaa6eaa"
      },
      "source": [
        "print(model.predict([\r\n",
        "  \"very good\",\r\n",
        "]))"
      ],
      "execution_count": null,
      "outputs": [
        {
          "output_type": "stream",
          "text": [
            "[[0.9999889]]\n"
          ],
          "name": "stdout"
        }
      ]
    },
    {
      "cell_type": "code",
      "metadata": {
        "colab": {
          "base_uri": "https://localhost:8080/"
        },
        "id": "bPoLyF8JKgZC",
        "outputId": "568c9637-29db-4835-aca4-c9d6ae5eb246"
      },
      "source": [
        "print(model.predict([\r\n",
        "  \"very bad\",\r\n",
        "]))"
      ],
      "execution_count": null,
      "outputs": [
        {
          "output_type": "stream",
          "text": [
            "[[0.00029661]]\n"
          ],
          "name": "stdout"
        }
      ]
    },
    {
      "cell_type": "code",
      "metadata": {
        "colab": {
          "base_uri": "https://localhost:8080/"
        },
        "id": "jAHZ58X0DChy",
        "outputId": "c8697005-415b-4cc6-c5d4-777e9f7c03b1"
      },
      "source": [
        "# First get the weights of the embedding layer\r\n",
        "e = model.layers[1]\r\n",
        "weights = e.get_weights()[0]\r\n",
        "print(weights.shape) # shape: (vocab_size, embedding_dim)"
      ],
      "execution_count": null,
      "outputs": [
        {
          "output_type": "stream",
          "text": [
            "(21, 8)\n"
          ],
          "name": "stdout"
        }
      ]
    },
    {
      "cell_type": "code",
      "metadata": {
        "id": "SSQ1rMReEVH-"
      },
      "source": [
        "import io\r\n",
        "\r\n",
        "# Write out the embedding vectors and metadata\r\n",
        "out_v = io.open('vecs.tsv', 'w', encoding='utf-8')\r\n",
        "out_m = io.open('meta.tsv', 'w', encoding='utf-8')\r\n",
        "for word_num in range(1, max_tokens):\r\n",
        "  word = reverse_word_index[word_num]\r\n",
        "  embeddings = weights[word_num]\r\n",
        "  out_m.write(word + \"\\n\")\r\n",
        "  out_v.write('\\t'.join([str(x) for x in embeddings]) + \"\\n\")\r\n",
        "out_v.close()\r\n",
        "out_m.close()"
      ],
      "execution_count": null,
      "outputs": []
    },
    {
      "cell_type": "code",
      "metadata": {
        "id": "U4ManMb0Efjg",
        "colab": {
          "base_uri": "https://localhost:8080/",
          "height": 17
        },
        "outputId": "c7e500e0-d96f-49b7-eb00-af7f1d085a01"
      },
      "source": [
        "# Download the files\r\n",
        "try:\r\n",
        "  from google.colab import files\r\n",
        "except ImportError:\r\n",
        "  pass\r\n",
        "else:\r\n",
        "  files.download('vecs.tsv')\r\n",
        "  files.download('meta.tsv')"
      ],
      "execution_count": null,
      "outputs": [
        {
          "output_type": "display_data",
          "data": {
            "application/javascript": [
              "\n",
              "    async function download(id, filename, size) {\n",
              "      if (!google.colab.kernel.accessAllowed) {\n",
              "        return;\n",
              "      }\n",
              "      const div = document.createElement('div');\n",
              "      const label = document.createElement('label');\n",
              "      label.textContent = `Downloading \"${filename}\": `;\n",
              "      div.appendChild(label);\n",
              "      const progress = document.createElement('progress');\n",
              "      progress.max = size;\n",
              "      div.appendChild(progress);\n",
              "      document.body.appendChild(div);\n",
              "\n",
              "      const buffers = [];\n",
              "      let downloaded = 0;\n",
              "\n",
              "      const channel = await google.colab.kernel.comms.open(id);\n",
              "      // Send a message to notify the kernel that we're ready.\n",
              "      channel.send({})\n",
              "\n",
              "      for await (const message of channel.messages) {\n",
              "        // Send a message to notify the kernel that we're ready.\n",
              "        channel.send({})\n",
              "        if (message.buffers) {\n",
              "          for (const buffer of message.buffers) {\n",
              "            buffers.push(buffer);\n",
              "            downloaded += buffer.byteLength;\n",
              "            progress.value = downloaded;\n",
              "          }\n",
              "        }\n",
              "      }\n",
              "      const blob = new Blob(buffers, {type: 'application/binary'});\n",
              "      const a = document.createElement('a');\n",
              "      a.href = window.URL.createObjectURL(blob);\n",
              "      a.download = filename;\n",
              "      div.appendChild(a);\n",
              "      a.click();\n",
              "      div.remove();\n",
              "    }\n",
              "  "
            ],
            "text/plain": [
              "<IPython.core.display.Javascript object>"
            ]
          },
          "metadata": {
            "tags": []
          }
        },
        {
          "output_type": "display_data",
          "data": {
            "application/javascript": [
              "download(\"download_0c10712c-7ea4-435e-93e7-868fb8b6d4f4\", \"vecs.tsv\", 1811)"
            ],
            "text/plain": [
              "<IPython.core.display.Javascript object>"
            ]
          },
          "metadata": {
            "tags": []
          }
        },
        {
          "output_type": "display_data",
          "data": {
            "application/javascript": [
              "\n",
              "    async function download(id, filename, size) {\n",
              "      if (!google.colab.kernel.accessAllowed) {\n",
              "        return;\n",
              "      }\n",
              "      const div = document.createElement('div');\n",
              "      const label = document.createElement('label');\n",
              "      label.textContent = `Downloading \"${filename}\": `;\n",
              "      div.appendChild(label);\n",
              "      const progress = document.createElement('progress');\n",
              "      progress.max = size;\n",
              "      div.appendChild(progress);\n",
              "      document.body.appendChild(div);\n",
              "\n",
              "      const buffers = [];\n",
              "      let downloaded = 0;\n",
              "\n",
              "      const channel = await google.colab.kernel.comms.open(id);\n",
              "      // Send a message to notify the kernel that we're ready.\n",
              "      channel.send({})\n",
              "\n",
              "      for await (const message of channel.messages) {\n",
              "        // Send a message to notify the kernel that we're ready.\n",
              "        channel.send({})\n",
              "        if (message.buffers) {\n",
              "          for (const buffer of message.buffers) {\n",
              "            buffers.push(buffer);\n",
              "            downloaded += buffer.byteLength;\n",
              "            progress.value = downloaded;\n",
              "          }\n",
              "        }\n",
              "      }\n",
              "      const blob = new Blob(buffers, {type: 'application/binary'});\n",
              "      const a = document.createElement('a');\n",
              "      a.href = window.URL.createObjectURL(blob);\n",
              "      a.download = filename;\n",
              "      div.appendChild(a);\n",
              "      a.click();\n",
              "      div.remove();\n",
              "    }\n",
              "  "
            ],
            "text/plain": [
              "<IPython.core.display.Javascript object>"
            ]
          },
          "metadata": {
            "tags": []
          }
        },
        {
          "output_type": "display_data",
          "data": {
            "application/javascript": [
              "download(\"download_ca7ee7db-00f1-48fe-b8d8-8cd47c9c3781\", \"meta.tsv\", 83)"
            ],
            "text/plain": [
              "<IPython.core.display.Javascript object>"
            ]
          },
          "metadata": {
            "tags": []
          }
        }
      ]
    },
    {
      "cell_type": "code",
      "metadata": {
        "id": "JbbSMLokFtHH",
        "colab": {
          "base_uri": "https://localhost:8080/"
        },
        "outputId": "80a4eab4-528a-47ce-9e46-4422a15874b3"
      },
      "source": [
        "model2 = Sequential()\r\n",
        "model2.add(Input(shape=(1,), dtype=\"string\"))\r\n",
        "model2.add(vectorize_layer)\r\n",
        "model2.add(Embedding(max_tokens + 1, 8))\r\n",
        "model2.add(SimpleRNN(16))\r\n",
        "model2.add(Dense(16, activation=\"relu\"))\r\n",
        "model2.add(Dense(1, activation=\"sigmoid\"))\r\n",
        "model2.summary()"
      ],
      "execution_count": null,
      "outputs": [
        {
          "output_type": "stream",
          "text": [
            "Model: \"sequential_1\"\n",
            "_________________________________________________________________\n",
            "Layer (type)                 Output Shape              Param #   \n",
            "=================================================================\n",
            "text_vectorization (TextVect (None, 5)                 0         \n",
            "_________________________________________________________________\n",
            "embedding_1 (Embedding)      (None, 5, 8)              168       \n",
            "_________________________________________________________________\n",
            "simple_rnn (SimpleRNN)       (None, 16)                400       \n",
            "_________________________________________________________________\n",
            "dense_2 (Dense)              (None, 16)                272       \n",
            "_________________________________________________________________\n",
            "dense_3 (Dense)              (None, 1)                 17        \n",
            "=================================================================\n",
            "Total params: 857\n",
            "Trainable params: 857\n",
            "Non-trainable params: 0\n",
            "_________________________________________________________________\n"
          ],
          "name": "stdout"
        }
      ]
    },
    {
      "cell_type": "code",
      "metadata": {
        "id": "EgkeH8rid-LJ"
      },
      "source": [
        "model2.compile(\r\n",
        "  optimizer='adam',\r\n",
        "  loss='binary_crossentropy',\r\n",
        "  metrics=['accuracy'],\r\n",
        ")"
      ],
      "execution_count": null,
      "outputs": []
    },
    {
      "cell_type": "code",
      "metadata": {
        "id": "bothp8aYeDOA",
        "colab": {
          "base_uri": "https://localhost:8080/"
        },
        "outputId": "9af98ceb-43f0-4e48-ade1-21ba348350b6"
      },
      "source": [
        "history = model2.fit(X_train, y_train, epochs=200)\r\n"
      ],
      "execution_count": null,
      "outputs": [
        {
          "output_type": "stream",
          "text": [
            "Epoch 1/200\n",
            "2/2 [==============================] - 1s 12ms/step - loss: 0.6965 - accuracy: 0.4321\n",
            "Epoch 2/200\n",
            "2/2 [==============================] - 0s 12ms/step - loss: 0.6931 - accuracy: 0.4217\n",
            "Epoch 3/200\n",
            "2/2 [==============================] - 0s 10ms/step - loss: 0.6921 - accuracy: 0.4447\n",
            "Epoch 4/200\n",
            "2/2 [==============================] - 0s 9ms/step - loss: 0.6883 - accuracy: 0.4770\n",
            "Epoch 5/200\n",
            "2/2 [==============================] - 0s 10ms/step - loss: 0.6886 - accuracy: 0.5460\n",
            "Epoch 6/200\n",
            "2/2 [==============================] - 0s 10ms/step - loss: 0.6858 - accuracy: 0.6106\n",
            "Epoch 7/200\n",
            "2/2 [==============================] - 0s 10ms/step - loss: 0.6830 - accuracy: 0.6210\n",
            "Epoch 8/200\n",
            "2/2 [==============================] - 0s 9ms/step - loss: 0.6813 - accuracy: 0.6555\n",
            "Epoch 9/200\n",
            "2/2 [==============================] - 0s 10ms/step - loss: 0.6790 - accuracy: 0.7004\n",
            "Epoch 10/200\n",
            "2/2 [==============================] - 0s 9ms/step - loss: 0.6759 - accuracy: 0.6889\n",
            "Epoch 11/200\n",
            "2/2 [==============================] - 0s 9ms/step - loss: 0.6740 - accuracy: 0.6889\n",
            "Epoch 12/200\n",
            "2/2 [==============================] - 0s 9ms/step - loss: 0.6725 - accuracy: 0.6900\n",
            "Epoch 13/200\n",
            "2/2 [==============================] - 0s 8ms/step - loss: 0.6683 - accuracy: 0.7004\n",
            "Epoch 14/200\n",
            "2/2 [==============================] - 0s 11ms/step - loss: 0.6653 - accuracy: 0.7004\n",
            "Epoch 15/200\n",
            "2/2 [==============================] - 0s 10ms/step - loss: 0.6608 - accuracy: 0.7328\n",
            "Epoch 16/200\n",
            "2/2 [==============================] - 0s 10ms/step - loss: 0.6629 - accuracy: 0.7349\n",
            "Epoch 17/200\n",
            "2/2 [==============================] - 0s 9ms/step - loss: 0.6556 - accuracy: 0.7568\n",
            "Epoch 18/200\n",
            "2/2 [==============================] - 0s 11ms/step - loss: 0.6487 - accuracy: 0.8204\n",
            "Epoch 19/200\n",
            "2/2 [==============================] - 0s 9ms/step - loss: 0.6512 - accuracy: 0.7683\n",
            "Epoch 20/200\n",
            "2/2 [==============================] - 0s 9ms/step - loss: 0.6402 - accuracy: 0.8006\n",
            "Epoch 21/200\n",
            "2/2 [==============================] - 0s 8ms/step - loss: 0.6410 - accuracy: 0.7798\n",
            "Epoch 22/200\n",
            "2/2 [==============================] - 0s 8ms/step - loss: 0.6314 - accuracy: 0.8111\n",
            "Epoch 23/200\n",
            "2/2 [==============================] - 0s 9ms/step - loss: 0.6237 - accuracy: 0.8111\n",
            "Epoch 24/200\n",
            "2/2 [==============================] - 0s 9ms/step - loss: 0.6143 - accuracy: 0.8215\n",
            "Epoch 25/200\n",
            "2/2 [==============================] - 0s 9ms/step - loss: 0.6066 - accuracy: 0.8319\n",
            "Epoch 26/200\n",
            "2/2 [==============================] - 0s 13ms/step - loss: 0.6100 - accuracy: 0.8006\n",
            "Epoch 27/200\n",
            "2/2 [==============================] - 0s 10ms/step - loss: 0.6069 - accuracy: 0.7902\n",
            "Epoch 28/200\n",
            "2/2 [==============================] - 0s 9ms/step - loss: 0.5896 - accuracy: 0.8215\n",
            "Epoch 29/200\n",
            "2/2 [==============================] - 0s 9ms/step - loss: 0.5890 - accuracy: 0.8017\n",
            "Epoch 30/200\n",
            "2/2 [==============================] - 0s 9ms/step - loss: 0.5727 - accuracy: 0.8330\n",
            "Epoch 31/200\n",
            "2/2 [==============================] - 0s 9ms/step - loss: 0.5699 - accuracy: 0.8121\n",
            "Epoch 32/200\n",
            "2/2 [==============================] - 0s 9ms/step - loss: 0.5638 - accuracy: 0.8121\n",
            "Epoch 33/200\n",
            "2/2 [==============================] - 0s 10ms/step - loss: 0.5563 - accuracy: 0.8330\n",
            "Epoch 34/200\n",
            "2/2 [==============================] - 0s 9ms/step - loss: 0.5537 - accuracy: 0.7809\n",
            "Epoch 35/200\n",
            "2/2 [==============================] - 0s 10ms/step - loss: 0.5434 - accuracy: 0.8445\n",
            "Epoch 36/200\n",
            "2/2 [==============================] - 0s 9ms/step - loss: 0.5074 - accuracy: 0.8653\n",
            "Epoch 37/200\n",
            "2/2 [==============================] - 0s 10ms/step - loss: 0.5197 - accuracy: 0.8341\n",
            "Epoch 38/200\n",
            "2/2 [==============================] - 0s 10ms/step - loss: 0.5084 - accuracy: 0.8341\n",
            "Epoch 39/200\n",
            "2/2 [==============================] - 0s 9ms/step - loss: 0.4920 - accuracy: 0.8653\n",
            "Epoch 40/200\n",
            "2/2 [==============================] - 0s 11ms/step - loss: 0.4816 - accuracy: 0.8445\n",
            "Epoch 41/200\n",
            "2/2 [==============================] - 0s 9ms/step - loss: 0.4456 - accuracy: 0.8976\n",
            "Epoch 42/200\n",
            "2/2 [==============================] - 0s 10ms/step - loss: 0.4406 - accuracy: 0.8883\n",
            "Epoch 43/200\n",
            "2/2 [==============================] - 0s 10ms/step - loss: 0.4403 - accuracy: 0.9206\n",
            "Epoch 44/200\n",
            "2/2 [==============================] - 0s 9ms/step - loss: 0.4273 - accuracy: 0.8998\n",
            "Epoch 45/200\n",
            "2/2 [==============================] - 0s 10ms/step - loss: 0.4226 - accuracy: 0.8998\n",
            "Epoch 46/200\n",
            "2/2 [==============================] - 0s 11ms/step - loss: 0.4216 - accuracy: 0.8894\n",
            "Epoch 47/200\n",
            "2/2 [==============================] - 0s 10ms/step - loss: 0.4202 - accuracy: 0.8685\n",
            "Epoch 48/200\n",
            "2/2 [==============================] - 0s 10ms/step - loss: 0.4030 - accuracy: 0.8894\n",
            "Epoch 49/200\n",
            "2/2 [==============================] - 0s 10ms/step - loss: 0.3619 - accuracy: 0.9206\n",
            "Epoch 50/200\n",
            "2/2 [==============================] - 0s 11ms/step - loss: 0.3794 - accuracy: 0.8894\n",
            "Epoch 51/200\n",
            "2/2 [==============================] - 0s 10ms/step - loss: 0.3819 - accuracy: 0.8998\n",
            "Epoch 52/200\n",
            "2/2 [==============================] - 0s 12ms/step - loss: 0.3625 - accuracy: 0.9113\n",
            "Epoch 53/200\n",
            "2/2 [==============================] - 0s 10ms/step - loss: 0.3255 - accuracy: 0.9321\n",
            "Epoch 54/200\n",
            "2/2 [==============================] - 0s 11ms/step - loss: 0.3522 - accuracy: 0.9113\n",
            "Epoch 55/200\n",
            "2/2 [==============================] - 0s 10ms/step - loss: 0.3476 - accuracy: 0.9113\n",
            "Epoch 56/200\n",
            "2/2 [==============================] - 0s 13ms/step - loss: 0.3260 - accuracy: 0.9217\n",
            "Epoch 57/200\n",
            "2/2 [==============================] - 0s 10ms/step - loss: 0.3481 - accuracy: 0.9009\n",
            "Epoch 58/200\n",
            "2/2 [==============================] - 0s 10ms/step - loss: 0.3196 - accuracy: 0.9113\n",
            "Epoch 59/200\n",
            "2/2 [==============================] - 0s 10ms/step - loss: 0.3245 - accuracy: 0.9009\n",
            "Epoch 60/200\n",
            "2/2 [==============================] - 0s 10ms/step - loss: 0.3123 - accuracy: 0.9113\n",
            "Epoch 61/200\n",
            "2/2 [==============================] - 0s 10ms/step - loss: 0.2950 - accuracy: 0.9217\n",
            "Epoch 62/200\n",
            "2/2 [==============================] - 0s 10ms/step - loss: 0.3002 - accuracy: 0.9009\n",
            "Epoch 63/200\n",
            "2/2 [==============================] - 0s 15ms/step - loss: 0.2889 - accuracy: 0.9217\n",
            "Epoch 64/200\n",
            "2/2 [==============================] - 0s 10ms/step - loss: 0.3090 - accuracy: 0.9009\n",
            "Epoch 65/200\n",
            "2/2 [==============================] - 0s 13ms/step - loss: 0.2839 - accuracy: 0.9113\n",
            "Epoch 66/200\n",
            "2/2 [==============================] - 0s 10ms/step - loss: 0.2813 - accuracy: 0.9217\n",
            "Epoch 67/200\n",
            "2/2 [==============================] - 0s 16ms/step - loss: 0.2749 - accuracy: 0.9009\n",
            "Epoch 68/200\n",
            "2/2 [==============================] - 0s 10ms/step - loss: 0.2881 - accuracy: 0.8904\n",
            "Epoch 69/200\n",
            "2/2 [==============================] - 0s 9ms/step - loss: 0.2605 - accuracy: 0.9217\n",
            "Epoch 70/200\n",
            "2/2 [==============================] - 0s 12ms/step - loss: 0.2608 - accuracy: 0.9113\n",
            "Epoch 71/200\n",
            "2/2 [==============================] - 0s 10ms/step - loss: 0.2600 - accuracy: 0.9009\n",
            "Epoch 72/200\n",
            "2/2 [==============================] - 0s 9ms/step - loss: 0.2312 - accuracy: 0.9321\n",
            "Epoch 73/200\n",
            "2/2 [==============================] - 0s 11ms/step - loss: 0.2456 - accuracy: 0.9113\n",
            "Epoch 74/200\n",
            "2/2 [==============================] - 0s 10ms/step - loss: 0.2217 - accuracy: 0.9217\n",
            "Epoch 75/200\n",
            "2/2 [==============================] - 0s 9ms/step - loss: 0.2434 - accuracy: 0.9009\n",
            "Epoch 76/200\n",
            "2/2 [==============================] - 0s 10ms/step - loss: 0.2356 - accuracy: 0.9009\n",
            "Epoch 77/200\n",
            "2/2 [==============================] - 0s 10ms/step - loss: 0.2276 - accuracy: 0.9113\n",
            "Epoch 78/200\n",
            "2/2 [==============================] - 0s 14ms/step - loss: 0.2242 - accuracy: 0.9113\n",
            "Epoch 79/200\n",
            "2/2 [==============================] - 0s 12ms/step - loss: 0.2076 - accuracy: 0.9321\n",
            "Epoch 80/200\n",
            "2/2 [==============================] - 0s 10ms/step - loss: 0.2049 - accuracy: 0.9113\n",
            "Epoch 81/200\n",
            "2/2 [==============================] - 0s 10ms/step - loss: 0.2148 - accuracy: 0.9009\n",
            "Epoch 82/200\n",
            "2/2 [==============================] - 0s 12ms/step - loss: 0.1987 - accuracy: 0.9113\n",
            "Epoch 83/200\n",
            "2/2 [==============================] - 0s 9ms/step - loss: 0.2053 - accuracy: 0.9332\n",
            "Epoch 84/200\n",
            "2/2 [==============================] - 0s 12ms/step - loss: 0.1735 - accuracy: 0.9425\n",
            "Epoch 85/200\n",
            "2/2 [==============================] - 0s 10ms/step - loss: 0.1933 - accuracy: 0.9113\n",
            "Epoch 86/200\n",
            "2/2 [==============================] - 0s 10ms/step - loss: 0.1853 - accuracy: 0.9217\n",
            "Epoch 87/200\n",
            "2/2 [==============================] - 0s 12ms/step - loss: 0.1885 - accuracy: 0.9009\n",
            "Epoch 88/200\n",
            "2/2 [==============================] - 0s 13ms/step - loss: 0.1858 - accuracy: 0.9343\n",
            "Epoch 89/200\n",
            "2/2 [==============================] - 0s 14ms/step - loss: 0.1714 - accuracy: 0.9551\n",
            "Epoch 90/200\n",
            "2/2 [==============================] - 0s 18ms/step - loss: 0.1777 - accuracy: 0.9447\n",
            "Epoch 91/200\n",
            "2/2 [==============================] - 0s 13ms/step - loss: 0.1750 - accuracy: 0.9447\n",
            "Epoch 92/200\n",
            "2/2 [==============================] - 0s 16ms/step - loss: 0.1812 - accuracy: 0.9113\n",
            "Epoch 93/200\n",
            "2/2 [==============================] - 0s 11ms/step - loss: 0.1732 - accuracy: 0.9113\n",
            "Epoch 94/200\n",
            "2/2 [==============================] - 0s 11ms/step - loss: 0.1501 - accuracy: 0.9436\n",
            "Epoch 95/200\n",
            "2/2 [==============================] - 0s 10ms/step - loss: 0.1619 - accuracy: 0.9228\n",
            "Epoch 96/200\n",
            "2/2 [==============================] - 0s 14ms/step - loss: 0.1631 - accuracy: 0.9447\n",
            "Epoch 97/200\n",
            "2/2 [==============================] - 0s 12ms/step - loss: 0.1521 - accuracy: 0.9551\n",
            "Epoch 98/200\n",
            "2/2 [==============================] - 0s 10ms/step - loss: 0.1616 - accuracy: 0.9447\n",
            "Epoch 99/200\n",
            "2/2 [==============================] - 0s 10ms/step - loss: 0.1548 - accuracy: 0.9447\n",
            "Epoch 100/200\n",
            "2/2 [==============================] - 0s 11ms/step - loss: 0.1219 - accuracy: 0.9551\n",
            "Epoch 101/200\n",
            "2/2 [==============================] - 0s 11ms/step - loss: 0.1401 - accuracy: 0.9551\n",
            "Epoch 102/200\n",
            "2/2 [==============================] - 0s 11ms/step - loss: 0.1446 - accuracy: 0.9447\n",
            "Epoch 103/200\n",
            "2/2 [==============================] - 0s 11ms/step - loss: 0.1400 - accuracy: 0.9551\n",
            "Epoch 104/200\n",
            "2/2 [==============================] - 0s 11ms/step - loss: 0.1459 - accuracy: 0.9562\n",
            "Epoch 105/200\n",
            "2/2 [==============================] - 0s 9ms/step - loss: 0.1346 - accuracy: 0.9655\n",
            "Epoch 106/200\n",
            "2/2 [==============================] - 0s 10ms/step - loss: 0.1267 - accuracy: 0.9551\n",
            "Epoch 107/200\n",
            "2/2 [==============================] - 0s 11ms/step - loss: 0.1365 - accuracy: 0.9447\n",
            "Epoch 108/200\n",
            "2/2 [==============================] - 0s 10ms/step - loss: 0.1419 - accuracy: 0.9447\n",
            "Epoch 109/200\n",
            "2/2 [==============================] - 0s 11ms/step - loss: 0.1434 - accuracy: 0.9447\n",
            "Epoch 110/200\n",
            "2/2 [==============================] - 0s 12ms/step - loss: 0.1444 - accuracy: 0.9447\n",
            "Epoch 111/200\n",
            "2/2 [==============================] - 0s 11ms/step - loss: 0.1289 - accuracy: 0.9551\n",
            "Epoch 112/200\n",
            "2/2 [==============================] - 0s 11ms/step - loss: 0.1296 - accuracy: 0.9447\n",
            "Epoch 113/200\n",
            "2/2 [==============================] - 0s 10ms/step - loss: 0.1263 - accuracy: 0.9655\n",
            "Epoch 114/200\n",
            "2/2 [==============================] - 0s 10ms/step - loss: 0.1342 - accuracy: 0.9551\n",
            "Epoch 115/200\n",
            "2/2 [==============================] - 0s 11ms/step - loss: 0.1356 - accuracy: 0.9228\n",
            "Epoch 116/200\n",
            "2/2 [==============================] - 0s 12ms/step - loss: 0.1270 - accuracy: 0.9655\n",
            "Epoch 117/200\n",
            "2/2 [==============================] - 0s 15ms/step - loss: 0.1305 - accuracy: 0.9447\n",
            "Epoch 118/200\n",
            "2/2 [==============================] - 0s 11ms/step - loss: 0.1237 - accuracy: 0.9447\n",
            "Epoch 119/200\n",
            "2/2 [==============================] - 0s 10ms/step - loss: 0.1276 - accuracy: 0.9447\n",
            "Epoch 120/200\n",
            "2/2 [==============================] - 0s 11ms/step - loss: 0.1183 - accuracy: 0.9447\n",
            "Epoch 121/200\n",
            "2/2 [==============================] - 0s 10ms/step - loss: 0.1232 - accuracy: 0.9447\n",
            "Epoch 122/200\n",
            "2/2 [==============================] - 0s 12ms/step - loss: 0.1305 - accuracy: 0.9343\n",
            "Epoch 123/200\n",
            "2/2 [==============================] - 0s 10ms/step - loss: 0.1260 - accuracy: 0.9343\n",
            "Epoch 124/200\n",
            "2/2 [==============================] - 0s 12ms/step - loss: 0.1068 - accuracy: 0.9447\n",
            "Epoch 125/200\n",
            "2/2 [==============================] - 0s 14ms/step - loss: 0.1181 - accuracy: 0.9447\n",
            "Epoch 126/200\n",
            "2/2 [==============================] - 0s 10ms/step - loss: 0.1167 - accuracy: 0.9447\n",
            "Epoch 127/200\n",
            "2/2 [==============================] - 0s 12ms/step - loss: 0.1112 - accuracy: 0.9655\n",
            "Epoch 128/200\n",
            "2/2 [==============================] - 0s 11ms/step - loss: 0.1183 - accuracy: 0.9447\n",
            "Epoch 129/200\n",
            "2/2 [==============================] - 0s 11ms/step - loss: 0.1119 - accuracy: 0.9551\n",
            "Epoch 130/200\n",
            "2/2 [==============================] - 0s 11ms/step - loss: 0.1213 - accuracy: 0.9447\n",
            "Epoch 131/200\n",
            "2/2 [==============================] - 0s 10ms/step - loss: 0.1175 - accuracy: 0.9447\n",
            "Epoch 132/200\n",
            "2/2 [==============================] - 0s 10ms/step - loss: 0.1078 - accuracy: 0.9551\n",
            "Epoch 133/200\n",
            "2/2 [==============================] - 0s 10ms/step - loss: 0.1181 - accuracy: 0.9228\n",
            "Epoch 134/200\n",
            "2/2 [==============================] - 0s 11ms/step - loss: 0.1021 - accuracy: 0.9551\n",
            "Epoch 135/200\n",
            "2/2 [==============================] - 0s 10ms/step - loss: 0.1163 - accuracy: 0.9447\n",
            "Epoch 136/200\n",
            "2/2 [==============================] - 0s 11ms/step - loss: 0.1022 - accuracy: 0.9655\n",
            "Epoch 137/200\n",
            "2/2 [==============================] - 0s 11ms/step - loss: 0.0943 - accuracy: 0.9551\n",
            "Epoch 138/200\n",
            "2/2 [==============================] - 0s 13ms/step - loss: 0.1057 - accuracy: 0.9551\n",
            "Epoch 139/200\n",
            "2/2 [==============================] - 0s 10ms/step - loss: 0.1106 - accuracy: 0.9447\n",
            "Epoch 140/200\n",
            "2/2 [==============================] - 0s 10ms/step - loss: 0.1098 - accuracy: 0.9447\n",
            "Epoch 141/200\n",
            "2/2 [==============================] - 0s 11ms/step - loss: 0.0938 - accuracy: 0.9551\n",
            "Epoch 142/200\n",
            "2/2 [==============================] - 0s 11ms/step - loss: 0.1209 - accuracy: 0.9447\n",
            "Epoch 143/200\n",
            "2/2 [==============================] - 0s 10ms/step - loss: 0.1058 - accuracy: 0.9447\n",
            "Epoch 144/200\n",
            "2/2 [==============================] - 0s 10ms/step - loss: 0.1172 - accuracy: 0.9447\n",
            "Epoch 145/200\n",
            "2/2 [==============================] - 0s 12ms/step - loss: 0.0964 - accuracy: 0.9551\n",
            "Epoch 146/200\n",
            "2/2 [==============================] - 0s 10ms/step - loss: 0.1047 - accuracy: 0.9447\n",
            "Epoch 147/200\n",
            "2/2 [==============================] - 0s 12ms/step - loss: 0.0948 - accuracy: 0.9655\n",
            "Epoch 148/200\n",
            "2/2 [==============================] - 0s 10ms/step - loss: 0.0984 - accuracy: 0.9655\n",
            "Epoch 149/200\n",
            "2/2 [==============================] - 0s 12ms/step - loss: 0.0874 - accuracy: 0.9551\n",
            "Epoch 150/200\n",
            "2/2 [==============================] - 0s 12ms/step - loss: 0.1164 - accuracy: 0.9447\n",
            "Epoch 151/200\n",
            "2/2 [==============================] - 0s 11ms/step - loss: 0.0938 - accuracy: 0.9551\n",
            "Epoch 152/200\n",
            "2/2 [==============================] - 0s 12ms/step - loss: 0.1141 - accuracy: 0.9343\n",
            "Epoch 153/200\n",
            "2/2 [==============================] - 0s 11ms/step - loss: 0.1105 - accuracy: 0.9343\n",
            "Epoch 154/200\n",
            "2/2 [==============================] - 0s 14ms/step - loss: 0.0886 - accuracy: 0.9551\n",
            "Epoch 155/200\n",
            "2/2 [==============================] - 0s 11ms/step - loss: 0.0974 - accuracy: 0.9551\n",
            "Epoch 156/200\n",
            "2/2 [==============================] - 0s 13ms/step - loss: 0.1153 - accuracy: 0.9343\n",
            "Epoch 157/200\n",
            "2/2 [==============================] - 0s 14ms/step - loss: 0.1057 - accuracy: 0.9447\n",
            "Epoch 158/200\n",
            "2/2 [==============================] - 0s 16ms/step - loss: 0.0853 - accuracy: 0.9551\n",
            "Epoch 159/200\n",
            "2/2 [==============================] - 0s 11ms/step - loss: 0.1052 - accuracy: 0.9551\n",
            "Epoch 160/200\n",
            "2/2 [==============================] - 0s 11ms/step - loss: 0.0969 - accuracy: 0.9551\n",
            "Epoch 161/200\n",
            "2/2 [==============================] - 0s 11ms/step - loss: 0.0875 - accuracy: 0.9332\n",
            "Epoch 162/200\n",
            "2/2 [==============================] - 0s 11ms/step - loss: 0.0941 - accuracy: 0.9447\n",
            "Epoch 163/200\n",
            "2/2 [==============================] - 0s 11ms/step - loss: 0.1032 - accuracy: 0.9447\n",
            "Epoch 164/200\n",
            "2/2 [==============================] - 0s 22ms/step - loss: 0.0835 - accuracy: 0.9551\n",
            "Epoch 165/200\n",
            "2/2 [==============================] - 0s 11ms/step - loss: 0.0955 - accuracy: 0.9551\n",
            "Epoch 166/200\n",
            "2/2 [==============================] - 0s 12ms/step - loss: 0.1102 - accuracy: 0.9447\n",
            "Epoch 167/200\n",
            "2/2 [==============================] - 0s 10ms/step - loss: 0.0889 - accuracy: 0.9436\n",
            "Epoch 168/200\n",
            "2/2 [==============================] - 0s 12ms/step - loss: 0.1080 - accuracy: 0.9343\n",
            "Epoch 169/200\n",
            "2/2 [==============================] - 0s 13ms/step - loss: 0.1011 - accuracy: 0.9343\n",
            "Epoch 170/200\n",
            "2/2 [==============================] - 0s 12ms/step - loss: 0.0827 - accuracy: 0.9551\n",
            "Epoch 171/200\n",
            "2/2 [==============================] - 0s 13ms/step - loss: 0.0957 - accuracy: 0.9447\n",
            "Epoch 172/200\n",
            "2/2 [==============================] - 0s 12ms/step - loss: 0.0876 - accuracy: 0.9551\n",
            "Epoch 173/200\n",
            "2/2 [==============================] - 0s 16ms/step - loss: 0.0855 - accuracy: 0.9655\n",
            "Epoch 174/200\n",
            "2/2 [==============================] - 0s 13ms/step - loss: 0.0852 - accuracy: 0.9551\n",
            "Epoch 175/200\n",
            "2/2 [==============================] - 0s 14ms/step - loss: 0.1076 - accuracy: 0.9447\n",
            "Epoch 176/200\n",
            "2/2 [==============================] - 0s 14ms/step - loss: 0.1056 - accuracy: 0.9447\n",
            "Epoch 177/200\n",
            "2/2 [==============================] - 0s 14ms/step - loss: 0.1118 - accuracy: 0.9343\n",
            "Epoch 178/200\n",
            "2/2 [==============================] - 0s 15ms/step - loss: 0.0971 - accuracy: 0.9551\n",
            "Epoch 179/200\n",
            "2/2 [==============================] - 0s 13ms/step - loss: 0.0965 - accuracy: 0.9447\n",
            "Epoch 180/200\n",
            "2/2 [==============================] - 0s 12ms/step - loss: 0.0958 - accuracy: 0.9447\n",
            "Epoch 181/200\n",
            "2/2 [==============================] - 0s 15ms/step - loss: 0.0922 - accuracy: 0.9551\n",
            "Epoch 182/200\n",
            "2/2 [==============================] - 0s 15ms/step - loss: 0.0866 - accuracy: 0.9551\n",
            "Epoch 183/200\n",
            "2/2 [==============================] - 0s 15ms/step - loss: 0.0949 - accuracy: 0.9332\n",
            "Epoch 184/200\n",
            "2/2 [==============================] - 0s 13ms/step - loss: 0.1082 - accuracy: 0.9447\n",
            "Epoch 185/200\n",
            "2/2 [==============================] - 0s 13ms/step - loss: 0.0963 - accuracy: 0.9447\n",
            "Epoch 186/200\n",
            "2/2 [==============================] - 0s 15ms/step - loss: 0.0950 - accuracy: 0.9551\n",
            "Epoch 187/200\n",
            "2/2 [==============================] - 0s 13ms/step - loss: 0.0822 - accuracy: 0.9551\n",
            "Epoch 188/200\n",
            "2/2 [==============================] - 0s 14ms/step - loss: 0.0934 - accuracy: 0.9551\n",
            "Epoch 189/200\n",
            "2/2 [==============================] - 0s 12ms/step - loss: 0.0946 - accuracy: 0.9447\n",
            "Epoch 190/200\n",
            "2/2 [==============================] - 0s 13ms/step - loss: 0.0798 - accuracy: 0.9551\n",
            "Epoch 191/200\n",
            "2/2 [==============================] - 0s 17ms/step - loss: 0.1085 - accuracy: 0.9343\n",
            "Epoch 192/200\n",
            "2/2 [==============================] - 0s 16ms/step - loss: 0.0855 - accuracy: 0.9551\n",
            "Epoch 193/200\n",
            "2/2 [==============================] - 0s 19ms/step - loss: 0.0965 - accuracy: 0.9447\n",
            "Epoch 194/200\n",
            "2/2 [==============================] - 0s 14ms/step - loss: 0.0842 - accuracy: 0.9551\n",
            "Epoch 195/200\n",
            "2/2 [==============================] - 0s 16ms/step - loss: 0.0929 - accuracy: 0.9551\n",
            "Epoch 196/200\n",
            "2/2 [==============================] - 0s 13ms/step - loss: 0.0981 - accuracy: 0.9447\n",
            "Epoch 197/200\n",
            "2/2 [==============================] - 0s 13ms/step - loss: 0.0871 - accuracy: 0.9447\n",
            "Epoch 198/200\n",
            "2/2 [==============================] - 0s 12ms/step - loss: 0.0834 - accuracy: 0.9551\n",
            "Epoch 199/200\n",
            "2/2 [==============================] - 0s 13ms/step - loss: 0.0963 - accuracy: 0.9447\n",
            "Epoch 200/200\n",
            "2/2 [==============================] - 0s 16ms/step - loss: 0.0741 - accuracy: 0.9551\n"
          ],
          "name": "stdout"
        }
      ]
    },
    {
      "cell_type": "code",
      "metadata": {
        "colab": {
          "base_uri": "https://localhost:8080/",
          "height": 295
        },
        "id": "lTIwBGUpeD2D",
        "outputId": "7cfb6132-9b53-4697-8257-0adb98a970d3"
      },
      "source": [
        "# summarize history for accuracy\r\n",
        "plt.plot(history.history['accuracy'])\r\n",
        "plt.title('model accuracy')\r\n",
        "plt.ylabel('accuracy')\r\n",
        "plt.xlabel('epoch')\r\n",
        "plt.legend(['train', 'test'], loc='upper left')\r\n",
        "plt.show()\r\n"
      ],
      "execution_count": null,
      "outputs": [
        {
          "output_type": "display_data",
          "data": {
            "image/png": "[encoded data removed]",
            "text/plain": [
              "<Figure size 432x288 with 1 Axes>"
            ]
          },
          "metadata": {
            "tags": [],
            "needs_background": "light"
          }
        }
      ]
    },
    {
      "cell_type": "code",
      "metadata": {
        "id": "SOiDUQ7SeJN_"
      },
      "source": [
        ""
      ],
      "execution_count": null,
      "outputs": []
    }
  ]
}