{
  "nbformat": 4,
  "nbformat_minor": 0,
  "metadata": {
    "kernelspec": {
      "name": "python3",
      "display_name": "Python 3"
    },
    "colab": {
      "name": "PCA from Scratch Iris DataSet.ipynb",
      "provenance": [],
      "collapsed_sections": [],
      "include_colab_link": true
    }
  },
  "cells": [
    {
      "cell_type": "markdown",
      "metadata": {
        "id": "view-in-github",
        "colab_type": "text"
      },
      "source": [
        "<a href=\"https://colab.research.google.com/github/prabhhav/JupyterNotebooks/blob/main/PCA_from_Scratch_Iris_DataSet.ipynb\" target=\"_parent\"><img src=\"https://colab.research.google.com/assets/colab-badge.svg\" alt=\"Open In Colab\"/></a>"
      ]
    },
    {
      "cell_type": "code",
      "metadata": {
        "collapsed": true,
        "id": "J3yVD7x8YyPH"
      },
      "source": [
        "import numpy as np\n",
        "import pandas as pd\n",
        "import pprint\n",
        "import matplotlib.pyplot as plt\n",
        "from sklearn.datasets import load_iris\n",
        "%matplotlib inline\n",
        "%precision 3\n",
        "np.set_printoptions(precision=3)\n",
        "import pylab as pl"
      ],
      "execution_count": null,
      "outputs": []
    },
    {
      "cell_type": "code",
      "metadata": {
        "collapsed": true,
        "id": "zXWIWnRwYyPW"
      },
      "source": [
        "x1 = np.arange(0,10)\n",
        "y1 = np.arange(10,0,-1)"
      ],
      "execution_count": null,
      "outputs": []
    },
    {
      "cell_type": "code",
      "metadata": {
        "colab": {
          "base_uri": "https://localhost:8080/",
          "height": 282
        },
        "id": "Xp7PBXNeYyPX",
        "outputId": "731fc192-0153-4618-e608-5eefeae24bd2"
      },
      "source": [
        "plt.plot(x1,y1)"
      ],
      "execution_count": null,
      "outputs": [
        {
          "output_type": "execute_result",
          "data": {
            "text/plain": [
              "[<matplotlib.lines.Line2D at 0x7f1029a32b70>]"
            ]
          },
          "metadata": {
            "tags": []
          },
          "execution_count": 58
        },
        {
          "output_type": "display_data",
          "data": {
            "image/png": "[encoded data removed]",
            "text/plain": [
              "<Figure size 432x288 with 1 Axes>"
            ]
          },
          "metadata": {
            "tags": [],
            "needs_background": "light"
          }
        }
      ]
    },
    {
      "cell_type": "code",
      "metadata": {
        "colab": {
          "base_uri": "https://localhost:8080/"
        },
        "id": "rl5ad3SpYyPa",
        "outputId": "db030f3f-f61d-4756-cb54-7558b68eb8aa"
      },
      "source": [
        "np.cov([x1,y1])"
      ],
      "execution_count": null,
      "outputs": [
        {
          "output_type": "execute_result",
          "data": {
            "text/plain": [
              "array([[ 9.167, -9.167],\n",
              "       [-9.167,  9.167]])"
            ]
          },
          "metadata": {
            "tags": []
          },
          "execution_count": 59
        }
      ]
    },
    {
      "cell_type": "code",
      "metadata": {
        "colab": {
          "base_uri": "https://localhost:8080/"
        },
        "id": "SxYlIBgMsE6x",
        "outputId": "702dad45-6895-483f-d019-bbc6da14cbc1"
      },
      "source": [
        "np.cov([x1,x1])"
      ],
      "execution_count": null,
      "outputs": [
        {
          "output_type": "execute_result",
          "data": {
            "text/plain": [
              "array([[9.167, 9.167],\n",
              "       [9.167, 9.167]])"
            ]
          },
          "metadata": {
            "tags": []
          },
          "execution_count": 64
        }
      ]
    },
    {
      "cell_type": "code",
      "metadata": {
        "colab": {
          "base_uri": "https://localhost:8080/",
          "height": 282
        },
        "id": "EdsEqL-zYyPb",
        "outputId": "ed85c2fd-6af9-426c-b186-3957c5254a55"
      },
      "source": [
        "x2 = np.arange(0,10)\n",
        "y2 = np.array([2]*10)\n",
        "plt.plot(x2,y2)"
      ],
      "execution_count": null,
      "outputs": [
        {
          "output_type": "execute_result",
          "data": {
            "text/plain": [
              "[<matplotlib.lines.Line2D at 0x7f102a3aa860>]"
            ]
          },
          "metadata": {
            "tags": []
          },
          "execution_count": 60
        },
        {
          "output_type": "display_data",
          "data": {
            "image/png": "[encoded data removed]",
            "text/plain": [
              "<Figure size 432x288 with 1 Axes>"
            ]
          },
          "metadata": {
            "tags": [],
            "needs_background": "light"
          }
        }
      ]
    },
    {
      "cell_type": "markdown",
      "metadata": {
        "id": "aaWdL_icYyPc"
      },
      "source": [
        "Almost all the variation in the data is from left to right.\n",
        "In this case, we can take the 2-D data and project it on 1-D graph without any significant loss of data.\n",
        "Both graph would signify that the variation in data is from left to right.\n",
        "This can be proved from the covariance matrix below"
      ]
    },
    {
      "cell_type": "code",
      "metadata": {
        "colab": {
          "base_uri": "https://localhost:8080/"
        },
        "id": "nDtbijK5YyPc",
        "outputId": "bc7d82e9-e880-4443-b8a6-2f5acbd265d0"
      },
      "source": [
        "cov_mat = np.cov([x2,y2])\n",
        "cov_mat"
      ],
      "execution_count": null,
      "outputs": [
        {
          "output_type": "execute_result",
          "data": {
            "text/plain": [
              "array([[9.167, 0.   ],\n",
              "       [0.   , 0.   ]])"
            ]
          },
          "metadata": {
            "tags": []
          },
          "execution_count": 61
        }
      ]
    },
    {
      "cell_type": "markdown",
      "metadata": {
        "id": "TqHSNwXAYyPd"
      },
      "source": [
        "This shows X varies in X by 9.1667 units and other units there is no variation at all."
      ]
    },
    {
      "cell_type": "code",
      "metadata": {
        "colab": {
          "base_uri": "https://localhost:8080/",
          "height": 282
        },
        "id": "dVW-0zHeYyPe",
        "outputId": "fe56c3c2-1a58-43e8-b603-7a74c1146bc0"
      },
      "source": [
        "x3 = np.array([2]*10)\n",
        "y3 = np.arange(0,10)\n",
        "plt.plot(x3,y3)"
      ],
      "execution_count": null,
      "outputs": [
        {
          "output_type": "execute_result",
          "data": {
            "text/plain": [
              "[<matplotlib.lines.Line2D at 0x7f1029a12710>]"
            ]
          },
          "metadata": {
            "tags": []
          },
          "execution_count": 62
        },
        {
          "output_type": "display_data",
          "data": {
            "image/png": "[encoded data removed]",
            "text/plain": [
              "<Figure size 432x288 with 1 Axes>"
            ]
          },
          "metadata": {
            "tags": [],
            "needs_background": "light"
          }
        }
      ]
    },
    {
      "cell_type": "code",
      "metadata": {
        "colab": {
          "base_uri": "https://localhost:8080/"
        },
        "id": "Un0rrMmtYyPf",
        "outputId": "40a66cd4-3aaf-4ec6-923e-21a1277d714d"
      },
      "source": [
        "np.cov([x3,y3])"
      ],
      "execution_count": null,
      "outputs": [
        {
          "output_type": "execute_result",
          "data": {
            "text/plain": [
              "array([[0.   , 0.   ],\n",
              "       [0.   , 9.167]])"
            ]
          },
          "metadata": {
            "tags": []
          },
          "execution_count": 63
        }
      ]
    },
    {
      "cell_type": "markdown",
      "metadata": {
        "id": "y_tcq8fgYyPf"
      },
      "source": [
        "Similarly, This shows y varies in y by 9.1667 units and other units there is no variation at all."
      ]
    },
    {
      "cell_type": "markdown",
      "metadata": {
        "id": "a7OVYQZWYyPg"
      },
      "source": [
        "# Considering the IRIS Dataset\n",
        "\n",
        "About Iris\n",
        "\n",
        "For the following tutorial, we will be working with the famous “Iris” dataset that has been deposited on the UCI machine learning repository \n",
        "(https://archive.ics.uci.edu/ml/datasets/Iris).\n",
        "\n",
        "The iris dataset contains measurements for 150 iris flowers from three different species.\n",
        "\n",
        "The three classes in the Iris dataset are:\n",
        "\n",
        "Iris-setosa (n=50)\n",
        "Iris-versicolor (n=50)\n",
        "Iris-virginica (n=50)\n",
        "And the four features of in Iris dataset are:\n",
        "\n",
        "sepal length in cm\n",
        "sepal width in cm\n",
        "petal length in cm\n",
        "petal width in cm"
      ]
    },
    {
      "cell_type": "code",
      "metadata": {
        "collapsed": true,
        "id": "DkQu1TheYyPh"
      },
      "source": [
        "iris = load_iris()"
      ],
      "execution_count": null,
      "outputs": []
    },
    {
      "cell_type": "code",
      "metadata": {
        "colab": {
          "base_uri": "https://localhost:8080/",
          "height": 195
        },
        "id": "WCcnDRJUYyPh",
        "outputId": "2a0e9486-1ccf-415a-ed66-2cde8d3cf8ca"
      },
      "source": [
        "iris_df = pd.DataFrame(iris.data,columns=[iris.feature_names])\n",
        "iris_df.head()"
      ],
      "execution_count": null,
      "outputs": [
        {
          "output_type": "execute_result",
          "data": {
            "text/html": [
              "<div>\n",
              "<style scoped>\n",
              "    .dataframe tbody tr th:only-of-type {\n",
              "        vertical-align: middle;\n",
              "    }\n",
              "\n",
              "    .dataframe tbody tr th {\n",
              "        vertical-align: top;\n",
              "    }\n",
              "\n",
              "    .dataframe thead tr th {\n",
              "        text-align: left;\n",
              "    }\n",
              "</style>\n",
              "<table border=\"1\" class=\"dataframe\">\n",
              "  <thead>\n",
              "    <tr>\n",
              "      <th></th>\n",
              "      <th>sepal length (cm)</th>\n",
              "      <th>sepal width (cm)</th>\n",
              "      <th>petal length (cm)</th>\n",
              "      <th>petal width (cm)</th>\n",
              "    </tr>\n",
              "  </thead>\n",
              "  <tbody>\n",
              "    <tr>\n",
              "      <th>0</th>\n",
              "      <td>5.1</td>\n",
              "      <td>3.5</td>\n",
              "      <td>1.4</td>\n",
              "      <td>0.2</td>\n",
              "    </tr>\n",
              "    <tr>\n",
              "      <th>1</th>\n",
              "      <td>4.9</td>\n",
              "      <td>3.0</td>\n",
              "      <td>1.4</td>\n",
              "      <td>0.2</td>\n",
              "    </tr>\n",
              "    <tr>\n",
              "      <th>2</th>\n",
              "      <td>4.7</td>\n",
              "      <td>3.2</td>\n",
              "      <td>1.3</td>\n",
              "      <td>0.2</td>\n",
              "    </tr>\n",
              "    <tr>\n",
              "      <th>3</th>\n",
              "      <td>4.6</td>\n",
              "      <td>3.1</td>\n",
              "      <td>1.5</td>\n",
              "      <td>0.2</td>\n",
              "    </tr>\n",
              "    <tr>\n",
              "      <th>4</th>\n",
              "      <td>5.0</td>\n",
              "      <td>3.6</td>\n",
              "      <td>1.4</td>\n",
              "      <td>0.2</td>\n",
              "    </tr>\n",
              "  </tbody>\n",
              "</table>\n",
              "</div>"
            ],
            "text/plain": [
              "  sepal length (cm) sepal width (cm) petal length (cm) petal width (cm)\n",
              "0               5.1              3.5               1.4              0.2\n",
              "1               4.9              3.0               1.4              0.2\n",
              "2               4.7              3.2               1.3              0.2\n",
              "3               4.6              3.1               1.5              0.2\n",
              "4               5.0              3.6               1.4              0.2"
            ]
          },
          "metadata": {
            "tags": []
          },
          "execution_count": 66
        }
      ]
    },
    {
      "cell_type": "code",
      "metadata": {
        "collapsed": true,
        "id": "O2tzx9BFYyPi"
      },
      "source": [
        "X = iris.data"
      ],
      "execution_count": null,
      "outputs": []
    },
    {
      "cell_type": "code",
      "metadata": {
        "colab": {
          "base_uri": "https://localhost:8080/"
        },
        "id": "59LY_TDuYyPj",
        "outputId": "e24c163e-ba5b-4a9b-cd2e-2746b8b83450"
      },
      "source": [
        "X.shape"
      ],
      "execution_count": null,
      "outputs": [
        {
          "output_type": "execute_result",
          "data": {
            "text/plain": [
              "(150, 4)"
            ]
          },
          "metadata": {
            "tags": []
          },
          "execution_count": 68
        }
      ]
    },
    {
      "cell_type": "markdown",
      "metadata": {
        "id": "sEWHdrchYyPk"
      },
      "source": [
        "# Standardizing\n",
        "\n",
        "Whether to standardize the data prior to a PCA on the covariance matrix depends on the measurement scales of the original features. Since PCA yields a feature subspace that maximizes the variance along the axes, it makes sense to standardize the data, especially, if it was measured on different scales. Although, all features in the Iris dataset were measured in centimeters, let us continue with the transformation of the data onto unit scale (mean=0 and variance=1), which is a requirement for the optimal performance of many machine learning algorithms."
      ]
    },
    {
      "cell_type": "code",
      "metadata": {
        "colab": {
          "base_uri": "https://localhost:8080/"
        },
        "id": "5A9GfzrSYyPl",
        "outputId": "d0a6339b-a559-46f8-9c88-33be859ce7a1"
      },
      "source": [
        "from sklearn.preprocessing import StandardScaler\n",
        "X_std = StandardScaler().fit_transform(X)\n",
        "print (X_std[0:5])\n",
        "print (\"The shape of Feature Matrix is -\",X_std.shape)"
      ],
      "execution_count": null,
      "outputs": [
        {
          "output_type": "stream",
          "text": [
            "[[-0.901  1.019 -1.34  -1.315]\n",
            " [-1.143 -0.132 -1.34  -1.315]\n",
            " [-1.385  0.328 -1.397 -1.315]\n",
            " [-1.507  0.098 -1.283 -1.315]\n",
            " [-1.022  1.249 -1.34  -1.315]]\n",
            "The shape of Feature Matrix is - (150, 4)\n"
          ],
          "name": "stdout"
        }
      ]
    },
    {
      "cell_type": "code",
      "metadata": {
        "id": "FCC7m-TiYyPm"
      },
      "source": [
        "X_covariance_matrix = np.cov(X_std.T)"
      ],
      "execution_count": null,
      "outputs": []
    },
    {
      "cell_type": "code",
      "metadata": {
        "colab": {
          "base_uri": "https://localhost:8080/"
        },
        "id": "9M0ItavlYyPm",
        "outputId": "8cc2b63f-178c-4a23-b2d1-831e4db2ee7b"
      },
      "source": [
        "X_covariance_matrix"
      ],
      "execution_count": null,
      "outputs": [
        {
          "output_type": "execute_result",
          "data": {
            "text/plain": [
              "array([[ 1.007, -0.118,  0.878,  0.823],\n",
              "       [-0.118,  1.007, -0.431, -0.369],\n",
              "       [ 0.878, -0.431,  1.007,  0.969],\n",
              "       [ 0.823, -0.369,  0.969,  1.007]])"
            ]
          },
          "metadata": {
            "tags": []
          },
          "execution_count": 71
        }
      ]
    },
    {
      "cell_type": "markdown",
      "metadata": {
        "id": "BxM3s6EwYyPn"
      },
      "source": [
        "![alt text](https://github.com/bhattbhavesh91/pca-from-scratch-iris-dataset/raw/e59b404bae406e7f2b61d0e5791d15fa24f290b1/eigen.png \"Eigen Values\")\n",
        "\n",
        "### Eigenvectors and eigenvalues.\n",
        "\n",
        "Example of a a 2×2 covariance matrix that is given by\n",
        "\n",
        "$$\\begin{array}\n",
        "{rrr}\n",
        "1.07 & 0.63 \\\\\n",
        "0.63 & 0.64 \n",
        "\\end{array}\n",
        "$$\n",
        "\n",
        "What this means is that\n",
        "- The variance of the x variable is 1.07\n",
        "- The variance of the y variable is 0.64\n",
        "- The covariance between them is 0.63.\n",
        "\n",
        "> As it is a square symmetric matrix, it can be diagonalized by choosing a new orthogonal coordinate system, given by its eigenvectors (incidentally, this is called spectral theorem); corresponding eigenvalues will then be located on the diagonal. In this new coordinate system, the covariance matrix is diagonal and looks like that:\n",
        "\n",
        "$$\\begin{array}\n",
        "{rrr}\n",
        "1.52 & 0 \\\\\n",
        "0 & 0.19 \n",
        "\\end{array}\n",
        "$$\n",
        "\n",
        "- This means that the correlation between points is now zero. It becomes clear that the variance of any projection will be given by a weighted average of the eigenvalues.\n",
        "- Consequently, the maximum possible variance (1.52) will be achieved if we simply take the projection on the first coordinate axis. It follows that the direction of the first principal component is given by the first eigenvector of the covariance matrix."
      ]
    },
    {
      "cell_type": "code",
      "metadata": {
        "colab": {
          "base_uri": "https://localhost:8080/"
        },
        "id": "yLbBC1BWYyPo",
        "outputId": "36930f93-afe4-4da0-c3dc-ac5089781deb"
      },
      "source": [
        "eig_vals, eig_vecs = np.linalg.eig(X_covariance_matrix)\n",
        "\n",
        "print('Eigenvectors \\n%s' %eig_vecs)\n",
        "print('\\nEigenvalues \\n%s' %eig_vals)"
      ],
      "execution_count": null,
      "outputs": [
        {
          "output_type": "stream",
          "text": [
            "Eigenvectors \n",
            "[[ 0.521 -0.377 -0.72   0.261]\n",
            " [-0.269 -0.923  0.244 -0.124]\n",
            " [ 0.58  -0.024  0.142 -0.801]\n",
            " [ 0.565 -0.067  0.634  0.524]]\n",
            "\n",
            "Eigenvalues \n",
            "[2.938 0.92  0.148 0.021]\n"
          ],
          "name": "stdout"
        }
      ]
    },
    {
      "cell_type": "code",
      "metadata": {
        "colab": {
          "base_uri": "https://localhost:8080/"
        },
        "id": "Vp5cCuhWbped",
        "outputId": "d9884f54-ae41-475e-ed31-adc98d1a5ba8"
      },
      "source": [
        "# Make a list of (eigenvalue, eigenvector) tuples\r\n",
        "eig_pairs = [(np.abs(eig_vals[i]), eig_vecs[:,i]) for i in range(len(eig_vals))]\r\n",
        "eig_pairs"
      ],
      "execution_count": null,
      "outputs": [
        {
          "output_type": "execute_result",
          "data": {
            "text/plain": [
              "[(2.938, array([ 0.521, -0.269,  0.58 ,  0.565])),\n",
              " (0.920, array([-0.377, -0.923, -0.024, -0.067])),\n",
              " (0.148, array([-0.72 ,  0.244,  0.142,  0.634])),\n",
              " (0.021, array([ 0.261, -0.124, -0.801,  0.524]))]"
            ]
          },
          "metadata": {
            "tags": []
          },
          "execution_count": 73
        }
      ]
    },
    {
      "cell_type": "code",
      "metadata": {
        "colab": {
          "base_uri": "https://localhost:8080/"
        },
        "id": "PraRds7fbwEm",
        "outputId": "e4d51c88-6394-43a8-a505-ea0e27933c5c"
      },
      "source": [
        "# Sort the (eigenvalue, eigenvector) tuples from high to low\r\n",
        "eig_pairs.sort(key=lambda x: x[0], reverse=True)\r\n",
        "eig_pairs"
      ],
      "execution_count": null,
      "outputs": [
        {
          "output_type": "execute_result",
          "data": {
            "text/plain": [
              "[(2.938, array([ 0.521, -0.269,  0.58 ,  0.565])),\n",
              " (0.920, array([-0.377, -0.923, -0.024, -0.067])),\n",
              " (0.148, array([-0.72 ,  0.244,  0.142,  0.634])),\n",
              " (0.021, array([ 0.261, -0.124, -0.801,  0.524]))]"
            ]
          },
          "metadata": {
            "tags": []
          },
          "execution_count": 74
        }
      ]
    },
    {
      "cell_type": "code",
      "metadata": {
        "colab": {
          "base_uri": "https://localhost:8080/"
        },
        "id": "82_264wrYyPp",
        "outputId": "196def97-ed9f-42f3-d34f-d43f366d342f"
      },
      "source": [
        "# Visually confirm that the list is correctly sorted by decreasing eigenvalues\n",
        "print('Eigenvalues in descending order:')\n",
        "for i in eig_pairs:\n",
        "    print(i[0])"
      ],
      "execution_count": null,
      "outputs": [
        {
          "output_type": "stream",
          "text": [
            "Eigenvalues in descending order:\n",
            "2.938085050199995\n",
            "0.9201649041624864\n",
            "0.1477418210449475\n",
            "0.020853862176462696\n"
          ],
          "name": "stdout"
        }
      ]
    },
    {
      "cell_type": "code",
      "metadata": {
        "colab": {
          "base_uri": "https://localhost:8080/"
        },
        "id": "e_gy_G3NYyPp",
        "outputId": "b630dddd-b1e8-4ad7-bd28-c7920feb4656"
      },
      "source": [
        "tot = sum(eig_vals)\n",
        "print (\"Total \\n\",tot)\n",
        "\n",
        "var_exp = [(i / tot)*100 for i in sorted(eig_vals, reverse=True)]\n",
        "cum_var_exp = np.cumsum(var_exp)\n",
        "print (\"Variance captured by each component is \\n\",var_exp)\n",
        "print(40 * '-')\n",
        "print (\"Cumulative variance captured as we travel each component \\n\",cum_var_exp)"
      ],
      "execution_count": null,
      "outputs": [
        {
          "output_type": "stream",
          "text": [
            "Total \n",
            " 4.026845637583891\n",
            "Variance captured by each component is \n",
            " [72.96244541329989, 22.850761786701753, 3.668921889282865, 0.5178709107154905]\n",
            "----------------------------------------\n",
            "Cumulative variance captured as we travel each component \n",
            " [ 72.962  95.813  99.482 100.   ]\n"
          ],
          "name": "stdout"
        }
      ]
    },
    {
      "cell_type": "markdown",
      "metadata": {
        "id": "VHZJMRGLYyPq"
      },
      "source": [
        "The array above clearly shows that most of the variance (72.77% of the variance to be precise) can be explained by the first principal component alone. The second principal component still bears some information (23.03%) while the third and fourth principal components can safely be dropped without losing to much information. Together, the first two principal components contain 95.8% of the information."
      ]
    },
    {
      "cell_type": "code",
      "metadata": {
        "colab": {
          "base_uri": "https://localhost:8080/"
        },
        "id": "LadvCYseYyPr",
        "outputId": "c428d952-29af-44ac-a37a-78a99d0f9ede"
      },
      "source": [
        "print (\"All Eigen Values along with Eigen Vectors\")\n",
        "pprint.pprint(eig_pairs)\n",
        "print(40 * '-')\n",
        "matrix_w = np.hstack((eig_pairs[0][1].reshape(4,1),\n",
        "                      eig_pairs[1][1].reshape(4,1)))\n",
        "\n",
        "print ('Matrix W:\\n', matrix_w)"
      ],
      "execution_count": null,
      "outputs": [
        {
          "output_type": "stream",
          "text": [
            "All Eigen Values along with Eigen Vectors\n",
            "[(2.938085050199995, array([ 0.521, -0.269,  0.58 ,  0.565])),\n",
            " (0.9201649041624864, array([-0.377, -0.923, -0.024, -0.067])),\n",
            " (0.1477418210449475, array([-0.72 ,  0.244,  0.142,  0.634])),\n",
            " (0.020853862176462696, array([ 0.261, -0.124, -0.801,  0.524]))]\n",
            "----------------------------------------\n",
            "Matrix W:\n",
            " [[ 0.521 -0.377]\n",
            " [-0.269 -0.923]\n",
            " [ 0.58  -0.024]\n",
            " [ 0.565 -0.067]]\n"
          ],
          "name": "stdout"
        }
      ]
    },
    {
      "cell_type": "code",
      "metadata": {
        "colab": {
          "base_uri": "https://localhost:8080/"
        },
        "id": "QclpTmIFuN7F",
        "outputId": "01448f77-d3e2-4f81-ec77-ff7588f0da90"
      },
      "source": [
        "X_std[0:5]"
      ],
      "execution_count": null,
      "outputs": [
        {
          "output_type": "execute_result",
          "data": {
            "text/plain": [
              "array([[-0.901,  1.019, -1.34 , -1.315],\n",
              "       [-1.143, -0.132, -1.34 , -1.315],\n",
              "       [-1.385,  0.328, -1.397, -1.315],\n",
              "       [-1.507,  0.098, -1.283, -1.315],\n",
              "       [-1.022,  1.249, -1.34 , -1.315]])"
            ]
          },
          "metadata": {
            "tags": []
          },
          "execution_count": 80
        }
      ]
    },
    {
      "cell_type": "code",
      "metadata": {
        "colab": {
          "base_uri": "https://localhost:8080/"
        },
        "id": "KEjp-xvRYyPr",
        "outputId": "db910247-94b6-4417-c0ca-a1e6a08b8832"
      },
      "source": [
        "Y = X_std.dot(matrix_w)\n",
        "print (Y[0:5])"
      ],
      "execution_count": null,
      "outputs": [
        {
          "output_type": "stream",
          "text": [
            "[[-2.265 -0.48 ]\n",
            " [-2.081  0.674]\n",
            " [-2.364  0.342]\n",
            " [-2.299  0.597]\n",
            " [-2.39  -0.647]]\n"
          ],
          "name": "stdout"
        }
      ]
    },
    {
      "cell_type": "code",
      "metadata": {
        "colab": {
          "base_uri": "https://localhost:8080/",
          "height": 295
        },
        "id": "K1HIG6tsYyPs",
        "outputId": "90843096-7781-4f8b-e85f-ff95aeee8df9"
      },
      "source": [
        "pl.figure()\n",
        "target_names = iris.target_names\n",
        "y = iris.target\n",
        "for c, i, target_name in zip(\"rgb\", [0, 1, 2], target_names):\n",
        "    pl.scatter(Y[y==i,0], Y[y==i,1], c=c, label=target_name)\n",
        "pl.xlabel('Principal Component 1')\n",
        "pl.ylabel('Principal Component 2')\n",
        "pl.legend()\n",
        "pl.title('PCA of IRIS dataset')\n",
        "pl.show()"
      ],
      "execution_count": null,
      "outputs": [
        {
          "output_type": "display_data",
          "data": {
            "image/png": "[encoded data removed]",
            "text/plain": [
              "<Figure size 432x288 with 1 Axes>"
            ]
          },
          "metadata": {
            "tags": [],
            "needs_background": "light"
          }
        }
      ]
    },
    {
      "cell_type": "markdown",
      "metadata": {
        "id": "z5e22rNAc7rE"
      },
      "source": [
        "## 3 components"
      ]
    },
    {
      "cell_type": "code",
      "metadata": {
        "colab": {
          "base_uri": "https://localhost:8080/"
        },
        "id": "1iySIEKldD-u",
        "outputId": "ddca2f4a-8c43-46d3-fbff-e2181fa7d74d"
      },
      "source": [
        "eig_pairs[0][1]"
      ],
      "execution_count": null,
      "outputs": [
        {
          "output_type": "execute_result",
          "data": {
            "text/plain": [
              "array([ 0.521, -0.269,  0.58 ,  0.565])"
            ]
          },
          "metadata": {
            "tags": []
          },
          "execution_count": 84
        }
      ]
    },
    {
      "cell_type": "code",
      "metadata": {
        "colab": {
          "base_uri": "https://localhost:8080/"
        },
        "id": "AHRvrldfc3GR",
        "outputId": "520aa7a3-dcf6-40e6-f10b-aeab68e3c5ad"
      },
      "source": [
        "print (\"All Eigen Values along with Eigen Vectors\")\r\n",
        "pprint.pprint(eig_pairs)\r\n",
        "print(40 * '-')\r\n",
        "matrix_w = np.hstack((eig_pairs[0][1].reshape(4,1),\r\n",
        "                      eig_pairs[1][1].reshape(4,1),\r\n",
        "                      eig_pairs[2][1].reshape(4,1)))\r\n",
        "\r\n",
        "print ('Matrix W:\\n', matrix_w)"
      ],
      "execution_count": null,
      "outputs": [
        {
          "output_type": "stream",
          "text": [
            "All Eigen Values along with Eigen Vectors\n",
            "[(2.938085050199995, array([ 0.521, -0.269,  0.58 ,  0.565])),\n",
            " (0.9201649041624864, array([-0.377, -0.923, -0.024, -0.067])),\n",
            " (0.1477418210449475, array([-0.72 ,  0.244,  0.142,  0.634])),\n",
            " (0.020853862176462696, array([ 0.261, -0.124, -0.801,  0.524]))]\n",
            "----------------------------------------\n",
            "Matrix W:\n",
            " [[ 0.521 -0.377 -0.72 ]\n",
            " [-0.269 -0.923  0.244]\n",
            " [ 0.58  -0.024  0.142]\n",
            " [ 0.565 -0.067  0.634]]\n"
          ],
          "name": "stdout"
        }
      ]
    },
    {
      "cell_type": "code",
      "metadata": {
        "colab": {
          "base_uri": "https://localhost:8080/"
        },
        "id": "4iKtn_Zpu2P6",
        "outputId": "a517ef3b-2268-4130-ada4-0f70c8c08ba2"
      },
      "source": [
        "X_std[0:5]"
      ],
      "execution_count": null,
      "outputs": [
        {
          "output_type": "execute_result",
          "data": {
            "text/plain": [
              "array([[-0.901,  1.019, -1.34 , -1.315],\n",
              "       [-1.143, -0.132, -1.34 , -1.315],\n",
              "       [-1.385,  0.328, -1.397, -1.315],\n",
              "       [-1.507,  0.098, -1.283, -1.315],\n",
              "       [-1.022,  1.249, -1.34 , -1.315]])"
            ]
          },
          "metadata": {
            "tags": []
          },
          "execution_count": 86
        }
      ]
    },
    {
      "cell_type": "code",
      "metadata": {
        "colab": {
          "base_uri": "https://localhost:8080/"
        },
        "id": "NF9PR2hyc-UM",
        "outputId": "4f033d84-fc8f-4dec-8ce4-8cef0da3c5d2"
      },
      "source": [
        "Y = X_std.dot(matrix_w)\r\n",
        "print (Y[0:5])"
      ],
      "execution_count": null,
      "outputs": [
        {
          "output_type": "stream",
          "text": [
            "[[-2.265 -0.48  -0.128]\n",
            " [-2.081  0.674 -0.235]\n",
            " [-2.364  0.342  0.044]\n",
            " [-2.299  0.597  0.091]\n",
            " [-2.39  -0.647  0.016]]\n"
          ],
          "name": "stdout"
        }
      ]
    },
    {
      "cell_type": "code",
      "metadata": {
        "colab": {
          "base_uri": "https://localhost:8080/",
          "height": 248
        },
        "id": "LTTNdkbRdM-_",
        "outputId": "88c2c7a1-5869-40d5-842d-033e5367e057"
      },
      "source": [
        "fig = plt.figure()\r\n",
        "ax = fig.add_subplot(111, projection='3d')\r\n",
        "\r\n",
        "target_names = iris.target_names\r\n",
        "y = iris.target\r\n",
        "for c, i, target_name in zip(\"rgb\", [0, 1, 2], target_names):\r\n",
        "    ax.scatter(Y[y==i,0], Y[y==i,1], Y[y==i,2], c=c, label=target_name)\r\n",
        "ax.set_xlabel('Principal Component 1')\r\n",
        "ax.set_ylabel('Principal Component 2')\r\n",
        "ax.set_zlabel('Principal Component 3')\r\n",
        "ax.legend()\r\n",
        "plt.show()"
      ],
      "execution_count": null,
      "outputs": [
        {
          "output_type": "display_data",
          "data": {
            "image/png": "[encoded data removed]",
            "text/plain": [
              "<Figure size 432x288 with 1 Axes>"
            ]
          },
          "metadata": {
            "tags": [],
            "needs_background": "light"
          }
        }
      ]
    },
    {
      "cell_type": "code",
      "metadata": {
        "colab": {
          "base_uri": "https://localhost:8080/"
        },
        "id": "N6b8fhSyf4LP",
        "outputId": "34f8aa07-e7ee-41dc-81d9-22733dd331ef"
      },
      "source": [
        "len(y)"
      ],
      "execution_count": null,
      "outputs": [
        {
          "output_type": "execute_result",
          "data": {
            "text/plain": [
              "150"
            ]
          },
          "metadata": {
            "tags": []
          },
          "execution_count": 89
        }
      ]
    },
    {
      "cell_type": "code",
      "metadata": {
        "colab": {
          "base_uri": "https://localhost:8080/",
          "height": 202
        },
        "id": "GN5hGZFmgCKp",
        "outputId": "b9528e39-8115-4835-c574-5a746b1128c3"
      },
      "source": [
        "pc_df = pd.DataFrame(Y, columns=['PC1', 'PC2', 'PC3'])\r\n",
        "pc_df['y'] = iris.target\r\n",
        "pc_df.head()"
      ],
      "execution_count": null,
      "outputs": [
        {
          "output_type": "execute_result",
          "data": {
            "text/html": [
              "<div>\n",
              "<style scoped>\n",
              "    .dataframe tbody tr th:only-of-type {\n",
              "        vertical-align: middle;\n",
              "    }\n",
              "\n",
              "    .dataframe tbody tr th {\n",
              "        vertical-align: top;\n",
              "    }\n",
              "\n",
              "    .dataframe thead th {\n",
              "        text-align: right;\n",
              "    }\n",
              "</style>\n",
              "<table border=\"1\" class=\"dataframe\">\n",
              "  <thead>\n",
              "    <tr style=\"text-align: right;\">\n",
              "      <th></th>\n",
              "      <th>PC1</th>\n",
              "      <th>PC2</th>\n",
              "      <th>PC3</th>\n",
              "      <th>y</th>\n",
              "    </tr>\n",
              "  </thead>\n",
              "  <tbody>\n",
              "    <tr>\n",
              "      <th>0</th>\n",
              "      <td>-2.264703</td>\n",
              "      <td>-0.480027</td>\n",
              "      <td>-0.127706</td>\n",
              "      <td>0</td>\n",
              "    </tr>\n",
              "    <tr>\n",
              "      <th>1</th>\n",
              "      <td>-2.080961</td>\n",
              "      <td>0.674134</td>\n",
              "      <td>-0.234609</td>\n",
              "      <td>0</td>\n",
              "    </tr>\n",
              "    <tr>\n",
              "      <th>2</th>\n",
              "      <td>-2.364229</td>\n",
              "      <td>0.341908</td>\n",
              "      <td>0.044201</td>\n",
              "      <td>0</td>\n",
              "    </tr>\n",
              "    <tr>\n",
              "      <th>3</th>\n",
              "      <td>-2.299384</td>\n",
              "      <td>0.597395</td>\n",
              "      <td>0.091290</td>\n",
              "      <td>0</td>\n",
              "    </tr>\n",
              "    <tr>\n",
              "      <th>4</th>\n",
              "      <td>-2.389842</td>\n",
              "      <td>-0.646835</td>\n",
              "      <td>0.015738</td>\n",
              "      <td>0</td>\n",
              "    </tr>\n",
              "  </tbody>\n",
              "</table>\n",
              "</div>"
            ],
            "text/plain": [
              "        PC1       PC2       PC3  y\n",
              "0 -2.264703 -0.480027 -0.127706  0\n",
              "1 -2.080961  0.674134 -0.234609  0\n",
              "2 -2.364229  0.341908  0.044201  0\n",
              "3 -2.299384  0.597395  0.091290  0\n",
              "4 -2.389842 -0.646835  0.015738  0"
            ]
          },
          "metadata": {
            "tags": []
          },
          "execution_count": 90
        }
      ]
    },
    {
      "cell_type": "code",
      "metadata": {
        "colab": {
          "base_uri": "https://localhost:8080/",
          "height": 542
        },
        "id": "GmC-M-ozdPQt",
        "outputId": "e4005705-1df2-4012-8a83-e769c9b87468"
      },
      "source": [
        "import plotly.express as px\r\n",
        "fig = px.scatter_3d(pc_df, x='PC1', y='PC2', z='PC3',\r\n",
        "              color='y')\r\n",
        "fig.show()"
      ],
      "execution_count": null,
      "outputs": [
        {
          "output_type": "display_data",
          "data": {
            "text/html": [
              "<html>\n",
              "<head><meta charset=\"utf-8\" /></head>\n",
              "<body>\n",
              "    <div>\n",
              "            <script src=\"https://cdnjs.cloudflare.com/ajax/libs/mathjax/2.7.5/MathJax.js?config=TeX-AMS-MML_SVG\"></script><script type=\"text/javascript\">if (window.MathJax) {MathJax.Hub.Config({SVG: {font: \"STIX-Web\"}});}</script>\n",
              "                <script type=\"text/javascript\">window.PlotlyConfig = {MathJaxConfig: 'local'};</script>\n",
              "        <script src=\"https://cdn.plot.ly/plotly-latest.min.js\"></script>    \n",
              "            <div id=\"d3c9b328-3c13-4ec9-9ba2-7ce5011f2d89\" class=\"plotly-graph-div\" style=\"height:525px; width:100%;\"></div>\n",
              "            <script type=\"text/javascript\">\n",
              "                \n",
              "                    window.PLOTLYENV=window.PLOTLYENV || {};\n",
              "                    \n",
              "                if (document.getElementById(\"d3c9b328-3c13-4ec9-9ba2-7ce5011f2d89\")) {\n",
              "                    Plotly.newPlot(\n",
              "                        'd3c9b328-3c13-4ec9-9ba2-7ce5011f2d89',\n",
              "                        [{\"hoverlabel\": {\"namelength\": 0}, \"hovertemplate\": \"PC1=%{x}<br>PC2=%{y}<br>PC3=%{z}<br>y=%{marker.color}\", \"legendgroup\": \"\", \"marker\": {\"color\": [0, 0, 0, 0, 0, 0, 0, 0, 0, 0, 0, 0, 0, 0, 0, 0, 0, 0, 0, 0, 0, 0, 0, 0, 0, 0, 0, 0, 0, 0, 0, 0, 0, 0, 0, 0, 0, 0, 0, 0, 0, 0, 0, 0, 0, 0, 0, 0, 0, 0, 1, 1, 1, 1, 1, 1, 1, 1, 1, 1, 1, 1, 1, 1, 1, 1, 1, 1, 1, 1, 1, 1, 1, 1, 1, 1, 1, 1, 1, 1, 1, 1, 1, 1, 1, 1, 1, 1, 1, 1, 1, 1, 1, 1, 1, 1, 1, 1, 1, 1, 2, 2, 2, 2, 2, 2, 2, 2, 2, 2, 2, 2, 2, 2, 2, 2, 2, 2, 2, 2, 2, 2, 2, 2, 2, 2, 2, 2, 2, 2, 2, 2, 2, 2, 2, 2, 2, 2, 2, 2, 2, 2, 2, 2, 2, 2, 2, 2, 2, 2], \"coloraxis\": \"coloraxis\", \"symbol\": \"circle\"}, \"mode\": \"markers\", \"name\": \"\", \"scene\": \"scene\", \"showlegend\": false, \"type\": \"scatter3d\", \"x\": [-2.2647028088075896, -2.0809611519657687, -2.364229053890302, -2.299384217042709, -2.389842166313846, -2.0756309481765136, -2.4440288351341537, -2.2328471588720165, -2.334640477907622, -2.184328174933943, -2.166310100701324, -2.3261308664427, -2.2184508988224105, -2.6331006957652288, -2.1987406032666916, -2.262214531601023, -2.2075876958245937, -2.1903495091922998, -1.8985719958028435, -2.343369053074994, -1.9143229960825692, -2.2070128431947995, -2.774344702927333, -1.8186695286958505, -2.2271633057066396, -1.9518463309003773, -2.0511513727294166, -2.1685771746542177, -2.1395634513013326, -2.2652614931542416, -2.1401221356479856, -1.8315947706760298, -2.614947935858936, -2.446177391696516, -2.1099748753186534, -2.207808899078267, -2.0451462067542026, -2.5273319131704874, -2.4296325750845473, -2.169710711630665, -2.2864751433456716, -1.8581224563735725, -2.5536383956143567, -1.964447683763742, -2.1370590058116243, -2.069744299591831, -2.3847331657782638, -2.3943763142196337, -2.229446547942676, -2.2038334355191314, 1.1017811830529456, 0.7313374253960854, 1.2409793195158287, 0.40748305881738334, 1.0754747006090761, 0.38868733653566306, 0.7465297413291586, -0.4873227421256411, 0.9279016383549431, 0.011426188736978617, -0.11019628000063053, 0.44069344898307644, 0.5621083064431771, 0.7195618886754945, -0.03335470317877401, 0.8754071908577353, 0.3502516679950809, 0.15881004754796949, 1.2250936335624296, 0.1649178993863255, 0.7376826487712562, 0.4762871909409694, 1.234178097657147, 0.6328581997098198, 0.7026611831361802, 0.8742736538812882, 1.2565091165418811, 1.3584051214406296, 0.6648003672253928, -0.04025861090059723, 0.13079517549785888, 0.023452688970549092, 0.24153827295450908, 1.061094608842612, 0.22397877351237794, 0.4291391155161587, 1.0487280512090853, 1.0445313843962771, 0.06958832111642113, 0.28347723828757365, 0.2790777760554592, 0.6245697914985694, 0.33653037013143394, -0.3621833846193848, 0.2885862388231556, 0.0913606556545035, 0.22771686553469822, 0.5763882886534766, -0.44766701902861317, 0.2567305888875829, 1.8445688677230272, 1.1578816132057779, 2.205266791075376, 1.4401506638275374, 1.8678122203305354, 2.7518733356662746, 0.367017687860723, 2.3024394446251946, 2.0066864676766034, 2.2597773490124977, 1.3641754921860059, 1.6026786704779288, 1.8839007017032405, 1.260115099197506, 1.4676452010173222, 1.5900773176145637, 1.4714314611333161, 2.4263289873156983, 3.3106955839338847, 1.2637666736398263, 2.0377163014694024, 0.9779807342494198, 2.897651490734166, 1.3332321759732069, 1.700733897491215, 1.9543267058530687, 1.1751036315549306, 1.020950550695789, 1.7883499201796638, 1.8636475533282586, 2.435953727922701, 2.3049277218317616, 1.8627032197949536, 1.1141477406864726, 1.2024733016783888, 2.7987704475781054, 1.5762559101947522, 1.3462921036270599, 0.9248249165424174, 1.8520450517676679, 2.0148104299548737, 1.901784090262187, 1.1578816132057779, 2.0405582280520904, 1.9981470959523742, 1.8705032929564085, 1.5645804830303263, 1.5211704996278357, 1.372787789514071, 0.960656030037126], \"y\": [-0.48002659652098706, 0.6741335566053547, 0.34190802388467834, 0.5973945076746777, -0.6468353829020247, -1.4891775233211642, -0.047644197630011716, -0.22314807268958955, 1.1153276754616683, 0.4690135614023777, -1.0436906530538574, -0.13307833523922924, 0.7286761653165726, 0.961506729170165, -1.860057113293929, -2.6862844851105896, -1.48360936315557, -0.4888383164863254, -1.4050187944665469, -1.1278493819084734, -0.40885570775590413, -0.924121426746896, -0.45834366775291296, -0.08555852628736388, -0.1372544553634248, 0.6256185877766783, -0.24216355266166478, -0.5271495253082653, -0.31321781013994976, 0.3377319037604828, 0.5045406901415204, -0.42369506760378384, -1.7935758561044257, -2.150727877392922, 0.4602018414370394, 0.2061073976884388, -0.6615581114631062, -0.5922927741908071, 0.90418004037615, -0.2688789614354687, -0.4417153876990478, 2.3374151575533495, 0.4791006901223164, -0.4723266677192584, -1.142229262039406, 0.7110527253858959, -1.1204297019845335, 0.38624687258915946, -0.997959764307978, -0.009216357521274095, -0.8629724182621569, -0.5946147256694221, -0.6162976544374961, 1.7544039893234122, 0.20842104605096762, 0.5932836359900776, -0.7730193120985938, 1.8524290868575763, -0.03222607789115169, 1.034018275129443, 2.654072818536566, 0.06329518843800402, 1.7647243806169466, 0.18622460583150824, 0.43900320998162706, -0.5090639567734063, 0.19631173455144688, 0.7920957424327235, 1.6222438030915034, 1.3026092302957746, -0.39657156196023585, 0.4173202812135531, 0.9333257287992803, 0.4163877208891018, 0.06341181972480223, -0.25079339290060987, 0.07725601969587102, -0.3313116817908956, 0.22592785469484614, 1.0587185465539106, 1.5622718342099693, 1.5724755942167061, 0.7772563825848438, 0.6338432447349494, 0.2877735120432052, -0.8455822409050756, -0.5220517968629402, 1.3829887191907835, 0.21950333464771765, 1.3293246390695785, 1.1200285237424061, -0.02492302925401008, 0.9884040176703621, 2.0192378732386134, 0.8557303199870687, 0.18119212582577787, 0.38492008098735636, 0.15487359721656105, 1.543792034397758, 0.5988517961556717, -0.8704213123248196, 0.6988698623306931, -0.5620104770083529, 0.046987588105809344, -0.2950448244570168, -0.8004092010275395, 1.5615028914765086, -0.4200655796427739, 0.7114386535471611, -1.9210103764598832, -0.6927564544903841, 0.42170044977261967, -0.4192496506051208, 1.162260421406466, 0.4422715873770855, -0.676244805723317, -0.2556218244714678, -2.556661250795489, -0.017780949320624812, 1.7067453803762698, -0.9104674096183079, 0.5717643248129949, -0.4136410595956454, 0.4818112186494317, -1.0139218673227883, -1.0077775961534496, 0.31639447230979356, -0.06434602923955907, 0.18736121459083155, -0.5622907258861423, -0.2592844331442779, -2.6263234682323753, 0.1785494946254932, 0.2929226233357338, 0.811315270839671, -0.856803329497103, -1.0685811073208042, -0.42243061085250544, -0.017223100452281332, -0.6761281744365188, -0.613885636923572, -0.6895754942429999, 0.6988698623306931, -0.8675206009552253, -1.0491687471841418, -0.38696608166572277, 0.8966868088965284, -0.2690691442779489, -1.0112544185267895, 0.024331668169402302], \"z\": [-0.1277060223001523, -0.23460885398456846, 0.04420148483874338, 0.09129010632068153, 0.015738195676258962, 0.026968294439782763, 0.33547040114311394, -0.0886954979477265, 0.14507686363699898, -0.25376556730000716, -0.2686811022161342, 0.09375924438111168, -0.2309112372066035, 0.18079608440317835, -0.4729009978730757, 0.030526609265512643, -0.005344094078263089, -0.044215316478453705, -0.3743432745576539, 0.13263046678130294, -0.42129259408735664, 0.15986527722625343, 0.3321790975568664, 0.03448859579998109, 0.11799353576964595, -0.3056409823252086, 0.0863640108251823, -0.2068162477703044, -0.27115024027656437, 0.06843577622727777, -0.0750084417491335, -0.27046737670298215, 0.047228418668486996, -0.08266804506156648, -0.17027486147830853, -0.22544158008975737, -0.4845374098283168, 0.019435812454223392, 0.19325466188423598, -0.1758838205473893, 0.034894908991697636, -0.20423422253096715, 0.30576645263773267, 0.30960131784532796, 0.24843356112104742, -0.0639298255632063, 0.057217858089115795, 0.13946790456791855, -0.1814927796164705, -0.15302949045398642, -0.6845861626897367, -0.09412171552908227, -0.5540068353861008, -0.02310176781380338, -0.39825552250622753, 0.12419154951816926, 0.14896940252805124, 0.24926526578924776, -0.5961693613725393, 0.5388993901843669, -0.046790444058385804, 0.20507381532720256, -0.7657713936539636, -0.06865894542301319, 0.19493289332897837, -0.5035113816560302, 0.49087307451472706, -0.3020371744413836, -0.4823040240972396, -0.17283780843287808, 0.6165263063228641, -0.26495222652804024, -0.3684122720486116, -0.29189625244315887, -0.4460270075617477, -0.4725789544331151, -0.7271550018678926, -0.26082657679061394, 0.08586388873932557, -0.31957332999553784, -0.14998347833947512, -0.2415522812906853, -0.1512119570570092, 0.10531138658459631, 0.6652497197140528, 0.45063407144476625, -0.39578638444579717, -0.688295960093063, 0.291579274353284, 0.08941002293969354, 0.09448760101278907, -0.020481147175776215, -0.19938975530424619, 0.10582104781283627, 0.1308896853525504, 0.1289783430614331, 0.15621315350638337, -0.2716503623624211, 0.19040093039983486, 0.09187916100012344, 1.0054010176069879, 0.5301601492490187, -0.20291416973686835, 0.16363010683005796, 0.3956283745532976, -0.5823091028286043, 0.9868932674720243, -0.6517064392599937, -0.3939905708165657, 0.39755189746977565, 0.28461207375681685, 0.023186407910061838, 0.0263384095440752, 0.580249289787372, 1.0038695737342602, 0.6384287080805984, 0.03743125987796842, -0.12788145946307045, -0.70330530390333, -0.2675368932503558, 0.23479948360032832, 0.8281272013877693, -0.857421824873952, -0.005428363830018813, 0.298450612533006, -0.4199847219186201, 0.12993775701688087, 0.3377159674995529, 0.27065800631874193, -0.715634118574537, -0.72781614567373, -0.4934738076943288, 0.3541487121404407, -0.18348839165934366, -0.16472375738765524, -0.5429064994324279, 0.9458538186439919, 0.18087547785437974, 0.4168261929697043, -0.012672114808351488, 0.42833284211509376, 0.13007500544651107, 0.5301601492490187, 0.33814400045901505, 0.6324134358198006, 0.2562738523986008, -0.02637135163230557, 0.1801783801328315, 0.9333952411629332, 0.5282488069579016]}],\n",
              "                        {\"coloraxis\": {\"colorbar\": {\"title\": {\"text\": \"y\"}}, \"colorscale\": [[0.0, \"#0d0887\"], [0.1111111111111111, \"#46039f\"], [0.2222222222222222, \"#7201a8\"], [0.3333333333333333, \"#9c179e\"], [0.4444444444444444, \"#bd3786\"], [0.5555555555555556, \"#d8576b\"], [0.6666666666666666, \"#ed7953\"], [0.7777777777777778, \"#fb9f3a\"], [0.8888888888888888, \"#fdca26\"], [1.0, \"#f0f921\"]]}, \"legend\": {\"tracegroupgap\": 0}, \"margin\": {\"t\": 60}, \"scene\": {\"domain\": {\"x\": [0.0, 1.0], \"y\": [0.0, 1.0]}, \"xaxis\": {\"title\": {\"text\": \"PC1\"}}, \"yaxis\": {\"title\": {\"text\": \"PC2\"}}, \"zaxis\": {\"title\": {\"text\": \"PC3\"}}}, \"template\": {\"data\": {\"bar\": [{\"error_x\": {\"color\": \"#2a3f5f\"}, \"error_y\": {\"color\": \"#2a3f5f\"}, \"marker\": {\"line\": {\"color\": \"#E5ECF6\", \"width\": 0.5}}, \"type\": \"bar\"}], \"barpolar\": [{\"marker\": {\"line\": {\"color\": \"#E5ECF6\", \"width\": 0.5}}, \"type\": \"barpolar\"}], \"carpet\": [{\"aaxis\": {\"endlinecolor\": \"#2a3f5f\", \"gridcolor\": \"white\", \"linecolor\": \"white\", \"minorgridcolor\": \"white\", \"startlinecolor\": \"#2a3f5f\"}, \"baxis\": {\"endlinecolor\": \"#2a3f5f\", \"gridcolor\": \"white\", \"linecolor\": \"white\", \"minorgridcolor\": \"white\", \"startlinecolor\": \"#2a3f5f\"}, \"type\": \"carpet\"}], \"choropleth\": [{\"colorbar\": {\"outlinewidth\": 0, \"ticks\": \"\"}, \"type\": \"choropleth\"}], \"contour\": [{\"colorbar\": {\"outlinewidth\": 0, \"ticks\": \"\"}, \"colorscale\": [[0.0, \"#0d0887\"], [0.1111111111111111, \"#46039f\"], [0.2222222222222222, \"#7201a8\"], [0.3333333333333333, \"#9c179e\"], [0.4444444444444444, \"#bd3786\"], [0.5555555555555556, \"#d8576b\"], [0.6666666666666666, \"#ed7953\"], [0.7777777777777778, \"#fb9f3a\"], [0.8888888888888888, \"#fdca26\"], [1.0, \"#f0f921\"]], \"type\": \"contour\"}], \"contourcarpet\": [{\"colorbar\": {\"outlinewidth\": 0, \"ticks\": \"\"}, \"type\": \"contourcarpet\"}], \"heatmap\": [{\"colorbar\": {\"outlinewidth\": 0, \"ticks\": \"\"}, \"colorscale\": [[0.0, \"#0d0887\"], [0.1111111111111111, \"#46039f\"], [0.2222222222222222, \"#7201a8\"], [0.3333333333333333, \"#9c179e\"], [0.4444444444444444, \"#bd3786\"], [0.5555555555555556, \"#d8576b\"], [0.6666666666666666, \"#ed7953\"], [0.7777777777777778, \"#fb9f3a\"], [0.8888888888888888, \"#fdca26\"], [1.0, \"#f0f921\"]], \"type\": \"heatmap\"}], \"heatmapgl\": [{\"colorbar\": {\"outlinewidth\": 0, \"ticks\": \"\"}, \"colorscale\": [[0.0, \"#0d0887\"], [0.1111111111111111, \"#46039f\"], [0.2222222222222222, \"#7201a8\"], [0.3333333333333333, \"#9c179e\"], [0.4444444444444444, \"#bd3786\"], [0.5555555555555556, \"#d8576b\"], [0.6666666666666666, \"#ed7953\"], [0.7777777777777778, \"#fb9f3a\"], [0.8888888888888888, \"#fdca26\"], [1.0, \"#f0f921\"]], \"type\": \"heatmapgl\"}], \"histogram\": [{\"marker\": {\"colorbar\": {\"outlinewidth\": 0, \"ticks\": \"\"}}, \"type\": \"histogram\"}], \"histogram2d\": [{\"colorbar\": {\"outlinewidth\": 0, \"ticks\": \"\"}, \"colorscale\": [[0.0, \"#0d0887\"], [0.1111111111111111, \"#46039f\"], [0.2222222222222222, \"#7201a8\"], [0.3333333333333333, \"#9c179e\"], [0.4444444444444444, \"#bd3786\"], [0.5555555555555556, \"#d8576b\"], [0.6666666666666666, \"#ed7953\"], [0.7777777777777778, \"#fb9f3a\"], [0.8888888888888888, \"#fdca26\"], [1.0, \"#f0f921\"]], \"type\": \"histogram2d\"}], \"histogram2dcontour\": [{\"colorbar\": {\"outlinewidth\": 0, \"ticks\": \"\"}, \"colorscale\": [[0.0, \"#0d0887\"], [0.1111111111111111, \"#46039f\"], [0.2222222222222222, \"#7201a8\"], [0.3333333333333333, \"#9c179e\"], [0.4444444444444444, \"#bd3786\"], [0.5555555555555556, \"#d8576b\"], [0.6666666666666666, \"#ed7953\"], [0.7777777777777778, \"#fb9f3a\"], [0.8888888888888888, \"#fdca26\"], [1.0, \"#f0f921\"]], \"type\": \"histogram2dcontour\"}], \"mesh3d\": [{\"colorbar\": {\"outlinewidth\": 0, \"ticks\": \"\"}, \"type\": \"mesh3d\"}], \"parcoords\": [{\"line\": {\"colorbar\": {\"outlinewidth\": 0, \"ticks\": \"\"}}, \"type\": \"parcoords\"}], \"pie\": [{\"automargin\": true, \"type\": \"pie\"}], \"scatter\": [{\"marker\": {\"colorbar\": {\"outlinewidth\": 0, \"ticks\": \"\"}}, \"type\": \"scatter\"}], \"scatter3d\": [{\"line\": {\"colorbar\": {\"outlinewidth\": 0, \"ticks\": \"\"}}, \"marker\": {\"colorbar\": {\"outlinewidth\": 0, \"ticks\": \"\"}}, \"type\": \"scatter3d\"}], \"scattercarpet\": [{\"marker\": {\"colorbar\": {\"outlinewidth\": 0, \"ticks\": \"\"}}, \"type\": \"scattercarpet\"}], \"scattergeo\": [{\"marker\": {\"colorbar\": {\"outlinewidth\": 0, \"ticks\": \"\"}}, \"type\": \"scattergeo\"}], \"scattergl\": [{\"marker\": {\"colorbar\": {\"outlinewidth\": 0, \"ticks\": \"\"}}, \"type\": \"scattergl\"}], \"scattermapbox\": [{\"marker\": {\"colorbar\": {\"outlinewidth\": 0, \"ticks\": \"\"}}, \"type\": \"scattermapbox\"}], \"scatterpolar\": [{\"marker\": {\"colorbar\": {\"outlinewidth\": 0, \"ticks\": \"\"}}, \"type\": \"scatterpolar\"}], \"scatterpolargl\": [{\"marker\": {\"colorbar\": {\"outlinewidth\": 0, \"ticks\": \"\"}}, \"type\": \"scatterpolargl\"}], \"scatterternary\": [{\"marker\": {\"colorbar\": {\"outlinewidth\": 0, \"ticks\": \"\"}}, \"type\": \"scatterternary\"}], \"surface\": [{\"colorbar\": {\"outlinewidth\": 0, \"ticks\": \"\"}, \"colorscale\": [[0.0, \"#0d0887\"], [0.1111111111111111, \"#46039f\"], [0.2222222222222222, \"#7201a8\"], [0.3333333333333333, \"#9c179e\"], [0.4444444444444444, \"#bd3786\"], [0.5555555555555556, \"#d8576b\"], [0.6666666666666666, \"#ed7953\"], [0.7777777777777778, \"#fb9f3a\"], [0.8888888888888888, \"#fdca26\"], [1.0, \"#f0f921\"]], \"type\": \"surface\"}], \"table\": [{\"cells\": {\"fill\": {\"color\": \"#EBF0F8\"}, \"line\": {\"color\": \"white\"}}, \"header\": {\"fill\": {\"color\": \"#C8D4E3\"}, \"line\": {\"color\": \"white\"}}, \"type\": \"table\"}]}, \"layout\": {\"annotationdefaults\": {\"arrowcolor\": \"#2a3f5f\", \"arrowhead\": 0, \"arrowwidth\": 1}, \"coloraxis\": {\"colorbar\": {\"outlinewidth\": 0, \"ticks\": \"\"}}, \"colorscale\": {\"diverging\": [[0, \"#8e0152\"], [0.1, \"#c51b7d\"], [0.2, \"#de77ae\"], [0.3, \"#f1b6da\"], [0.4, \"#fde0ef\"], [0.5, \"#f7f7f7\"], [0.6, \"#e6f5d0\"], [0.7, \"#b8e186\"], [0.8, \"#7fbc41\"], [0.9, \"#4d9221\"], [1, \"#276419\"]], \"sequential\": [[0.0, \"#0d0887\"], [0.1111111111111111, \"#46039f\"], [0.2222222222222222, \"#7201a8\"], [0.3333333333333333, \"#9c179e\"], [0.4444444444444444, \"#bd3786\"], [0.5555555555555556, \"#d8576b\"], [0.6666666666666666, \"#ed7953\"], [0.7777777777777778, \"#fb9f3a\"], [0.8888888888888888, \"#fdca26\"], [1.0, \"#f0f921\"]], \"sequentialminus\": [[0.0, \"#0d0887\"], [0.1111111111111111, \"#46039f\"], [0.2222222222222222, \"#7201a8\"], [0.3333333333333333, \"#9c179e\"], [0.4444444444444444, \"#bd3786\"], [0.5555555555555556, \"#d8576b\"], [0.6666666666666666, \"#ed7953\"], [0.7777777777777778, \"#fb9f3a\"], [0.8888888888888888, \"#fdca26\"], [1.0, \"#f0f921\"]]}, \"colorway\": [\"#636efa\", \"#EF553B\", \"#00cc96\", \"#ab63fa\", \"#FFA15A\", \"#19d3f3\", \"#FF6692\", \"#B6E880\", \"#FF97FF\", \"#FECB52\"], \"font\": {\"color\": \"#2a3f5f\"}, \"geo\": {\"bgcolor\": \"white\", \"lakecolor\": \"white\", \"landcolor\": \"#E5ECF6\", \"showlakes\": true, \"showland\": true, \"subunitcolor\": \"white\"}, \"hoverlabel\": {\"align\": \"left\"}, \"hovermode\": \"closest\", \"mapbox\": {\"style\": \"light\"}, \"paper_bgcolor\": \"white\", \"plot_bgcolor\": \"#E5ECF6\", \"polar\": {\"angularaxis\": {\"gridcolor\": \"white\", \"linecolor\": \"white\", \"ticks\": \"\"}, \"bgcolor\": \"#E5ECF6\", \"radialaxis\": {\"gridcolor\": \"white\", \"linecolor\": \"white\", \"ticks\": \"\"}}, \"scene\": {\"xaxis\": {\"backgroundcolor\": \"#E5ECF6\", \"gridcolor\": \"white\", \"gridwidth\": 2, \"linecolor\": \"white\", \"showbackground\": true, \"ticks\": \"\", \"zerolinecolor\": \"white\"}, \"yaxis\": {\"backgroundcolor\": \"#E5ECF6\", \"gridcolor\": \"white\", \"gridwidth\": 2, \"linecolor\": \"white\", \"showbackground\": true, \"ticks\": \"\", \"zerolinecolor\": \"white\"}, \"zaxis\": {\"backgroundcolor\": \"#E5ECF6\", \"gridcolor\": \"white\", \"gridwidth\": 2, \"linecolor\": \"white\", \"showbackground\": true, \"ticks\": \"\", \"zerolinecolor\": \"white\"}}, \"shapedefaults\": {\"line\": {\"color\": \"#2a3f5f\"}}, \"ternary\": {\"aaxis\": {\"gridcolor\": \"white\", \"linecolor\": \"white\", \"ticks\": \"\"}, \"baxis\": {\"gridcolor\": \"white\", \"linecolor\": \"white\", \"ticks\": \"\"}, \"bgcolor\": \"#E5ECF6\", \"caxis\": {\"gridcolor\": \"white\", \"linecolor\": \"white\", \"ticks\": \"\"}}, \"title\": {\"x\": 0.05}, \"xaxis\": {\"automargin\": true, \"gridcolor\": \"white\", \"linecolor\": \"white\", \"ticks\": \"\", \"title\": {\"standoff\": 15}, \"zerolinecolor\": \"white\", \"zerolinewidth\": 2}, \"yaxis\": {\"automargin\": true, \"gridcolor\": \"white\", \"linecolor\": \"white\", \"ticks\": \"\", \"title\": {\"standoff\": 15}, \"zerolinecolor\": \"white\", \"zerolinewidth\": 2}}}},\n",
              "                        {\"responsive\": true}\n",
              "                    ).then(function(){\n",
              "                            \n",
              "var gd = document.getElementById('d3c9b328-3c13-4ec9-9ba2-7ce5011f2d89');\n",
              "var x = new MutationObserver(function (mutations, observer) {{\n",
              "        var display = window.getComputedStyle(gd).display;\n",
              "        if (!display || display === 'none') {{\n",
              "            console.log([gd, 'removed!']);\n",
              "            Plotly.purge(gd);\n",
              "            observer.disconnect();\n",
              "        }}\n",
              "}});\n",
              "\n",
              "// Listen for the removal of the full notebook cells\n",
              "var notebookContainer = gd.closest('#notebook-container');\n",
              "if (notebookContainer) {{\n",
              "    x.observe(notebookContainer, {childList: true});\n",
              "}}\n",
              "\n",
              "// Listen for the clearing of the current output cell\n",
              "var outputEl = gd.closest('.output');\n",
              "if (outputEl) {{\n",
              "    x.observe(outputEl, {childList: true});\n",
              "}}\n",
              "\n",
              "                        })\n",
              "                };\n",
              "                \n",
              "            </script>\n",
              "        </div>\n",
              "</body>\n",
              "</html>"
            ]
          },
          "metadata": {
            "tags": []
          }
        }
      ]
    },
    {
      "cell_type": "markdown",
      "metadata": {
        "id": "Hsshp5l_vVld"
      },
      "source": [
        "## 1 Component"
      ]
    },
    {
      "cell_type": "code",
      "metadata": {
        "colab": {
          "base_uri": "https://localhost:8080/"
        },
        "id": "r2UuIOJWfj7k",
        "outputId": "d3832b8d-30c5-4575-b01f-16f4cd57e75d"
      },
      "source": [
        "print (\"All Eigen Values along with Eigen Vectors\")\r\n",
        "pprint.pprint(eig_pairs)\r\n",
        "print(40 * '-')\r\n",
        "matrix_w = np.hstack((eig_pairs[0][1].reshape(4,1)))\r\n",
        "\r\n",
        "print ('Matrix W:\\n', matrix_w)"
      ],
      "execution_count": null,
      "outputs": [
        {
          "output_type": "stream",
          "text": [
            "All Eigen Values along with Eigen Vectors\n",
            "[(2.938085050199995, array([ 0.521, -0.269,  0.58 ,  0.565])),\n",
            " (0.9201649041624864, array([-0.377, -0.923, -0.024, -0.067])),\n",
            " (0.1477418210449475, array([-0.72 ,  0.244,  0.142,  0.634])),\n",
            " (0.020853862176462696, array([ 0.261, -0.124, -0.801,  0.524]))]\n",
            "----------------------------------------\n",
            "Matrix W:\n",
            " [ 0.521 -0.269  0.58   0.565]\n"
          ],
          "name": "stdout"
        }
      ]
    },
    {
      "cell_type": "code",
      "metadata": {
        "colab": {
          "base_uri": "https://localhost:8080/"
        },
        "id": "Z7cj7WEnvg3K",
        "outputId": "3a78e82c-93ab-4ca6-d11f-a6c0d171da18"
      },
      "source": [
        "X_std[0:5]"
      ],
      "execution_count": null,
      "outputs": [
        {
          "output_type": "execute_result",
          "data": {
            "text/plain": [
              "array([[-0.901,  1.019, -1.34 , -1.315],\n",
              "       [-1.143, -0.132, -1.34 , -1.315],\n",
              "       [-1.385,  0.328, -1.397, -1.315],\n",
              "       [-1.507,  0.098, -1.283, -1.315],\n",
              "       [-1.022,  1.249, -1.34 , -1.315]])"
            ]
          },
          "metadata": {
            "tags": []
          },
          "execution_count": 94
        }
      ]
    },
    {
      "cell_type": "code",
      "metadata": {
        "colab": {
          "base_uri": "https://localhost:8080/"
        },
        "id": "h59WE79Jvago",
        "outputId": "db573854-d8bc-48f3-e91b-5d3539c1e23a"
      },
      "source": [
        "Y = X_std.dot(matrix_w)\r\n",
        "print (Y[0:5])"
      ],
      "execution_count": null,
      "outputs": [
        {
          "output_type": "stream",
          "text": [
            "[-2.265 -2.081 -2.364 -2.299 -2.39 ]\n"
          ],
          "name": "stdout"
        }
      ]
    },
    {
      "cell_type": "code",
      "metadata": {
        "id": "WwTiWKzuwKok"
      },
      "source": [
        "dummy = [0]*len(Y)"
      ],
      "execution_count": null,
      "outputs": []
    },
    {
      "cell_type": "code",
      "metadata": {
        "id": "EuaHiVmewV22"
      },
      "source": [
        "dummy"
      ],
      "execution_count": null,
      "outputs": []
    },
    {
      "cell_type": "code",
      "metadata": {
        "id": "uB3_zrs3w_S3"
      },
      "source": [
        "pl.figure()\r\n",
        "target_names = iris.target_names\r\n",
        "y = iris.target\r\n",
        "for c, i, target_name in zip(\"rgb\", [0, 1, 2], target_names):\r\n",
        "    pl.scatter(Y[y==i,0], Y[y==i,1], c=c, label=target_name)\r\n",
        "pl.xlabel('Principal Component 1')\r\n",
        "pl.ylabel('Principal Component 2')\r\n",
        "pl.legend()\r\n",
        "pl.title('PCA of IRIS dataset')\r\n",
        "pl.show()"
      ],
      "execution_count": null,
      "outputs": []
    },
    {
      "cell_type": "code",
      "metadata": {
        "colab": {
          "base_uri": "https://localhost:8080/",
          "height": 295
        },
        "id": "5GGocj5Fveiy",
        "outputId": "d7048722-36e7-43b2-d77b-774d4ee3e073"
      },
      "source": [
        "pl.figure()\r\n",
        "target_names = iris.target_names\r\n",
        "y = iris.target\r\n",
        "for c, i, target_name in zip(\"rgb\", [0, 1, 2], target_names):\r\n",
        "    pl.scatter(Y,dummy, c=c, label=target_name)\r\n",
        "pl.xlabel('Principal Component 1')\r\n",
        "pl.ylabel('Dummy')\r\n",
        "pl.legend()\r\n",
        "pl.title('PCA of IRIS dataset')\r\n",
        "pl.show()"
      ],
      "execution_count": null,
      "outputs": [
        {
          "output_type": "display_data",
          "data": {
            "image/png": "[encoded data removed]",
            "text/plain": [
              "<Figure size 432x288 with 1 Axes>"
            ]
          },
          "metadata": {
            "tags": [],
            "needs_background": "light"
          }
        }
      ]
    },
    {
      "cell_type": "code",
      "metadata": {
        "id": "5_FWGr0zvrC0"
      },
      "source": [
        ""
      ],
      "execution_count": null,
      "outputs": []
    }
  ]
}