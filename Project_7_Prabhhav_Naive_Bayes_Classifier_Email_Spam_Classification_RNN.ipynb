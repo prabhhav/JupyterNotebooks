{
  "nbformat": 4,
  "nbformat_minor": 0,
  "metadata": {
    "colab": {
      "name": " Project 7 -Prabhhav -Naive Bayes Classifier Email Spam Classification-RNN.ipynb",
      "provenance": [],
      "collapsed_sections": [],
      "include_colab_link": true
    },
    "kernelspec": {
      "name": "python3",
      "display_name": "Python 3"
    }
  },
  "cells": [
    {
      "cell_type": "markdown",
      "metadata": {
        "id": "view-in-github",
        "colab_type": "text"
      },
      "source": [
        "<a href=\"https://colab.research.google.com/github/prabhhav/JupyterNotebooks/blob/main/Project_7_Prabhhav_Naive_Bayes_Classifier_Email_Spam_Classification_RNN.ipynb\" target=\"_parent\"><img src=\"https://colab.research.google.com/assets/colab-badge.svg\" alt=\"Open In Colab\"/></a>"
      ]
    },
    {
      "cell_type": "code",
      "metadata": {
        "id": "RWC5ax7whWov"
      },
      "source": [
        "import pandas as pd"
      ],
      "execution_count": 52,
      "outputs": []
    },
    {
      "cell_type": "code",
      "metadata": {
        "id": "mOzALbhBhaLd"
      },
      "source": [
        "df = pd.read_csv(\"https://raw.githubusercontent.com/soaicbe/ml/master/spam.csv\")"
      ],
      "execution_count": 53,
      "outputs": []
    },
    {
      "cell_type": "code",
      "metadata": {
        "id": "3huVKWuAhbeM",
        "colab": {
          "base_uri": "https://localhost:8080/",
          "height": 204
        },
        "outputId": "cee2f4eb-f922-4cc4-d831-fbfabdc8cade"
      },
      "source": [
        "df.head()"
      ],
      "execution_count": 63,
      "outputs": [
        {
          "output_type": "execute_result",
          "data": {
            "text/html": [
              "<div>\n",
              "<style scoped>\n",
              "    .dataframe tbody tr th:only-of-type {\n",
              "        vertical-align: middle;\n",
              "    }\n",
              "\n",
              "    .dataframe tbody tr th {\n",
              "        vertical-align: top;\n",
              "    }\n",
              "\n",
              "    .dataframe thead th {\n",
              "        text-align: right;\n",
              "    }\n",
              "</style>\n",
              "<table border=\"1\" class=\"dataframe\">\n",
              "  <thead>\n",
              "    <tr style=\"text-align: right;\">\n",
              "      <th></th>\n",
              "      <th>Category</th>\n",
              "      <th>Message</th>\n",
              "    </tr>\n",
              "  </thead>\n",
              "  <tbody>\n",
              "    <tr>\n",
              "      <th>0</th>\n",
              "      <td>ham</td>\n",
              "      <td>Go until jurong point, crazy.. Available only ...</td>\n",
              "    </tr>\n",
              "    <tr>\n",
              "      <th>1</th>\n",
              "      <td>ham</td>\n",
              "      <td>Ok lar... Joking wif u oni...</td>\n",
              "    </tr>\n",
              "    <tr>\n",
              "      <th>2</th>\n",
              "      <td>spam</td>\n",
              "      <td>Free entry in 2 a wkly comp to win FA Cup fina...</td>\n",
              "    </tr>\n",
              "    <tr>\n",
              "      <th>3</th>\n",
              "      <td>ham</td>\n",
              "      <td>U dun say so early hor... U c already then say...</td>\n",
              "    </tr>\n",
              "    <tr>\n",
              "      <th>4</th>\n",
              "      <td>ham</td>\n",
              "      <td>Nah I don't think he goes to usf, he lives aro...</td>\n",
              "    </tr>\n",
              "  </tbody>\n",
              "</table>\n",
              "</div>"
            ],
            "text/plain": [
              "  Category                                            Message\n",
              "0      ham  Go until jurong point, crazy.. Available only ...\n",
              "1      ham                      Ok lar... Joking wif u oni...\n",
              "2     spam  Free entry in 2 a wkly comp to win FA Cup fina...\n",
              "3      ham  U dun say so early hor... U c already then say...\n",
              "4      ham  Nah I don't think he goes to usf, he lives aro..."
            ]
          },
          "metadata": {
            "tags": []
          },
          "execution_count": 63
        }
      ]
    },
    {
      "cell_type": "code",
      "metadata": {
        "id": "7-vyp5WnlAqs",
        "colab": {
          "base_uri": "https://localhost:8080/"
        },
        "outputId": "36abe3cf-aec3-4002-8b9d-3afa7215bc3a"
      },
      "source": [
        "# it has 2 columns and 5572 rows\n",
        "df.shape"
      ],
      "execution_count": 64,
      "outputs": [
        {
          "output_type": "execute_result",
          "data": {
            "text/plain": [
              "(5572, 2)"
            ]
          },
          "metadata": {
            "tags": []
          },
          "execution_count": 64
        }
      ]
    },
    {
      "cell_type": "code",
      "metadata": {
        "id": "GuY_xrQL-jGf",
        "colab": {
          "base_uri": "https://localhost:8080/"
        },
        "outputId": "7f85fd70-7526-43a9-bcde-bc3661e50577"
      },
      "source": [
        "# Both are not same coz it is case seisitive\n",
        "\"OK\" == \"ok\""
      ],
      "execution_count": 65,
      "outputs": [
        {
          "output_type": "execute_result",
          "data": {
            "text/plain": [
              "False"
            ]
          },
          "metadata": {
            "tags": []
          },
          "execution_count": 65
        }
      ]
    },
    {
      "cell_type": "code",
      "metadata": {
        "id": "WEU0mZ_Rhs9h"
      },
      "source": [
        "# So we convert every words to lower case\n",
        "df['Message'] = df.Message.str.lower()"
      ],
      "execution_count": 66,
      "outputs": []
    },
    {
      "cell_type": "code",
      "metadata": {
        "id": "Jrpm4qTwkUn1",
        "colab": {
          "base_uri": "https://localhost:8080/"
        },
        "outputId": "1b380e1f-6bbb-4633-c074-58c7e0187fe1"
      },
      "source": [
        "# No. of times a particular word is present in the entire dataset\n",
        "df.Message.str.contains(\"free\").sum()"
      ],
      "execution_count": 68,
      "outputs": [
        {
          "output_type": "execute_result",
          "data": {
            "text/plain": [
              "265"
            ]
          },
          "metadata": {
            "tags": []
          },
          "execution_count": 68
        }
      ]
    },
    {
      "cell_type": "code",
      "metadata": {
        "id": "WeUGFfURk6N7",
        "colab": {
          "base_uri": "https://localhost:8080/"
        },
        "outputId": "8bc8816b-cfcf-4d11-8628-4726fe9b290c"
      },
      "source": [
        "df.Message.str.contains(\"offer\").sum()"
      ],
      "execution_count": 69,
      "outputs": [
        {
          "output_type": "execute_result",
          "data": {
            "text/plain": [
              "46"
            ]
          },
          "metadata": {
            "tags": []
          },
          "execution_count": 69
        }
      ]
    },
    {
      "cell_type": "code",
      "metadata": {
        "id": "sytDB1y3lHyQ",
        "colab": {
          "base_uri": "https://localhost:8080/"
        },
        "outputId": "483941c9-d800-4fde-ad04-7adfc121e4f7"
      },
      "source": [
        "df.Message.str.contains(\"friend\").sum()"
      ],
      "execution_count": 70,
      "outputs": [
        {
          "output_type": "execute_result",
          "data": {
            "text/plain": [
              "128"
            ]
          },
          "metadata": {
            "tags": []
          },
          "execution_count": 70
        }
      ]
    },
    {
      "cell_type": "code",
      "metadata": {
        "id": "jd3jz_m1lMEH",
        "colab": {
          "base_uri": "https://localhost:8080/"
        },
        "outputId": "8deae55a-3ace-49ad-f302-b472589bfa94"
      },
      "source": [
        "df.Message.str.contains(\"work\").sum()"
      ],
      "execution_count": 71,
      "outputs": [
        {
          "output_type": "execute_result",
          "data": {
            "text/plain": [
              "176"
            ]
          },
          "metadata": {
            "tags": []
          },
          "execution_count": 71
        }
      ]
    },
    {
      "cell_type": "markdown",
      "metadata": {
        "id": "_7v3YD3j_EWn"
      },
      "source": [
        "### Bag of words\n",
        "\n",
        "![](https://chrisalbon.com/images/machine_learning_flashcards/Bag_Of_Words_print.png)"
      ]
    },
    {
      "cell_type": "code",
      "metadata": {
        "id": "fSaN_QCslOew"
      },
      "source": [
        "from sklearn.feature_extraction.text import CountVectorizer"
      ],
      "execution_count": 72,
      "outputs": []
    },
    {
      "cell_type": "code",
      "metadata": {
        "id": "s31HtD3jlcA_"
      },
      "source": [
        "corpus = [\n",
        "     'This is the first document.',\n",
        "     'This document is the second document.',\n",
        "     'And this is the third one.',\n",
        "     'Is this the first document?',\n",
        " ]"
      ],
      "execution_count": 73,
      "outputs": []
    },
    {
      "cell_type": "code",
      "metadata": {
        "id": "yi3-lCZ5lf8v"
      },
      "source": [
        "vectorizer = CountVectorizer()"
      ],
      "execution_count": 74,
      "outputs": []
    },
    {
      "cell_type": "code",
      "metadata": {
        "id": "KcKZNc1slh9s"
      },
      "source": [
        "X = vectorizer.fit_transform(corpus)"
      ],
      "execution_count": 75,
      "outputs": []
    },
    {
      "cell_type": "code",
      "metadata": {
        "id": "ZWpC525xlyd6",
        "colab": {
          "base_uri": "https://localhost:8080/"
        },
        "outputId": "a50171e0-f99f-4ca6-c65e-71f321f513d7"
      },
      "source": [
        "# unique words from the corpus\n",
        "vectorizer.get_feature_names()"
      ],
      "execution_count": 76,
      "outputs": [
        {
          "output_type": "execute_result",
          "data": {
            "text/plain": [
              "['and', 'document', 'first', 'is', 'one', 'second', 'the', 'third', 'this']"
            ]
          },
          "metadata": {
            "tags": []
          },
          "execution_count": 76
        }
      ]
    },
    {
      "cell_type": "code",
      "metadata": {
        "id": "tkHCjVvPl5GI",
        "colab": {
          "base_uri": "https://localhost:8080/"
        },
        "outputId": "1be52e14-a9e2-4e59-bbfd-e1d710cd9708"
      },
      "source": [
        "X.toarray()"
      ],
      "execution_count": 77,
      "outputs": [
        {
          "output_type": "execute_result",
          "data": {
            "text/plain": [
              "array([[0, 1, 1, 1, 0, 0, 1, 0, 1],\n",
              "       [0, 2, 0, 1, 0, 1, 1, 0, 1],\n",
              "       [1, 0, 0, 1, 1, 0, 1, 1, 1],\n",
              "       [0, 1, 1, 1, 0, 0, 1, 0, 1]])"
            ]
          },
          "metadata": {
            "tags": []
          },
          "execution_count": 77
        }
      ]
    },
    {
      "cell_type": "code",
      "metadata": {
        "id": "tI659gpI_0qt",
        "colab": {
          "base_uri": "https://localhost:8080/",
          "height": 173
        },
        "outputId": "748093a6-69dc-4298-c37e-a6fa68b81b58"
      },
      "source": [
        "# To easily visualize\n",
        "table = pd.DataFrame(X.toarray(), columns=vectorizer.get_feature_names())\n",
        "table['corpus'] = corpus\n",
        "table.head()"
      ],
      "execution_count": 78,
      "outputs": [
        {
          "output_type": "execute_result",
          "data": {
            "text/html": [
              "<div>\n",
              "<style scoped>\n",
              "    .dataframe tbody tr th:only-of-type {\n",
              "        vertical-align: middle;\n",
              "    }\n",
              "\n",
              "    .dataframe tbody tr th {\n",
              "        vertical-align: top;\n",
              "    }\n",
              "\n",
              "    .dataframe thead th {\n",
              "        text-align: right;\n",
              "    }\n",
              "</style>\n",
              "<table border=\"1\" class=\"dataframe\">\n",
              "  <thead>\n",
              "    <tr style=\"text-align: right;\">\n",
              "      <th></th>\n",
              "      <th>and</th>\n",
              "      <th>document</th>\n",
              "      <th>first</th>\n",
              "      <th>is</th>\n",
              "      <th>one</th>\n",
              "      <th>second</th>\n",
              "      <th>the</th>\n",
              "      <th>third</th>\n",
              "      <th>this</th>\n",
              "      <th>corpus</th>\n",
              "    </tr>\n",
              "  </thead>\n",
              "  <tbody>\n",
              "    <tr>\n",
              "      <th>0</th>\n",
              "      <td>0</td>\n",
              "      <td>1</td>\n",
              "      <td>1</td>\n",
              "      <td>1</td>\n",
              "      <td>0</td>\n",
              "      <td>0</td>\n",
              "      <td>1</td>\n",
              "      <td>0</td>\n",
              "      <td>1</td>\n",
              "      <td>This is the first document.</td>\n",
              "    </tr>\n",
              "    <tr>\n",
              "      <th>1</th>\n",
              "      <td>0</td>\n",
              "      <td>2</td>\n",
              "      <td>0</td>\n",
              "      <td>1</td>\n",
              "      <td>0</td>\n",
              "      <td>1</td>\n",
              "      <td>1</td>\n",
              "      <td>0</td>\n",
              "      <td>1</td>\n",
              "      <td>This document is the second document.</td>\n",
              "    </tr>\n",
              "    <tr>\n",
              "      <th>2</th>\n",
              "      <td>1</td>\n",
              "      <td>0</td>\n",
              "      <td>0</td>\n",
              "      <td>1</td>\n",
              "      <td>1</td>\n",
              "      <td>0</td>\n",
              "      <td>1</td>\n",
              "      <td>1</td>\n",
              "      <td>1</td>\n",
              "      <td>And this is the third one.</td>\n",
              "    </tr>\n",
              "    <tr>\n",
              "      <th>3</th>\n",
              "      <td>0</td>\n",
              "      <td>1</td>\n",
              "      <td>1</td>\n",
              "      <td>1</td>\n",
              "      <td>0</td>\n",
              "      <td>0</td>\n",
              "      <td>1</td>\n",
              "      <td>0</td>\n",
              "      <td>1</td>\n",
              "      <td>Is this the first document?</td>\n",
              "    </tr>\n",
              "  </tbody>\n",
              "</table>\n",
              "</div>"
            ],
            "text/plain": [
              "   and  document  first  ...  third  this                                 corpus\n",
              "0    0         1      1  ...      0     1            This is the first document.\n",
              "1    0         2      0  ...      0     1  This document is the second document.\n",
              "2    1         0      0  ...      1     1             And this is the third one.\n",
              "3    0         1      1  ...      0     1            Is this the first document?\n",
              "\n",
              "[4 rows x 10 columns]"
            ]
          },
          "metadata": {
            "tags": []
          },
          "execution_count": 78
        }
      ]
    },
    {
      "cell_type": "code",
      "metadata": {
        "id": "Z5kUWI7imC6b"
      },
      "source": [
        "# convert ham and spam to 0 and 1\n",
        "df['spam']=df['Category'].apply(lambda x: 1 if x=='spam' else 0)"
      ],
      "execution_count": 79,
      "outputs": []
    },
    {
      "cell_type": "code",
      "metadata": {
        "id": "grDKQ6Bsmnp1",
        "colab": {
          "base_uri": "https://localhost:8080/",
          "height": 204
        },
        "outputId": "fc4d067c-3c9b-4bf9-f7c4-2bfb3f780bac"
      },
      "source": [
        "df.head()"
      ],
      "execution_count": 80,
      "outputs": [
        {
          "output_type": "execute_result",
          "data": {
            "text/html": [
              "<div>\n",
              "<style scoped>\n",
              "    .dataframe tbody tr th:only-of-type {\n",
              "        vertical-align: middle;\n",
              "    }\n",
              "\n",
              "    .dataframe tbody tr th {\n",
              "        vertical-align: top;\n",
              "    }\n",
              "\n",
              "    .dataframe thead th {\n",
              "        text-align: right;\n",
              "    }\n",
              "</style>\n",
              "<table border=\"1\" class=\"dataframe\">\n",
              "  <thead>\n",
              "    <tr style=\"text-align: right;\">\n",
              "      <th></th>\n",
              "      <th>Category</th>\n",
              "      <th>Message</th>\n",
              "      <th>spam</th>\n",
              "    </tr>\n",
              "  </thead>\n",
              "  <tbody>\n",
              "    <tr>\n",
              "      <th>0</th>\n",
              "      <td>ham</td>\n",
              "      <td>go until jurong point, crazy.. available only ...</td>\n",
              "      <td>0</td>\n",
              "    </tr>\n",
              "    <tr>\n",
              "      <th>1</th>\n",
              "      <td>ham</td>\n",
              "      <td>ok lar... joking wif u oni...</td>\n",
              "      <td>0</td>\n",
              "    </tr>\n",
              "    <tr>\n",
              "      <th>2</th>\n",
              "      <td>spam</td>\n",
              "      <td>free entry in 2 a wkly comp to win fa cup fina...</td>\n",
              "      <td>1</td>\n",
              "    </tr>\n",
              "    <tr>\n",
              "      <th>3</th>\n",
              "      <td>ham</td>\n",
              "      <td>u dun say so early hor... u c already then say...</td>\n",
              "      <td>0</td>\n",
              "    </tr>\n",
              "    <tr>\n",
              "      <th>4</th>\n",
              "      <td>ham</td>\n",
              "      <td>nah i don't think he goes to usf, he lives aro...</td>\n",
              "      <td>0</td>\n",
              "    </tr>\n",
              "  </tbody>\n",
              "</table>\n",
              "</div>"
            ],
            "text/plain": [
              "  Category                                            Message  spam\n",
              "0      ham  go until jurong point, crazy.. available only ...     0\n",
              "1      ham                      ok lar... joking wif u oni...     0\n",
              "2     spam  free entry in 2 a wkly comp to win fa cup fina...     1\n",
              "3      ham  u dun say so early hor... u c already then say...     0\n",
              "4      ham  nah i don't think he goes to usf, he lives aro...     0"
            ]
          },
          "metadata": {
            "tags": []
          },
          "execution_count": 80
        }
      ]
    },
    {
      "cell_type": "code",
      "metadata": {
        "id": "pPGZ2hBbBX9P"
      },
      "source": [
        "X = list(df['Message'])\r\n",
        "y = list(df['spam'])"
      ],
      "execution_count": 81,
      "outputs": []
    },
    {
      "cell_type": "code",
      "metadata": {
        "colab": {
          "base_uri": "https://localhost:8080/"
        },
        "id": "c9ru11sTBjNu",
        "outputId": "68254e00-5a71-4a4d-eb91-3ab82438526f"
      },
      "source": [
        "X"
      ],
      "execution_count": 82,
      "outputs": [
        {
          "output_type": "execute_result",
          "data": {
            "text/plain": [
              "['go until jurong point, crazy.. available only in bugis n great world la e buffet... cine there got amore wat...',\n",
              " 'ok lar... joking wif u oni...',\n",
              " \"free entry in 2 a wkly comp to win fa cup final tkts 21st may 2005. text fa to 87121 to receive entry question(std txt rate)t&c's apply 08452810075over18's\",\n",
              " 'u dun say so early hor... u c already then say...',\n",
              " \"nah i don't think he goes to usf, he lives around here though\",\n",
              " \"freemsg hey there darling it's been 3 week's now and no word back! i'd like some fun you up for it still? tb ok! xxx std chgs to send, £1.50 to rcv\",\n",
              " 'even my brother is not like to speak with me. they treat me like aids patent.',\n",
              " \"as per your request 'melle melle (oru minnaminunginte nurungu vettam)' has been set as your callertune for all callers. press *9 to copy your friends callertune\",\n",
              " 'winner!! as a valued network customer you have been selected to receivea £900 prize reward! to claim call 09061701461. claim code kl341. valid 12 hours only.',\n",
              " 'had your mobile 11 months or more? u r entitled to update to the latest colour mobiles with camera for free! call the mobile update co free on 08002986030',\n",
              " \"i'm gonna be home soon and i don't want to talk about this stuff anymore tonight, k? i've cried enough today.\",\n",
              " 'six chances to win cash! from 100 to 20,000 pounds txt> csh11 and send to 87575. cost 150p/day, 6days, 16+ tsandcs apply reply hl 4 info',\n",
              " 'urgent! you have won a 1 week free membership in our £100,000 prize jackpot! txt the word: claim to no: 81010 t&c www.dbuk.net lccltd pobox 4403ldnw1a7rw18',\n",
              " \"i've been searching for the right words to thank you for this breather. i promise i wont take your help for granted and will fulfil my promise. you have been wonderful and a blessing at all times.\",\n",
              " 'i have a date on sunday with will!!',\n",
              " 'xxxmobilemovieclub: to use your credit, click the wap link in the next txt message or click here>> http://wap. xxxmobilemovieclub.com?n=qjkgighjjgcbl',\n",
              " \"oh k...i'm watching here:)\",\n",
              " 'eh u remember how 2 spell his name... yes i did. he v naughty make until i v wet.',\n",
              " 'fine if that\\x92s the way u feel. that\\x92s the way its gota b',\n",
              " 'england v macedonia - dont miss the goals/team news. txt ur national team to 87077 eg england to 87077 try:wales, scotland 4txt/ú1.20 poboxox36504w45wq 16+',\n",
              " 'is that seriously how you spell his name?',\n",
              " 'i‘m going to try for 2 months ha ha only joking',\n",
              " 'so ü pay first lar... then when is da stock comin...',\n",
              " 'aft i finish my lunch then i go str down lor. ard 3 smth lor. u finish ur lunch already?',\n",
              " 'ffffffffff. alright no way i can meet up with you sooner?',\n",
              " \"just forced myself to eat a slice. i'm really not hungry tho. this sucks. mark is getting worried. he knows i'm sick when i turn down pizza. lol\",\n",
              " 'lol your always so convincing.',\n",
              " \"did you catch the bus ? are you frying an egg ? did you make a tea? are you eating your mom's left over dinner ? do you feel my love ?\",\n",
              " \"i'm back &amp; we're packing the car now, i'll let you know if there's room\",\n",
              " 'ahhh. work. i vaguely remember that! what does it feel like? lol',\n",
              " \"wait that's still not all that clear, were you not sure about me being sarcastic or that that's why x doesn't want to live with us\",\n",
              " \"yeah he got in at 2 and was v apologetic. n had fallen out and she was actin like spoilt child and he got caught up in that. till 2! but we won't go there! not doing too badly cheers. you?\",\n",
              " 'k tell me anything about you.',\n",
              " 'for fear of fainting with the of all that housework you just did? quick have a cuppa',\n",
              " 'thanks for your subscription to ringtone uk your mobile will be charged £5/month please confirm by replying yes or no. if you reply no you will not be charged',\n",
              " 'yup... ok i go home look at the timings then i msg ü again... xuhui going to learn on 2nd may too but her lesson is at 8am',\n",
              " \"oops, i'll let you know when my roommate's done\",\n",
              " 'i see the letter b on my car',\n",
              " 'anything lor... u decide...',\n",
              " \"hello! how's you and how did saturday go? i was just texting to see if you'd decided to do anything tomo. not that i'm trying to invite myself or anything!\",\n",
              " 'pls go ahead with watts. i just wanted to be sure. do have a great weekend. abiola',\n",
              " 'did i forget to tell you ? i want you , i need you, i crave you ... but most of all ... i love you my sweet arabian steed ... mmmmmm ... yummy',\n",
              " '07732584351 - rodger burns - msg = we tried to call you re your reply to our sms for a free nokia mobile + free camcorder. please call now 08000930705 for delivery tomorrow',\n",
              " 'who are you seeing?',\n",
              " 'great! i hope you like your man well endowed. i am  &lt;#&gt;  inches...',\n",
              " 'no calls..messages..missed calls',\n",
              " \"didn't you get hep b immunisation in nigeria.\",\n",
              " 'fair enough, anything going on?',\n",
              " \"yeah hopefully, if tyler can't do it i could maybe ask around a bit\",\n",
              " \"u don't know how stubborn i am. i didn't even want to go to the hospital. i kept telling mark i'm not a weak sucker. hospitals are for weak suckers.\",\n",
              " 'what you thinked about me. first time you saw me in class.',\n",
              " 'a gram usually runs like  &lt;#&gt; , a half eighth is smarter though and gets you almost a whole second gram for  &lt;#&gt;',\n",
              " \"k fyi x has a ride early tomorrow morning but he's crashing at our place tonight\",\n",
              " 'wow. i never realized that you were so embarassed by your accomodations. i thought you liked it, since i was doing the best i could and you always seemed so happy about \"the cave\". i\\'m sorry i didn\\'t and don\\'t have more to give. i\\'m sorry i offered. i\\'m sorry your room was so embarassing.',\n",
              " 'sms. ac sptv: the new jersey devils and the detroit red wings play ice hockey. correct or incorrect? end? reply end sptv',\n",
              " 'do you know what mallika sherawat did yesterday? find out now @  &lt;url&gt;',\n",
              " 'congrats! 1 year special cinema pass for 2 is yours. call 09061209465 now! c suprman v, matrix3, starwars3, etc all 4 free! bx420-ip4-5we. 150pm. dont miss out!',\n",
              " \"sorry, i'll call later in meeting.\",\n",
              " 'tell where you reached',\n",
              " 'yes..gauti and sehwag out of odi series.',\n",
              " \"your gonna have to pick up a $1 burger for yourself on your way home. i can't even move. pain is killing me.\",\n",
              " 'ha ha ha good joke. girls are situation seekers.',\n",
              " 'its a part of checking iq',\n",
              " 'sorry my roommates took forever, it ok if i come by now?',\n",
              " 'ok lar i double check wif da hair dresser already he said wun cut v short. he said will cut until i look nice.',\n",
              " 'as a valued customer, i am pleased to advise you that following recent review of your mob no. you are awarded with a £1500 bonus prize, call 09066364589',\n",
              " 'today is \"song dedicated day..\" which song will u dedicate for me? send this to all ur valuable frnds but first rply me...',\n",
              " 'urgent ur awarded a complimentary trip to eurodisinc trav, aco&entry41 or £1000. to claim txt dis to 87121 18+6*£1.50(morefrmmob. shracomorsglsuplt)10, ls1 3aj',\n",
              " 'did you hear about the new \"divorce barbie\"? it comes with all of ken\\'s stuff!',\n",
              " 'i plane to give on this month end.',\n",
              " 'wah lucky man... then can save money... hee...',\n",
              " 'finished class where are you.',\n",
              " 'hi babe im at home now wanna do something? xx',\n",
              " 'k..k:)where are you?how did you performed?',\n",
              " 'u can call me now...',\n",
              " 'i am waiting machan. call me once you free.',\n",
              " 'thats cool. i am a gentleman and will treat you with dignity and respect.',\n",
              " 'i like you peoples very much:) but am very shy pa.',\n",
              " 'does not operate after  &lt;#&gt;  or what',\n",
              " \"its not the same here. still looking for a job. how much do ta's earn there.\",\n",
              " \"sorry, i'll call later\",\n",
              " 'k. did you call me just now ah?',\n",
              " 'ok i am on the way to home hi hi',\n",
              " 'you will be in the place of that man',\n",
              " 'yup next stop.',\n",
              " \"i call you later, don't have network. if urgnt, sms me.\",\n",
              " \"for real when u getting on yo? i only need 2 more tickets and one more jacket and i'm done. i already used all my multis.\",\n",
              " \"yes i started to send requests to make it but pain came back so i'm back in bed. double coins at the factory too. i gotta cash in all my nitros.\",\n",
              " \"i'm really not up to it still tonight babe\",\n",
              " 'ela kano.,il download, come wen ur free..',\n",
              " 'yeah do! don‘t stand to close tho- you‘ll catch something!',\n",
              " \"sorry to be a pain. is it ok if we meet another night? i spent late afternoon in casualty and that means i haven't done any of y stuff42moro and that includes all my time sheets and that. sorry.\",\n",
              " 'smile in pleasure smile in pain smile when trouble pours like rain smile when sum1 hurts u smile becoz someone still loves to see u smiling!!',\n",
              " 'please call our customer service representative on 0800 169 6031 between 10am-9pm as you have won a guaranteed £1000 cash or £5000 prize!',\n",
              " 'havent planning to buy later. i check already lido only got 530 show in e afternoon. u finish work already?',\n",
              " 'your free ringtone is waiting to be collected. simply text the password \"mix\" to 85069 to verify. get usher and britney. fml, po box 5249, mk17 92h. 450ppw 16',\n",
              " 'watching telugu movie..wat abt u?',\n",
              " 'i see. when we finish we have loads of loans to pay',\n",
              " 'hi. wk been ok - on hols now! yes on for a bit of a run. forgot that i have hairdressers appointment at four so need to get home n shower beforehand. does that cause prob for u?\"',\n",
              " 'i see a cup of coffee animation',\n",
              " \"please don't text me anymore. i have nothing else to say.\",\n",
              " 'okay name ur price as long as its legal! wen can i pick them up? y u ave x ams xx',\n",
              " \"i'm still looking for a car to buy. and have not gone 4the driving test yet.\",\n",
              " \"as per your request 'melle melle (oru minnaminunginte nurungu vettam)' has been set as your callertune for all callers. press *9 to copy your friends callertune\",\n",
              " \"wow. you're right! i didn't mean to do that. i guess once i gave up on boston men and changed my search location to nyc, something changed. cuz on my signin page it still says boston.\",\n",
              " 'umma my life and vava umma love you lot dear',\n",
              " 'thanks a lot for your wishes on my birthday. thanks you for making my birthday truly memorable.',\n",
              " \"aight, i'll hit you up when i get some cash\",\n",
              " \"how would my ip address test that considering my computer isn't a minecraft server\",\n",
              " 'i know! grumpy old people. my mom was like you better not be lying. then again i am always the one to play jokes...',\n",
              " \"dont worry. i guess he's busy.\",\n",
              " 'what is the plural of the noun research?',\n",
              " 'going for dinner.msg you after.',\n",
              " \"i'm ok wif it cos i like 2 try new things. but i scared u dun like mah. cos u said not too loud.\",\n",
              " 'gent! we are trying to contact you. last weekends draw shows that you won a £1000 prize guaranteed. call 09064012160. claim code k52. valid 12hrs only. 150ppm',\n",
              " \"wa, ur openin sentence very formal... anyway, i'm fine too, juz tt i'm eatin too much n puttin on weight...haha... so anythin special happened?\",\n",
              " \"as i entered my cabin my pa said, '' happy b'day boss !!''. i felt special. she askd me 4 lunch. after lunch she invited me to her apartment. we went there.\",\n",
              " 'you are a winner u have been specially selected 2 receive £1000 or a 4* holiday (flights inc) speak to a live operator 2 claim 0871277810910p/min (18+)',\n",
              " 'goodo! yes we must speak friday - egg-potato ratio for tortilla needed!',\n",
              " \"hmm...my uncle just informed me that he's paying the school directly. so pls buy food.\",\n",
              " 'private! your 2004 account statement for 07742676969 shows 786 unredeemed bonus points. to claim call 08719180248 identifier code: 45239 expires',\n",
              " 'urgent! your mobile no. was awarded £2000 bonus caller prize on 5/9/03 this is our final try to contact u! call from landline 09064019788 box42wr29c, 150ppm',\n",
              " 'here is my new address -apples&pairs&all that malarky',\n",
              " 'todays voda numbers ending 7548 are selected to receive a $350 award. if you have a match please call 08712300220 quoting claim code 4041 standard rates app',\n",
              " 'i am going to sao mu today. will be done only at 12',\n",
              " \"ü predict wat time ü'll finish buying?\",\n",
              " 'good stuff, will do.',\n",
              " \"just so that you know,yetunde hasn't sent money yet. i just sent her a text not to bother sending. so its over, you dont have to involve yourself in anything. i shouldn't have imposed anything on you in the first place so for that, i apologise.\",\n",
              " 'are you there in room.',\n",
              " 'hey girl. how r u? hope u r well me an del r bak! again long time no c! give me a call sum time from lucyxx',\n",
              " 'k..k:)how much does it cost?',\n",
              " \"i'm home.\",\n",
              " 'dear, will call tmorrow.pls accomodate.',\n",
              " 'first answer my question.',\n",
              " 'sunshine quiz wkly q! win a top sony dvd player if u know which country the algarve is in? txt ansr to 82277. £1.50 sp:tyrone',\n",
              " \"want 2 get laid tonight? want real dogging locations sent direct 2 ur mob? join the uk's largest dogging network bt txting gravel to 69888! nt. ec2a. 31p.msg@150p\",\n",
              " \"i only haf msn. it's yijue@hotmail.com\",\n",
              " 'he is there. you call and meet him',\n",
              " 'no no. i will check all rooms befor activities',\n",
              " \"you'll not rcv any more msgs from the chat svc. for free hardcore services text go to: 69988 if u get nothing u must age verify with yr network & try again\",\n",
              " 'got c... i lazy to type... i forgot ü in lect... i saw a pouch but like not v nice...',\n",
              " \"k, text me when you're on the way\",\n",
              " 'sir, waiting for your mail.',\n",
              " 'a swt thought: \"nver get tired of doing little things 4 lovable persons..\" coz..somtimes those little things occupy d biggest part in their hearts.. gud ni8',\n",
              " 'i know you are. can you pls open the back?',\n",
              " 'yes see ya not on the dot',\n",
              " 'whats the staff name who is taking class for us?',\n",
              " \"freemsg why haven't you replied to my text? i'm randy, sexy, female and live local. luv to hear from u. netcollex ltd 08700621170150p per msg reply stop to end\",\n",
              " 'ummma.will call after check in.our life will begin from qatar so pls pray very hard.',\n",
              " 'k..i deleted my contact that why?',\n",
              " 'sindu got job in birla soft ..',\n",
              " \"the wine is flowing and i'm i have nevering..\",\n",
              " 'yup i thk cine is better cos no need 2 go down 2 plaza mah.',\n",
              " 'ok... ur typical reply...',\n",
              " \"as per your request 'melle melle (oru minnaminunginte nurungu vettam)' has been set as your callertune for all callers. press *9 to copy your friends callertune\",\n",
              " 'you are everywhere dirt, on the floor, the windows, even on my shirt. and sometimes when i open my mouth, you are all that comes flowing out. i dream of my world without you, then half my chores are out too. a time of joy for me, lots of tv shows i.ll see. but i guess like all things you just must exist, like rain, hail and mist, and when my time here is done, you and i become one.',\n",
              " 'aaooooright are you at work?',\n",
              " \"i'm leaving my house now...\",\n",
              " 'hello, my love. what are you doing? did you get to that interview today? are you you happy? are you being a good boy? do you think of me?are you missing me ?',\n",
              " 'customer service annoncement. you have a new years delivery waiting for you. please call 07046744435 now to arrange delivery',\n",
              " 'you are a winner u have been specially selected 2 receive £1000 cash or a 4* holiday (flights inc) speak to a live operator 2 claim 0871277810810',\n",
              " \"keep yourself safe for me because i need you and i miss you already and i envy everyone that see's you in real life\",\n",
              " 'new car and house for my parents.:)i have only new job in hand:)',\n",
              " \"i'm so in love with you. i'm excited each day i spend with you. you make me so happy.\",\n",
              " '-pls stop bootydelious (32/f) is inviting you to be her friend. reply yes-434 or no-434 see her: www.sms.ac/u/bootydelious stop? send stop frnd to 62468',\n",
              " 'bangbabes ur order is on the way. u should receive a service msg 2 download ur content. if u do not, goto wap. bangb. tv on ur mobile internet/service menu',\n",
              " 'i place all ur points on e cultures module already.',\n",
              " 'urgent! we are trying to contact you. last weekends draw shows that you have won a £900 prize guaranteed. call 09061701939. claim code s89. valid 12hrs only',\n",
              " \"hi frnd, which is best way to avoid missunderstding wit our beloved one's?\",\n",
              " 'great escape. i fancy the bridge but needs her lager. see you tomo',\n",
              " 'yes :)it completely in out of form:)clark also utter waste.',\n",
              " 'sir, i need axis bank account no and bank address.',\n",
              " 'hmmm.. thk sure got time to hop ard... ya, can go 4 free abt... muz call u to discuss liao...',\n",
              " 'what time you coming down later?',\n",
              " 'bloody hell, cant believe you forgot my surname mr . ill give u a clue, its spanish and begins with m...',\n",
              " \"well, i'm gonna finish my bath now. have a good...fine night.\",\n",
              " \"let me know when you've got the money so carlos can make the call\",\n",
              " 'u still going to the mall?',\n",
              " \"turns out my friends are staying for the whole show and won't be back til ~ &lt;#&gt; , so feel free to go ahead and smoke that $ &lt;#&gt;  worth\",\n",
              " 'text her. if she doesnt reply let me know so i can have her log in',\n",
              " \"hi! you just spoke to maneesha v. we'd like to know if you were satisfied with the experience. reply toll free with yes or no.\",\n",
              " 'you lifted my hopes with the offer of money. i am in need. especially when the end of the month approaches and it hurts my studying. anyways have a gr8 weekend',\n",
              " 'lol no. u can trust me.',\n",
              " 'ok. i am a gentleman and will treat you with dignity and respect.',\n",
              " 'he will, you guys close?',\n",
              " 'going on nothing great.bye',\n",
              " \"hello handsome ! are you finding that job ? not being lazy ? working towards getting back that net for mummy ? where's my boytoy now ? does he miss me ?\",\n",
              " 'haha awesome, be there in a minute',\n",
              " 'please call our customer service representative on freephone 0808 145 4742 between 9am-11pm as you have won a guaranteed £1000 cash or £5000 prize!',\n",
              " 'have you got xmas radio times. if not i will get it now',\n",
              " 'i jus reached home. i go bathe first. but my sis using net tell u when she finishes k...',\n",
              " 'are you unique enough? find out from 30th august. www.areyouunique.co.uk',\n",
              " \"i'm sorry. i've joined the league of people that dont keep in touch. you mean a great deal to me. you have been a friend at all times even at great personal cost. do have a great week.|\",\n",
              " 'hi :)finally i completed the course:)',\n",
              " 'it will stop on itself. i however suggest she stays with someone that will be able to give ors for every stool.',\n",
              " \"how are you doing? hope you've settled in for the new school year. just wishin you a gr8 day\",\n",
              " 'gud mrng dear hav a nice day',\n",
              " 'did u got that persons story',\n",
              " 'is your hamster dead? hey so tmr i meet you at 1pm orchard mrt?',\n",
              " 'hi its kate how is your evening? i hope i can see you tomorrow for a bit but i have to bloody babyjontet! txt back if u can. :) xxx',\n",
              " 'found it, enc  &lt;#&gt; , where you at?',\n",
              " 'i sent you  &lt;#&gt;  bucks',\n",
              " 'hello darlin ive finished college now so txt me when u finish if u can love kate xxx',\n",
              " 'your account has been refilled successfully by inr  &lt;decimal&gt; . your keralacircle prepaid account balance is rs  &lt;decimal&gt; . your transaction id is kr &lt;#&gt; .',\n",
              " 'goodmorning sleeping ga.',\n",
              " 'u call me alter at 11 ok.',\n",
              " 'ü say until like dat i dun buy ericsson oso cannot oredi lar...',\n",
              " \"as i entered my cabin my pa said, '' happy b'day boss !!''. i felt special. she askd me 4 lunch. after lunch she invited me to her apartment. we went there.\",\n",
              " 'aight yo, dats straight dogg',\n",
              " 'you please give us connection today itself before  &lt;decimal&gt;  or refund the bill',\n",
              " 'both :) i shoot big loads so get ready!',\n",
              " \"what's up bruv, hope you had a great break. do have a rewarding semester.\",\n",
              " 'home so we can always chat',\n",
              " 'k:)k:)good:)study well.',\n",
              " 'yup... how ü noe leh...',\n",
              " 'sounds great! are you home now?',\n",
              " 'finally the match heading towards draw as your prediction.',\n",
              " \"tired. i haven't slept well the past few nights.\",\n",
              " 'easy ah?sen got selected means its good..',\n",
              " 'i have to take exam with march 3',\n",
              " \"yeah you should. i think you can use your gt atm now to register. not sure but if there's anyway i can help let me know. but when you do be sure you are ready.\",\n",
              " 'ok no prob. take ur time.',\n",
              " 'there is os called ubandu which will run without installing in hard disk...you can use that os to copy the important files in system and give it to repair shop..',\n",
              " \"sorry, i'll call later\",\n",
              " 'u say leh... of course nothing happen lar. not say v romantic jus a bit only lor. i thk e nite scenery not so nice leh.',\n",
              " '500 new mobiles from 2004, must go! txt: nokia to no: 89545 & collect yours today!from only £1 www.4-tc.biz 2optout 087187262701.50gbp/mtmsg18',\n",
              " 'would really appreciate if you call me. just need someone to talk to.',\n",
              " 'will u meet ur dream partner soon? is ur career off 2 a flyng start? 2 find out free, txt horo followed by ur star sign, e. g. horo aries',\n",
              " 'hey company elama po mudyadhu.',\n",
              " 'life is more strict than teacher... bcoz teacher teaches lesson &amp; then conducts exam, but life first conducts exam &amp; then teaches lessons. happy morning. . .',\n",
              " 'dear good morning now only i am up',\n",
              " 'get down in gandhipuram and walk to cross cut road. right side &lt;#&gt; street road and turn at first right.',\n",
              " 'dear we are going to our rubber place',\n",
              " \"sorry battery died, yeah i'm here\",\n",
              " 'yes:)here tv is always available in work place..',\n",
              " 'text & meet someone sexy today. u can find a date or even flirt its up to u. join 4 just 10p. reply with name & age eg sam 25. 18 -msg recd@thirtyeight pence',\n",
              " 'i have printed it oh. so  &lt;#&gt;  come upstairs',\n",
              " 'or ill be a little closer like at the bus stop on the same street',\n",
              " 'where are you?when wil you reach here?',\n",
              " \"new theory: argument wins d situation, but loses the person. so dont argue with ur friends just.. . . . kick them &amp; say, i'm always correct.!\",\n",
              " 'u 447801259231 have a secret admirer who is looking 2 make contact with u-find out who they r*reveal who thinks ur so special-call on 09058094597',\n",
              " 'tomarrow final hearing on my laptop case so i cant.',\n",
              " 'pleassssssseeeeee tel me v avent done sportsx',\n",
              " 'okay. no no, just shining on. that was meant to be signing, but that sounds better.',\n",
              " \"although i told u dat i'm into baig face watches now but i really like e watch u gave cos it's fr u. thanx 4 everything dat u've done today, i'm touched...\",\n",
              " \"u don't remember that old commercial?\",\n",
              " \"too late. i said i have the website. i didn't i have or dont have the slippers\",\n",
              " 'i asked you to call him now ok',\n",
              " 'kallis wont bat in 2nd innings.',\n",
              " 'it didnt work again oh. ok goodnight then. i.ll fix and have it ready by the time you wake up. you are very dearly missed have a good night sleep.',\n",
              " 'congratulations ur awarded 500 of cd vouchers or 125gift guaranteed & free entry 2 100 wkly draw txt music to 87066 tncs www.ldew.com1win150ppmx3age16',\n",
              " 'ranjith cal drpd deeraj and deepak 5min hold',\n",
              " 'wen ur lovable bcums angry wid u, dnt take it seriously.. coz being angry is d most childish n true way of showing deep affection, care n luv!.. kettoda manda... have nice day da.',\n",
              " 'what you doing?how are you?',\n",
              " 'ups which is 3days also, and the shipping company that takes 2wks. the other way is usps which takes a week but when it gets to lag you may have to bribe nipost to get your stuff.',\n",
              " \"i'm back, lemme know when you're ready\",\n",
              " \"don't necessarily expect it to be done before you get back though because i'm just now headin out\",\n",
              " 'mmm so yummy babe ... nice jolt to the suzy',\n",
              " 'where are you lover ? i need you ...',\n",
              " 'we tried to contact you re your reply to our offer of a video handset? 750 anytime networks mins? unlimited text? camcorder? reply or call 08000930705 now',\n",
              " 'i‘m parked next to a mini!!!! when are you coming in today do you think?',\n",
              " 'yup',\n",
              " \"anyway i'm going shopping on my own now. cos my sis not done yet. dun disturb u liao.\",\n",
              " 'my no. in luton 0125698789 ring me if ur around! h*',\n",
              " 'hey i am really horny want to chat or see me naked text hot to 69698 text charged at 150pm to unsubscribe text stop 69698',\n",
              " 'why you dint come with us.',\n",
              " 'same. wana plan a trip sometme then',\n",
              " 'not sure yet, still trying to get a hold of him',\n",
              " 'ur ringtone service has changed! 25 free credits! go to club4mobiles.com to choose content now! stop? txt club stop to 87070. 150p/wk club4 po box1146 mk45 2wt',\n",
              " 'the evo. i just had to download flash. jealous?',\n",
              " 'ringtone club: get the uk singles chart on your mobile each week and choose any top quality ringtone! this message is free of charge.',\n",
              " \"come to mu, we're sorting out our narcotics situation\",\n",
              " 'night has ended for another day, morning has come in a special way. may you smile like the sunny rays and leaves your worries at the blue blue bay.',\n",
              " 'hmv bonus special 500 pounds of genuine hmv vouchers to be won. just answer 4 easy questions. play now! send hmv to 86688 more info:www.100percent-real.com',\n",
              " 'usf i guess, might as well take 1 car',\n",
              " 'no objection. my bf not coming.',\n",
              " 'thanx...',\n",
              " 'tell rob to mack his gf in the theater',\n",
              " \"awesome, i'll see you in a bit\",\n",
              " 'just sent it. so what type of food do you like?',\n",
              " 'all done? all handed in? celebrations in full swing yet?',\n",
              " 'you got called a tool?',\n",
              " 'wen u miss someone, the person is definitely special for u..... but if the person is so special, why to miss them, just keep-in-touch gdeve..',\n",
              " 'ok. i asked for money how far',\n",
              " 'okie...',\n",
              " \"yeah i think my usual guy's still passed out from last night, if you get ahold of anybody let me know and i'll throw down\",\n",
              " 'k, i might come by tonight then if my class lets out early',\n",
              " 'ok..',\n",
              " 'hi baby im cruisin with my girl friend what r u up 2? give me a call in and hour at home if thats alright or fone me on this fone now love jenny xxx',\n",
              " 'my life means a lot to me, not because i love my life, but because i love the people in my life, the world calls them friends, i call them my world:-).. ge:-)..',\n",
              " 'dear,shall mail tonite.busy in the street,shall update you tonite.things are looking ok.varunnathu edukkukayee raksha ollu.but a good one in real sense.',\n",
              " 'hey you told your name to gautham ah?',\n",
              " 'haf u found him? i feel so stupid da v cam was working.',\n",
              " 'oops. 4 got that bit.',\n",
              " 'are you this much buzy',\n",
              " 'i accidentally deleted the message. resend please.',\n",
              " \"t-mobile customer you may now claim your free camera phone upgrade & a pay & go sim card for your loyalty. call on 0845 021 3680.offer ends 28thfeb.t&c's apply\",\n",
              " \"unless it's a situation where you go gurl would be more appropriate\",\n",
              " 'hurt me... tease me... make me cry... but in the end of my life when i die plz keep one rose on my grave and say stupid i miss u.. have a nice day bslvyl',\n",
              " 'i cant pick the phone right now. pls send a message',\n",
              " \"need a coffee run tomo?can't believe it's that time of week already\",\n",
              " 'awesome, i remember the last time we got somebody high for the first time with diesel :v',\n",
              " 'shit that is really shocking and scary, cant imagine for a second. def up for night out. do u think there is somewhere i could crash for night, save on taxi?',\n",
              " 'oh and by the way you do have more food in your fridge! want to go out for a meal tonight?',\n",
              " 'he is a womdarfull actor',\n",
              " 'sms. ac blind date 4u!: rodds1 is 21/m from aberdeen, united kingdom. check him out http://img. sms. ac/w/icmb3cktz8r7!-4 no blind dates send hide',\n",
              " 'yup... from what i remb... i think should be can book...',\n",
              " 'jos ask if u wana meet up?',\n",
              " \"lol yes. our friendship is hanging on a thread cause u won't buy stuff.\",\n",
              " 'themob> check out our newest selection of content, games, tones, gossip, babes and sport, keep your mobile fit and funky text wap to 82468',\n",
              " \"where are the garage keys? they aren't on the bookshelf\",\n",
              " 'today is accept day..u accept me as? brother sister lover dear1 best1 clos1 lvblefrnd jstfrnd cutefrnd lifpartnr belovd swtheart bstfrnd no rply means enemy',\n",
              " 'think ur smart ? win £200 this week in our weekly quiz, text play to 85222 now!t&cs winnersclub po box 84, m26 3uz. 16+. gbp1.50/week',\n",
              " \"he says he'll give me a call when his friend's got the money but that he's definitely buying before the end of the week\",\n",
              " 'hi the way i was with u 2day, is the normal way&this is the real me. ur unique&i hope i know u 4 the rest of mylife. hope u find wot was lost.',\n",
              " 'you made my day. do have a great day too.',\n",
              " 'k.k:)advance happy pongal.',\n",
              " 'hmmm... guess we can go 4 kb n power yoga... haha, dunno we can tahan power yoga anot... thk got lo oso, forgot liao...',\n",
              " \"not really dude, have no friends i'm afraid :(\",\n",
              " 'december only! had your mobile 11mths+? you are entitled to update to the latest colour camera mobile for free! call the mobile update co free on 08002986906',\n",
              " 'coffee cake, i guess...',\n",
              " 'merry christmas to you too babe, i love ya *kisses*',\n",
              " 'hey... why dont we just go watch x men and have lunch... haha',\n",
              " 'cud u tell ppl im gona b a bit l8 cos 2 buses hav gon past cos they were full & im still waitin 4 1. pete x',\n",
              " \"that would be great. we'll be at the guild. could meet on bristol road or somewhere - will get in touch over weekend. our plans take flight! have a good week\",\n",
              " 'no problem. how are you doing?',\n",
              " 'no calls..messages..missed calls',\n",
              " 'hi da:)how is the todays class?',\n",
              " \"i'd say that's a good sign but, well, you know my track record at reading women\",\n",
              " \"cool, text me when you're parked\",\n",
              " \"i'm reading the text i just sent you. its meant to be a joke. so read it in that light\",\n",
              " 'k.k:)apo k.good movie.',\n",
              " 'maybe i could get book out tomo then return it immediately ..? or something.',\n",
              " 'call germany for only 1 pence per minute! call from a fixed line via access number 0844 861 85 85. no prepayment. direct access!',\n",
              " \"any chance you might have had with me evaporated as soon as you violated my privacy by stealing my phone number from your employer's paperwork. not cool at all. please do not contact me again or i will report you to your supervisor.\",\n",
              " 'valentines day special! win over £1000 in our quiz and take your partner on the trip of a lifetime! send go to 83600 now. 150p/msg rcvd. custcare:08718720201.',\n",
              " 'ta-daaaaa! i am home babe, are you still up ?',\n",
              " 'cool. so how come you havent been wined and dined before?',\n",
              " 'just sleeping..and surfing',\n",
              " \"sorry, i'll call later\",\n",
              " 'u calling me right? call my hand phone...',\n",
              " \"ok that's great thanx a lot.\",\n",
              " 'i take it the post has come then! you must have 1000s of texts now! happy reading. my one from wiv hello caroline at the end is my favourite. bless him',\n",
              " 'where u been hiding stranger?',\n",
              " 'am not interested to do like that.',\n",
              " 'my sister cleared two round in birla soft yesterday.',\n",
              " 'gudnite....tc...practice going on',\n",
              " 'dis is yijue. i jus saw ur mail. in case huiming havent sent u my num. dis is my num.',\n",
              " 'one small prestige problem now.',\n",
              " 'fancy a shag? i do.interested? sextextuk.com txt xxuk suzy to 69876. txts cost 1.50 per msg. tncs on website. x',\n",
              " 'just checking in on you. really do miss seeing jeremiah. do have a great month',\n",
              " \"nah can't help you there, i've never had an iphone\",\n",
              " \"if you're not in my car in an hour and a half i'm going apeshit\",\n",
              " \"today is sorry day.! if ever i was angry with you, if ever i misbehaved or hurt you? plz plz just slap urself bcoz, its ur fault, i'm basically good\",\n",
              " 'yo you guys ever figure out how much we need for alcohol? jay and i are trying to figure out how much we can safely spend on weed',\n",
              " '&lt;#&gt; ish minutes was 5 minutes ago. wtf.',\n",
              " 'thank you for calling.forgot to say happy onam to you sirji.i am fine here and remembered you when i met an insurance person.meet you in qatar insha allah.rakhesh, ex tata aig who joined tissco,tayseer.',\n",
              " 'congratulations ur awarded 500 of cd vouchers or 125gift guaranteed & free entry 2 100 wkly draw txt music to 87066 tncs www.ldew.com1win150ppmx3age16',\n",
              " 'ur cash-balance is currently 500 pounds - to maximize ur cash-in now send cash to 86688 only 150p/msg. cc: 08708800282 hg/suite342/2lands row/w1j6hl',\n",
              " \"i'm an actor. when i work, i work in the evening and sleep late. since i'm unemployed at the moment, i always sleep late. when you're unemployed, every day is saturday.\",\n",
              " 'hello! just got here, st andrews-boy its a long way! its cold. i will keep you posted',\n",
              " 'ha ha cool cool chikku chikku:-):-db-)',\n",
              " 'oh ok no prob..',\n",
              " \"check audrey's status right now\",\n",
              " 'busy here. trying to finish for new year. i am looking forward to finally meeting you...',\n",
              " 'good afternoon sunshine! how dawns that day ? are we refreshed and happy to be alive? do we breathe in the air and smile ? i think of you, my love ... as always',\n",
              " 'well i know z will take care of me. so no worries.',\n",
              " 'update_now - xmas offer! latest motorola, sonyericsson & nokia & free bluetooth! double mins & 1000 txt on orange. call mobileupd8 on 08000839402 or call2optout/f4q=',\n",
              " 'here is your discount code rp176781. to stop further messages reply stop. www.regalportfolio.co.uk. customer services 08717205546',\n",
              " 'wat uniform? in where get?',\n",
              " \"cool, text me when you're ready\",\n",
              " 'hello my boytoy ... geeee i miss you already and i just woke up. i wish you were here in bed with me, cuddling me. i love you ...',\n",
              " 'i will spoil you in bed as well :)',\n",
              " \"i'm going for bath will msg you next  &lt;#&gt;  min..\",\n",
              " 'i cant keep talking to people if am not sure i can pay them if they agree to price. so pls tell me what you want to really buy and how much you are willing to pay',\n",
              " 'thanks for your ringtone order, reference t91. you will be charged gbp 4 per week. you can unsubscribe at anytime by calling customer services on 09057039994',\n",
              " 'can you say what happen',\n",
              " \"you could have seen me..i did't recognise you face.:)\",\n",
              " \"well there's not a lot of things happening in lindsay on new years *sighs* some bars in ptbo and the blue heron has something going\",\n",
              " 'keep my payasam there if rinu brings',\n",
              " 'i taught that ranjith sir called me. so only i sms like that. becaus hes verifying about project. prabu told today so only pa dont mistake me..',\n",
              " \"i guess that's why you re worried. you must know that there's a way the body repairs itself. and i'm quite sure you shouldn't worry. we'll take it slow. first the tests, they will guide when your ovulation is then just relax. nothing you've said is a reason to worry but i.ll keep on followin you up.\",\n",
              " 'yeah sure, give me a couple minutes to track down my wallet',\n",
              " 'hey leave it. not a big deal:-) take care.',\n",
              " 'hey i will be late ah... meet you at 945+',\n",
              " 'double mins and txts 4 6months free bluetooth on orange. available on sony, nokia motorola phones. call mobileupd8 on 08000839402 or call2optout/n9dx',\n",
              " 'it took mr owl 3 licks',\n",
              " 'customer place i will call you.',\n",
              " 'mm that time you dont like fun',\n",
              " '4mths half price orange line rental & latest camera phones 4 free. had your phone 11mths ? call mobilesdirect free on 08000938767 to update now! or2stoptxt',\n",
              " 'yup having my lunch buffet now.. u eat already?',\n",
              " 'huh so late... fr dinner?',\n",
              " 'hey so this sat are we going for the intro pilates only? or the kickboxing too?',\n",
              " 'morning only i can ok.',\n",
              " 'yes i think so. i am in office but my lap is in room i think thats on for the last few days. i didnt shut that down',\n",
              " 'pick you up bout 7.30ish? what time are  and that going?',\n",
              " 'from here after the performance award is calculated every two month.not for current one month period..',\n",
              " 'was actually sleeping and still might when u call back. so a text is gr8. you rock sis. will send u a text wen i wake.',\n",
              " \"you are always putting your business out there. you put pictures of your ass on facebook. you are one of the most open people i've ever met. why would i think a picture of your room would hurt you, make you feel violated.\",\n",
              " 'good evening sir, al salam wahleykkum.sharing a happy news.by the grace of god, i got an offer from tayseer,tissco and i joined.hope you are fine.inshah allah,meet you sometime.rakhesh,visitor from india.',\n",
              " 'hmmm...k...but i want to change the field quickly da:-)i wanna get system administrator or network administrator..',\n",
              " 'free ringtone text first to 87131 for a poly or text get to 87131 for a true tone! help? 0845 2814032 16 after 1st free, tones are 3x£150pw to e£nd txt stop',\n",
              " 'dear how is chechi. did you talk to her',\n",
              " 'the hair cream has not been shipped.',\n",
              " \"none of that's happening til you get here though\",\n",
              " 'yep, the great loxahatchee xmas tree burning of  &lt;#&gt;  starts in an hour',\n",
              " 'haha get used to driving to usf man, i know a lot of stoners',\n",
              " \"all was well until slightly disastrous class this pm with my fav darlings! hope day off ok. coffee wld be good as can't stay late tomorrow. same time + place as always?\",\n",
              " 'hello! good week? fancy a drink or something later?',\n",
              " 'headin towards busetop',\n",
              " 'message:some text missing* sender:name missing* *number missing *sent:date missing *missing u a lot thats y everything is missing sent via fullonsms.com',\n",
              " 'come by our room at some point so we can iron out the plan for this weekend',\n",
              " 'cos i want it to be your thing',\n",
              " \"okies... i'll go yan jiu too... we can skip ard oso, go cine den go mrt one, blah blah blah...\",\n",
              " 'bring home some wendy =d',\n",
              " '100 dating service cal;l 09064012103 box334sk38ch',\n",
              " 'whatsup there. dont u want to sleep',\n",
              " 'alright i have a new goal now',\n",
              " 'free entry into our £250 weekly competition just text the word win to 80086 now. 18 t&c www.txttowin.co.uk',\n",
              " \"alright, i'll head out in a few minutes, text me where to meet you\",\n",
              " 'send a logo 2 ur lover - 2 names joined by a heart. txt love name1 name2 mobno eg love adam eve 07123456789 to 87077 yahoo! pobox36504w45wq txtno 4 no ads 150p',\n",
              " \"yes:)from last week itself i'm taking live call.\",\n",
              " 'someone has contacted our dating service and entered your phone because they fancy you! to find out who it is call from a landline 09111032124 . pobox12n146tf150p',\n",
              " 'siva is in hostel aha:-.',\n",
              " 'urgent! your mobile number has been awarded with a £2000 prize guaranteed. call 09058094455 from land line. claim 3030. valid 12hrs only',\n",
              " 'send this to ur friends and receive something about ur voice..... how is my speaking expression? 1.childish 2.naughty 3.sentiment 4.rowdy 5.ful of attitude 6.romantic 7.shy 8.attractive 9.funny  &lt;#&gt; .irritating  &lt;#&gt; .lovable. reply me..',\n",
              " \"ok. she'll be ok. i guess\",\n",
              " 'aathi..where are you dear..',\n",
              " 'any pain on urination any thing else?',\n",
              " '7 at esplanade.. do ü mind giving me a lift cos i got no car today..',\n",
              " 'i wnt to buy a bmw car urgently..its vry urgent.but hv a shortage of  &lt;#&gt; lacs.there is no source to arng dis amt. &lt;#&gt; lacs..thats my prob',\n",
              " 'at home watching tv lor.',\n",
              " 'does she usually take fifteen fucking minutes to respond to a yes or no question',\n",
              " 'congrats! nokia 3650 video camera phone is your call 09066382422 calls cost 150ppm ave call 3mins vary from mobiles 16+ close 300603 post bcm4284 ldn wc1n3xx',\n",
              " 'booked ticket for pongal?',\n",
              " \"you available now? i'm like right around hillsborough &amp;  &lt;#&gt; th\",\n",
              " 'the message sent is askin for  &lt;#&gt; dollars. shoul i pay  &lt;#&gt;  or  &lt;#&gt; ?',\n",
              " \"ask g or iouri, i've told the story like ten times already\",\n",
              " 'how long does applebees fucking take',\n",
              " 'hi hope u get this txt~journey hasnt been gd,now about 50 mins late i think.',\n",
              " 'but i have to. i like to have love and arrange.',\n",
              " 'yes..he is really great..bhaji told kallis best cricketer after sachin in world:).very tough to get out.',\n",
              " 'you were supposed to wake me up &gt;:(',\n",
              " 'oic... i saw him too but i tot he din c me... i found a group liao...',\n",
              " \"sorry, i'll call later\",\n",
              " 'hey hey werethe monkeespeople say we monkeyaround! howdy gorgeous, howu doin? foundurself a jobyet sausage?love jen xxx',\n",
              " \"sorry, my battery died, i can come by but i'm only getting a gram for now, where's your place?\",\n",
              " 'well done, blimey, exercise, yeah, i kinda remember wot that is, hmm.',\n",
              " 'i wont get concentration dear you know you are my mind and everything :-)',\n",
              " 'lol ... have you made plans for new years?',\n",
              " '10 min later k...',\n",
              " 'hanks lotsly!',\n",
              " 'thanks for this hope you had a good day today',\n",
              " 'k:)k:)what are detail you want to transfer?acc no enough?',\n",
              " 'ok i will tell her to stay out. yeah its been tough but we are optimistic things will improve this month.',\n",
              " \"loan for any purpose £500 - £75,000. homeowners + tenants welcome. have you been previously refused? we can still help. call free 0800 1956669 or text back 'help'\",\n",
              " 'si si. i think ill go make those oreo truffles.',\n",
              " 'look at amy ure a beautiful, intelligent woman and i like u a lot. i know u don\\x92t like me like that so don\\x92t worry.',\n",
              " \"i hope you that's the result of being consistently intelligent and kind. start asking him about practicum links and keep your ears open and all the best. ttyl\",\n",
              " '1.20 that call cost. which i guess isnt bad. miss ya, need ya, want ya, love ya',\n",
              " 'going thru a very different feeling.wavering decisions and coping up with the same is the same individual.time will heal everything i believe.',\n",
              " 'where did u go? my phone is gonna die you have to stay in here',\n",
              " 'great. never been better. each day gives even more reasons to thank god',\n",
              " \"upgrdcentre orange customer, you may now claim your free camera phone upgrade for your loyalty. call now on 0207 153 9153. offer ends 26th july. t&c's apply. opt-out available\",\n",
              " \"sorry, i'll call later ok bye\",\n",
              " 'ok i am on the way to railway',\n",
              " 'great princess! i love giving and receiving oral. doggy style is my fave position. how about you? i enjoy making love  &lt;#&gt;  times per night :)',\n",
              " \"they don't put that stuff on the roads to keep it from getting slippery over there?\",\n",
              " 'when are you going to ride your bike?',\n",
              " \"yup, no need. i'll jus wait 4 e rain 2 stop.\",\n",
              " 'there are many company. tell me the language.',\n",
              " 'okmail: dear dave this is your final notice to collect your 4* tenerife holiday or #5000 cash award! call 09061743806 from landline. tcs sae box326 cw25wx 150ppm',\n",
              " 'how long has it been since you screamed, princess?',\n",
              " 'nothing. i meant that once the money enters your account here, the bank will remove its flat rate. someone transfered  &lt;#&gt;  to my account and  &lt;#&gt; dollars got removed. so the banks differ and charges also differ.be sure you trust the 9ja person you are sending account details to cos...',\n",
              " \"want 2 get laid tonight? want real dogging locations sent direct 2 ur mob? join the uk's largest dogging network by txting moan to 69888nyt. ec2a. 31p.msg@150p\",\n",
              " \"nice line said by a broken heart- plz don't cum 1 more times infront of me... other wise once again i ll trust u... good 9t:)\",\n",
              " \"ok i'm gonna head up to usf in like fifteen minutes\",\n",
              " 'love you aathi..love u lot..',\n",
              " 'tension ah?what machi?any problem?',\n",
              " \"k, can i pick up another 8th when you're done?\",\n",
              " \"when're you guys getting back? g said you were thinking about not staying for mcr\",\n",
              " 'almost there, see u in a sec',\n",
              " 'yo carlos, a few friends are already asking me about you, you working at all this weekend?',\n",
              " 'watching tv lor...',\n",
              " 'thank you baby! i cant wait to taste the real thing...',\n",
              " 'you should change your fb to jaykwon thuglyfe falconerf',\n",
              " 'if we win its really no 1 side for long time.',\n",
              " 'free message activate your 500 free text messages by replying to this message with the word free for terms & conditions, visit www.07781482378.com',\n",
              " 'dear reached railway. what happen to you',\n",
              " 'depends on quality. if you want the type i sent boye, faded glory, then about 6. if you want ralphs maybe 2',\n",
              " \"i think i've fixed it can you send a test message?\",\n",
              " \"sorry man my account's dry or i would, if you want we could trade back half or i could buy some shit with my credit card\",\n",
              " 'congrats! 1 year special cinema pass for 2 is yours. call 09061209465 now! c suprman v, matrix3, starwars3, etc all 4 free! bx420-ip4-5we. 150pm. dont miss out!',\n",
              " \"sorry,in meeting i'll call later\",\n",
              " 'what class of  &lt;#&gt;  reunion?',\n",
              " 'are you free now?can i call now?',\n",
              " 'got meh... when?',\n",
              " 'nope... think i will go for it on monday... sorry i replied so late',\n",
              " 'some of them told accenture is not confirm. is it true.',\n",
              " 'kate jackson rec center before 7ish, right?',\n",
              " 'dear i have reache room',\n",
              " 'fighting with the world is easy, u either win or lose bt fightng with some1 who is close to u is dificult if u lose - u lose if u win - u still lose.',\n",
              " 'when can ü come out?',\n",
              " 'check with nuerologist.',\n",
              " 'lolnice. i went from a fish to ..water.?',\n",
              " '#error!',\n",
              " \"no it's waiting in e car dat's bored wat. cos wait outside got nothing 2 do. at home can do my stuff or watch tv wat.\",\n",
              " 'maybe westshore or hyde park village, the place near my house?',\n",
              " \"you should know now. so how's anthony. are you bringing money. i've school fees to pay and rent and stuff like that. thats why i need your help. a friend in need....|\",\n",
              " \"what's the significance?\",\n",
              " 'your opinion about me? 1. over 2. jada 3. kusruthi 4. lovable 5. silent 6. spl character 7. not matured 8. stylish 9. simple pls reply..',\n",
              " \"8 at the latest, g's still there if you can scrounge up some ammo and want to give the new ak a try\",\n",
              " \"prabha..i'm soryda..realy..frm heart i'm sory\",\n",
              " 'lol ok your forgiven :)',\n",
              " 'no..jst change tat only..',\n",
              " 'you are guaranteed the latest nokia phone, a 40gb ipod mp3 player or a £500 prize! txt word: collect to no: 83355! ibhltd ldnw15h 150p/mtmsgrcvd18+',\n",
              " 's:)no competition for him.',\n",
              " 'boltblue tones for 150p reply poly# or mono# eg poly3 1. cha cha slide 2. yeah 3. slow jamz 6. toxic 8. come with me or stop 4 more tones txt more',\n",
              " 'your credits have been topped up for http://www.bubbletext.com your renewal pin is tgxxrz',\n",
              " 'that way transport is less problematic than on sat night. by the way, if u want to ask  n  to join my bday, feel free. but need to know definite nos as booking on fri.',\n",
              " \"usually the person is unconscious that's in children but in adults they may just behave abnormally. i.ll call you now\",\n",
              " \"but that's on ebay it might be less elsewhere.\",\n",
              " 'shall i come to get pickle',\n",
              " 'were gonna go get some tacos',\n",
              " \"that's very rude, you on campus?\",\n",
              " 'urgent!: your mobile no. was awarded a £2,000 bonus caller prize on 02/09/03! this is our 2nd attempt to contact you! call 0871-872-9755 box95qu',\n",
              " \"hi i won't b ard 4 christmas. but do enjoy n merry x'mas.\",\n",
              " \"today's offer! claim ur £150 worth of discount vouchers! text yes to 85023 now! savamob, member offers mobile! t cs 08717898035. £3.00 sub. 16 . unsub reply x\",\n",
              " 'yes! how is a pretty lady like you single?',\n",
              " 'you will recieve your tone within the next 24hrs. for terms and conditions please see channel u teletext pg 750',\n",
              " \"jay says that you're a double-faggot\",\n",
              " 'private! your 2003 account statement for 07815296484 shows 800 un-redeemed s.i.m. points. call 08718738001 identifier code 41782 expires 18/11/04',\n",
              " 'what today-sunday..sunday is holiday..so no work..',\n",
              " 'gudnite....tc...practice going on',\n",
              " \"i'll be late...\",\n",
              " \"i've not called you in a while. this is hoping it was l8r malaria and that you know that we miss you guys. i miss bani big, so pls give her my love especially. have a great day.\",\n",
              " 'good afternoon, my love! how goes that day ? i hope maybe you got some leads on a job. i think of you, boytoy and send you a passionate kiss from across the sea',\n",
              " 'probably gonna be here for a while, see you later tonight &lt;)',\n",
              " \"or maybe my fat fingers just press all these buttons and it doesn't know what to do.\",\n",
              " 'ummmmmaah many many happy returns of d day my dear sweet heart.. happy birthday dear',\n",
              " 'i am in tirupur da, once you started from office call me.',\n",
              " 'from www.applausestore.com monthlysubscription@50p/msg max6/month t&csc web age16 2stop txt stop',\n",
              " \"a famous quote : when you develop the ability to listen to 'anything' unconditionally without losing your temper or self confidence, it means you are ......... 'married'\",\n",
              " 'but am going to college pa. what to do. are else ill come there it self. pa.',\n",
              " '4 oclock at mine. just to bash out a flat plan.',\n",
              " \"this girl does not stay in bed. this girl doesn't need recovery time. id rather pass out while having fun then be cooped up in bed\",\n",
              " 'then any special there?',\n",
              " \"i know but you need to get hotel now. i just got my invitation but i had to apologise. cali is to sweet for me to come to some english bloke's weddin\",\n",
              " 'sorry that took so long, omw now',\n",
              " 'wait  &lt;#&gt;  min..',\n",
              " \"ok give me 5 minutes i think i see her. btw you're my alibi. you were cutting my hair the whole time.\",\n",
              " 'imagine you finally get to sink into that bath after i have put you through your paces, maybe even having you eat me for a while before i left ... but also imagine the feel of that cage on your cock surrounded by the bath water, reminding you always who owns you ... enjoy, my cuck',\n",
              " \"hurry up, i've been weed-deficient for like three days\",\n",
              " \"sure, if i get an acknowledgement from you that it's astoundingly tactless and generally faggy to demand a blood oath fo\",\n",
              " \"ok. every night take a warm bath drink a cup of milk and you'll see a work of magic. you still need to loose weight. just so that you know\",\n",
              " 'i‘ll have a look at the frying pan in case it‘s cheap or a book perhaps. no that‘s silly a frying pan isn‘t likely to be a book',\n",
              " 'o. well uv causes mutations. sunscreen is like essential thesedays',\n",
              " 'having lunch:)you are not in online?why?',\n",
              " 'i know that my friend already told that.',\n",
              " 'hi princess! thank you for the pics. you are very pretty. how are you?',\n",
              " 'aiyo... u always c our ex one... i dunno abt mei, she haven reply... first time u reply so fast... y so lucky not workin huh, got bao by ur sugardad ah...gee..',\n",
              " \"hi msg me:)i'm in office..\",\n",
              " \"thanx 4 e brownie it's v nice...\",\n",
              " 'geeeee ... i love you so much i can barely stand it',\n",
              " 'gent! we are trying to contact you. last weekends draw shows that you won a £1000 prize guaranteed. call 09064012160. claim code k52. valid 12hrs only. 150ppm',\n",
              " \"fuck babe ... i miss you already, you know ? can't you let me send you some money towards your net ? i need you ... i want you ... i crave you ...\",\n",
              " 'ill call u 2mrw at ninish, with my address that icky american freek wont stop callin me 2 bad jen k eh?',\n",
              " 'oooh bed ridden ey? what are you thinking of?',\n",
              " 'so anyways, you can just go to your gym or whatever, my love *smiles* i hope your ok and having a good day babe ... i miss you so much already',\n",
              " 'love it! daddy will make you scream with pleasure! i am going to slap your ass with my dick!',\n",
              " 'wot u wanna do then missy?',\n",
              " 'yar lor wait 4 my mum 2 finish sch then have lunch lor... i whole morning stay at home clean my room now my room quite clean... hee...',\n",
              " 'do you know where my lab goggles went',\n",
              " 'can you open the door?',\n",
              " 'waiting for your call.',\n",
              " 'nope i waiting in sch 4 daddy...',\n",
              " 'you have won ?1,000 cash or a ?2,000 prize! to claim, call09050000327',\n",
              " \"i'm tired of arguing with you about this week after week. do what you want and from now on, i'll do the same.\",\n",
              " 'ü wait 4 me in sch i finish ard 5..',\n",
              " 'our mobile number has won £5000, to claim calls us back or ring the claims hot line on 09050005321.',\n",
              " 'arngd marriage is while u r walkin unfortuntly a snake bites u. bt love marriage is dancing in frnt of d snake &amp; sayin bite me, bite me.',\n",
              " 'huh so early.. then ü having dinner outside izzit?',\n",
              " 'ok anyway no need to change with what you said',\n",
              " 'we tried to contact you re your reply to our offer of 750 mins 150 textand a new video phone call 08002988890 now or reply for free delivery tomorrow',\n",
              " 'my ex-wife was not able to have kids. do you want kids one day?',\n",
              " \"so how's scotland. hope you are not over showing your jjc tendencies. take care. live the dream\",\n",
              " 'tell them u have a headache and just want to use 1 hour of sick time.',\n",
              " \"i dun thk i'll quit yet... hmmm, can go jazz ? yogasana oso can... we can go meet em after our lessons den...\",\n",
              " 'pete can you please ring meive hardly gotany credit',\n",
              " 'ya srsly better than yi tho',\n",
              " \"i'm in a meeting, call me later at\",\n",
              " \"for ur chance to win a £250 wkly shopping spree txt: shop to 80878. t's&c's www.txt-2-shop.com custcare 08715705022, 1x150p/wk\",\n",
              " 'you have been specially selected to receive a 2000 pound award! call 08712402050 before the lines close. cost 10ppm. 16+. t&cs apply. ag promo',\n",
              " 'private! your 2003 account statement for 07753741225 shows 800 un-redeemed s. i. m. points. call 08715203677 identifier code: 42478 expires 24/10/04',\n",
              " 'you still at grand prix?',\n",
              " 'i met you as a stranger and choose you as my friend. as long as the world stands, our friendship never ends. lets be friends forever!!! gud nitz...',\n",
              " 'i am great! how are you?',\n",
              " 'gud mrng dear have a nice day',\n",
              " 'you have an important customer service announcement. call freephone 0800 542 0825 now!',\n",
              " 'will do. was exhausted on train this morning. too much wine and pie. you sleep well too',\n",
              " \"i'm going out to buy mum's present ar.\",\n",
              " 'mind blastin.. no more tsunamis will occur from now on.. rajnikant stopped swimming in indian ocean..:-d',\n",
              " \"if u sending her home first it's ok lor. i'm not ready yet.\",\n",
              " 'speaking of does he have any cash yet?',\n",
              " 'be happy there. i will come after noon',\n",
              " 'meet after lunch la...',\n",
              " 'take care n get well soon',\n",
              " 'xclusive@clubsaisai 2morow 28/5 soiree speciale zouk with nichols from paris.free roses 2 all ladies !!! info: 07946746291/07880867867',\n",
              " 'what i meant to say is cant wait to see u again getting bored of this bridgwater banter',\n",
              " \"neva mind it's ok..\",\n",
              " \"it's fine, imma get a drink or somethin. want me to come find you?\",\n",
              " '22 days to kick off! for euro2004 u will be kept up to date with the latest news and results daily. to be removed send get txt stop to 83222',\n",
              " 'its a valentine game. . . send dis msg to all ur friends. .. if 5 answers r d same then someone really loves u. ques- which colour suits me the best?rply me',\n",
              " 'i have many dependents',\n",
              " 'thanx4 today cer it was nice 2 catch up but we ave 2 find more time more often oh well take care c u soon.c',\n",
              " 'i called and said all to him:)then he have to choose this future.',\n",
              " 'happy valentines day i know its early but i have hundreds of handsomes and beauties to wish. so i thought to finish off aunties and uncles 1st...',\n",
              " 'he like not v shock leh. cos telling shuhui is like telling leona also. like dat almost all know liao. he got ask me abt ur reaction lor.',\n",
              " 'for my family happiness..',\n",
              " 'i come n pick ü up... come out immediately aft ur lesson...',\n",
              " 'let there be snow. let there be snow. this kind of weather brings ppl together so friendships can grow.',\n",
              " 'dear we got  &lt;#&gt;  dollars hi hi',\n",
              " 'good words.... but words may leave u in dismay many times.',\n",
              " \"make sure alex knows his birthday is over in fifteen minutes as far as you're concerned\",\n",
              " 'sorry, no, have got few things to do. may be in pub later.',\n",
              " \"nah it's straight, if you can just bring bud or drinks or something that's actually a little more useful than straight cash\",\n",
              " \"haha good to hear, i'm officially paid and on the market for an 8th\",\n",
              " 'how many licks does it take to get to the center of a tootsie pop?',\n",
              " 'yup i thk they r e teacher said that will make my face look longer. darren ask me not 2 cut too short.',\n",
              " 'new textbuddy chat 2 horny guys in ur area 4 just 25p free 2 receive search postcode or at gaytextbuddy.com. txt one name to 89693',\n",
              " 'todays vodafone numbers ending with 4882 are selected to a receive a £350 award. if your number matches call 09064019014 to receive your £350 award.',\n",
              " 'please dont say like that. hi hi hi',\n",
              " 'thank u!',\n",
              " 'oh that was a forwarded message. i thought you send that to me',\n",
              " 'got it. seventeen pounds for seven hundred ml – hope ok.',\n",
              " 'dear voucher holder, 2 claim this weeks offer, at your pc go to http://www.e-tlp.co.uk/expressoffer ts&cs apply.2 stop texts txt stop to 80062.',\n",
              " 'me n him so funny...',\n",
              " 'sweetheart, hope you are not having that kind of day! have one with loads of reasons to smile. biola',\n",
              " 'when ü login dat time... dad fetching ü home now?',\n",
              " 'what will we do in the shower, baby?',\n",
              " 'i had askd u a question some hours before. its answer',\n",
              " \"well imma definitely need to restock before thanksgiving, i'll let you know when i'm out\",\n",
              " \"said kiss, kiss, i can't do the sound effects! he is a gorgeous man isn't he! kind of person who needs a smile to brighten his day!\",\n",
              " 'probably gonna swing by in a wee bit',\n",
              " 'ya very nice. . .be ready on thursday',\n",
              " 'allo! we have braved the buses and taken on the trains and triumphed. i mean we‘re in b‘ham. have a jolly good rest of week',\n",
              " 'watching cartoon, listening music &amp; at eve had to go temple &amp; church.. what about u?',\n",
              " 'do you mind if i ask what happened? you dont have to say if it is uncomfortable.',\n",
              " 'private! your 2003 account statement for shows 800 un-redeemed s. i. m. points. call 08715203694 identifier code: 40533 expires 31/10/04',\n",
              " 'no prob. i will send to your email.',\n",
              " 'you have won ?1,000 cash or a ?2,000 prize! to claim, call09050000327. t&c: rstm, sw7 3ss. 150ppm',\n",
              " 'thats cool! sometimes slow and gentle. sonetimes rough and hard :)',\n",
              " \"i'm gonna say no. sorry. i would but as normal am starting to panic about time. sorry again! are you seeing on tuesday?\",\n",
              " 'wait, do you know if wesleys in town? i bet she does hella drugs!',\n",
              " 'fine i miss you very much.',\n",
              " 'did u got that persons story',\n",
              " \"tell them the drug dealer's getting impatient\",\n",
              " 'sun cant come to earth but send luv as rays. cloud cant come to river but send luv as rain. i cant come to meet u, but can send my care as msg to u. gud evng',\n",
              " 'you will be in the place of that man',\n",
              " 'it doesnt make sense to take it there unless its free. if you need to know more, wikipedia.com',\n",
              " '88800 and 89034 are premium phone services call 08718711108',\n",
              " \"under the sea, there lays a rock. in the rock, there is an envelope. in the envelope, there is a paper. on the paper, there are 3 words... '\",\n",
              " \"then mum's repent how?\",\n",
              " 'sorry me going home first... daddy come fetch ü later...',\n",
              " 'leave it de:-). start prepare for next:-)..',\n",
              " 'yes baby! we can study all the positions of the kama sutra ;)',\n",
              " 'en chikku nange bakra msg kalstiya..then had tea/coffee?',\n",
              " \"carlos'll be here in a minute if you still need to buy\",\n",
              " 'this pay is  &lt;decimal&gt;  lakhs:)',\n",
              " 'have a good evening! ttyl',\n",
              " 'did u receive my msg?',\n",
              " 'ho ho - big belly laugh! see ya tomo',\n",
              " 'sms. ac sun0819 posts hello:\"you seem cool, wanted to say hi. hi!!!\" stop? send stop to 62468',\n",
              " 'get ur 1st ringtone free now! reply to this msg with tone. gr8 top 20 tones to your phone every week just £1.50 per wk 2 opt out send stop 08452810071 16',\n",
              " \"ditto. and you won't have to worry about me saying anything to you anymore. like i said last night, you do whatever you want and i'll do the same. peace.\",\n",
              " \"i've got  &lt;#&gt; , any way i could pick up?\",\n",
              " 'i dont knw pa, i just drink milk..',\n",
              " 'maybe?! say hi to  and find out if  got his card. great escape or wetherspoons?',\n",
              " \"piggy, r u awake? i bet u're still sleeping. i'm going 4 lunch now...\",\n",
              " \"cause i'm not freaky lol\",\n",
              " \"missed your call cause i was yelling at scrappy. miss u. can't wait for u to come home. i'm so lonely today.\",\n",
              " \"what is this 'hex' place you talk of? explain!\",\n",
              " \"ü log off 4 wat. it's sdryb8i\",\n",
              " 'is xy going 4 e lunch?',\n",
              " \"hi i'm sue. i am 20 years old and work as a lapdancer. i love sex. text me live - i'm i my bedroom now. text sue to 89555. by textoperator g2 1da 150ppmsg 18+\",\n",
              " 'i wanted to ask ü to wait 4 me to finish lect. cos my lect finishes in an hour anyway.',\n",
              " 'have you finished work yet? :)',\n",
              " 'every king was once a crying baby and every great building was once a map.. not imprtant where u r today, but where u wil reach tomorw. gud ni8',\n",
              " 'dear,me at cherthala.in case u r coming cochin pls call bfore u start.i shall also reach accordingly.or tell me which day u r coming.tmorow i am engaged ans its holiday.',\n",
              " 'thanks love. but am i doing torch or bold.',\n",
              " '<forwarded from 448712404000>please call 08712404000 immediately as there is an urgent message waiting for you.',\n",
              " 'was the farm open?',\n",
              " 'sorry to trouble u again. can buy 4d for my dad again? 1405, 1680, 1843. all 2 big 1 small, sat n sun. thanx.',\n",
              " 'my sister in law, hope you are having a great month. just saying hey. abiola',\n",
              " 'will purchase d stuff today and mail to you. do you have a po box number?',\n",
              " 'ah poop. looks like ill prob have to send in my laptop to get fixed cuz it has a gpu problem',\n",
              " 'good. good job. i like entrepreneurs',\n",
              " \"aight, you close by or still down around alex's place?\",\n",
              " 'meet you in corporation st outside gap … you can see how my mind is working!',\n",
              " 'mum ask ü to buy food home...',\n",
              " 'k..u also dont msg or reply to his msg..',\n",
              " 'how much r ü willing to pay?',\n",
              " \"sorry, i'll call later\",\n",
              " 'what is important is that you prevent dehydration by giving her enough fluids',\n",
              " 'thats a bit weird, even ?- where is the do supposed to be happening? but good idea, sure they will be in pub!',\n",
              " \"true dear..i sat to pray evening and felt so.so i sms'd you in some time...\",\n",
              " \"i don't think i can get away for a trek that long with family in town, sorry\",\n",
              " 'so when do you wanna gym harri',\n",
              " 'quite late lar... ard 12 anyway i wun b drivin...',\n",
              " 'to review and keep the fantastic nokia n-gage game deck with club nokia, go 2 www.cnupdates.com/newsletter. unsubscribe from alerts reply with the word out',\n",
              " '4mths half price orange line rental & latest camera phones 4 free. had your phone 11mths+? call mobilesdirect free on 08000938767 to update now! or2stoptxt t&cs',\n",
              " 'height of confidence: all the aeronautics professors wer calld &amp; they wer askd 2 sit in an aeroplane. aftr they sat they wer told dat the plane ws made by their students. dey all hurried out of d plane.. bt only 1 didnt move... he said:\"if it is made by my students,this wont even start........ datz confidence..',\n",
              " 'it just seems like weird timing that the night that all you and g want is for me to come smoke is the same day as when a shitstorm is attributed to me always coming over and making everyone smoke',\n",
              " '08714712388 between 10am-7pm cost 10p',\n",
              " 'save yourself the stress. if the person has a dorm account, just send your account details and the money will be sent to you.',\n",
              " 'he also knows about lunch menu only da. . i know',\n",
              " 'when i have stuff to sell i.ll tell you',\n",
              " '#error!',\n",
              " \"book which lesson? then you msg me... i will call up after work or sth... i'm going to get specs. my membership is px3748\",\n",
              " 'you have won a guaranteed £1000 cash or a £2000 prize. to claim yr prize call our customer service representative on 08714712394 between 10am-7pm',\n",
              " 'macha dont feel upset.i can assume your mindset.believe me one evening with me and i have some wonderful plans for both of us.let life begin again.call me anytime',\n",
              " 'oh is it? send me the address',\n",
              " \"s'fine. anytime. all the best with it.\",\n",
              " 'that is wondar full flim.',\n",
              " 'ya even those cookies have jelly on them',\n",
              " 'the world is running and i am still.maybe all are feeling the same,so be it.or i have to admit,i am mad.then where is the correction?or let me call this is life.and keep running with the world,may be u r also running.lets run.',\n",
              " 'got it! it looks scrumptious... daddy wants to eat you all night long!',\n",
              " \"of cos can lar i'm not so ba dao ok... 1 pm lor... y u never ask where we go ah... i said u would ask on fri but he said u will ask today...\",\n",
              " 'alright omw, gotta change my order to a half8th',\n",
              " 'exactly. anyways how far. is jide her to study or just visiting',\n",
              " 'dunno y u ask me.',\n",
              " 'email alertfrom: jeri stewartsize: 2kbsubject: low-cost prescripiton drvgsto listen to email call 123',\n",
              " \"no he didn't. spring is coming early yay!\",\n",
              " \"lol you won't feel bad when i use her money to take you out to a steak dinner =d\",\n",
              " 'even u dont get in trouble while convincing..just tel him once or twice and just tel neglect his msgs dont c and read it..just dont reply',\n",
              " 'leaving to qatar tonite in search of an opportunity.all went fast.pls add me in ur prayers dear.rakhesh',\n",
              " 'then why no one talking to me',\n",
              " 'thanks for looking out for me. i really appreciate.',\n",
              " 'hi. customer loyalty offer:the new nokia6650 mobile from only £10 at txtauction! txt word: start to no: 81151 & get yours now! 4t&ctxt tc 150p/mtmsg',\n",
              " 'wish i were with you now!',\n",
              " \"haha mayb u're rite... u know me well. da feeling of being liked by someone is gd lor. u faster go find one then all gals in our group attached liao.\",\n",
              " 'yes i will be there. glad you made it.',\n",
              " 'do well :)all will for little time. thing of good times ahead:',\n",
              " \"just got up. have to be out of the room very soon. …. i hadn't put the clocks back til at 8 i shouted at everyone to get up and then realised it was 7. wahay. another hour in bed.\",\n",
              " 'ok. there may be a free gym about.',\n",
              " 'men like shorter ladies. gaze up into his eyes.',\n",
              " 'dunno he jus say go lido. same time 930.',\n",
              " 'i promise to take good care of you, princess. i have to run now. please send pics when you get a chance. ttyl!',\n",
              " 'u are subscribed to the best mobile content service in the uk for £3 per 10 days until you send stop to 82324. helpline 08706091795',\n",
              " \"is there a reason we've not spoken this year? anyways have a great week and all the best in your exam\",\n",
              " 'by monday next week. give me the full gist',\n",
              " \"do you realize that in about 40 years, we'll have thousands of old ladies running around with tattoos?\",\n",
              " 'you have an important customer service announcement from premier.',\n",
              " 'dont gimme that lip caveboy',\n",
              " 'when did you get to the library',\n",
              " \"realy sorry-i don't recognise this number and am now confused :) who r u please?!\",\n",
              " 'so why didnt you holla?',\n",
              " 'cant think of anyone with * spare room off * top of my head',\n",
              " 'faith makes things possible,hope makes things work,love makes things beautiful,may you have all three this christmas!merry christmas!',\n",
              " 'u should have made an appointment',\n",
              " \"call me when you/carlos is/are here, my phone's vibrate is acting up and i might not hear texts\",\n",
              " 'romantic paris. 2 nights, 2 flights from £79 book now 4 next year. call 08704439680ts&cs apply.',\n",
              " 'we are at grandmas. oh dear, u still ill? i felt shit this morning but i think i am just hungover! another night then. we leave on sat.',\n",
              " 'urgent ur £500 guaranteed award is still unclaimed! call 09066368327 now closingdate04/09/02 claimcode m39m51 £1.50pmmorefrommobile2bremoved-mobypobox734ls27yf',\n",
              " 'nothing but we jus tot u would ask cos u ba gua... but we went mt faber yest... yest jus went out already mah so today not going out... jus call lor...',\n",
              " 'wishing you and your family merry \"x\" mas and happy new year in advance..',\n",
              " 'ur awarded a city break and could win a £200 summer shopping spree every wk. txt store to 88039 . skilgme. tscs087147403231winawk!age16 £1.50perwksub',\n",
              " \"i'm nt goin, got somethin on, unless they meetin 4 dinner lor... haha, i wonder who will go tis time...\",\n",
              " \"sorry, i'll call later\",\n",
              " 'i cant pick the phone right now. pls send a message',\n",
              " \"lol i know! they're so dramatic. schools already closed for tomorrow. apparently we can't drive in the inch of snow were supposed to get.\",\n",
              " 'not getting anywhere with this damn job hunting over here!',\n",
              " 'lol! u drunkard! just doing my hair at d moment. yeah still up 4 tonight. wats the plan?',\n",
              " 'idc get over here, you are not weaseling your way out of this shit twice in a row',\n",
              " 'i wil be there with in  &lt;#&gt;  minutes. got any space',\n",
              " 'just sleeping..and surfing',\n",
              " 'thanks for picking up the trash.',\n",
              " \"why don't you go tell your friend you're not sure you want to live with him because he smokes too much then spend hours begging him to come smoke\",\n",
              " 'hi its kate it was lovely to see you tonight and ill phone you tomorrow. i got to sing and a guy gave me his card! xxx',\n",
              " 'happy new year my dear brother. i really do miss you. just got your number and decided to send you this text wishing you only happiness. abiola',\n",
              " 'that means get the door',\n",
              " 'your opinion about me? 1. over 2. jada 3. kusruthi 4. lovable 5. silent 6. spl character 7. not matured 8. stylish 9. simple pls reply..',\n",
              " 'hmmm ... i thought we said 2 hours slave, not 3 ... you are late ... how should i punish you ?',\n",
              " 'beerage?',\n",
              " 'you have an important customer service announcement from premier. call freephone 0800 542 0578 now!',\n",
              " 'dont think so. it turns off like randomlly within 5min of opening',\n",
              " \"she was supposed to be but couldn't make it, she's still in town though\",\n",
              " 'it does it on its own. most of the time it fixes my spelling. but sometimes it gets a completely diff word. go figure',\n",
              " 'ever thought about living a good life with a perfect partner? just txt back name and age to join the mobile community. (100p/sms)',\n",
              " '5 free top polyphonic tones call 087018728737, national rate. get a toppoly tune sent every week, just text subpoly to 81618, £3 per pole. unsub 08718727870.',\n",
              " 'gud mrng dear hav a nice day',\n",
              " \"this is hoping you enjoyed your game yesterday. sorry i've not been in touch but pls know that you are fondly bein thot off. have a great week. abiola\",\n",
              " 'all e best 4 ur driving tmr :-)',\n",
              " 'y?where u at dogbreath? its just sounding like jan c that\\x92s al!!!!!!!!!',\n",
              " 'omg i want to scream. i weighed myself and i lost more weight! woohoo!',\n",
              " \"there generally isn't one. it's an uncountable noun - u in the dictionary. pieces of research?\",\n",
              " \"it's really getting me down just hanging around.\",\n",
              " \"orange customer, you may now claim your free camera phone upgrade for your loyalty. call now on 0207 153 9996. offer ends 14thmarch. t&c's apply. opt-out availa\",\n",
              " 'petey boy whereare you me and all your friendsare in thekingshead come down if you canlove nic',\n",
              " 'ok i msg u b4 i leave my house.',\n",
              " 'gimme a few was  &lt;#&gt;  minutes ago',\n",
              " 'last chance! claim ur £150 worth of discount vouchers today! text shop to 85023 now! savamob, offers mobile! t cs savamob pobox84, m263uz. £3.00 sub. 16',\n",
              " \"appt is at &lt;time&gt; am. not my fault u don't listen. i told u twice\",\n",
              " 'free for 1st week! no1 nokia tone 4 ur mobile every week just txt nokia to 8077 get txting and tell ur mates. www.getzed.co.uk pobox 36504 w45wq 16+ norm150p/tone',\n",
              " 'you have won a guaranteed £200 award or even £1000 cashto claim ur award call free on 08000407165 (18+) 2 stop getstop on 88222 php. rg21 4jx',\n",
              " \"k i'll be there before 4.\",\n",
              " 'i dled 3d its very imp',\n",
              " \"sure, but make sure he knows we ain't smokin yet\",\n",
              " 'boooo you always work. just quit.',\n",
              " 'i am taking half day leave bec i am not well',\n",
              " \"ugh i don't wanna get out of bed. it's so warm.\",\n",
              " 's:)s.nervous  &lt;#&gt; :)',\n",
              " \"so there's a ring that comes with the guys costumes. it's there so they can gift their future yowifes. hint hint\",\n",
              " 'congratulations ur awarded either £500 of cd gift vouchers & free entry 2 our £100 weekly draw txt music to 87066 tncs www.ldew.com1win150ppmx3age16',\n",
              " 'i borrow ur bag ok.',\n",
              " 'u were outbid by simonwatson5120 on the shinco dvd plyr. 2 bid again, visit sms. ac/smsrewards 2 end bid notifications, reply end out',\n",
              " \"where's my boytoy? i miss you ... what happened?\",\n",
              " \"he has lots of used ones babe, but the model doesn't help. youi have to bring it over and he'll match it up\",\n",
              " 'also are you bringing galileo or dobby',\n",
              " 'then why you not responding',\n",
              " 'boo babe! u enjoyin yourjob? u seemed 2 b gettin on well hunny!hope ure ok?take care & i\\x92llspeak 2u soonlots of loveme xxxx.',\n",
              " \"good afternoon starshine! how's my boytoy? does he crave me yet? ache to fuck me ? *sips cappuccino* i miss you babe *teasing kiss*\",\n",
              " 'on the road so cant txt',\n",
              " 'smsservices. for yourinclusive text credits, pls goto www.comuk.net login= 3qxj9 unsubscribe with stop, no extra charge. help 08702840625.comuk. 220-cm2 9ae',\n",
              " \"25p 4 alfie moon's children in need song on ur mob. tell ur m8s. txt tone charity to 8007 for nokias or poly charity for polys: zed 08701417012 profit 2 charity.\",\n",
              " 'have a good evening! ttyl',\n",
              " 'hmm .. bits and pieces lol ... *sighs* ...',\n",
              " 'hahaha..use your brain dear',\n",
              " 'hey. you got any mail?',\n",
              " 'sorry light turned green, i meant another friend wanted  &lt;#&gt;  worth but he may not be around',\n",
              " 'thanks for yesterday sir. you have been wonderful. hope you enjoyed the burial. mojibiola',\n",
              " 'u have a secret admirer. reveal who thinks u r so special. call 09065174042. to opt out reply reveal stop. 1.50 per msg recd. cust care 07821230901',\n",
              " 'hi mate its rv did u hav a nice hol just a message 3 say hello coz haven\\x92t sent u 1 in ages started driving so stay off roads!rvx',\n",
              " 'dear voucher holder, to claim this weeks offer, at you pc please go to http://www.e-tlp.co.uk/expressoffer ts&cs apply. to stop texts, txt stop to 80062',\n",
              " \"thank you so much. when we skyped wit kz and sura, we didnt get the pleasure of your company. hope you are good. we've given you ultimatum oh! we are countin down to aburo. enjoy! this is the message i sent days ago\",\n",
              " 'surely result will offer:)',\n",
              " 'good morning my dear........... have a great &amp; successful day.',\n",
              " 'do you want 750 anytime any network mins 150 text and a new video phone for only five pounds per week call 08002888812 or reply for delivery tomorrow',\n",
              " \"sir, i have been late in paying rent for the past few months and had to pay a $ &lt;#&gt;  charge. i felt it would be inconsiderate of me to nag about something you give at great cost to yourself and that's why i didnt speak up. i however am in a recession and wont be able to pay the charge this month hence my askin well ahead of month's end. can you please help. thanks\",\n",
              " 'we tried to contact you re our offer of new video phone 750 anytime any network mins half price rental camcorder call 08000930705 or reply for delivery wed',\n",
              " 'last chance 2 claim ur £150 worth of discount vouchers-text yes to 85023 now!savamob-member offers mobile t cs 08717898035. £3.00 sub. 16 . remove txt x or stop',\n",
              " 'i luv u soo much u don\\x92t understand how special u r 2 me ring u 2morrow luv u xxx',\n",
              " \"pls send me a comprehensive mail about who i'm paying, when and how much.\",\n",
              " \"our prashanthettan's mother passed away last night. pray for her and family.\",\n",
              " 'urgent! call 09066350750 from your landline. your complimentary 4* ibiza holiday or 10,000 cash await collection sae t&cs po box 434 sk3 8wp 150 ppm 18+',\n",
              " 'k.k:)when are you going?',\n",
              " \"meanwhile in the shit suite: xavier decided to give us  &lt;#&gt;  seconds of warning that samantha was coming over and is playing jay's guitar to impress her or some shit. also i don't think doug realizes i don't live here anymore\",\n",
              " \"my stomach has been thru so much trauma i swear i just can't eat. i better lose weight.\",\n",
              " 'i am in office:)whats the matter..msg me now.i will call you at break:).',\n",
              " \"yeah there's barely enough room for the two of us, x has too many fucking shoes. sorry man, see you later\",\n",
              " \"today's offer! claim ur £150 worth of discount vouchers! text yes to 85023 now! savamob, member offers mobile! t cs 08717898035. £3.00 sub. 16 . unsub reply x\",\n",
              " 'u reach orchard already? u wan 2 go buy tickets first?',\n",
              " 'i am real, baby! i want to bring out your inner tigress...',\n",
              " 'no da if you run that it activate the full version da.',\n",
              " 'ah poor baby!hope urfeeling bettersn luv! probthat overdose of work hey go careful spk 2 u sn lots of lovejen xxx.',\n",
              " \"stop the story. i've told him i've returned it and he's saying i should not re order it.\",\n",
              " 'talk sexy!! make new friends or fall in love in the worlds most discreet text dating service. just text vip to 83110 and see who you could meet.',\n",
              " 'going to take your babe out ?',\n",
              " 'hai ana tomarrow am coming on morning.  &lt;decimal&gt;  ill be there in sathy then we ll go to rto office. reply me after came to home.',\n",
              " 'spoons it is then okay?',\n",
              " 'did he just say somebody is named tampa',\n",
              " 'in work now. going have in few min.',\n",
              " 'your brother is a genius',\n",
              " \"sorry, i guess whenever i can get a hold of my connections, maybe an hour or two? i'll text you\",\n",
              " 'did u find out what time the bus is at coz i need to sort some stuff out.',\n",
              " 'dude ive been seeing a lotta corvettes lately',\n",
              " 'congratulations ur awarded either a yrs supply of cds from virgin records or a mystery gift guaranteed call 09061104283 ts&cs www.smsco.net £1.50pm approx 3mins',\n",
              " \"same here, but i consider walls and bunkers and shit important just because i never play on peaceful but i guess your place is high enough that it don't matter\",\n",
              " 'private! your 2003 account statement for 07808 xxxxxx shows 800 un-redeemed s. i. m. points. call 08719899217 identifier code: 41685 expires 07/11/04',\n",
              " 'hello. we need some posh birds and chaps to user trial prods for champneys. can i put you down? i need your address and dob asap. ta r',\n",
              " 'what do u want for xmas? how about 100 free text messages & a new video phone with half price line rental? call free now on 0800 0721072 to find out more!',\n",
              " 'well am officially in a philosophical hole, so if u wanna call am at home ready to be saved!',\n",
              " 'its going good...no problem..but still need little experience to understand american customer voice...',\n",
              " \"i'll text you when i drop x off\",\n",
              " \"ugh its been a long day. i'm exhausted. just want to cuddle up and take a nap\",\n",
              " 'talk with yourself atleast once in a day...!!! otherwise you will miss your best friend in this world...!!! -shakespeare- shesil  &lt;#&gt;',\n",
              " 'shop till u drop, is it you, either 10k, 5k, £500 cash or £100 travel voucher, call now, 09064011000. ntt po box cr01327bt fixedline cost 150ppm mobile vary',\n",
              " 'are you in castor? you need to see something',\n",
              " 'sunshine quiz wkly q! win a top sony dvd player if u know which country liverpool played in mid week? txt ansr to 82277. £1.50 sp:tyrone',\n",
              " 'u have a secret admirer who is looking 2 make contact with u-find out who they r*reveal who thinks ur so special-call on 09058094565',\n",
              " 'u have a secret admirer who is looking 2 make contact with u-find out who they r*reveal who thinks ur so special-call on 09065171142-stopsms-08',\n",
              " 'reminder: you have not downloaded the content you have already paid for. goto http://doit. mymoby. tv/ to collect your content.',\n",
              " \"see, i knew giving you a break a few times woul lead to you always wanting to miss curfew. i was gonna gibe you 'til one, but a midnight movie is not gonna get out til after 2. you need to come home. you need to getsleep and, if anything, you need to b studdying ear training.\",\n",
              " 'i love to give massages. i use lots of baby oil... what is your fave position?',\n",
              " 'dude we should go sup again',\n",
              " 'yoyyooo u know how to change permissions for a drive in mac. my usb flash drive',\n",
              " 'gibbs unsold.mike hussey',\n",
              " 'i like to talk pa but am not able to. i dont know y.',\n",
              " \"y dun cut too short leh. u dun like ah? she failed. she's quite sad.\",\n",
              " 'you unbelievable faglord',\n",
              " 'wife.how she knew the time of murder exactly',\n",
              " 'why do you ask princess?',\n",
              " 'i am great princess! what are you thinking about me? :)',\n",
              " 'nutter. cutter. ctter. cttergg. cttargg. ctargg. ctagg. ie you',\n",
              " \"it's ok i noe u're busy but i'm really too bored so i msg u. i oso dunno wat colour she choose 4 me one.\",\n",
              " \"doesn't g have class early tomorrow and thus shouldn't be trying to smoke at  &lt;#&gt;\",\n",
              " 'superb thought- \"be grateful that u dont have everything u want. that means u still have an opportunity to be happier tomorrow than u are today.\":-)',\n",
              " 'hope you are having a good week. just checking in',\n",
              " \"i'm used to it. i just hope my agents don't drop me since i've only booked a few things this year. this whole me in boston, them in nyc was an experiment.\",\n",
              " \"thursday night? yeah, sure thing, we'll work it out then\",\n",
              " 'your free ringtone is waiting to be collected. simply text the password \"mix\" to 85069 to verify. get usher and britney. fml, po box 5249, mk17 92h. 450ppw 16',\n",
              " 'probably money worries. things are coming due and i have several outstanding invoices for work i did two and three months ago.',\n",
              " 'how is it possible to teach you. and where.',\n",
              " 'i wonder if your phone battery went dead ? i had to tell you, i love you babe',\n",
              " \"lovely smell on this bus and it ain't tobacco...\",\n",
              " \"we're all getting worried over here, derek and taylor have already assumed the worst\",\n",
              " \"hey what's up charles sorry about the late reply.\",\n",
              " 'all the lastest from stereophonics, marley, dizzee racal, libertines and the strokes! win nookii games with flirt!! click themob wap bookmark or text wap to 82468',\n",
              " 'i.ll give her once i have it. plus she said grinule greet you whenever we speak',\n",
              " 'white fudge oreos are in stores',\n",
              " 'january male sale! hot gay chat now cheaper, call 08709222922. national rate from 1.5p/min cheap to 7.8p/min peak! to stop texts call 08712460324 (10p/min)',\n",
              " \"my love ! how come it took you so long to leave for zaher's? i got your words on ym and was happy to see them but was sad you had left. i miss you\",\n",
              " 'i am sorry it hurt you.',\n",
              " \"can't. i feel nauseous. i'm so pissed. i didn't eat any sweets all week cause today i was planning to pig out. i was dieting all week. and now i'm not hungry :/\",\n",
              " 'ok lor but not too early. me still having project meeting now.',\n",
              " 'call me da, i am waiting for your call.',\n",
              " 'i could ask carlos if we could get more if anybody else can chip in',\n",
              " 'was actually about to send you a reminder today. have a wonderful weekend',\n",
              " \"when people see my msgs, they think iam addicted to msging... they are wrong, bcoz they don\\\\'t know that iam addicted to my sweet friends..!! bslvyl\",\n",
              " 'hey you gave them your photo when you registered for driving ah? tmr wanna meet at yck?',\n",
              " 'dont talk to him ever ok its my word.',\n",
              " 'when u wana see it then',\n",
              " \"on ma way to school. can you pls send me ashley's number\",\n",
              " 'it shall be fine. i have avalarr now. will hollalater',\n",
              " \"she went to attend another two rounds today..but still did't reach home..\",\n",
              " 'actually i deleted my old website..now i m blogging at magicalsongs.blogspot.com',\n",
              " 'k, wait chikku..il send aftr  &lt;#&gt; mins',\n",
              " \"but i'm on a diet. and i ate 1 too many slices of pizza yesterday. ugh i'm always on a diet.\",\n",
              " 'k:)i will give my kvb acc details:)',\n",
              " 'oh all have to come ah?',\n",
              " 'money!!! you r a lucky winner ! 2 claim your prize text money 2 88600 over £1million to give away ! ppt150x3+normal text rate box403 w1t1jy',\n",
              " \"i'm really sorry i won't b able 2 do this friday.hope u can find an alternative.hope yr term's going ok:-)\",\n",
              " 'congratulations ore mo owo re wa. enjoy it and i wish you many happy moments to and fro wherever you go',\n",
              " 'so do you have samus shoulders yet',\n",
              " \"what time you think you'll have it? need to know when i should be near campus\",\n",
              " 'dear matthew please call 09063440451 from a landline, your complimentary 4*lux tenerife holiday or £1000 cash await collection. ppm150 sae t&cs box334 sk38xh.',\n",
              " 'then dun wear jeans lor...',\n",
              " 'since when, which side, any fever, any vomitin.',\n",
              " 'k:)k.are you in college?',\n",
              " 'urgent! call 09061749602 from landline. your complimentary 4* tenerife holiday or £10,000 cash await collection sae t&cs box 528 hp20 1yf 150ppm 18+',\n",
              " 'better. made up for friday and stuffed myself like a pig yesterday. now i feel bleh. but at least its not writhing pain kind of bleh.',\n",
              " \"no we sell it all so we'll have tons if coins. then sell our coins to someone thru paypal. voila! money back in life pockets:)\",\n",
              " 'theyre doing it to lots of places. only hospitals and medical places are safe.',\n",
              " 'how about getting in touch with folks waiting for company? just txt back your name and age to opt in! enjoy the community (150p/sms)',\n",
              " \"and also i've sorta blown him off a couple times recently so id rather not text him out of the blue looking for weed\",\n",
              " 'i sent my scores to sophas and i had to do secondary application for a few schools. i think if you are thinking of applying, do a research on cost also. contact joke ogunrinde, her school is one me the less expensive ones',\n",
              " 'i cant wait to see you! how were the photos were useful? :)',\n",
              " 'ur cash-balance is currently 500 pounds - to maximize ur cash-in now send go to 86688 only 150p/msg. cc: 08718720201 po box 114/14 tcr/w1',\n",
              " 'hey i booked the kb on sat already... what other lessons are we going for ah? keep your sat night free we need to meet and confirm our lodging',\n",
              " 'chk in ur belovd ms dict',\n",
              " 'is that what time you want me to come?',\n",
              " \"awesome, lemme know whenever you're around\",\n",
              " 'shb b ok lor... thanx...',\n",
              " 'beautiful truth against gravity.. read carefully: \"our heart feels light when someone is in it.. but it feels very heavy when someone leaves it..\" good night',\n",
              " \"also remember to get dobby's bowl from your car\",\n",
              " 'filthy stories and girls waiting for your',\n",
              " \"sorry i now then c ur msg... yar lor so poor thing... but only 4 one night... tmr u'll have a brand new room 2 sleep in...\",\n",
              " \"love isn't a decision, it's a feeling. if we could decide who to love, then, life would be much simpler, but then less magical\",\n",
              " 'welp apparently he retired',\n",
              " \"my sort code is  and acc no is . the bank is natwest. can you reply to confirm i've sent this to the right person!\",\n",
              " 'where @',\n",
              " \"u sure u can't take any sick time?\",\n",
              " 'urgent! we are trying to contact u. todays draw shows that you have won a £800 prize guaranteed. call 09050001808 from land line. claim m95. valid12hrs only',\n",
              " 'watching cartoon, listening music &amp; at eve had to go temple &amp; church.. what about u?',\n",
              " 'yo chad which gymnastics class do you wanna take? the site says christians class is full..',\n",
              " 'are you this much buzy',\n",
              " 'or better still can you catch her and let ask her if she can sell  &lt;#&gt;  for me.',\n",
              " 'i am not sure about night menu. . . i know only about noon menu',\n",
              " 'what do u want when i come back?.a beautiful necklace as a token of my heart for you.thats what i will give but only to my wife of my liking.be that and see..no one can give you that.dont call me.i will wait till i come.',\n",
              " 'are you willing to go for aptitude class.',\n",
              " 'it wont b until 2.15 as trying 2 sort house out, is that ok?',\n",
              " 'yar lor he wan 2 go c horse racing today mah, so eat earlier lor. i ate chicken rice. u?',\n",
              " 'haha awesome, omw back now then',\n",
              " 'yup i thk so until e shop closes lor.',\n",
              " 'what is your account number?',\n",
              " 'eh u send wrongly lar...',\n",
              " 'hey no i ad a crap nite was borin without ya 2 boggy with me u boring biatch! thanx but u wait til nxt time il ave ya',\n",
              " 'ok i shall talk to him',\n",
              " 'dont hesitate. you know this is the second time she has had weakness like that. so keep i notebook of what she eat and did the day before or if anything changed the day before so that we can be sure its nothing',\n",
              " 'hey you can pay. with salary de. only  &lt;#&gt; .',\n",
              " 'another month. i need chocolate weed and alcohol.',\n",
              " 'if he started searching he will get job in few days.he have great potential and talent.',\n",
              " 'reckon need to be in town by eightish to walk from * carpark.',\n",
              " 'congrats! 2 mobile 3g videophones r yours. call 09063458130 now! videochat wid your mates, play java games, dload polyph music, noline rentl.',\n",
              " 'look at the fuckin time. what the fuck you think is up',\n",
              " 'yo guess what i just dropped',\n",
              " \"carlos says he'll be at mu in  &lt;#&gt;  minutes\",\n",
              " \"i'm in office now . i will call you  &lt;#&gt;  min:)\",\n",
              " \"geeee ... i miss you already, you know ? your all i can think about. fuck, i can't wait till next year when we will be together ... *loving kiss*\",\n",
              " 'yun ah.the ubi one say if ü wan call by tomorrow.call 67441233 look for irene.ere only got bus8,22,65,61,66,382. ubi cres,ubi tech park.6ph for 1st 5wkg days.èn',\n",
              " 'ugh. gotta drive back to sd from la. my butt is sore.',\n",
              " '26th of july',\n",
              " 'hi im having the most relaxing time ever! we have to get up at 7am every day! was the party good the other night? i get home tomorrow at 5ish.',\n",
              " 'up to ü... ü wan come then come lor... but i din c any stripes skirt...',\n",
              " 'the xmas story is peace.. the xmas msg is love.. the xmas miracle is jesus.. hav a blessed month ahead &amp; wish u merry xmas...',\n",
              " \"i can't, i don't have her number!\",\n",
              " \"change again... it's e one next to escalator...\",\n",
              " \"yetunde i'm in class can you not run water on it to make it ok. pls now.\",\n",
              " 'not a lot has happened here. feels very quiet. beth is at her aunts and charlie is working lots. just me and helen in at the mo. how have you been?',\n",
              " 'then ü wait 4 me at bus stop aft ur lect lar. if i dun c ü then i go get my car then come back n pick ü.',\n",
              " ...]"
            ]
          },
          "metadata": {
            "tags": []
          },
          "execution_count": 82
        }
      ]
    },
    {
      "cell_type": "markdown",
      "metadata": {
        "id": "e-Gs5Gl76ylX"
      },
      "source": [
        "Building the Model"
      ]
    },
    {
      "cell_type": "code",
      "metadata": {
        "id": "gu1ht__DpAmt"
      },
      "source": [
        "from tensorflow.keras.models import Sequential\r\n",
        "from tensorflow.keras import Input\r\n",
        "\r\n",
        "model = Sequential()\r\n",
        "model.add(Input(shape=(1,), dtype=\"string\"))"
      ],
      "execution_count": 83,
      "outputs": []
    },
    {
      "cell_type": "markdown",
      "metadata": {
        "id": "mUPhZsRJ7LDC"
      },
      "source": [
        "Text Vectorization"
      ]
    },
    {
      "cell_type": "code",
      "metadata": {
        "id": "pXUZHEzX7BuP"
      },
      "source": [
        "from tensorflow.keras.layers.experimental.preprocessing import TextVectorization\r\n",
        "\r\n",
        "max_tokens = 500\r\n",
        "max_len = 5\r\n",
        "vectorize_layer = TextVectorization(\r\n",
        "  # Max vocab size. Any words outside of the max_tokens most common ones\r\n",
        "  # will be treated the same way: as \"out of vocabulary\" (OOV) tokens.\r\n",
        "  max_tokens=max_tokens,\r\n",
        "  # Output integer indices, one per string token\r\n",
        "  output_mode=\"int\",\r\n",
        "  # Always pad or truncate to exactly this many tokens\r\n",
        "  output_sequence_length=max_len,\r\n",
        ")"
      ],
      "execution_count": 84,
      "outputs": []
    },
    {
      "cell_type": "code",
      "metadata": {
        "id": "TfU-LKep7Qn8"
      },
      "source": [
        "# Call adapt(), which fits the TextVectorization layer to our text dataset.\r\n",
        "# This is when the max_tokens most common words (i.e. the vocabulary) are selected.\r\n",
        "vectorize_layer.adapt(X)"
      ],
      "execution_count": 85,
      "outputs": []
    },
    {
      "cell_type": "code",
      "metadata": {
        "id": "37b8fmru7TxS",
        "colab": {
          "base_uri": "https://localhost:8080/"
        },
        "outputId": "350d54cd-a715-4177-9f38-789c16ec6123"
      },
      "source": [
        "reverse_word_index = vectorize_layer.get_vocabulary()\r\n",
        "reverse_word_index"
      ],
      "execution_count": 86,
      "outputs": [
        {
          "output_type": "execute_result",
          "data": {
            "text/plain": [
              "['',\n",
              " '[UNK]',\n",
              " 'to',\n",
              " 'i',\n",
              " 'you',\n",
              " 'a',\n",
              " 'the',\n",
              " 'u',\n",
              " 'and',\n",
              " 'is',\n",
              " 'in',\n",
              " 'me',\n",
              " 'my',\n",
              " 'for',\n",
              " 'your',\n",
              " 'it',\n",
              " 'of',\n",
              " 'call',\n",
              " 'have',\n",
              " 'on',\n",
              " 'that',\n",
              " 'are',\n",
              " '2',\n",
              " 'now',\n",
              " 'im',\n",
              " 'so',\n",
              " 'not',\n",
              " 'but',\n",
              " 'or',\n",
              " 'can',\n",
              " 'at',\n",
              " 'do',\n",
              " 'ur',\n",
              " 'get',\n",
              " 'be',\n",
              " 'will',\n",
              " 'if',\n",
              " 'with',\n",
              " 'just',\n",
              " 'we',\n",
              " 'no',\n",
              " 'this',\n",
              " 'its',\n",
              " 'up',\n",
              " '4',\n",
              " 'dont',\n",
              " 'when',\n",
              " 'go',\n",
              " 'ok',\n",
              " 'from',\n",
              " 'ltgt',\n",
              " 'free',\n",
              " 'all',\n",
              " 'out',\n",
              " 'how',\n",
              " 'what',\n",
              " 'know',\n",
              " 'like',\n",
              " 'ill',\n",
              " 'got',\n",
              " 'good',\n",
              " 'then',\n",
              " 'was',\n",
              " 'come',\n",
              " 'am',\n",
              " 'only',\n",
              " 'time',\n",
              " 'day',\n",
              " 'love',\n",
              " 'there',\n",
              " 'want',\n",
              " 'send',\n",
              " 'text',\n",
              " 'he',\n",
              " 'as',\n",
              " 'by',\n",
              " 'one',\n",
              " 'going',\n",
              " 'ü',\n",
              " 'need',\n",
              " 'about',\n",
              " 'txt',\n",
              " 'home',\n",
              " 'lor',\n",
              " 'see',\n",
              " 'sorry',\n",
              " 'still',\n",
              " 'r',\n",
              " 'stop',\n",
              " 'back',\n",
              " 'our',\n",
              " 'n',\n",
              " 'reply',\n",
              " 'today',\n",
              " 'mobile',\n",
              " 'tell',\n",
              " 'new',\n",
              " 'well',\n",
              " 'later',\n",
              " 'hi',\n",
              " 'think',\n",
              " 'she',\n",
              " 'da',\n",
              " 'been',\n",
              " 'any',\n",
              " 'please',\n",
              " 'take',\n",
              " 'they',\n",
              " 'phone',\n",
              " 'her',\n",
              " 'cant',\n",
              " 'did',\n",
              " 'some',\n",
              " 'here',\n",
              " 'has',\n",
              " 'week',\n",
              " 'night',\n",
              " 'an',\n",
              " 'who',\n",
              " 'oh',\n",
              " 'much',\n",
              " 'hey',\n",
              " 'great',\n",
              " 'claim',\n",
              " 'him',\n",
              " 'dear',\n",
              " 'pls',\n",
              " 'more',\n",
              " 'happy',\n",
              " 'd',\n",
              " 'too',\n",
              " 'hope',\n",
              " 'had',\n",
              " 'give',\n",
              " 'where',\n",
              " 'way',\n",
              " 'make',\n",
              " 'work',\n",
              " 'wat',\n",
              " 'should',\n",
              " 'thats',\n",
              " 'number',\n",
              " 'say',\n",
              " 'right',\n",
              " 'tomorrow',\n",
              " 'prize',\n",
              " 'already',\n",
              " 'after',\n",
              " 'ask',\n",
              " 'said',\n",
              " 'yes',\n",
              " 'yeah',\n",
              " 'really',\n",
              " 'doing',\n",
              " 'e',\n",
              " 'amp',\n",
              " 'were',\n",
              " 'message',\n",
              " 'them',\n",
              " '1',\n",
              " 'msg',\n",
              " 'why',\n",
              " 'miss',\n",
              " 'life',\n",
              " 'didnt',\n",
              " 'c',\n",
              " 'meet',\n",
              " 'last',\n",
              " 'very',\n",
              " 'morning',\n",
              " 'babe',\n",
              " 'would',\n",
              " 'cos',\n",
              " 'anything',\n",
              " 'thanks',\n",
              " 'ive',\n",
              " 'cash',\n",
              " 'lol',\n",
              " 'find',\n",
              " 'win',\n",
              " 'every',\n",
              " 'sure',\n",
              " 'pick',\n",
              " 'k',\n",
              " 'also',\n",
              " 'won',\n",
              " 'let',\n",
              " 'something',\n",
              " 'sent',\n",
              " 'nokia',\n",
              " 'keep',\n",
              " 'care',\n",
              " 'contact',\n",
              " 'over',\n",
              " 'b',\n",
              " '3',\n",
              " 'buy',\n",
              " 'before',\n",
              " 'again',\n",
              " 'urgent',\n",
              " 'gud',\n",
              " 'us',\n",
              " 'even',\n",
              " 'next',\n",
              " 'first',\n",
              " 'feel',\n",
              " 'went',\n",
              " 'thing',\n",
              " 'off',\n",
              " 'around',\n",
              " 'which',\n",
              " 'tonight',\n",
              " 'someone',\n",
              " 'his',\n",
              " 'could',\n",
              " 'wait',\n",
              " 'soon',\n",
              " 'service',\n",
              " 'place',\n",
              " 'many',\n",
              " 'per',\n",
              " 'gonna',\n",
              " 'friends',\n",
              " 'customer',\n",
              " 'nice',\n",
              " 'money',\n",
              " 'always',\n",
              " 'ya',\n",
              " 'wont',\n",
              " 'sleep',\n",
              " 'late',\n",
              " 'down',\n",
              " 'chat',\n",
              " 'wan',\n",
              " 'other',\n",
              " 'leave',\n",
              " 'help',\n",
              " 'dun',\n",
              " 'youre',\n",
              " 'waiting',\n",
              " 'told',\n",
              " 'things',\n",
              " 'wish',\n",
              " 'v',\n",
              " '16',\n",
              " 'x',\n",
              " 'try',\n",
              " 'yet',\n",
              " 'year',\n",
              " 'thk',\n",
              " 'people',\n",
              " 'guaranteed',\n",
              " 'getting',\n",
              " 'coming',\n",
              " 'same',\n",
              " 'hello',\n",
              " 'done',\n",
              " 'tone',\n",
              " 'may',\n",
              " 'haha',\n",
              " 'thought',\n",
              " 'name',\n",
              " 'friend',\n",
              " 'mins',\n",
              " 'live',\n",
              " 'havent',\n",
              " 'best',\n",
              " 'talk',\n",
              " 'special',\n",
              " 'man',\n",
              " 'lunch',\n",
              " 'hows',\n",
              " 'fine',\n",
              " 'class',\n",
              " 'bit',\n",
              " 'use',\n",
              " 'smile',\n",
              " 'person',\n",
              " 'never',\n",
              " 'holiday',\n",
              " 'being',\n",
              " 'yup',\n",
              " 'trying',\n",
              " 'stuff',\n",
              " 'meeting',\n",
              " 'job',\n",
              " 'heart',\n",
              " 'few',\n",
              " '5',\n",
              " 'y',\n",
              " 'long',\n",
              " 'line',\n",
              " 'having',\n",
              " 'finish',\n",
              " 'cool',\n",
              " 'better',\n",
              " 'ready',\n",
              " 'mind',\n",
              " 'draw',\n",
              " '18',\n",
              " 'sms',\n",
              " 'end',\n",
              " 'than',\n",
              " 'min',\n",
              " 'latest',\n",
              " 'guys',\n",
              " 'enjoy',\n",
              " 'days',\n",
              " 'dat',\n",
              " 'chance',\n",
              " 'car',\n",
              " 'account',\n",
              " 'wanna',\n",
              " 'receive',\n",
              " 'play',\n",
              " 'nothing',\n",
              " 'lar',\n",
              " 'half',\n",
              " 'guess',\n",
              " 'eat',\n",
              " 'check',\n",
              " 'box',\n",
              " 'because',\n",
              " 'awarded',\n",
              " '1st',\n",
              " 'yo',\n",
              " 'luv',\n",
              " 'big',\n",
              " 'another',\n",
              " 'shows',\n",
              " 'real',\n",
              " 'into',\n",
              " 'house',\n",
              " 'camera',\n",
              " 'birthday',\n",
              " '£1000',\n",
              " 'start',\n",
              " 'shit',\n",
              " 'problem',\n",
              " 'po',\n",
              " 'lot',\n",
              " 'liao',\n",
              " 'jus',\n",
              " 'ever',\n",
              " 'dinner',\n",
              " 'xxx',\n",
              " 'word',\n",
              " 'watching',\n",
              " 'sweet',\n",
              " 'sir',\n",
              " 'room',\n",
              " 'quite',\n",
              " 'might',\n",
              " 'landline',\n",
              " 'girl',\n",
              " 'world',\n",
              " 'whats',\n",
              " 'watch',\n",
              " 'two',\n",
              " 'speak',\n",
              " 'probably',\n",
              " 'once',\n",
              " 'god',\n",
              " 'early',\n",
              " 'cost',\n",
              " 'called',\n",
              " 'aight',\n",
              " 'princess',\n",
              " 'plan',\n",
              " 'pay',\n",
              " 'pa',\n",
              " 'minutes',\n",
              " 'id',\n",
              " 'hes',\n",
              " 'hear',\n",
              " 'does',\n",
              " 'den',\n",
              " 'bed',\n",
              " 'actually',\n",
              " '6',\n",
              " '£2000',\n",
              " 'video',\n",
              " 'thanx',\n",
              " 'shopping',\n",
              " 'remember',\n",
              " 'reach',\n",
              " 'part',\n",
              " 'offer',\n",
              " 'maybe',\n",
              " 'made',\n",
              " 'look',\n",
              " 'left',\n",
              " 'kiss',\n",
              " 'fun',\n",
              " 'forgot',\n",
              " 'easy',\n",
              " 'dunno',\n",
              " 'between',\n",
              " 'bad',\n",
              " 'apply',\n",
              " '150ppm',\n",
              " 'weekend',\n",
              " 'theres',\n",
              " 's',\n",
              " 'month',\n",
              " 'little',\n",
              " 'hour',\n",
              " 'everything',\n",
              " 'dis',\n",
              " 'code',\n",
              " 'boy',\n",
              " 'baby',\n",
              " 'ah',\n",
              " 'working',\n",
              " 'those',\n",
              " 'tcs',\n",
              " 'shes',\n",
              " 'shall',\n",
              " 'selected',\n",
              " 'put',\n",
              " 'orange',\n",
              " 'network',\n",
              " 'looking',\n",
              " 'leh',\n",
              " 'face',\n",
              " 'enough',\n",
              " 'bus',\n",
              " 'award',\n",
              " '2nd',\n",
              " 'xmas',\n",
              " 'without',\n",
              " 'tv',\n",
              " 'todays',\n",
              " 'tmr',\n",
              " 'thank',\n",
              " 'sat',\n",
              " 'most',\n",
              " 'g',\n",
              " 'fuck',\n",
              " 'dad',\n",
              " 'asked',\n",
              " '7',\n",
              " '£150',\n",
              " 'wif',\n",
              " 'while',\n",
              " 'wanted',\n",
              " 'until',\n",
              " 'town',\n",
              " 'since',\n",
              " 'sexy',\n",
              " 'school',\n",
              " 'says',\n",
              " 'must',\n",
              " 'missing',\n",
              " 'join',\n",
              " 'evening',\n",
              " 'collect',\n",
              " 'came',\n",
              " 'anyway',\n",
              " 'afternoon',\n",
              " '9',\n",
              " 'wake',\n",
              " 'true',\n",
              " 'though',\n",
              " 'texts',\n",
              " 'ringtone',\n",
              " 'okay',\n",
              " 'means',\n",
              " 'important',\n",
              " 'hav',\n",
              " 'goes',\n",
              " 'entry',\n",
              " 'doesnt',\n",
              " 'details',\n",
              " 'collection',\n",
              " 'bt',\n",
              " 'bring',\n",
              " 'abt',\n",
              " 'able',\n",
              " 'years',\n",
              " 'wen',\n",
              " 'tones',\n",
              " 'til',\n",
              " 'show',\n",
              " 'plz',\n",
              " 'plus',\n",
              " 'pain',\n",
              " 'office',\n",
              " 'juz',\n",
              " 'gift',\n",
              " 'away',\n",
              " '500',\n",
              " 'wot',\n",
              " 'wk',\n",
              " 'weekly',\n",
              " 'update',\n",
              " 'times',\n",
              " 'till',\n",
              " 'price',\n",
              " 'mob']"
            ]
          },
          "metadata": {
            "tags": []
          },
          "execution_count": 86
        }
      ]
    },
    {
      "cell_type": "code",
      "metadata": {
        "id": "ie_z-NoC7ZmV",
        "colab": {
          "base_uri": "https://localhost:8080/",
          "height": 425
        },
        "outputId": "5dc10dc9-1863-4b89-d1fe-36ff737be927"
      },
      "source": [
        "model.add(vectorize_layer)"
      ],
      "execution_count": 91,
      "outputs": [
        {
          "output_type": "error",
          "ename": "TypeError",
          "evalue": "ignored",
          "traceback": [
            "\u001b[0;31m---------------------------------------------------------------------------\u001b[0m",
            "\u001b[0;31mValueError\u001b[0m                                Traceback (most recent call last)",
            "\u001b[0;32m/usr/local/lib/python3.6/dist-packages/tensorflow/python/framework/op_def_library.py\u001b[0m in \u001b[0;36m_apply_op_helper\u001b[0;34m(op_type_name, name, **keywords)\u001b[0m\n\u001b[1;32m    521\u001b[0m                 \u001b[0mas_ref\u001b[0m\u001b[0;34m=\u001b[0m\u001b[0minput_arg\u001b[0m\u001b[0;34m.\u001b[0m\u001b[0mis_ref\u001b[0m\u001b[0;34m,\u001b[0m\u001b[0;34m\u001b[0m\u001b[0;34m\u001b[0m\u001b[0m\n\u001b[0;32m--> 522\u001b[0;31m                 preferred_dtype=default_dtype)\n\u001b[0m\u001b[1;32m    523\u001b[0m         \u001b[0;32mexcept\u001b[0m \u001b[0mTypeError\u001b[0m \u001b[0;32mas\u001b[0m \u001b[0merr\u001b[0m\u001b[0;34m:\u001b[0m\u001b[0;34m\u001b[0m\u001b[0;34m\u001b[0m\u001b[0m\n",
            "\u001b[0;32m/usr/local/lib/python3.6/dist-packages/tensorflow/python/profiler/trace.py\u001b[0m in \u001b[0;36mwrapped\u001b[0;34m(*args, **kwargs)\u001b[0m\n\u001b[1;32m    162\u001b[0m           \u001b[0;32mreturn\u001b[0m \u001b[0mfunc\u001b[0m\u001b[0;34m(\u001b[0m\u001b[0;34m*\u001b[0m\u001b[0margs\u001b[0m\u001b[0;34m,\u001b[0m \u001b[0;34m**\u001b[0m\u001b[0mkwargs\u001b[0m\u001b[0;34m)\u001b[0m\u001b[0;34m\u001b[0m\u001b[0;34m\u001b[0m\u001b[0m\n\u001b[0;32m--> 163\u001b[0;31m       \u001b[0;32mreturn\u001b[0m \u001b[0mfunc\u001b[0m\u001b[0;34m(\u001b[0m\u001b[0;34m*\u001b[0m\u001b[0margs\u001b[0m\u001b[0;34m,\u001b[0m \u001b[0;34m**\u001b[0m\u001b[0mkwargs\u001b[0m\u001b[0;34m)\u001b[0m\u001b[0;34m\u001b[0m\u001b[0;34m\u001b[0m\u001b[0m\n\u001b[0m\u001b[1;32m    164\u001b[0m \u001b[0;34m\u001b[0m\u001b[0m\n",
            "\u001b[0;32m/usr/local/lib/python3.6/dist-packages/tensorflow/python/framework/ops.py\u001b[0m in \u001b[0;36mconvert_to_tensor\u001b[0;34m(value, dtype, name, as_ref, preferred_dtype, dtype_hint, ctx, accepted_result_types)\u001b[0m\n\u001b[1;32m   1508\u001b[0m           \u001b[0;34m\"Tensor conversion requested dtype %s for Tensor with dtype %s: %r\"\u001b[0m \u001b[0;34m%\u001b[0m\u001b[0;34m\u001b[0m\u001b[0;34m\u001b[0m\u001b[0m\n\u001b[0;32m-> 1509\u001b[0;31m           (dtype.name, value.dtype.name, value))\n\u001b[0m\u001b[1;32m   1510\u001b[0m     \u001b[0;32mreturn\u001b[0m \u001b[0mvalue\u001b[0m\u001b[0;34m\u001b[0m\u001b[0;34m\u001b[0m\u001b[0m\n",
            "\u001b[0;31mValueError\u001b[0m: Tensor conversion requested dtype string for Tensor with dtype int64: <tf.Tensor 'Placeholder:0' shape=(None, 5) dtype=int64>",
            "\nDuring handling of the above exception, another exception occurred:\n",
            "\u001b[0;31mTypeError\u001b[0m                                 Traceback (most recent call last)",
            "\u001b[0;32m<ipython-input-91-f2b008cb5714>\u001b[0m in \u001b[0;36m<module>\u001b[0;34m()\u001b[0m\n\u001b[0;32m----> 1\u001b[0;31m \u001b[0mmodel\u001b[0m\u001b[0;34m.\u001b[0m\u001b[0madd\u001b[0m\u001b[0;34m(\u001b[0m\u001b[0mvectorize_layer\u001b[0m\u001b[0;34m)\u001b[0m\u001b[0;34m\u001b[0m\u001b[0;34m\u001b[0m\u001b[0m\n\u001b[0m",
            "\u001b[0;32m/usr/local/lib/python3.6/dist-packages/tensorflow/python/training/tracking/base.py\u001b[0m in \u001b[0;36m_method_wrapper\u001b[0;34m(self, *args, **kwargs)\u001b[0m\n\u001b[1;32m    515\u001b[0m     \u001b[0mself\u001b[0m\u001b[0;34m.\u001b[0m\u001b[0m_self_setattr_tracking\u001b[0m \u001b[0;34m=\u001b[0m \u001b[0;32mFalse\u001b[0m  \u001b[0;31m# pylint: disable=protected-access\u001b[0m\u001b[0;34m\u001b[0m\u001b[0;34m\u001b[0m\u001b[0m\n\u001b[1;32m    516\u001b[0m     \u001b[0;32mtry\u001b[0m\u001b[0;34m:\u001b[0m\u001b[0;34m\u001b[0m\u001b[0;34m\u001b[0m\u001b[0m\n\u001b[0;32m--> 517\u001b[0;31m       \u001b[0mresult\u001b[0m \u001b[0;34m=\u001b[0m \u001b[0mmethod\u001b[0m\u001b[0;34m(\u001b[0m\u001b[0mself\u001b[0m\u001b[0;34m,\u001b[0m \u001b[0;34m*\u001b[0m\u001b[0margs\u001b[0m\u001b[0;34m,\u001b[0m \u001b[0;34m**\u001b[0m\u001b[0mkwargs\u001b[0m\u001b[0;34m)\u001b[0m\u001b[0;34m\u001b[0m\u001b[0;34m\u001b[0m\u001b[0m\n\u001b[0m\u001b[1;32m    518\u001b[0m     \u001b[0;32mfinally\u001b[0m\u001b[0;34m:\u001b[0m\u001b[0;34m\u001b[0m\u001b[0;34m\u001b[0m\u001b[0m\n\u001b[1;32m    519\u001b[0m       \u001b[0mself\u001b[0m\u001b[0;34m.\u001b[0m\u001b[0m_self_setattr_tracking\u001b[0m \u001b[0;34m=\u001b[0m \u001b[0mprevious_value\u001b[0m  \u001b[0;31m# pylint: disable=protected-access\u001b[0m\u001b[0;34m\u001b[0m\u001b[0;34m\u001b[0m\u001b[0m\n",
            "\u001b[0;32m/usr/local/lib/python3.6/dist-packages/tensorflow/python/keras/engine/sequential.py\u001b[0m in \u001b[0;36madd\u001b[0;34m(self, layer)\u001b[0m\n\u001b[1;32m    221\u001b[0m       \u001b[0;31m# If the model is being built continuously on top of an input layer:\u001b[0m\u001b[0;34m\u001b[0m\u001b[0;34m\u001b[0m\u001b[0;34m\u001b[0m\u001b[0m\n\u001b[1;32m    222\u001b[0m       \u001b[0;31m# refresh its output.\u001b[0m\u001b[0;34m\u001b[0m\u001b[0;34m\u001b[0m\u001b[0;34m\u001b[0m\u001b[0m\n\u001b[0;32m--> 223\u001b[0;31m       \u001b[0moutput_tensor\u001b[0m \u001b[0;34m=\u001b[0m \u001b[0mlayer\u001b[0m\u001b[0;34m(\u001b[0m\u001b[0mself\u001b[0m\u001b[0;34m.\u001b[0m\u001b[0moutputs\u001b[0m\u001b[0;34m[\u001b[0m\u001b[0;36m0\u001b[0m\u001b[0;34m]\u001b[0m\u001b[0;34m)\u001b[0m\u001b[0;34m\u001b[0m\u001b[0;34m\u001b[0m\u001b[0m\n\u001b[0m\u001b[1;32m    224\u001b[0m       \u001b[0;32mif\u001b[0m \u001b[0mlen\u001b[0m\u001b[0;34m(\u001b[0m\u001b[0mnest\u001b[0m\u001b[0;34m.\u001b[0m\u001b[0mflatten\u001b[0m\u001b[0;34m(\u001b[0m\u001b[0moutput_tensor\u001b[0m\u001b[0;34m)\u001b[0m\u001b[0;34m)\u001b[0m \u001b[0;34m!=\u001b[0m \u001b[0;36m1\u001b[0m\u001b[0;34m:\u001b[0m\u001b[0;34m\u001b[0m\u001b[0;34m\u001b[0m\u001b[0m\n\u001b[1;32m    225\u001b[0m         \u001b[0;32mraise\u001b[0m \u001b[0mValueError\u001b[0m\u001b[0;34m(\u001b[0m\u001b[0mSINGLE_LAYER_OUTPUT_ERROR_MSG\u001b[0m\u001b[0;34m)\u001b[0m\u001b[0;34m\u001b[0m\u001b[0;34m\u001b[0m\u001b[0m\n",
            "\u001b[0;32m/usr/local/lib/python3.6/dist-packages/tensorflow/python/keras/engine/base_layer.py\u001b[0m in \u001b[0;36m__call__\u001b[0;34m(self, *args, **kwargs)\u001b[0m\n\u001b[1;32m    950\u001b[0m     \u001b[0;32mif\u001b[0m \u001b[0m_in_functional_construction_mode\u001b[0m\u001b[0;34m(\u001b[0m\u001b[0mself\u001b[0m\u001b[0;34m,\u001b[0m \u001b[0minputs\u001b[0m\u001b[0;34m,\u001b[0m \u001b[0margs\u001b[0m\u001b[0;34m,\u001b[0m \u001b[0mkwargs\u001b[0m\u001b[0;34m,\u001b[0m \u001b[0minput_list\u001b[0m\u001b[0;34m)\u001b[0m\u001b[0;34m:\u001b[0m\u001b[0;34m\u001b[0m\u001b[0;34m\u001b[0m\u001b[0m\n\u001b[1;32m    951\u001b[0m       return self._functional_construction_call(inputs, args, kwargs,\n\u001b[0;32m--> 952\u001b[0;31m                                                 input_list)\n\u001b[0m\u001b[1;32m    953\u001b[0m \u001b[0;34m\u001b[0m\u001b[0m\n\u001b[1;32m    954\u001b[0m     \u001b[0;31m# Maintains info about the `Layer.call` stack.\u001b[0m\u001b[0;34m\u001b[0m\u001b[0;34m\u001b[0m\u001b[0;34m\u001b[0m\u001b[0m\n",
            "\u001b[0;32m/usr/local/lib/python3.6/dist-packages/tensorflow/python/keras/engine/base_layer.py\u001b[0m in \u001b[0;36m_functional_construction_call\u001b[0;34m(self, inputs, args, kwargs, input_list)\u001b[0m\n\u001b[1;32m   1089\u001b[0m         \u001b[0;31m# Check input assumptions set after layer building, e.g. input shape.\u001b[0m\u001b[0;34m\u001b[0m\u001b[0;34m\u001b[0m\u001b[0;34m\u001b[0m\u001b[0m\n\u001b[1;32m   1090\u001b[0m         outputs = self._keras_tensor_symbolic_call(\n\u001b[0;32m-> 1091\u001b[0;31m             inputs, input_masks, args, kwargs)\n\u001b[0m\u001b[1;32m   1092\u001b[0m \u001b[0;34m\u001b[0m\u001b[0m\n\u001b[1;32m   1093\u001b[0m         \u001b[0;32mif\u001b[0m \u001b[0moutputs\u001b[0m \u001b[0;32mis\u001b[0m \u001b[0;32mNone\u001b[0m\u001b[0;34m:\u001b[0m\u001b[0;34m\u001b[0m\u001b[0;34m\u001b[0m\u001b[0m\n",
            "\u001b[0;32m/usr/local/lib/python3.6/dist-packages/tensorflow/python/keras/engine/base_layer.py\u001b[0m in \u001b[0;36m_keras_tensor_symbolic_call\u001b[0;34m(self, inputs, input_masks, args, kwargs)\u001b[0m\n\u001b[1;32m    820\u001b[0m       \u001b[0;32mreturn\u001b[0m \u001b[0mnest\u001b[0m\u001b[0;34m.\u001b[0m\u001b[0mmap_structure\u001b[0m\u001b[0;34m(\u001b[0m\u001b[0mkeras_tensor\u001b[0m\u001b[0;34m.\u001b[0m\u001b[0mKerasTensor\u001b[0m\u001b[0;34m,\u001b[0m \u001b[0moutput_signature\u001b[0m\u001b[0;34m)\u001b[0m\u001b[0;34m\u001b[0m\u001b[0;34m\u001b[0m\u001b[0m\n\u001b[1;32m    821\u001b[0m     \u001b[0;32melse\u001b[0m\u001b[0;34m:\u001b[0m\u001b[0;34m\u001b[0m\u001b[0;34m\u001b[0m\u001b[0m\n\u001b[0;32m--> 822\u001b[0;31m       \u001b[0;32mreturn\u001b[0m \u001b[0mself\u001b[0m\u001b[0;34m.\u001b[0m\u001b[0m_infer_output_signature\u001b[0m\u001b[0;34m(\u001b[0m\u001b[0minputs\u001b[0m\u001b[0;34m,\u001b[0m \u001b[0margs\u001b[0m\u001b[0;34m,\u001b[0m \u001b[0mkwargs\u001b[0m\u001b[0;34m,\u001b[0m \u001b[0minput_masks\u001b[0m\u001b[0;34m)\u001b[0m\u001b[0;34m\u001b[0m\u001b[0;34m\u001b[0m\u001b[0m\n\u001b[0m\u001b[1;32m    823\u001b[0m \u001b[0;34m\u001b[0m\u001b[0m\n\u001b[1;32m    824\u001b[0m   \u001b[0;32mdef\u001b[0m \u001b[0m_infer_output_signature\u001b[0m\u001b[0;34m(\u001b[0m\u001b[0mself\u001b[0m\u001b[0;34m,\u001b[0m \u001b[0minputs\u001b[0m\u001b[0;34m,\u001b[0m \u001b[0margs\u001b[0m\u001b[0;34m,\u001b[0m \u001b[0mkwargs\u001b[0m\u001b[0;34m,\u001b[0m \u001b[0minput_masks\u001b[0m\u001b[0;34m)\u001b[0m\u001b[0;34m:\u001b[0m\u001b[0;34m\u001b[0m\u001b[0;34m\u001b[0m\u001b[0m\n",
            "\u001b[0;32m/usr/local/lib/python3.6/dist-packages/tensorflow/python/keras/engine/base_layer.py\u001b[0m in \u001b[0;36m_infer_output_signature\u001b[0;34m(self, inputs, args, kwargs, input_masks)\u001b[0m\n\u001b[1;32m    861\u001b[0m           \u001b[0;31m# TODO(kaftan): do we maybe_build here, or have we already done it?\u001b[0m\u001b[0;34m\u001b[0m\u001b[0;34m\u001b[0m\u001b[0;34m\u001b[0m\u001b[0m\n\u001b[1;32m    862\u001b[0m           \u001b[0mself\u001b[0m\u001b[0;34m.\u001b[0m\u001b[0m_maybe_build\u001b[0m\u001b[0;34m(\u001b[0m\u001b[0minputs\u001b[0m\u001b[0;34m)\u001b[0m\u001b[0;34m\u001b[0m\u001b[0;34m\u001b[0m\u001b[0m\n\u001b[0;32m--> 863\u001b[0;31m           \u001b[0moutputs\u001b[0m \u001b[0;34m=\u001b[0m \u001b[0mcall_fn\u001b[0m\u001b[0;34m(\u001b[0m\u001b[0minputs\u001b[0m\u001b[0;34m,\u001b[0m \u001b[0;34m*\u001b[0m\u001b[0margs\u001b[0m\u001b[0;34m,\u001b[0m \u001b[0;34m**\u001b[0m\u001b[0mkwargs\u001b[0m\u001b[0;34m)\u001b[0m\u001b[0;34m\u001b[0m\u001b[0;34m\u001b[0m\u001b[0m\n\u001b[0m\u001b[1;32m    864\u001b[0m \u001b[0;34m\u001b[0m\u001b[0m\n\u001b[1;32m    865\u001b[0m         \u001b[0mself\u001b[0m\u001b[0;34m.\u001b[0m\u001b[0m_handle_activity_regularization\u001b[0m\u001b[0;34m(\u001b[0m\u001b[0minputs\u001b[0m\u001b[0;34m,\u001b[0m \u001b[0moutputs\u001b[0m\u001b[0;34m)\u001b[0m\u001b[0;34m\u001b[0m\u001b[0;34m\u001b[0m\u001b[0m\n",
            "\u001b[0;32m/usr/local/lib/python3.6/dist-packages/tensorflow/python/keras/layers/preprocessing/text_vectorization.py\u001b[0m in \u001b[0;36mcall\u001b[0;34m(self, inputs)\u001b[0m\n\u001b[1;32m    615\u001b[0m \u001b[0;34m\u001b[0m\u001b[0m\n\u001b[1;32m    616\u001b[0m     \u001b[0mself\u001b[0m\u001b[0;34m.\u001b[0m\u001b[0m_called\u001b[0m \u001b[0;34m=\u001b[0m \u001b[0;32mTrue\u001b[0m\u001b[0;34m\u001b[0m\u001b[0;34m\u001b[0m\u001b[0m\n\u001b[0;32m--> 617\u001b[0;31m     \u001b[0minputs\u001b[0m \u001b[0;34m=\u001b[0m \u001b[0mself\u001b[0m\u001b[0;34m.\u001b[0m\u001b[0m_preprocess\u001b[0m\u001b[0;34m(\u001b[0m\u001b[0minputs\u001b[0m\u001b[0;34m)\u001b[0m\u001b[0;34m\u001b[0m\u001b[0;34m\u001b[0m\u001b[0m\n\u001b[0m\u001b[1;32m    618\u001b[0m \u001b[0;34m\u001b[0m\u001b[0m\n\u001b[1;32m    619\u001b[0m     \u001b[0;31m# If we're not doing any output processing, return right away.\u001b[0m\u001b[0;34m\u001b[0m\u001b[0;34m\u001b[0m\u001b[0;34m\u001b[0m\u001b[0m\n",
            "\u001b[0;32m/usr/local/lib/python3.6/dist-packages/tensorflow/python/keras/layers/preprocessing/text_vectorization.py\u001b[0m in \u001b[0;36m_preprocess\u001b[0;34m(self, inputs)\u001b[0m\n\u001b[1;32m    571\u001b[0m         \u001b[0mlowercase_inputs\u001b[0m \u001b[0;34m=\u001b[0m \u001b[0marray_ops\u001b[0m\u001b[0;34m.\u001b[0m\u001b[0midentity\u001b[0m\u001b[0;34m(\u001b[0m\u001b[0mlowercase_inputs\u001b[0m\u001b[0;34m)\u001b[0m\u001b[0;34m\u001b[0m\u001b[0;34m\u001b[0m\u001b[0m\n\u001b[1;32m    572\u001b[0m       \u001b[0;32melse\u001b[0m\u001b[0;34m:\u001b[0m\u001b[0;34m\u001b[0m\u001b[0;34m\u001b[0m\u001b[0m\n\u001b[0;32m--> 573\u001b[0;31m         \u001b[0mlowercase_inputs\u001b[0m \u001b[0;34m=\u001b[0m \u001b[0mgen_string_ops\u001b[0m\u001b[0;34m.\u001b[0m\u001b[0mstring_lower\u001b[0m\u001b[0;34m(\u001b[0m\u001b[0minputs\u001b[0m\u001b[0;34m)\u001b[0m\u001b[0;34m\u001b[0m\u001b[0;34m\u001b[0m\u001b[0m\n\u001b[0m\u001b[1;32m    574\u001b[0m       inputs = string_ops.regex_replace(lowercase_inputs, DEFAULT_STRIP_REGEX,\n\u001b[1;32m    575\u001b[0m                                         \"\")\n",
            "\u001b[0;32m/usr/local/lib/python3.6/dist-packages/tensorflow/python/ops/gen_string_ops.py\u001b[0m in \u001b[0;36mstring_lower\u001b[0;34m(input, encoding, name)\u001b[0m\n\u001b[1;32m   1015\u001b[0m   \u001b[0;32mtry\u001b[0m\u001b[0;34m:\u001b[0m\u001b[0;34m\u001b[0m\u001b[0;34m\u001b[0m\u001b[0m\n\u001b[1;32m   1016\u001b[0m     _, _, _op, _outputs = _op_def_library._apply_op_helper(\n\u001b[0;32m-> 1017\u001b[0;31m         \"StringLower\", input=input, encoding=encoding, name=name)\n\u001b[0m\u001b[1;32m   1018\u001b[0m   \u001b[0;32mexcept\u001b[0m \u001b[0;34m(\u001b[0m\u001b[0mTypeError\u001b[0m\u001b[0;34m,\u001b[0m \u001b[0mValueError\u001b[0m\u001b[0;34m)\u001b[0m\u001b[0;34m:\u001b[0m\u001b[0;34m\u001b[0m\u001b[0;34m\u001b[0m\u001b[0m\n\u001b[1;32m   1019\u001b[0m     result = _dispatch.dispatch(\n",
            "\u001b[0;32m/usr/local/lib/python3.6/dist-packages/tensorflow/python/framework/op_def_library.py\u001b[0m in \u001b[0;36m_apply_op_helper\u001b[0;34m(op_type_name, name, **keywords)\u001b[0m\n\u001b[1;32m    543\u001b[0m           \u001b[0;32mif\u001b[0m \u001b[0minput_arg\u001b[0m\u001b[0;34m.\u001b[0m\u001b[0mtype\u001b[0m \u001b[0;34m!=\u001b[0m \u001b[0mtypes_pb2\u001b[0m\u001b[0;34m.\u001b[0m\u001b[0mDT_INVALID\u001b[0m\u001b[0;34m:\u001b[0m\u001b[0;34m\u001b[0m\u001b[0;34m\u001b[0m\u001b[0m\n\u001b[1;32m    544\u001b[0m             raise TypeError(\"%s expected type of %s.\" %\n\u001b[0;32m--> 545\u001b[0;31m                             (prefix, dtypes.as_dtype(input_arg.type).name))\n\u001b[0m\u001b[1;32m    546\u001b[0m           \u001b[0;32melse\u001b[0m\u001b[0;34m:\u001b[0m\u001b[0;34m\u001b[0m\u001b[0;34m\u001b[0m\u001b[0m\n\u001b[1;32m    547\u001b[0m             \u001b[0;31m# Update the maps with the default, if needed.\u001b[0m\u001b[0;34m\u001b[0m\u001b[0;34m\u001b[0m\u001b[0;34m\u001b[0m\u001b[0m\n",
            "\u001b[0;31mTypeError\u001b[0m: Input 'input' of 'StringLower' Op has type int64 that does not match expected type of string."
          ]
        }
      ]
    },
    {
      "cell_type": "code",
      "metadata": {
        "id": "MWxjAKqYDRRf"
      },
      "source": [
        "from sklearn.model_selection import train_test_split\r\n"
      ],
      "execution_count": 92,
      "outputs": []
    },
    {
      "cell_type": "code",
      "metadata": {
        "id": "2usHagAADPt9"
      },
      "source": [
        "X_train, X_test, y_train, y_test = train_test_split(\r\n",
        "    X, y, test_size=0.33, random_state=42)"
      ],
      "execution_count": 93,
      "outputs": []
    },
    {
      "cell_type": "markdown",
      "metadata": {
        "id": "uQ8pYrC47cl9"
      },
      "source": [
        "Embedding"
      ]
    },
    {
      "cell_type": "code",
      "metadata": {
        "id": "JW0hAGPh7fS2"
      },
      "source": [
        "from tensorflow.keras.layers import Embedding\r\n",
        "\r\n",
        "# Note that we're using max_tokens + 1 here, since there's an\r\n",
        "# out-of-vocabulary (OOV) token that gets added to the vocab.\r\n",
        "model.add(Embedding(max_tokens + 1, 64))"
      ],
      "execution_count": 94,
      "outputs": []
    },
    {
      "cell_type": "markdown",
      "metadata": {
        "id": "nubi_q1L7iYh"
      },
      "source": [
        "The Recurrent Layer"
      ]
    },
    {
      "cell_type": "code",
      "metadata": {
        "id": "IyhhNOM88IJB"
      },
      "source": [
        "from tensorflow.keras.layers import LSTM, SimpleRNN\r\n",
        "\r\n",
        "# 64 is the \"units\" parameter, which is the\r\n",
        "# dimensionality of the output space.\r\n",
        "model.add(LSTM(32))"
      ],
      "execution_count": 95,
      "outputs": []
    },
    {
      "cell_type": "code",
      "metadata": {
        "id": "DvdvOX8z8LFi"
      },
      "source": [
        "from tensorflow.keras.layers import Dense\r\n",
        "\r\n",
        "model.add(Dense(16, activation=\"relu\"))\r\n",
        "model.add(Dense(1, activation=\"sigmoid\"))"
      ],
      "execution_count": 96,
      "outputs": []
    },
    {
      "cell_type": "code",
      "metadata": {
        "colab": {
          "base_uri": "https://localhost:8080/"
        },
        "id": "HlCbzW_k8OOa",
        "outputId": "f0dccaf9-bc49-4a38-f99a-2e83c8b4e0cf"
      },
      "source": [
        "model.summary()"
      ],
      "execution_count": 97,
      "outputs": [
        {
          "output_type": "stream",
          "text": [
            "Model: \"sequential_2\"\n",
            "_________________________________________________________________\n",
            "Layer (type)                 Output Shape              Param #   \n",
            "=================================================================\n",
            "text_vectorization_1 (TextVe (None, 5)                 0         \n",
            "_________________________________________________________________\n",
            "embedding_2 (Embedding)      (None, 5, 64)             32064     \n",
            "_________________________________________________________________\n",
            "lstm_1 (LSTM)                (None, 32)                12416     \n",
            "_________________________________________________________________\n",
            "dense_4 (Dense)              (None, 16)                528       \n",
            "_________________________________________________________________\n",
            "dense_5 (Dense)              (None, 1)                 17        \n",
            "=================================================================\n",
            "Total params: 45,025\n",
            "Trainable params: 45,025\n",
            "Non-trainable params: 0\n",
            "_________________________________________________________________\n"
          ],
          "name": "stdout"
        }
      ]
    },
    {
      "cell_type": "markdown",
      "metadata": {
        "id": "jj4VM2si8SUS"
      },
      "source": [
        "4. Compiling the Model"
      ]
    },
    {
      "cell_type": "code",
      "metadata": {
        "id": "MQLqRKeT8Ztc"
      },
      "source": [
        "model.compile(\r\n",
        "  optimizer='adam',\r\n",
        "  loss='binary_crossentropy',\r\n",
        "  metrics=['accuracy'],\r\n",
        ")"
      ],
      "execution_count": 98,
      "outputs": []
    },
    {
      "cell_type": "markdown",
      "metadata": {
        "id": "huxHMcxJ8X5b"
      },
      "source": [
        "Training the model"
      ]
    },
    {
      "cell_type": "code",
      "metadata": {
        "colab": {
          "base_uri": "https://localhost:8080/"
        },
        "id": "jFIVvuMG8XFd",
        "outputId": "e969dfcd-b084-49f3-8c95-7e55669fcace"
      },
      "source": [
        "history = model.fit(X_train, y_train, epochs=20, validation_data=(X_test, y_test))"
      ],
      "execution_count": 99,
      "outputs": [
        {
          "output_type": "stream",
          "text": [
            "Epoch 1/20\n",
            "117/117 [==============================] - 3s 11ms/step - loss: 0.5314 - accuracy: 0.8568 - val_loss: 0.2148 - val_accuracy: 0.9179\n",
            "Epoch 2/20\n",
            "117/117 [==============================] - 1s 8ms/step - loss: 0.1949 - accuracy: 0.9298 - val_loss: 0.1661 - val_accuracy: 0.9429\n",
            "Epoch 3/20\n",
            "117/117 [==============================] - 1s 6ms/step - loss: 0.1459 - accuracy: 0.9487 - val_loss: 0.1645 - val_accuracy: 0.9462\n",
            "Epoch 4/20\n",
            "117/117 [==============================] - 1s 6ms/step - loss: 0.1250 - accuracy: 0.9558 - val_loss: 0.1739 - val_accuracy: 0.9413\n",
            "Epoch 5/20\n",
            "117/117 [==============================] - 1s 6ms/step - loss: 0.1268 - accuracy: 0.9567 - val_loss: 0.1934 - val_accuracy: 0.9358\n",
            "Epoch 6/20\n",
            "117/117 [==============================] - 1s 6ms/step - loss: 0.1059 - accuracy: 0.9637 - val_loss: 0.1767 - val_accuracy: 0.9402\n",
            "Epoch 7/20\n",
            "117/117 [==============================] - 1s 6ms/step - loss: 0.1043 - accuracy: 0.9645 - val_loss: 0.1929 - val_accuracy: 0.9358\n",
            "Epoch 8/20\n",
            "117/117 [==============================] - 1s 6ms/step - loss: 0.1000 - accuracy: 0.9633 - val_loss: 0.1849 - val_accuracy: 0.9418\n",
            "Epoch 9/20\n",
            "117/117 [==============================] - 1s 6ms/step - loss: 0.1044 - accuracy: 0.9626 - val_loss: 0.1942 - val_accuracy: 0.9375\n",
            "Epoch 10/20\n",
            "117/117 [==============================] - 1s 6ms/step - loss: 0.0906 - accuracy: 0.9705 - val_loss: 0.1922 - val_accuracy: 0.9434\n",
            "Epoch 11/20\n",
            "117/117 [==============================] - 1s 6ms/step - loss: 0.1061 - accuracy: 0.9618 - val_loss: 0.2036 - val_accuracy: 0.9407\n",
            "Epoch 12/20\n",
            "117/117 [==============================] - 1s 6ms/step - loss: 0.0919 - accuracy: 0.9687 - val_loss: 0.2151 - val_accuracy: 0.9347\n",
            "Epoch 13/20\n",
            "117/117 [==============================] - 1s 6ms/step - loss: 0.0924 - accuracy: 0.9657 - val_loss: 0.2212 - val_accuracy: 0.9369\n",
            "Epoch 14/20\n",
            "117/117 [==============================] - 1s 6ms/step - loss: 0.0844 - accuracy: 0.9726 - val_loss: 0.2384 - val_accuracy: 0.9369\n",
            "Epoch 15/20\n",
            "117/117 [==============================] - 1s 6ms/step - loss: 0.0778 - accuracy: 0.9679 - val_loss: 0.2369 - val_accuracy: 0.9407\n",
            "Epoch 16/20\n",
            "117/117 [==============================] - 1s 6ms/step - loss: 0.0702 - accuracy: 0.9743 - val_loss: 0.2491 - val_accuracy: 0.9418\n",
            "Epoch 17/20\n",
            "117/117 [==============================] - 1s 6ms/step - loss: 0.0762 - accuracy: 0.9701 - val_loss: 0.2698 - val_accuracy: 0.9391\n",
            "Epoch 18/20\n",
            "117/117 [==============================] - 1s 6ms/step - loss: 0.0799 - accuracy: 0.9658 - val_loss: 0.3293 - val_accuracy: 0.9347\n",
            "Epoch 19/20\n",
            "117/117 [==============================] - 1s 6ms/step - loss: 0.0680 - accuracy: 0.9718 - val_loss: 0.2917 - val_accuracy: 0.9407\n",
            "Epoch 20/20\n",
            "117/117 [==============================] - 1s 6ms/step - loss: 0.0662 - accuracy: 0.9723 - val_loss: 0.2884 - val_accuracy: 0.9380\n"
          ],
          "name": "stdout"
        }
      ]
    },
    {
      "cell_type": "code",
      "metadata": {
        "id": "Nz8YG7BrCv1N"
      },
      "source": [
        "import matplotlib.pylab as plt\r\n"
      ],
      "execution_count": 100,
      "outputs": []
    },
    {
      "cell_type": "code",
      "metadata": {
        "colab": {
          "base_uri": "https://localhost:8080/",
          "height": 295
        },
        "id": "tIMo8mgrDvOg",
        "outputId": "f32e66cd-f5e1-4c98-fc4b-5b1ef19b4f55"
      },
      "source": [
        "# summarize history for accuracy\r\n",
        "plt.plot(history.history['accuracy'])\r\n",
        "plt.title('model accuracy')\r\n",
        "plt.ylabel('accuracy')\r\n",
        "plt.xlabel('epoch')\r\n",
        "plt.legend(['train', 'test'], loc='upper left')\r\n",
        "plt.show()\r\n"
      ],
      "execution_count": 101,
      "outputs": [
        {
          "output_type": "display_data",
          "data": {
            "image/png": "[encoded data removed]",
            "text/plain": [
              "<Figure size 432x288 with 1 Axes>"
            ]
          },
          "metadata": {
            "tags": [],
            "needs_background": "light"
          }
        }
      ]
    },
    {
      "cell_type": "code",
      "metadata": {
        "colab": {
          "base_uri": "https://localhost:8080/",
          "height": 295
        },
        "id": "620hkPz4DwT_",
        "outputId": "e9254aba-38d0-40e5-f44e-58ced9187e88"
      },
      "source": [
        "# summarize history for loss\r\n",
        "plt.plot(history.history['loss'])\r\n",
        "plt.title('model loss')\r\n",
        "plt.ylabel('loss')\r\n",
        "plt.xlabel('epoch')\r\n",
        "plt.legend(['train', 'test'], loc='upper left')\r\n",
        "plt.show()"
      ],
      "execution_count": 102,
      "outputs": [
        {
          "output_type": "display_data",
          "data": {
            "image/png": "[encoded data removed]",
            "text/plain": [
              "<Figure size 432x288 with 1 Axes>"
            ]
          },
          "metadata": {
            "tags": [],
            "needs_background": "light"
          }
        }
      ]
    },
    {
      "cell_type": "code",
      "metadata": {
        "colab": {
          "base_uri": "https://localhost:8080/"
        },
        "id": "Y4BYOIInDy6m",
        "outputId": "554f764c-3855-46ae-ef7e-698d2074e725"
      },
      "source": [
        "# First get the weights of the embedding layer\r\n",
        "e = model.layers[1]\r\n",
        "weights = e.get_weights()[0]\r\n",
        "print(weights.shape) # shape: (vocab_size, embedding_dim)"
      ],
      "execution_count": 103,
      "outputs": [
        {
          "output_type": "stream",
          "text": [
            "(501, 64)\n"
          ],
          "name": "stdout"
        }
      ]
    },
    {
      "cell_type": "code",
      "metadata": {
        "id": "Mb0uyAyOD16k"
      },
      "source": [
        "import io\r\n",
        "\r\n",
        "# Write out the embedding vectors and metadata\r\n",
        "out_v = io.open('vecs.tsv', 'w', encoding='utf-8')\r\n",
        "out_m = io.open('meta.tsv', 'w', encoding='utf-8')\r\n",
        "for word_num in range(1, max_tokens):\r\n",
        "  word = reverse_word_index[word_num]\r\n",
        "  embeddings = weights[word_num]\r\n",
        "  out_m.write(word + \"\\n\")\r\n",
        "  out_v.write('\\t'.join([str(x) for x in embeddings]) + \"\\n\")\r\n",
        "out_v.close()\r\n",
        "out_m.close()"
      ],
      "execution_count": 104,
      "outputs": []
    },
    {
      "cell_type": "code",
      "metadata": {
        "colab": {
          "base_uri": "https://localhost:8080/",
          "height": 17
        },
        "id": "PtPr6U-YEQwk",
        "outputId": "7878d3ec-0d48-4613-d451-e1b2c206b26a"
      },
      "source": [
        "# Download the files\r\n",
        "try:\r\n",
        "  from google.colab import files\r\n",
        "except ImportError:\r\n",
        "  pass\r\n",
        "else:\r\n",
        "  files.download('vecs.tsv')\r\n",
        "  files.download('meta.tsv')"
      ],
      "execution_count": 105,
      "outputs": [
        {
          "output_type": "display_data",
          "data": {
            "application/javascript": [
              "\n",
              "    async function download(id, filename, size) {\n",
              "      if (!google.colab.kernel.accessAllowed) {\n",
              "        return;\n",
              "      }\n",
              "      const div = document.createElement('div');\n",
              "      const label = document.createElement('label');\n",
              "      label.textContent = `Downloading \"${filename}\": `;\n",
              "      div.appendChild(label);\n",
              "      const progress = document.createElement('progress');\n",
              "      progress.max = size;\n",
              "      div.appendChild(progress);\n",
              "      document.body.appendChild(div);\n",
              "\n",
              "      const buffers = [];\n",
              "      let downloaded = 0;\n",
              "\n",
              "      const channel = await google.colab.kernel.comms.open(id);\n",
              "      // Send a message to notify the kernel that we're ready.\n",
              "      channel.send({})\n",
              "\n",
              "      for await (const message of channel.messages) {\n",
              "        // Send a message to notify the kernel that we're ready.\n",
              "        channel.send({})\n",
              "        if (message.buffers) {\n",
              "          for (const buffer of message.buffers) {\n",
              "            buffers.push(buffer);\n",
              "            downloaded += buffer.byteLength;\n",
              "            progress.value = downloaded;\n",
              "          }\n",
              "        }\n",
              "      }\n",
              "      const blob = new Blob(buffers, {type: 'application/binary'});\n",
              "      const a = document.createElement('a');\n",
              "      a.href = window.URL.createObjectURL(blob);\n",
              "      a.download = filename;\n",
              "      div.appendChild(a);\n",
              "      a.click();\n",
              "      div.remove();\n",
              "    }\n",
              "  "
            ],
            "text/plain": [
              "<IPython.core.display.Javascript object>"
            ]
          },
          "metadata": {
            "tags": []
          }
        },
        {
          "output_type": "display_data",
          "data": {
            "application/javascript": [
              "download(\"download_7c978f87-b499-4915-b485-7f2a09c12efb\", \"vecs.tsv\", 378832)"
            ],
            "text/plain": [
              "<IPython.core.display.Javascript object>"
            ]
          },
          "metadata": {
            "tags": []
          }
        },
        {
          "output_type": "display_data",
          "data": {
            "application/javascript": [
              "\n",
              "    async function download(id, filename, size) {\n",
              "      if (!google.colab.kernel.accessAllowed) {\n",
              "        return;\n",
              "      }\n",
              "      const div = document.createElement('div');\n",
              "      const label = document.createElement('label');\n",
              "      label.textContent = `Downloading \"${filename}\": `;\n",
              "      div.appendChild(label);\n",
              "      const progress = document.createElement('progress');\n",
              "      progress.max = size;\n",
              "      div.appendChild(progress);\n",
              "      document.body.appendChild(div);\n",
              "\n",
              "      const buffers = [];\n",
              "      let downloaded = 0;\n",
              "\n",
              "      const channel = await google.colab.kernel.comms.open(id);\n",
              "      // Send a message to notify the kernel that we're ready.\n",
              "      channel.send({})\n",
              "\n",
              "      for await (const message of channel.messages) {\n",
              "        // Send a message to notify the kernel that we're ready.\n",
              "        channel.send({})\n",
              "        if (message.buffers) {\n",
              "          for (const buffer of message.buffers) {\n",
              "            buffers.push(buffer);\n",
              "            downloaded += buffer.byteLength;\n",
              "            progress.value = downloaded;\n",
              "          }\n",
              "        }\n",
              "      }\n",
              "      const blob = new Blob(buffers, {type: 'application/binary'});\n",
              "      const a = document.createElement('a');\n",
              "      a.href = window.URL.createObjectURL(blob);\n",
              "      a.download = filename;\n",
              "      div.appendChild(a);\n",
              "      a.click();\n",
              "      div.remove();\n",
              "    }\n",
              "  "
            ],
            "text/plain": [
              "<IPython.core.display.Javascript object>"
            ]
          },
          "metadata": {
            "tags": []
          }
        },
        {
          "output_type": "display_data",
          "data": {
            "application/javascript": [
              "download(\"download_4e3f2cd8-9e1b-4ae7-905b-43f259cb281c\", \"meta.tsv\", 2585)"
            ],
            "text/plain": [
              "<IPython.core.display.Javascript object>"
            ]
          },
          "metadata": {
            "tags": []
          }
        }
      ]
    },
    {
      "cell_type": "code",
      "metadata": {
        "id": "Hax0XoQuESn2",
        "colab": {
          "base_uri": "https://localhost:8080/"
        },
        "outputId": "7196b098-9b1f-4cab-c734-435100cbcbda"
      },
      "source": [
        "model2 = Sequential()\r\n",
        "model2.add(Input(shape=(1,), dtype=\"string\"))\r\n",
        "model2.add(vectorize_layer)\r\n",
        "model2.add(Embedding(max_tokens + 1, 8))\r\n",
        "model2.add(SimpleRNN(16))\r\n",
        "model2.add(Dense(16, activation=\"relu\"))\r\n",
        "model2.add(Dense(1, activation=\"sigmoid\"))\r\n",
        "model2.summary()"
      ],
      "execution_count": 106,
      "outputs": [
        {
          "output_type": "stream",
          "text": [
            "Model: \"sequential_3\"\n",
            "_________________________________________________________________\n",
            "Layer (type)                 Output Shape              Param #   \n",
            "=================================================================\n",
            "text_vectorization_1 (TextVe (None, 5)                 0         \n",
            "_________________________________________________________________\n",
            "embedding_3 (Embedding)      (None, 5, 8)              4008      \n",
            "_________________________________________________________________\n",
            "simple_rnn_1 (SimpleRNN)     (None, 16)                400       \n",
            "_________________________________________________________________\n",
            "dense_6 (Dense)              (None, 16)                272       \n",
            "_________________________________________________________________\n",
            "dense_7 (Dense)              (None, 1)                 17        \n",
            "=================================================================\n",
            "Total params: 4,697\n",
            "Trainable params: 4,697\n",
            "Non-trainable params: 0\n",
            "_________________________________________________________________\n"
          ],
          "name": "stdout"
        }
      ]
    },
    {
      "cell_type": "code",
      "metadata": {
        "id": "cvnygD8-gNdC"
      },
      "source": [
        "model2.compile(\r\n",
        "  optimizer='adam',\r\n",
        "  loss='binary_crossentropy',\r\n",
        "  metrics=['accuracy'],\r\n",
        ")\r\n"
      ],
      "execution_count": 107,
      "outputs": []
    },
    {
      "cell_type": "code",
      "metadata": {
        "colab": {
          "base_uri": "https://localhost:8080/"
        },
        "id": "ftxOlp-cgWjN",
        "outputId": "18978056-b1d2-49ee-af8e-bbeb155076b2"
      },
      "source": [
        "history = model2.fit(X_train, y_train, epochs=20, validation_data=(X_test, y_test))"
      ],
      "execution_count": 108,
      "outputs": [
        {
          "output_type": "stream",
          "text": [
            "Epoch 1/20\n",
            "117/117 [==============================] - 2s 7ms/step - loss: 0.5239 - accuracy: 0.8380 - val_loss: 0.3221 - val_accuracy: 0.8662\n",
            "Epoch 2/20\n",
            "117/117 [==============================] - 0s 4ms/step - loss: 0.2911 - accuracy: 0.8697 - val_loss: 0.2090 - val_accuracy: 0.9277\n",
            "Epoch 3/20\n",
            "117/117 [==============================] - 0s 4ms/step - loss: 0.1672 - accuracy: 0.9389 - val_loss: 0.1804 - val_accuracy: 0.9337\n",
            "Epoch 4/20\n",
            "117/117 [==============================] - 0s 4ms/step - loss: 0.1259 - accuracy: 0.9570 - val_loss: 0.1751 - val_accuracy: 0.9413\n",
            "Epoch 5/20\n",
            "117/117 [==============================] - 0s 4ms/step - loss: 0.1022 - accuracy: 0.9693 - val_loss: 0.1756 - val_accuracy: 0.9445\n",
            "Epoch 6/20\n",
            "117/117 [==============================] - 0s 4ms/step - loss: 0.0988 - accuracy: 0.9689 - val_loss: 0.1823 - val_accuracy: 0.9451\n",
            "Epoch 7/20\n",
            "117/117 [==============================] - 0s 4ms/step - loss: 0.0829 - accuracy: 0.9734 - val_loss: 0.1977 - val_accuracy: 0.9369\n",
            "Epoch 8/20\n",
            "117/117 [==============================] - 0s 4ms/step - loss: 0.0738 - accuracy: 0.9766 - val_loss: 0.1875 - val_accuracy: 0.9473\n",
            "Epoch 9/20\n",
            "117/117 [==============================] - 0s 4ms/step - loss: 0.0629 - accuracy: 0.9808 - val_loss: 0.2060 - val_accuracy: 0.9396\n",
            "Epoch 10/20\n",
            "117/117 [==============================] - 0s 4ms/step - loss: 0.0603 - accuracy: 0.9800 - val_loss: 0.2033 - val_accuracy: 0.9429\n",
            "Epoch 11/20\n",
            "117/117 [==============================] - 0s 4ms/step - loss: 0.0555 - accuracy: 0.9805 - val_loss: 0.2144 - val_accuracy: 0.9429\n",
            "Epoch 12/20\n",
            "117/117 [==============================] - 0s 4ms/step - loss: 0.0533 - accuracy: 0.9841 - val_loss: 0.2216 - val_accuracy: 0.9440\n",
            "Epoch 13/20\n",
            "117/117 [==============================] - 0s 4ms/step - loss: 0.0423 - accuracy: 0.9873 - val_loss: 0.2352 - val_accuracy: 0.9353\n",
            "Epoch 14/20\n",
            "117/117 [==============================] - 0s 4ms/step - loss: 0.0432 - accuracy: 0.9841 - val_loss: 0.2244 - val_accuracy: 0.9407\n",
            "Epoch 15/20\n",
            "117/117 [==============================] - 1s 5ms/step - loss: 0.0381 - accuracy: 0.9820 - val_loss: 0.2464 - val_accuracy: 0.9380\n",
            "Epoch 16/20\n",
            "117/117 [==============================] - 0s 4ms/step - loss: 0.0434 - accuracy: 0.9862 - val_loss: 0.2427 - val_accuracy: 0.9424\n",
            "Epoch 17/20\n",
            "117/117 [==============================] - 0s 4ms/step - loss: 0.0369 - accuracy: 0.9866 - val_loss: 0.2539 - val_accuracy: 0.9402\n",
            "Epoch 18/20\n",
            "117/117 [==============================] - 0s 4ms/step - loss: 0.0329 - accuracy: 0.9910 - val_loss: 0.2692 - val_accuracy: 0.9391\n",
            "Epoch 19/20\n",
            "117/117 [==============================] - 0s 4ms/step - loss: 0.0486 - accuracy: 0.9821 - val_loss: 0.2847 - val_accuracy: 0.9293\n",
            "Epoch 20/20\n",
            "117/117 [==============================] - 0s 4ms/step - loss: 0.0298 - accuracy: 0.9910 - val_loss: 0.2816 - val_accuracy: 0.9260\n"
          ],
          "name": "stdout"
        }
      ]
    },
    {
      "cell_type": "code",
      "metadata": {
        "colab": {
          "base_uri": "https://localhost:8080/",
          "height": 295
        },
        "id": "fLn0t8q3g6yb",
        "outputId": "37305a89-c706-42d4-a8fd-c8e1f881636c"
      },
      "source": [
        "# summarize history for accuracy\r\n",
        "plt.plot(history.history['accuracy'])\r\n",
        "plt.title('model accuracy')\r\n",
        "plt.ylabel('accuracy')\r\n",
        "plt.xlabel('epoch')\r\n",
        "plt.legend(['train', 'test'], loc='upper left')\r\n",
        "plt.show()"
      ],
      "execution_count": 109,
      "outputs": [
        {
          "output_type": "display_data",
          "data": {
            "image/png": "[encoded data removed]",
            "text/plain": [
              "<Figure size 432x288 with 1 Axes>"
            ]
          },
          "metadata": {
            "tags": [],
            "needs_background": "light"
          }
        }
      ]
    }
  ]
}