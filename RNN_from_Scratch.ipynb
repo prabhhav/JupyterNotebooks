{
  "nbformat": 4,
  "nbformat_minor": 0,
  "metadata": {
    "colab": {
      "name": "RNN from Scratch.ipynb",
      "provenance": [],
      "collapsed_sections": [],
      "authorship_tag": "ABX9TyPdZlpwaZL74zJvwKLg63nt",
      "include_colab_link": true
    },
    "kernelspec": {
      "name": "python3",
      "display_name": "Python 3"
    },
    "accelerator": "GPU"
  },
  "cells": [
    {
      "cell_type": "markdown",
      "metadata": {
        "id": "view-in-github",
        "colab_type": "text"
      },
      "source": [
        "<a href=\"https://colab.research.google.com/github/prabhhav/JupyterNotebooks/blob/main/RNN_from_Scratch.ipynb\" target=\"_parent\"><img src=\"https://colab.research.google.com/assets/colab-badge.svg\" alt=\"Open In Colab\"/></a>"
      ]
    },
    {
      "cell_type": "code",
      "metadata": {
        "id": "b5VuwDmPuCQy"
      },
      "source": [
        "train_data = {\r\n",
        "  'good': True,\r\n",
        "  'bad': False,\r\n",
        "  'happy': True,\r\n",
        "  'sad': False,\r\n",
        "  'not good': False,\r\n",
        "  'not bad': True,\r\n",
        "  'not happy': False,\r\n",
        "  'not sad': True,\r\n",
        "  'very good': True,\r\n",
        "  'very bad': False,\r\n",
        "  'very happy': True,\r\n",
        "  'very sad': False,\r\n",
        "  'i am happy': True,\r\n",
        "  'this is good': True,\r\n",
        "  'i am bad': False,\r\n",
        "  'this is bad': False,\r\n",
        "  'i am sad': False,\r\n",
        "  'this is sad': False,\r\n",
        "  'i am not happy': False,\r\n",
        "  'this is not good': False,\r\n",
        "  'i am not bad': True,\r\n",
        "  'this is not sad': True,\r\n",
        "  'i am very happy': True,\r\n",
        "  'this is very good': True,\r\n",
        "  'i am very bad': False,\r\n",
        "  'this is very sad': False,\r\n",
        "  'this is very happy': True,\r\n",
        "  'i am good not bad': True,\r\n",
        "  'this is good not bad': True,\r\n",
        "  'i am bad not good': False,\r\n",
        "  'i am good and happy': True,\r\n",
        "  'this is not good and not happy': False,\r\n",
        "  'i am not at all good': False,\r\n",
        "  'i am not at all bad': True,\r\n",
        "  'i am not at all happy': False,\r\n",
        "  'this is not at all sad': True,\r\n",
        "  'this is not at all happy': False,\r\n",
        "  'i am good right now': True,\r\n",
        "  'i am bad right now': False,\r\n",
        "  'this is bad right now': False,\r\n",
        "  'i am sad right now': False,\r\n",
        "  'i was good earlier': True,\r\n",
        "  'i was happy earlier': True,\r\n",
        "  'i was bad earlier': False,\r\n",
        "  'i was sad earlier': False,\r\n",
        "  'i am very bad right now': False,\r\n",
        "  'this is very good right now': True,\r\n",
        "  'this is very sad right now': False,\r\n",
        "  'this was bad earlier': False,\r\n",
        "  'this was very good earlier': True,\r\n",
        "  'this was very bad earlier': False,\r\n",
        "  'this was very happy earlier': True,\r\n",
        "  'this was very sad earlier': False,\r\n",
        "  'i was good and not bad earlier': True,\r\n",
        "  'i was not good and not happy earlier': False,\r\n",
        "  'i am not at all bad or sad right now': True,\r\n",
        "  'i am not at all good or happy right now': False,\r\n",
        "  'this was not happy and not good earlier': False,\r\n",
        "}\r\n",
        "\r\n",
        "test_data = {\r\n",
        "  'this is happy': True,\r\n",
        "  'i am good': True,\r\n",
        "  'this is not happy': False,\r\n",
        "  'i am not good': False,\r\n",
        "  'this is not bad': True,\r\n",
        "  'i am not sad': True,\r\n",
        "  'i am very good': True,\r\n",
        "  'this is very bad': False,\r\n",
        "  'i am very sad': False,\r\n",
        "  'this is bad not good': False,\r\n",
        "  'this is good and happy': True,\r\n",
        "  'i am not good and not happy': False,\r\n",
        "  'i am not at all sad': True,\r\n",
        "  'this is not at all good': False,\r\n",
        "  'this is not at all bad': True,\r\n",
        "  'this is good right now': True,\r\n",
        "  'this is sad right now': False,\r\n",
        "  'this is very bad right now': False,\r\n",
        "  'this was good earlier': True,\r\n",
        "  'i was not happy and not good earlier': False,\r\n",
        "}"
      ],
      "execution_count": 34,
      "outputs": []
    },
    {
      "cell_type": "code",
      "metadata": {
        "id": "02LEyRLCucNc",
        "colab": {
          "base_uri": "https://localhost:8080/"
        },
        "outputId": "7462c1ea-2a5c-409a-bef2-16f8fcec893b"
      },
      "source": [
        "for text in train_data.keys():\r\n",
        "  print(text.split(' '))"
      ],
      "execution_count": 40,
      "outputs": [
        {
          "output_type": "stream",
          "text": [
            "['good']\n",
            "['bad']\n",
            "['happy']\n",
            "['sad']\n",
            "['not', 'good']\n",
            "['not', 'bad']\n",
            "['not', 'happy']\n",
            "['not', 'sad']\n",
            "['very', 'good']\n",
            "['very', 'bad']\n",
            "['very', 'happy']\n",
            "['very', 'sad']\n",
            "['i', 'am', 'happy']\n",
            "['this', 'is', 'good']\n",
            "['i', 'am', 'bad']\n",
            "['this', 'is', 'bad']\n",
            "['i', 'am', 'sad']\n",
            "['this', 'is', 'sad']\n",
            "['i', 'am', 'not', 'happy']\n",
            "['this', 'is', 'not', 'good']\n",
            "['i', 'am', 'not', 'bad']\n",
            "['this', 'is', 'not', 'sad']\n",
            "['i', 'am', 'very', 'happy']\n",
            "['this', 'is', 'very', 'good']\n",
            "['i', 'am', 'very', 'bad']\n",
            "['this', 'is', 'very', 'sad']\n",
            "['this', 'is', 'very', 'happy']\n",
            "['i', 'am', 'good', 'not', 'bad']\n",
            "['this', 'is', 'good', 'not', 'bad']\n",
            "['i', 'am', 'bad', 'not', 'good']\n",
            "['i', 'am', 'good', 'and', 'happy']\n",
            "['this', 'is', 'not', 'good', 'and', 'not', 'happy']\n",
            "['i', 'am', 'not', 'at', 'all', 'good']\n",
            "['i', 'am', 'not', 'at', 'all', 'bad']\n",
            "['i', 'am', 'not', 'at', 'all', 'happy']\n",
            "['this', 'is', 'not', 'at', 'all', 'sad']\n",
            "['this', 'is', 'not', 'at', 'all', 'happy']\n",
            "['i', 'am', 'good', 'right', 'now']\n",
            "['i', 'am', 'bad', 'right', 'now']\n",
            "['this', 'is', 'bad', 'right', 'now']\n",
            "['i', 'am', 'sad', 'right', 'now']\n",
            "['i', 'was', 'good', 'earlier']\n",
            "['i', 'was', 'happy', 'earlier']\n",
            "['i', 'was', 'bad', 'earlier']\n",
            "['i', 'was', 'sad', 'earlier']\n",
            "['i', 'am', 'very', 'bad', 'right', 'now']\n",
            "['this', 'is', 'very', 'good', 'right', 'now']\n",
            "['this', 'is', 'very', 'sad', 'right', 'now']\n",
            "['this', 'was', 'bad', 'earlier']\n",
            "['this', 'was', 'very', 'good', 'earlier']\n",
            "['this', 'was', 'very', 'bad', 'earlier']\n",
            "['this', 'was', 'very', 'happy', 'earlier']\n",
            "['this', 'was', 'very', 'sad', 'earlier']\n",
            "['i', 'was', 'good', 'and', 'not', 'bad', 'earlier']\n",
            "['i', 'was', 'not', 'good', 'and', 'not', 'happy', 'earlier']\n",
            "['i', 'am', 'not', 'at', 'all', 'bad', 'or', 'sad', 'right', 'now']\n",
            "['i', 'am', 'not', 'at', 'all', 'good', 'or', 'happy', 'right', 'now']\n",
            "['this', 'was', 'not', 'happy', 'and', 'not', 'good', 'earlier']\n"
          ],
          "name": "stdout"
        }
      ]
    },
    {
      "cell_type": "code",
      "metadata": {
        "colab": {
          "base_uri": "https://localhost:8080/"
        },
        "id": "qu5g4W_muqiz",
        "outputId": "7a103055-7efe-43b5-a7df-dd1310a451ee"
      },
      "source": [
        "train_data.values()"
      ],
      "execution_count": 41,
      "outputs": [
        {
          "output_type": "execute_result",
          "data": {
            "text/plain": [
              "dict_values([True, False, True, False, False, True, False, True, True, False, True, False, True, True, False, False, False, False, False, False, True, True, True, True, False, False, True, True, True, False, True, False, False, True, False, True, False, True, False, False, False, True, True, False, False, False, True, False, False, True, False, True, False, True, False, True, False, False])"
            ]
          },
          "metadata": {
            "tags": []
          },
          "execution_count": 41
        }
      ]
    },
    {
      "cell_type": "code",
      "metadata": {
        "id": "lgra4qhrvOn2",
        "colab": {
          "base_uri": "https://localhost:8080/"
        },
        "outputId": "1b39d71f-1826-4509-e66e-750867dfa326"
      },
      "source": [
        "vocab = list(set([w for text in train_data.keys() for w in text.split(' ')]))\r\n",
        "vocab"
      ],
      "execution_count": 42,
      "outputs": [
        {
          "output_type": "execute_result",
          "data": {
            "text/plain": [
              "['and',\n",
              " 'bad',\n",
              " 'am',\n",
              " 'very',\n",
              " 'sad',\n",
              " 'not',\n",
              " 'all',\n",
              " 'is',\n",
              " 'was',\n",
              " 'or',\n",
              " 'good',\n",
              " 'at',\n",
              " 'right',\n",
              " 'i',\n",
              " 'earlier',\n",
              " 'happy',\n",
              " 'this',\n",
              " 'now']"
            ]
          },
          "metadata": {
            "tags": []
          },
          "execution_count": 42
        }
      ]
    },
    {
      "cell_type": "code",
      "metadata": {
        "id": "znwEeuFM031t",
        "colab": {
          "base_uri": "https://localhost:8080/"
        },
        "outputId": "478b0d53-b9dd-46e6-c8f8-a47a03f367c1"
      },
      "source": [
        "vocab_size = len(vocab)\r\n",
        "print('%d unique words found' % vocab_size)"
      ],
      "execution_count": 43,
      "outputs": [
        {
          "output_type": "stream",
          "text": [
            "18 unique words found\n"
          ],
          "name": "stdout"
        }
      ]
    },
    {
      "cell_type": "code",
      "metadata": {
        "colab": {
          "base_uri": "https://localhost:8080/",
          "height": 367
        },
        "id": "XkJfAeT2pG6L",
        "outputId": "5004e653-5718-45b3-a54c-6a14b532c124"
      },
      "source": [
        ""
      ],
      "execution_count": 48,
      "outputs": [
        {
          "output_type": "error",
          "ename": "ModuleNotFoundError",
          "evalue": "ignored",
          "traceback": [
            "\u001b[0;31m---------------------------------------------------------------------------\u001b[0m",
            "\u001b[0;31mModuleNotFoundError\u001b[0m                       Traceback (most recent call last)",
            "\u001b[0;32m<ipython-input-48-cab9452f7b41>\u001b[0m in \u001b[0;36m<module>\u001b[0;34m()\u001b[0m\n\u001b[0;32m----> 1\u001b[0;31m \u001b[0;32mfrom\u001b[0m \u001b[0mtensorflow\u001b[0m\u001b[0;34m.\u001b[0m\u001b[0mcontrib\u001b[0m \u001b[0;32mimport\u001b[0m \u001b[0mrnn\u001b[0m\u001b[0;34m\u001b[0m\u001b[0;34m\u001b[0m\u001b[0m\n\u001b[0m\u001b[1;32m      2\u001b[0m \u001b[0;34m\u001b[0m\u001b[0m\n\u001b[1;32m      3\u001b[0m \u001b[0;34m\u001b[0m\u001b[0m\n\u001b[1;32m      4\u001b[0m \u001b[0mlstm_cell\u001b[0m \u001b[0;34m=\u001b[0m \u001b[0mrnn\u001b[0m\u001b[0;34m.\u001b[0m\u001b[0mBasicLSTMCell\u001b[0m\u001b[0;34m(\u001b[0m\u001b[0mrnn_size\u001b[0m\u001b[0;34m)\u001b[0m\u001b[0;34m\u001b[0m\u001b[0;34m\u001b[0m\u001b[0m\n\u001b[1;32m      5\u001b[0m \u001b[0moutputs\u001b[0m\u001b[0;34m,\u001b[0m \u001b[0mstates\u001b[0m \u001b[0;34m=\u001b[0m \u001b[0mrnn\u001b[0m\u001b[0;34m.\u001b[0m\u001b[0mstatic_rnn\u001b[0m\u001b[0;34m(\u001b[0m\u001b[0mlstm_cell\u001b[0m\u001b[0;34m,\u001b[0m \u001b[0mx\u001b[0m\u001b[0;34m,\u001b[0m \u001b[0mdtype\u001b[0m\u001b[0;34m=\u001b[0m\u001b[0mtf\u001b[0m\u001b[0;34m.\u001b[0m\u001b[0mfloat32\u001b[0m\u001b[0;34m)\u001b[0m\u001b[0;34m\u001b[0m\u001b[0;34m\u001b[0m\u001b[0m\n",
            "\u001b[0;31mModuleNotFoundError\u001b[0m: No module named 'tensorflow.contrib'",
            "",
            "\u001b[0;31m---------------------------------------------------------------------------\u001b[0;32m\nNOTE: If your import is failing due to a missing package, you can\nmanually install dependencies using either !pip or !apt.\n\nTo view examples of installing some common dependencies, click the\n\"Open Examples\" button below.\n\u001b[0;31m---------------------------------------------------------------------------\u001b[0m\n"
          ]
        }
      ]
    },
    {
      "cell_type": "markdown",
      "metadata": {
        "id": "41tZMWNr0q-g"
      },
      "source": [
        "assign an integer index"
      ]
    },
    {
      "cell_type": "code",
      "metadata": {
        "id": "Go95bASYx162",
        "colab": {
          "base_uri": "https://localhost:8080/"
        },
        "outputId": "e2468c36-df16-4b91-eeb7-de41859b605c"
      },
      "source": [
        "# Assign indices to each word\r\n",
        "word_to_idx = { w: i for i, w in enumerate(vocab) }\r\n",
        "idx_to_word = { i: w for i, w in enumerate(vocab) }\r\n",
        "\r\n",
        "print(word_to_idx['good'])\r\n",
        "print(idx_to_word)\r\n"
      ],
      "execution_count": 44,
      "outputs": [
        {
          "output_type": "stream",
          "text": [
            "10\n",
            "{0: 'and', 1: 'bad', 2: 'am', 3: 'very', 4: 'sad', 5: 'not', 6: 'all', 7: 'is', 8: 'was', 9: 'or', 10: 'good', 11: 'at', 12: 'right', 13: 'i', 14: 'earlier', 15: 'happy', 16: 'this', 17: 'now'}\n"
          ],
          "name": "stdout"
        }
      ]
    },
    {
      "cell_type": "code",
      "metadata": {
        "id": "OTaoRWzO13S3",
        "colab": {
          "base_uri": "https://localhost:8080/"
        },
        "outputId": "47aafb13-afb1-4ebd-e94c-af578aaa2531"
      },
      "source": [
        "word_to_idx"
      ],
      "execution_count": 45,
      "outputs": [
        {
          "output_type": "execute_result",
          "data": {
            "text/plain": [
              "{'all': 6,\n",
              " 'am': 2,\n",
              " 'and': 0,\n",
              " 'at': 11,\n",
              " 'bad': 1,\n",
              " 'earlier': 14,\n",
              " 'good': 10,\n",
              " 'happy': 15,\n",
              " 'i': 13,\n",
              " 'is': 7,\n",
              " 'not': 5,\n",
              " 'now': 17,\n",
              " 'or': 9,\n",
              " 'right': 12,\n",
              " 'sad': 4,\n",
              " 'this': 16,\n",
              " 'very': 3,\n",
              " 'was': 8}"
            ]
          },
          "metadata": {
            "tags": []
          },
          "execution_count": 45
        }
      ]
    },
    {
      "cell_type": "markdown",
      "metadata": {
        "id": "dJglELw03gJ4"
      },
      "source": [
        "Finally, recall that each input x_ix to our RNN is a vector. We'll use one-hot vectors, which contain all zeros except for a single one. The \"one\" in each one-hot vector will be at the word's corresponding integer index"
      ]
    },
    {
      "cell_type": "code",
      "metadata": {
        "id": "IBSpkGNp18Q1"
      },
      "source": [
        "import numpy as np"
      ],
      "execution_count": 46,
      "outputs": []
    },
    {
      "cell_type": "code",
      "metadata": {
        "id": "FqV_NzZQO8WD"
      },
      "source": [
        "def createInputs(text):\r\n",
        "\r\n",
        "\r\n",
        "  inputs = []\r\n",
        "  for w in text.split(' '):\r\n",
        "    v = np.zeros((vocab_size, 1))\r\n",
        "    v[word_to_idx[w]] = 1\r\n",
        "    inputs.append(v)\r\n",
        "    return inputs"
      ],
      "execution_count": 19,
      "outputs": []
    },
    {
      "cell_type": "code",
      "metadata": {
        "colab": {
          "base_uri": "https://localhost:8080/"
        },
        "id": "lxytH2H_P2y8",
        "outputId": "6dd511f3-fc9d-49f9-8a2f-3ff484af28b3"
      },
      "source": [
        "createInputs(\"this is happy\")"
      ],
      "execution_count": 20,
      "outputs": [
        {
          "output_type": "execute_result",
          "data": {
            "text/plain": [
              "[array([[0.],\n",
              "        [0.],\n",
              "        [0.],\n",
              "        [0.],\n",
              "        [0.],\n",
              "        [0.],\n",
              "        [0.],\n",
              "        [0.],\n",
              "        [0.],\n",
              "        [0.],\n",
              "        [0.],\n",
              "        [0.],\n",
              "        [0.],\n",
              "        [0.],\n",
              "        [0.],\n",
              "        [0.],\n",
              "        [1.],\n",
              "        [0.]])]"
            ]
          },
          "metadata": {
            "tags": []
          },
          "execution_count": 20
        }
      ]
    },
    {
      "cell_type": "markdown",
      "metadata": {
        "id": "4NF41X6DQQgR"
      },
      "source": [
        "The Forward Phase"
      ]
    },
    {
      "cell_type": "code",
      "metadata": {
        "id": "1AcmeZdoQXwB"
      },
      "source": [
        "import numpy as np\r\n",
        "from numpy.random import randn\r\n",
        "\r\n",
        "class RNN:\r\n",
        "\r\n",
        "  def __init__(self, input_size, output_size, hidden_size=64):\r\n",
        "    # Weights\r\n",
        "    self.Whh = randn(hidden_size, hidden_size) / 1000\r\n",
        "    self.Wxh = randn(hidden_size, input_size) / 1000\r\n",
        "    self.Why = randn(output_size, hidden_size) / 1000\r\n",
        "\r\n",
        "    # Biases\r\n",
        "    self.bh = np.zeros((hidden_size, 1))\r\n",
        "    self.by = np.zeros((output_size, 1))\r\n",
        "\r\n",
        "  def forward(self, inputs):\r\n",
        "\r\n",
        "    h = np.zeros((self.Whh.shape[0], 1))\r\n",
        "\r\n",
        "    self.last_inputs = inputs\r\n",
        "    self.last_hs = { 0: h }\r\n",
        "\r\n",
        "    # Perform each step of the RNN\r\n",
        "    for i, x in enumerate(inputs):\r\n",
        "      h = np.tanh(self.Wxh @ x + self.Whh @ h + self.bh)\r\n",
        "      self.last_hs[i + 1] = h\r\n",
        "\r\n",
        "    # Compute the output\r\n",
        "    y = self.Why @ h + self.by\r\n",
        "\r\n",
        "    return y, h\r\n",
        "\r\n",
        "  def backprop(self, d_y, learn_rate=2e-2):\r\n",
        "    '''\r\n",
        "    Perform a backward pass of the RNN.\r\n",
        "    - d_y (dL/dy) has shape (output_size, 1).\r\n",
        "    - learn_rate is a float.\r\n",
        "    '''\r\n",
        "    n = len(self.last_inputs)\r\n",
        "\r\n",
        "    # Calculate dL/dWhy and dL/dby.\r\n",
        "    d_Why = d_y @ self.last_hs[n].T\r\n",
        "    d_by = d_y\r\n",
        "\r\n",
        "    # Initialize dL/dWhh, dL/dWxh, and dL/dbh to zero.\r\n",
        "    d_Whh = np.zeros(self.Whh.shape)\r\n",
        "    d_Wxh = np.zeros(self.Wxh.shape)\r\n",
        "    d_bh = np.zeros(self.bh.shape)\r\n",
        "\r\n",
        "    # Calculate dL/dh for the last h.\r\n",
        "    d_h = self.Why.T @ d_y\r\n",
        "\r\n",
        "    # Backpropagate through time.\r\n",
        "    for t in reversed(range(n)):\r\n",
        "      # An intermediate value: dL/dh * (1 - h^2)\r\n",
        "      temp = ((1 - self.last_hs[t + 1] ** 2) * d_h)\r\n",
        "\r\n",
        "      # dL/db = dL/dh * (1 - h^2)\r\n",
        "      d_bh += temp\r\n",
        "\r\n",
        "      # dL/dWhh = dL/dh * (1 - h^2) * h_{t-1}\r\n",
        "      d_Whh += temp @ self.last_hs[t].T\r\n",
        "\r\n",
        "      # dL/dWxh = dL/dh * (1 - h^2) * x\r\n",
        "      d_Wxh += temp @ self.last_inputs[t].T\r\n",
        "\r\n",
        "      # Next dL/dh = dL/dh * (1 - h^2) * Whh\r\n",
        "      d_h = self.Whh @ temp\r\n",
        "\r\n",
        "    # Clip to prevent exploding gradients.\r\n",
        "    for d in [d_Wxh, d_Whh, d_Why, d_bh, d_by]:\r\n",
        "      np.clip(d, -1, 1, out=d)\r\n",
        "\r\n",
        "    # Update weights and biases using gradient descent.\r\n",
        "    self.Whh -= learn_rate * d_Whh\r\n",
        "    self.Wxh -= learn_rate * d_Wxh\r\n",
        "    self.Why -= learn_rate * d_Why\r\n",
        "    self.bh -= learn_rate * d_bh\r\n",
        "    self.by -= learn_rate * d_by\r\n",
        "\r\n",
        "\r\n",
        "\r\n",
        "\r\n"
      ],
      "execution_count": 21,
      "outputs": []
    },
    {
      "cell_type": "code",
      "metadata": {
        "id": "5MhbZwdmZNsU"
      },
      "source": [
        "def softmax(xs):\r\n",
        "  # Applies the Softmax Function to the input array.\r\n",
        "  return np.exp(xs) / sum(np.exp(xs))"
      ],
      "execution_count": 22,
      "outputs": []
    },
    {
      "cell_type": "code",
      "metadata": {
        "id": "kADCPDUFZnYR"
      },
      "source": [
        "rnn = RNN(vocab_size, 2)"
      ],
      "execution_count": 23,
      "outputs": []
    },
    {
      "cell_type": "code",
      "metadata": {
        "id": "grfk8ctRa4WB"
      },
      "source": [
        "## rnn._dict_"
      ],
      "execution_count": null,
      "outputs": []
    },
    {
      "cell_type": "code",
      "metadata": {
        "colab": {
          "base_uri": "https://localhost:8080/"
        },
        "id": "r48DA7ZobVv1",
        "outputId": "90707268-dfa3-4c28-a3ea-110f6c7df06d"
      },
      "source": [
        "inputs = createInputs('i am very good')\r\n",
        "out, h = rnn.forward(inputs)\r\n",
        "probs = softmax(out)\r\n",
        "print(probs)"
      ],
      "execution_count": 24,
      "outputs": [
        {
          "output_type": "stream",
          "text": [
            "[[0.50000402]\n",
            " [0.49999598]]\n"
          ],
          "name": "stdout"
        }
      ]
    },
    {
      "cell_type": "code",
      "metadata": {
        "colab": {
          "base_uri": "https://localhost:8080/"
        },
        "id": "PkVpuvaybrGS",
        "outputId": "e2077c5f-75b8-48d9-e743-e55a0e4e1a69"
      },
      "source": [
        "for val in rnn.last_hs.values():\r\n",
        "  print(list(val))"
      ],
      "execution_count": 25,
      "outputs": [
        {
          "output_type": "stream",
          "text": [
            "[array([0.]), array([0.]), array([0.]), array([0.]), array([0.]), array([0.]), array([0.]), array([0.]), array([0.]), array([0.]), array([0.]), array([0.]), array([0.]), array([0.]), array([0.]), array([0.]), array([0.]), array([0.]), array([0.]), array([0.]), array([0.]), array([0.]), array([0.]), array([0.]), array([0.]), array([0.]), array([0.]), array([0.]), array([0.]), array([0.]), array([0.]), array([0.]), array([0.]), array([0.]), array([0.]), array([0.]), array([0.]), array([0.]), array([0.]), array([0.]), array([0.]), array([0.]), array([0.]), array([0.]), array([0.]), array([0.]), array([0.]), array([0.]), array([0.]), array([0.]), array([0.]), array([0.]), array([0.]), array([0.]), array([0.]), array([0.]), array([0.]), array([0.]), array([0.]), array([0.]), array([0.]), array([0.]), array([0.]), array([0.])]\n",
            "[array([-0.00074461]), array([6.41371251e-05]), array([0.00040274]), array([0.00230452]), array([-0.00099974]), array([-0.00060106]), array([0.00260351]), array([0.00034763]), array([0.00140019]), array([0.00053764]), array([0.00039272]), array([-0.00072386]), array([0.00106239]), array([0.00033374]), array([0.00061268]), array([-0.00233051]), array([-0.0001872]), array([-0.00162014]), array([-0.00110175]), array([-0.00054769]), array([0.00130488]), array([-0.00034305]), array([0.00059098]), array([0.00028399]), array([0.00137582]), array([-0.00089895]), array([-0.00020147]), array([7.11784222e-05]), array([-0.00064307]), array([0.00016417]), array([0.00066661]), array([0.00102271]), array([-0.00073141]), array([0.00093982]), array([0.00023245]), array([0.00059675]), array([-0.00071388]), array([0.0005707]), array([-8.999319e-05]), array([0.00052576]), array([1.15457444e-05]), array([0.00050313]), array([0.00018804]), array([0.00065933]), array([-0.00029785]), array([0.00105427]), array([-0.00099781]), array([0.00164117]), array([-0.00225356]), array([0.00049681]), array([-0.00132657]), array([0.00078429]), array([0.00105753]), array([5.30650969e-06]), array([8.72665981e-05]), array([0.0006661]), array([0.00011779]), array([-9.57792671e-05]), array([1.46783348e-05]), array([0.00126043]), array([-0.0007747]), array([0.00081696]), array([0.00043917]), array([0.00020236])]\n"
          ],
          "name": "stdout"
        }
      ]
    },
    {
      "cell_type": "code",
      "metadata": {
        "colab": {
          "base_uri": "https://localhost:8080/"
        },
        "id": "9b9fbhpTGszk",
        "outputId": "d8ade095-6e2e-410f-bfb7-e98a0d5b26f7"
      },
      "source": [
        "## after training execute this code\r\n",
        "rnn.__dict__"
      ],
      "execution_count": 26,
      "outputs": [
        {
          "output_type": "execute_result",
          "data": {
            "text/plain": [
              "{'Whh': array([[ 4.74653535e-04, -1.90932172e-03,  1.10688220e-03, ...,\n",
              "         -1.38259978e-03,  9.02957215e-04,  3.00522172e-04],\n",
              "        [ 2.81305218e-03, -2.81057857e-04, -1.92222546e-04, ...,\n",
              "         -7.70713202e-04,  2.21915990e-04,  2.52733590e-04],\n",
              "        [-1.03443336e-03,  8.86700203e-04, -1.16983978e-03, ...,\n",
              "          5.71329399e-04, -1.07233568e-03,  9.06498427e-04],\n",
              "        ...,\n",
              "        [ 1.17822924e-03, -9.23294327e-04,  1.06683571e-03, ...,\n",
              "          4.73385676e-04, -1.49107221e-04,  1.19287607e-03],\n",
              "        [-7.40534692e-04,  6.95741568e-05,  1.00361633e-03, ...,\n",
              "         -8.01239512e-04, -9.46138159e-04, -6.44806299e-04],\n",
              "        [ 5.68316107e-04,  2.17559649e-03, -6.63493227e-04, ...,\n",
              "          2.47010579e-04, -2.33431699e-03, -3.90704247e-04]]),\n",
              " 'Why': array([[-8.40330357e-04,  4.48880582e-04, -5.34101882e-04,\n",
              "          1.58068708e-03,  8.22736114e-05,  7.40587216e-04,\n",
              "         -2.26726568e-04, -6.43059871e-04,  7.81025330e-04,\n",
              "         -8.26868227e-04, -6.80187877e-04,  6.17175704e-04,\n",
              "         -1.16408490e-03, -2.30118453e-04, -6.24894426e-04,\n",
              "          4.61454273e-04,  1.37998788e-03, -6.02430843e-05,\n",
              "          3.48720008e-04, -5.71271536e-04,  1.61847964e-03,\n",
              "         -8.88861160e-04, -1.70604411e-04, -1.93289840e-03,\n",
              "         -1.50638749e-03, -6.72215149e-04,  4.95720089e-05,\n",
              "          1.65848412e-03,  2.71773700e-04, -4.19361624e-04,\n",
              "          1.53426194e-03, -4.68557380e-04,  1.88897461e-04,\n",
              "          1.53834978e-03, -5.90711982e-04, -8.58936776e-04,\n",
              "          1.46956487e-03,  1.39080060e-03,  8.61825449e-04,\n",
              "          8.22094082e-05, -1.74073171e-04, -8.52570380e-04,\n",
              "         -1.42659865e-04,  1.12123688e-04, -5.09699171e-04,\n",
              "         -3.60465071e-04,  3.34754612e-04,  1.08921885e-03,\n",
              "         -1.60927701e-04,  1.06751453e-03,  2.36699791e-04,\n",
              "          5.99035061e-04,  3.73657385e-04, -1.28170289e-03,\n",
              "         -1.75982781e-03,  9.06039827e-04, -2.02303641e-03,\n",
              "          1.17279546e-03, -7.92133950e-04,  1.70779373e-05,\n",
              "         -1.53636452e-04,  1.05439192e-03, -9.52546926e-04,\n",
              "         -1.61921935e-03],\n",
              "        [-2.60238250e-04, -1.13597664e-03,  6.89925691e-04,\n",
              "         -1.46324383e-03,  1.78802675e-03, -2.35889234e-04,\n",
              "         -1.00956291e-03,  2.84868945e-04, -8.76808139e-05,\n",
              "         -1.12775610e-04, -3.18692812e-04,  1.45479523e-03,\n",
              "         -3.85914478e-04, -5.55250423e-05,  4.71577171e-04,\n",
              "         -2.93097040e-04,  1.95700877e-03, -1.74956566e-04,\n",
              "         -4.93027244e-04,  3.96870165e-04, -8.15941474e-04,\n",
              "         -1.12819124e-03,  3.17917758e-05, -3.21922598e-04,\n",
              "         -1.05367047e-03, -5.00908341e-04, -3.50892348e-04,\n",
              "          9.58546305e-04,  3.98877894e-04,  1.11888727e-03,\n",
              "         -8.63634216e-04,  6.69104901e-04, -2.02818485e-04,\n",
              "          1.17126402e-03, -8.19050578e-04, -1.04478073e-04,\n",
              "          4.04440957e-04,  1.50882081e-03,  6.47319766e-04,\n",
              "         -6.57284533e-04,  2.23224131e-04, -1.38421533e-03,\n",
              "         -1.03914779e-03,  9.13753283e-04,  8.45812860e-04,\n",
              "          1.95705441e-03,  2.81777708e-04, -1.11619034e-03,\n",
              "          8.68746386e-04, -2.86358413e-04,  2.74989746e-04,\n",
              "         -6.20217700e-04,  4.42118639e-04, -1.48514666e-04,\n",
              "         -1.35091757e-03, -1.63495857e-03, -2.54611221e-04,\n",
              "          4.56782791e-04, -6.36292800e-04, -8.21221610e-05,\n",
              "          7.31719873e-04,  7.72567496e-04, -5.01837562e-04,\n",
              "          2.43440183e-04]]),\n",
              " 'Wxh': array([[ 2.61151126e-04, -7.38721394e-04,  5.37847116e-04, ...,\n",
              "         -1.55331916e-04,  4.77320333e-04, -1.94070817e-03],\n",
              "        [ 6.37932337e-04, -7.34496338e-05, -4.98637434e-04, ...,\n",
              "         -1.91328646e-05, -8.98691949e-04, -5.07298968e-05],\n",
              "        [ 5.65684982e-04,  7.53732415e-04,  1.28842694e-05, ...,\n",
              "         -1.37910654e-03, -7.41530841e-04,  1.13968051e-03],\n",
              "        ...,\n",
              "        [ 9.93665117e-04,  2.98492447e-04, -4.37574636e-04, ...,\n",
              "          6.89036105e-04,  1.21330361e-03, -3.79885079e-04],\n",
              "        [ 3.89831085e-04, -3.82045438e-04,  9.21469577e-05, ...,\n",
              "         -1.94659334e-03,  3.22654719e-04,  3.45409815e-04],\n",
              "        [ 9.43494904e-04,  9.40073374e-04,  2.70071141e-03, ...,\n",
              "         -2.81909719e-06,  2.82332299e-04,  1.11691933e-03]]),\n",
              " 'bh': array([[0.],\n",
              "        [0.],\n",
              "        [0.],\n",
              "        [0.],\n",
              "        [0.],\n",
              "        [0.],\n",
              "        [0.],\n",
              "        [0.],\n",
              "        [0.],\n",
              "        [0.],\n",
              "        [0.],\n",
              "        [0.],\n",
              "        [0.],\n",
              "        [0.],\n",
              "        [0.],\n",
              "        [0.],\n",
              "        [0.],\n",
              "        [0.],\n",
              "        [0.],\n",
              "        [0.],\n",
              "        [0.],\n",
              "        [0.],\n",
              "        [0.],\n",
              "        [0.],\n",
              "        [0.],\n",
              "        [0.],\n",
              "        [0.],\n",
              "        [0.],\n",
              "        [0.],\n",
              "        [0.],\n",
              "        [0.],\n",
              "        [0.],\n",
              "        [0.],\n",
              "        [0.],\n",
              "        [0.],\n",
              "        [0.],\n",
              "        [0.],\n",
              "        [0.],\n",
              "        [0.],\n",
              "        [0.],\n",
              "        [0.],\n",
              "        [0.],\n",
              "        [0.],\n",
              "        [0.],\n",
              "        [0.],\n",
              "        [0.],\n",
              "        [0.],\n",
              "        [0.],\n",
              "        [0.],\n",
              "        [0.],\n",
              "        [0.],\n",
              "        [0.],\n",
              "        [0.],\n",
              "        [0.],\n",
              "        [0.],\n",
              "        [0.],\n",
              "        [0.],\n",
              "        [0.],\n",
              "        [0.],\n",
              "        [0.],\n",
              "        [0.],\n",
              "        [0.],\n",
              "        [0.],\n",
              "        [0.]]),\n",
              " 'by': array([[0.],\n",
              "        [0.]]),\n",
              " 'last_hs': {0: array([[0.],\n",
              "         [0.],\n",
              "         [0.],\n",
              "         [0.],\n",
              "         [0.],\n",
              "         [0.],\n",
              "         [0.],\n",
              "         [0.],\n",
              "         [0.],\n",
              "         [0.],\n",
              "         [0.],\n",
              "         [0.],\n",
              "         [0.],\n",
              "         [0.],\n",
              "         [0.],\n",
              "         [0.],\n",
              "         [0.],\n",
              "         [0.],\n",
              "         [0.],\n",
              "         [0.],\n",
              "         [0.],\n",
              "         [0.],\n",
              "         [0.],\n",
              "         [0.],\n",
              "         [0.],\n",
              "         [0.],\n",
              "         [0.],\n",
              "         [0.],\n",
              "         [0.],\n",
              "         [0.],\n",
              "         [0.],\n",
              "         [0.],\n",
              "         [0.],\n",
              "         [0.],\n",
              "         [0.],\n",
              "         [0.],\n",
              "         [0.],\n",
              "         [0.],\n",
              "         [0.],\n",
              "         [0.],\n",
              "         [0.],\n",
              "         [0.],\n",
              "         [0.],\n",
              "         [0.],\n",
              "         [0.],\n",
              "         [0.],\n",
              "         [0.],\n",
              "         [0.],\n",
              "         [0.],\n",
              "         [0.],\n",
              "         [0.],\n",
              "         [0.],\n",
              "         [0.],\n",
              "         [0.],\n",
              "         [0.],\n",
              "         [0.],\n",
              "         [0.],\n",
              "         [0.],\n",
              "         [0.],\n",
              "         [0.],\n",
              "         [0.],\n",
              "         [0.],\n",
              "         [0.],\n",
              "         [0.]]), 1: array([[-7.44609520e-04],\n",
              "         [ 6.41371251e-05],\n",
              "         [ 4.02736271e-04],\n",
              "         [ 2.30452107e-03],\n",
              "         [-9.99744393e-04],\n",
              "         [-6.01059600e-04],\n",
              "         [ 2.60350752e-03],\n",
              "         [ 3.47626483e-04],\n",
              "         [ 1.40019456e-03],\n",
              "         [ 5.37644822e-04],\n",
              "         [ 3.92717502e-04],\n",
              "         [-7.23857539e-04],\n",
              "         [ 1.06239463e-03],\n",
              "         [ 3.33736893e-04],\n",
              "         [ 6.12677483e-04],\n",
              "         [-2.33051402e-03],\n",
              "         [-1.87198428e-04],\n",
              "         [-1.62013630e-03],\n",
              "         [-1.10175403e-03],\n",
              "         [-5.47693169e-04],\n",
              "         [ 1.30488380e-03],\n",
              "         [-3.43049982e-04],\n",
              "         [ 5.90975260e-04],\n",
              "         [ 2.83992082e-04],\n",
              "         [ 1.37582233e-03],\n",
              "         [-8.98945404e-04],\n",
              "         [-2.01468263e-04],\n",
              "         [ 7.11784222e-05],\n",
              "         [-6.43069536e-04],\n",
              "         [ 1.64167033e-04],\n",
              "         [ 6.66606165e-04],\n",
              "         [ 1.02270921e-03],\n",
              "         [-7.31414844e-04],\n",
              "         [ 9.39824529e-04],\n",
              "         [ 2.32452580e-04],\n",
              "         [ 5.96752934e-04],\n",
              "         [-7.13880897e-04],\n",
              "         [ 5.70699101e-04],\n",
              "         [-8.99931900e-05],\n",
              "         [ 5.25763040e-04],\n",
              "         [ 1.15457444e-05],\n",
              "         [ 5.03131731e-04],\n",
              "         [ 1.88036713e-04],\n",
              "         [ 6.59327025e-04],\n",
              "         [-2.97850879e-04],\n",
              "         [ 1.05426506e-03],\n",
              "         [-9.97812121e-04],\n",
              "         [ 1.64116582e-03],\n",
              "         [-2.25356459e-03],\n",
              "         [ 4.96810646e-04],\n",
              "         [-1.32657397e-03],\n",
              "         [ 7.84291454e-04],\n",
              "         [ 1.05753374e-03],\n",
              "         [ 5.30650969e-06],\n",
              "         [ 8.72665981e-05],\n",
              "         [ 6.66100523e-04],\n",
              "         [ 1.17786806e-04],\n",
              "         [-9.57792671e-05],\n",
              "         [ 1.46783348e-05],\n",
              "         [ 1.26043240e-03],\n",
              "         [-7.74702884e-04],\n",
              "         [ 8.16955759e-04],\n",
              "         [ 4.39166341e-04],\n",
              "         [ 2.02361007e-04]])},\n",
              " 'last_inputs': [array([[0.],\n",
              "         [0.],\n",
              "         [0.],\n",
              "         [0.],\n",
              "         [0.],\n",
              "         [0.],\n",
              "         [0.],\n",
              "         [0.],\n",
              "         [0.],\n",
              "         [0.],\n",
              "         [0.],\n",
              "         [0.],\n",
              "         [0.],\n",
              "         [1.],\n",
              "         [0.],\n",
              "         [0.],\n",
              "         [0.],\n",
              "         [0.]])]}"
            ]
          },
          "metadata": {
            "tags": []
          },
          "execution_count": 26
        }
      ]
    },
    {
      "cell_type": "code",
      "metadata": {
        "colab": {
          "base_uri": "https://localhost:8080/"
        },
        "id": "9rTGpbMTIQJw",
        "outputId": "43b6a0cb-65a2-48ea-ead0-f690c7ccab73"
      },
      "source": [
        "for val in rnn.last_inputs:\r\n",
        "  print(list(val))"
      ],
      "execution_count": 27,
      "outputs": [
        {
          "output_type": "stream",
          "text": [
            "[array([0.]), array([0.]), array([0.]), array([0.]), array([0.]), array([0.]), array([0.]), array([0.]), array([0.]), array([0.]), array([0.]), array([0.]), array([0.]), array([1.]), array([0.]), array([0.]), array([0.]), array([0.])]\n"
          ],
          "name": "stdout"
        }
      ]
    },
    {
      "cell_type": "code",
      "metadata": {
        "id": "sKbXVqLZIjxG"
      },
      "source": [
        "# Loop over each training example\r\n",
        "for x, y in train_data.items():\r\n",
        "  inputs = createInputs(x)\r\n",
        "  target = int(y)\r\n",
        "\r\n",
        "  # Forward\r\n",
        "  out, _ = rnn.forward(inputs)\r\n",
        "  probs = softmax(out)\r\n",
        "\r\n",
        "  # Build dL/dy\r\n",
        "  d_L_d_y = probs\r\n",
        "  d_L_d_y[target] -= 1\r\n",
        "\r\n",
        "  # Backward\r\n",
        "  rnn.backprop(d_L_d_y)"
      ],
      "execution_count": 28,
      "outputs": []
    },
    {
      "cell_type": "markdown",
      "metadata": {
        "id": "9PB72eyHOMv9"
      },
      "source": [
        "adding few more lines to the previous training block"
      ]
    },
    {
      "cell_type": "code",
      "metadata": {
        "id": "t3PkQfNcOL68"
      },
      "source": [
        "import random\r\n",
        "\r\n",
        "def processData(data, backprop=True):\r\n",
        "  '''\r\n",
        "  Returns the RNN's loss and accuracy for the given data.\r\n",
        "  - data is a dictionary mapping text to True or False.\r\n",
        "  - backprop determines if the backward phase should be run.\r\n",
        "  '''\r\n",
        "  items = list(data.items())\r\n",
        "  random.shuffle(items)\r\n",
        "\r\n",
        "  loss = 0\r\n",
        "  num_correct = 0\r\n",
        "\r\n",
        "  for x, y in items:\r\n",
        "    inputs = createInputs(x)\r\n",
        "    target = int(y)\r\n",
        "\r\n",
        "    # Forward\r\n",
        "    out, _ = rnn.forward(inputs)\r\n",
        "    probs = softmax(out)\r\n",
        "\r\n",
        "    # Calculate loss / accuracy\r\n",
        "    loss -= np.log(probs[target])\r\n",
        "    num_correct += int(np.argmax(probs) == target)\r\n",
        "\r\n",
        "    if backprop:\r\n",
        "      # Build dL/dy\r\n",
        "      d_L_d_y = probs\r\n",
        "      d_L_d_y[target] -= 1\r\n",
        "\r\n",
        "      # Backward\r\n",
        "      rnn.backprop(d_L_d_y)\r\n",
        "\r\n",
        "  return loss / len(data), num_correct / len(data)\r\n",
        "\r\n"
      ],
      "execution_count": 51,
      "outputs": []
    },
    {
      "cell_type": "code",
      "metadata": {
        "colab": {
          "base_uri": "https://localhost:8080/"
        },
        "id": "9dB7t-Xtf6Cs",
        "outputId": "22202868-48ad-4560-863c-cb0baa5429fd"
      },
      "source": [
        "# Training loop\r\n",
        "for epoch in range(1000):\r\n",
        "  train_loss, train_acc = processData(train_data)\r\n",
        "\r\n",
        "  if epoch % 100 == 99:\r\n",
        "    print('--- Epoch %d' % (epoch + 1))\r\n",
        "    print('Train:\\tLoss %.3f | Accuracy: %.3f' % (train_loss, train_acc))\r\n",
        "\r\n",
        "    test_loss, test_acc = processData(test_data, backprop=False)\r\n",
        "    print('Test:\\tLoss %.3f | Accuracy: %.3f' % (test_loss, test_acc))"
      ],
      "execution_count": 52,
      "outputs": [
        {
          "output_type": "stream",
          "text": [
            "--- Epoch 100\n",
            "Train:\tLoss 0.691 | Accuracy: 0.552\n",
            "Test:\tLoss 0.701 | Accuracy: 0.500\n",
            "--- Epoch 200\n",
            "Train:\tLoss 0.679 | Accuracy: 0.569\n",
            "Test:\tLoss 0.709 | Accuracy: 0.500\n",
            "--- Epoch 300\n",
            "Train:\tLoss 0.663 | Accuracy: 0.586\n",
            "Test:\tLoss 0.694 | Accuracy: 0.500\n",
            "--- Epoch 400\n",
            "Train:\tLoss 0.663 | Accuracy: 0.534\n",
            "Test:\tLoss 0.701 | Accuracy: 0.500\n",
            "--- Epoch 500\n",
            "Train:\tLoss 0.660 | Accuracy: 0.552\n",
            "Test:\tLoss 0.703 | Accuracy: 0.500\n",
            "--- Epoch 600\n",
            "Train:\tLoss 0.658 | Accuracy: 0.552\n",
            "Test:\tLoss 0.707 | Accuracy: 0.500\n",
            "--- Epoch 700\n",
            "Train:\tLoss 0.658 | Accuracy: 0.517\n",
            "Test:\tLoss 0.702 | Accuracy: 0.500\n",
            "--- Epoch 800\n",
            "Train:\tLoss 0.656 | Accuracy: 0.517\n",
            "Test:\tLoss 0.700 | Accuracy: 0.500\n",
            "--- Epoch 900\n",
            "Train:\tLoss 0.655 | Accuracy: 0.569\n",
            "Test:\tLoss 0.699 | Accuracy: 0.500\n",
            "--- Epoch 1000\n",
            "Train:\tLoss 0.655 | Accuracy: 0.534\n",
            "Test:\tLoss 0.707 | Accuracy: 0.500\n"
          ],
          "name": "stdout"
        }
      ]
    },
    {
      "cell_type": "code",
      "metadata": {
        "colab": {
          "base_uri": "https://localhost:8080/"
        },
        "id": "2O-C7-BlrCUf",
        "outputId": "ded38f64-3628-40b6-bdea-1a918bbc2fe1"
      },
      "source": [
        "inputs = createInputs('i am very good')\r\n",
        "out, h = rnn.forward(inputs)\r\n",
        "probs = softmax(out)\r\n",
        "print(probs)"
      ],
      "execution_count": 53,
      "outputs": [
        {
          "output_type": "stream",
          "text": [
            "[[0.57764718]\n",
            " [0.42235282]]\n"
          ],
          "name": "stdout"
        }
      ]
    },
    {
      "cell_type": "code",
      "metadata": {
        "colab": {
          "base_uri": "https://localhost:8080/"
        },
        "id": "Um3fZowlru9a",
        "outputId": "cc577c78-5a53-4f94-a130-6b51dde14d10"
      },
      "source": [
        "ip = 'this is not bad'\r\n",
        "inputs = createInputs(ip)\r\n",
        "out, h = rnn.forward(inputs)\r\n",
        "probs = softmax(out)\r\n",
        "print(probs)"
      ],
      "execution_count": 54,
      "outputs": [
        {
          "output_type": "stream",
          "text": [
            "[[0.58697788]\n",
            " [0.41302212]]\n"
          ],
          "name": "stdout"
        }
      ]
    },
    {
      "cell_type": "code",
      "metadata": {
        "colab": {
          "base_uri": "https://localhost:8080/"
        },
        "id": "IUHEgTesrxrD",
        "outputId": "1ec214a5-ecf6-4f47-a40e-e5bb781bea5c"
      },
      "source": [
        "ip = 'i am not at all happy'\r\n",
        "inputs = createInputs(ip)\r\n",
        "out, h = rnn.forward(inputs)\r\n",
        "probs = softmax(out)\r\n",
        "print(probs)"
      ],
      "execution_count": 55,
      "outputs": [
        {
          "output_type": "stream",
          "text": [
            "[[0.57764718]\n",
            " [0.42235282]]\n"
          ],
          "name": "stdout"
        }
      ]
    }
  ]
}