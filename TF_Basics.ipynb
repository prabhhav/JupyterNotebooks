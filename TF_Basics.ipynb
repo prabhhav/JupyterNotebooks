{
  "nbformat": 4,
  "nbformat_minor": 0,
  "metadata": {
    "colab": {
      "name": "TF Basics.ipynb",
      "provenance": [],
      "authorship_tag": "ABX9TyMyD8WbT94Mlrg5Qw9jvqRt",
      "include_colab_link": true
    },
    "kernelspec": {
      "name": "python3",
      "display_name": "Python 3"
    }
  },
  "cells": [
    {
      "cell_type": "markdown",
      "metadata": {
        "id": "view-in-github",
        "colab_type": "text"
      },
      "source": [
        "<a href=\"https://colab.research.google.com/github/prabhhav/JupyterNotebooks/blob/main/TF_Basics.ipynb\" target=\"_parent\"><img src=\"https://colab.research.google.com/assets/colab-badge.svg\" alt=\"Open In Colab\"/></a>"
      ]
    },
    {
      "cell_type": "code",
      "metadata": {
        "colab": {
          "base_uri": "https://localhost:8080/"
        },
        "id": "tv8EsCloFD4L",
        "outputId": "c2dc1ff9-e52f-405a-f6d4-f31c304d5076"
      },
      "source": [
        "%tensorflow_version 1.x"
      ],
      "execution_count": 1,
      "outputs": [
        {
          "output_type": "stream",
          "text": [
            "TensorFlow 1.x selected.\n"
          ],
          "name": "stdout"
        }
      ]
    },
    {
      "cell_type": "code",
      "metadata": {
        "colab": {
          "base_uri": "https://localhost:8080/"
        },
        "id": "GGoa_gXFKxSC",
        "outputId": "ab92c514-0e15-48c9-e2fd-9e8be0a13d86"
      },
      "source": [
        "import tensorflow as tf\r\n",
        "print(tf.__version__)"
      ],
      "execution_count": 3,
      "outputs": [
        {
          "output_type": "stream",
          "text": [
            "1.15.2\n"
          ],
          "name": "stdout"
        }
      ]
    },
    {
      "cell_type": "code",
      "metadata": {
        "colab": {
          "base_uri": "https://localhost:8080/"
        },
        "id": "pq8plzKQqs9f",
        "outputId": "15fbdad0-fce9-4420-808b-94198a7aa4be"
      },
      "source": [
        "# constants\r\n",
        "a = tf.constant(5.0)\r\n",
        "b = tf.constant(3.0, tf.float32)\r\n",
        "c = tf.constant([1,2,3])\r\n",
        "d = tf.constant([[1,2], [3,4]])\r\n",
        "print(a,b)\r\n",
        "print(c)\r\n",
        "print(d)"
      ],
      "execution_count": 5,
      "outputs": [
        {
          "output_type": "stream",
          "text": [
            "Tensor(\"Const_3:0\", shape=(), dtype=float32) Tensor(\"Const_4:0\", shape=(), dtype=float32)\n",
            "Tensor(\"Const_5:0\", shape=(3,), dtype=int32)\n",
            "Tensor(\"Const_6:0\", shape=(2, 2), dtype=int32)\n"
          ],
          "name": "stdout"
        }
      ]
    },
    {
      "cell_type": "code",
      "metadata": {
        "id": "49X1OP6urtgy"
      },
      "source": [
        "ab = a*b"
      ],
      "execution_count": 6,
      "outputs": []
    },
    {
      "cell_type": "code",
      "metadata": {
        "colab": {
          "base_uri": "https://localhost:8080/"
        },
        "id": "tokRN_nLsyyq",
        "outputId": "73d37fb9-e0b0-4002-a935-4b71604edb76"
      },
      "source": [
        "ab"
      ],
      "execution_count": 7,
      "outputs": [
        {
          "output_type": "execute_result",
          "data": {
            "text/plain": [
              "<tf.Tensor 'mul:0' shape=() dtype=float32>"
            ]
          },
          "metadata": {
            "tags": []
          },
          "execution_count": 7
        }
      ]
    },
    {
      "cell_type": "code",
      "metadata": {
        "colab": {
          "base_uri": "https://localhost:8080/"
        },
        "id": "sLB8wdtms2Bi",
        "outputId": "1867880b-bcda-4adb-c655-f596d17e5538"
      },
      "source": [
        "graph = tf.get_default_graph()\r\n",
        "graph.get_operations()"
      ],
      "execution_count": 8,
      "outputs": [
        {
          "output_type": "execute_result",
          "data": {
            "text/plain": [
              "[<tf.Operation 'Const' type=Const>,\n",
              " <tf.Operation 'Const_1' type=Const>,\n",
              " <tf.Operation 'Const_2' type=Const>,\n",
              " <tf.Operation 'Const_3' type=Const>,\n",
              " <tf.Operation 'Const_4' type=Const>,\n",
              " <tf.Operation 'Const_5' type=Const>,\n",
              " <tf.Operation 'Const_6' type=Const>,\n",
              " <tf.Operation 'mul' type=Mul>]"
            ]
          },
          "metadata": {
            "tags": []
          },
          "execution_count": 8
        }
      ]
    },
    {
      "cell_type": "code",
      "metadata": {
        "colab": {
          "base_uri": "https://localhost:8080/"
        },
        "id": "vWx2v8Y7tDM9",
        "outputId": "428516e1-e6b0-4c4a-f8e7-40453470be6f"
      },
      "source": [
        "# variables\r\n",
        "W = tf.Variable([0.3], dtype=tf.float32)\r\n",
        "c = tf.Variable([-0.3], dtype=tf.float32)\r\n",
        "\r\n",
        "linear_model = W * [1.2] + b\r\n",
        "\r\n",
        "print(W)\r\n",
        "print(c)\r\n",
        "print(linear_model)"
      ],
      "execution_count": 9,
      "outputs": [
        {
          "output_type": "stream",
          "text": [
            "<tf.Variable 'Variable:0' shape=(1,) dtype=float32_ref>\n",
            "<tf.Variable 'Variable_1:0' shape=(1,) dtype=float32_ref>\n",
            "Tensor(\"add:0\", shape=(1,), dtype=float32)\n"
          ],
          "name": "stdout"
        }
      ]
    },
    {
      "cell_type": "code",
      "metadata": {
        "colab": {
          "base_uri": "https://localhost:8080/"
        },
        "id": "YkDGX0Inu5kU",
        "outputId": "58901fc9-9c0e-4fb3-cdd5-f8786358ae63"
      },
      "source": [
        "with tf.Session() as sess:\r\n",
        "  print(sess.run(ab))\r\n",
        "  sess.run(tf.compat.v1.global_variables_initializer())\r\n",
        "  print(sess.run(linear_model))\r\n"
      ],
      "execution_count": 11,
      "outputs": [
        {
          "output_type": "stream",
          "text": [
            "15.0\n",
            "[3.3600001]\n"
          ],
          "name": "stdout"
        }
      ]
    },
    {
      "cell_type": "code",
      "metadata": {
        "colab": {
          "base_uri": "https://localhost:8080/"
        },
        "id": "W6ENO73kxgn1",
        "outputId": "d27da74f-ca23-449e-ae38-f94e62ca570c"
      },
      "source": [
        " graph = tf.get_default_graph()\r\n",
        " graph.get_operations()"
      ],
      "execution_count": 12,
      "outputs": [
        {
          "output_type": "execute_result",
          "data": {
            "text/plain": [
              "[<tf.Operation 'Const' type=Const>,\n",
              " <tf.Operation 'Const_1' type=Const>,\n",
              " <tf.Operation 'Const_2' type=Const>,\n",
              " <tf.Operation 'Const_3' type=Const>,\n",
              " <tf.Operation 'Const_4' type=Const>,\n",
              " <tf.Operation 'Const_5' type=Const>,\n",
              " <tf.Operation 'Const_6' type=Const>,\n",
              " <tf.Operation 'mul' type=Mul>,\n",
              " <tf.Operation 'Variable/initial_value' type=Const>,\n",
              " <tf.Operation 'Variable' type=VariableV2>,\n",
              " <tf.Operation 'Variable/Assign' type=Assign>,\n",
              " <tf.Operation 'Variable/read' type=Identity>,\n",
              " <tf.Operation 'Variable_1/initial_value' type=Const>,\n",
              " <tf.Operation 'Variable_1' type=VariableV2>,\n",
              " <tf.Operation 'Variable_1/Assign' type=Assign>,\n",
              " <tf.Operation 'Variable_1/read' type=Identity>,\n",
              " <tf.Operation 'mul_1/y' type=Const>,\n",
              " <tf.Operation 'mul_1' type=Mul>,\n",
              " <tf.Operation 'add' type=AddV2>,\n",
              " <tf.Operation 'init' type=NoOp>]"
            ]
          },
          "metadata": {
            "tags": []
          },
          "execution_count": 12
        }
      ]
    },
    {
      "cell_type": "code",
      "metadata": {
        "colab": {
          "base_uri": "https://localhost:8080/"
        },
        "id": "UYp8hjBw6hYU",
        "outputId": "28d90280-4bf6-4f4a-99f6-3f5d939bd46d"
      },
      "source": [
        "#placeholders\r\n",
        "p = tf.placeholder(tf.float32)\r\n",
        "q = p * 2\r\n",
        "\r\n",
        "print(q)"
      ],
      "execution_count": 13,
      "outputs": [
        {
          "output_type": "stream",
          "text": [
            "Tensor(\"mul_2:0\", dtype=float32)\n"
          ],
          "name": "stdout"
        }
      ]
    },
    {
      "cell_type": "code",
      "metadata": {
        "id": "Di8BtNjb6yPD"
      },
      "source": [
        "with tf.Session() as sess:\r\n",
        "  result = sess.run(q, feed_dict={p:3.0})"
      ],
      "execution_count": 15,
      "outputs": []
    },
    {
      "cell_type": "code",
      "metadata": {
        "colab": {
          "base_uri": "https://localhost:8080/"
        },
        "id": "CJFg_MOs7qaY",
        "outputId": "e8c74ed5-d666-49fa-fd7d-abbdba38b555"
      },
      "source": [
        "print(result)"
      ],
      "execution_count": 16,
      "outputs": [
        {
          "output_type": "stream",
          "text": [
            "6.0\n"
          ],
          "name": "stdout"
        }
      ]
    },
    {
      "cell_type": "code",
      "metadata": {
        "colab": {
          "base_uri": "https://localhost:8080/"
        },
        "id": "RG9NHVYP758f",
        "outputId": "9d8f2b26-0c47-40f9-81b9-621fd12a7e19"
      },
      "source": [
        "# Hello World using TensorFlow\r\n",
        "\r\n",
        "hello = tf.constant('Hello')\r\n",
        "world = tf.constant('World')\r\n",
        "\r\n",
        "print(hello + world)"
      ],
      "execution_count": 17,
      "outputs": [
        {
          "output_type": "stream",
          "text": [
            "Tensor(\"add_1:0\", shape=(), dtype=string)\n"
          ],
          "name": "stdout"
        }
      ]
    },
    {
      "cell_type": "code",
      "metadata": {
        "id": "5JfNYM2E9Iyv",
        "outputId": "f5467e2c-a1e7-4375-bfe1-f2ef42950d66",
        "colab": {
          "base_uri": "https://localhost:8080/"
        }
      },
      "source": [
        "result = hello + world\r\n",
        "print(result)\r\n",
        "print(type(hello))\r\n",
        "type(result)"
      ],
      "execution_count": 18,
      "outputs": [
        {
          "output_type": "stream",
          "text": [
            "Tensor(\"add_2:0\", shape=(), dtype=string)\n",
            "<class 'tensorflow.python.framework.ops.Tensor'>\n"
          ],
          "name": "stdout"
        },
        {
          "output_type": "execute_result",
          "data": {
            "text/plain": [
              "tensorflow.python.framework.ops.Tensor"
            ]
          },
          "metadata": {
            "tags": []
          },
          "execution_count": 18
        }
      ]
    },
    {
      "cell_type": "code",
      "metadata": {
        "id": "4T6Eyl3f9XuW",
        "outputId": "5792d0c1-7f52-4985-edbf-ca901133ca19",
        "colab": {
          "base_uri": "https://localhost:8080/"
        }
      },
      "source": [
        "with tf.Session() as sess:\r\n",
        "  sess_result = sess.run(result)\r\n",
        "\r\n",
        "  print(sess_result)"
      ],
      "execution_count": 19,
      "outputs": [
        {
          "output_type": "stream",
          "text": [
            "b'HelloWorld'\n"
          ],
          "name": "stdout"
        }
      ]
    },
    {
      "cell_type": "code",
      "metadata": {
        "id": "dV6v_-Bk9q2u"
      },
      "source": [
        ""
      ],
      "execution_count": null,
      "outputs": []
    }
  ]
}