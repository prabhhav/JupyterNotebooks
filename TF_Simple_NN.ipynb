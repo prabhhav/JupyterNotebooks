{
  "nbformat": 4,
  "nbformat_minor": 0,
  "metadata": {
    "colab": {
      "name": "TF Simple NN.ipynb",
      "provenance": [],
      "authorship_tag": "ABX9TyNW2yJe7Tf4v0uJ6imUC0B3",
      "include_colab_link": true
    },
    "kernelspec": {
      "name": "python3",
      "display_name": "Python 3"
    }
  },
  "cells": [
    {
      "cell_type": "markdown",
      "metadata": {
        "id": "view-in-github",
        "colab_type": "text"
      },
      "source": [
        "<a href=\"https://colab.research.google.com/github/prabhhav/JupyterNotebooks/blob/main/TF_Simple_NN.ipynb\" target=\"_parent\"><img src=\"https://colab.research.google.com/assets/colab-badge.svg\" alt=\"Open In Colab\"/></a>"
      ]
    },
    {
      "cell_type": "code",
      "metadata": {
        "id": "SEsT_X55AmM0"
      },
      "source": [
        "import tensorflow as tf\r\n",
        "import numpy as np"
      ],
      "execution_count": 2,
      "outputs": []
    },
    {
      "cell_type": "code",
      "metadata": {
        "colab": {
          "base_uri": "https://localhost:8080/",
          "height": 35
        },
        "id": "AmmjV1soAyAo",
        "outputId": "b697dec3-02a9-40e0-ab6d-c726481c82d9"
      },
      "source": [
        "tf.__version__"
      ],
      "execution_count": 3,
      "outputs": [
        {
          "output_type": "execute_result",
          "data": {
            "application/vnd.google.colaboratory.intrinsic+json": {
              "type": "string"
            },
            "text/plain": [
              "'2.4.0'"
            ]
          },
          "metadata": {
            "tags": []
          },
          "execution_count": 3
        }
      ]
    },
    {
      "cell_type": "code",
      "metadata": {
        "id": "MTWRhriOB-ak"
      },
      "source": [
        "x = np.array([-40,-10,0,8,15,22], dtype=float)\r\n",
        "y = np.array([-40,14,32,46,59,72], dtype = float)"
      ],
      "execution_count": 4,
      "outputs": []
    },
    {
      "cell_type": "code",
      "metadata": {
        "id": "GTRvhdvTDh1B"
      },
      "source": [
        "layer1 = tf.keras.layers.Dense(units=1,input_shape=[1])\r\n",
        "layer2 = tf.keras.layers.Dense(units=4)\r\n",
        "layer3 = tf.keras.layers.Dense(units=4)\r\n",
        "layer4 = tf.keras.layers.Dense(units=1)"
      ],
      "execution_count": 5,
      "outputs": []
    },
    {
      "cell_type": "code",
      "metadata": {
        "id": "rEeK3Lr1EGlW"
      },
      "source": [
        "model = tf.keras.Sequential([layer1,layer2,layer3,layer4])"
      ],
      "execution_count": 6,
      "outputs": []
    },
    {
      "cell_type": "code",
      "metadata": {
        "colab": {
          "base_uri": "https://localhost:8080/"
        },
        "id": "G6VMcmUgEaRW",
        "outputId": "e2b91375-8079-41f6-8aff-1ab0f57741d8"
      },
      "source": [
        "model.summary()"
      ],
      "execution_count": 7,
      "outputs": [
        {
          "output_type": "stream",
          "text": [
            "Model: \"sequential\"\n",
            "_________________________________________________________________\n",
            "Layer (type)                 Output Shape              Param #   \n",
            "=================================================================\n",
            "dense (Dense)                (None, 1)                 2         \n",
            "_________________________________________________________________\n",
            "dense_1 (Dense)              (None, 4)                 8         \n",
            "_________________________________________________________________\n",
            "dense_2 (Dense)              (None, 4)                 20        \n",
            "_________________________________________________________________\n",
            "dense_3 (Dense)              (None, 1)                 5         \n",
            "=================================================================\n",
            "Total params: 35\n",
            "Trainable params: 35\n",
            "Non-trainable params: 0\n",
            "_________________________________________________________________\n"
          ],
          "name": "stdout"
        }
      ]
    },
    {
      "cell_type": "code",
      "metadata": {
        "colab": {
          "base_uri": "https://localhost:8080/"
        },
        "id": "oTHmiNO4EgPK",
        "outputId": "8c8499e4-1050-4a8b-9cf8-146ed2af07be"
      },
      "source": [
        "model.layers.pop()"
      ],
      "execution_count": 8,
      "outputs": [
        {
          "output_type": "execute_result",
          "data": {
            "text/plain": [
              "<tensorflow.python.keras.layers.core.Dense at 0x7f8593729e48>"
            ]
          },
          "metadata": {
            "tags": []
          },
          "execution_count": 8
        }
      ]
    },
    {
      "cell_type": "code",
      "metadata": {
        "colab": {
          "base_uri": "https://localhost:8080/"
        },
        "id": "U233GbPWElel",
        "outputId": "24ad5878-fa9a-4d71-efe4-53452e996322"
      },
      "source": [
        "model.summary()"
      ],
      "execution_count": 9,
      "outputs": [
        {
          "output_type": "stream",
          "text": [
            "Model: \"sequential\"\n",
            "_________________________________________________________________\n",
            "Layer (type)                 Output Shape              Param #   \n",
            "=================================================================\n",
            "dense (Dense)                (None, 1)                 2         \n",
            "_________________________________________________________________\n",
            "dense_1 (Dense)              (None, 4)                 8         \n",
            "_________________________________________________________________\n",
            "dense_2 (Dense)              (None, 4)                 20        \n",
            "_________________________________________________________________\n",
            "dense_3 (Dense)              (None, 1)                 5         \n",
            "=================================================================\n",
            "Total params: 35\n",
            "Trainable params: 35\n",
            "Non-trainable params: 0\n",
            "_________________________________________________________________\n"
          ],
          "name": "stdout"
        }
      ]
    },
    {
      "cell_type": "code",
      "metadata": {
        "id": "O5bAbQ5GFP9j"
      },
      "source": [
        "model.compile(optimizer=tf.keras.optimizers.Adam(0.1), \r\n",
        "              loss=\"mean_squared_error\")"
      ],
      "execution_count": 10,
      "outputs": []
    },
    {
      "cell_type": "code",
      "metadata": {
        "colab": {
          "base_uri": "https://localhost:8080/"
        },
        "id": "7iH3cupqFc9v",
        "outputId": "d9c6115c-2966-4276-951e-e3619c150371"
      },
      "source": [
        "model.summary()"
      ],
      "execution_count": 11,
      "outputs": [
        {
          "output_type": "stream",
          "text": [
            "Model: \"sequential\"\n",
            "_________________________________________________________________\n",
            "Layer (type)                 Output Shape              Param #   \n",
            "=================================================================\n",
            "dense (Dense)                (None, 1)                 2         \n",
            "_________________________________________________________________\n",
            "dense_1 (Dense)              (None, 4)                 8         \n",
            "_________________________________________________________________\n",
            "dense_2 (Dense)              (None, 4)                 20        \n",
            "_________________________________________________________________\n",
            "dense_3 (Dense)              (None, 1)                 5         \n",
            "=================================================================\n",
            "Total params: 35\n",
            "Trainable params: 35\n",
            "Non-trainable params: 0\n",
            "_________________________________________________________________\n"
          ],
          "name": "stdout"
        }
      ]
    },
    {
      "cell_type": "code",
      "metadata": {
        "colab": {
          "base_uri": "https://localhost:8080/"
        },
        "id": "Fk3wIaoEEqmV",
        "outputId": "6ad51eb4-ffeb-40c7-850c-428b87f0e589"
      },
      "source": [
        "layer1.get_weights()"
      ],
      "execution_count": 12,
      "outputs": [
        {
          "output_type": "execute_result",
          "data": {
            "text/plain": [
              "[array([[1.4748665]], dtype=float32), array([0.], dtype=float32)]"
            ]
          },
          "metadata": {
            "tags": []
          },
          "execution_count": 12
        }
      ]
    },
    {
      "cell_type": "code",
      "metadata": {
        "id": "z4lkPBBuExrs"
      },
      "source": [
        "history = model.fit(x, y, epochs=500, verbose=False)"
      ],
      "execution_count": 13,
      "outputs": []
    },
    {
      "cell_type": "code",
      "metadata": {
        "colab": {
          "base_uri": "https://localhost:8080/",
          "height": 296
        },
        "id": "9nMIptnOE5gw",
        "outputId": "61dda8a4-b837-4944-f365-ca69fc6ac642"
      },
      "source": [
        "import matplotlib.pyplot as plt\r\n",
        "plt.xlabel('Epoch Number')\r\n",
        "plt.ylabel(\"Loss Magnitude\")\r\n",
        "plt.plot(history.history['loss'])"
      ],
      "execution_count": 14,
      "outputs": [
        {
          "output_type": "execute_result",
          "data": {
            "text/plain": [
              "[<matplotlib.lines.Line2D at 0x7f85535fdef0>]"
            ]
          },
          "metadata": {
            "tags": []
          },
          "execution_count": 14
        },
        {
          "output_type": "display_data",
          "data": {
            "image/png": "[encoded data removed]",
            "text/plain": [
              "<Figure size 432x288 with 1 Axes>"
            ]
          },
          "metadata": {
            "tags": [],
            "needs_background": "light"
          }
        }
      ]
    },
    {
      "cell_type": "code",
      "metadata": {
        "colab": {
          "base_uri": "https://localhost:8080/"
        },
        "id": "hCLrRTJ8F9iG",
        "outputId": "65155711-4dfb-4b4e-b11b-60f2fd8026d1"
      },
      "source": [
        "model.predict(([38]))"
      ],
      "execution_count": 15,
      "outputs": [
        {
          "output_type": "execute_result",
          "data": {
            "text/plain": [
              "array([[100.48809]], dtype=float32)"
            ]
          },
          "metadata": {
            "tags": []
          },
          "execution_count": 15
        }
      ]
    },
    {
      "cell_type": "code",
      "metadata": {
        "id": "mIhslfZPLEBR"
      },
      "source": [
        "layer1 = tf.keras.layers.Dense(units=1,input_shape=[1])\r\n",
        "layer2 = tf.keras.layers.Dense(units=6)\r\n",
        "layer3 = tf.keras.layers.Dense(units=3)\r\n",
        "layer4 = tf.keras.layers.Dense(units=6)\r\n",
        "layer5 = tf.keras.layers.Dense(units=1)"
      ],
      "execution_count": 16,
      "outputs": []
    },
    {
      "cell_type": "code",
      "metadata": {
        "id": "b_q98NaO29_4"
      },
      "source": [
        "model = tf.keras.Sequential([layer1,layer2,layer3,layer4,layer5])"
      ],
      "execution_count": 17,
      "outputs": []
    },
    {
      "cell_type": "code",
      "metadata": {
        "id": "qJfxh2ZT3ufr"
      },
      "source": [
        "model.compile(optimizer=tf.keras.optimizers.Adam(0.1),loss=\"mean_squared_error\")"
      ],
      "execution_count": 18,
      "outputs": []
    },
    {
      "cell_type": "code",
      "metadata": {
        "colab": {
          "base_uri": "https://localhost:8080/"
        },
        "id": "QI5TTTEH4F7Z",
        "outputId": "126adf27-f91f-47a9-c8b6-495ada7f839f"
      },
      "source": [
        "model.summary()"
      ],
      "execution_count": 19,
      "outputs": [
        {
          "output_type": "stream",
          "text": [
            "Model: \"sequential_1\"\n",
            "_________________________________________________________________\n",
            "Layer (type)                 Output Shape              Param #   \n",
            "=================================================================\n",
            "dense_4 (Dense)              (None, 1)                 2         \n",
            "_________________________________________________________________\n",
            "dense_5 (Dense)              (None, 6)                 12        \n",
            "_________________________________________________________________\n",
            "dense_6 (Dense)              (None, 3)                 21        \n",
            "_________________________________________________________________\n",
            "dense_7 (Dense)              (None, 6)                 24        \n",
            "_________________________________________________________________\n",
            "dense_8 (Dense)              (None, 1)                 7         \n",
            "=================================================================\n",
            "Total params: 66\n",
            "Trainable params: 66\n",
            "Non-trainable params: 0\n",
            "_________________________________________________________________\n"
          ],
          "name": "stdout"
        }
      ]
    },
    {
      "cell_type": "code",
      "metadata": {
        "colab": {
          "base_uri": "https://localhost:8080/"
        },
        "id": "PAImhRF15OD9",
        "outputId": "bba6060f-2ce8-4ba9-b454-e4c8095b85ae"
      },
      "source": [
        "layer1.get_weights()"
      ],
      "execution_count": 20,
      "outputs": [
        {
          "output_type": "execute_result",
          "data": {
            "text/plain": [
              "[array([[1.3848485]], dtype=float32), array([0.], dtype=float32)]"
            ]
          },
          "metadata": {
            "tags": []
          },
          "execution_count": 20
        }
      ]
    },
    {
      "cell_type": "code",
      "metadata": {
        "id": "uhciY0da5SUg"
      },
      "source": [
        "history = model.fit(x, y, epochs=500, verbose=False)"
      ],
      "execution_count": 21,
      "outputs": []
    },
    {
      "cell_type": "code",
      "metadata": {
        "colab": {
          "base_uri": "https://localhost:8080/",
          "height": 296
        },
        "id": "tNyNG9T75UpE",
        "outputId": "9b79c517-7c61-4214-b7d7-eb18ca14f7d1"
      },
      "source": [
        "import matplotlib.pyplot as plt\r\n",
        "plt.xlabel('Epoch Number')\r\n",
        "plt.ylabel(\"Loss Magnitude\")\r\n",
        "plt.plot(history.history['loss'])"
      ],
      "execution_count": 22,
      "outputs": [
        {
          "output_type": "execute_result",
          "data": {
            "text/plain": [
              "[<matplotlib.lines.Line2D at 0x7f854a51e780>]"
            ]
          },
          "metadata": {
            "tags": []
          },
          "execution_count": 22
        },
        {
          "output_type": "display_data",
          "data": {
            "image/png": "[encoded data removed]",
            "text/plain": [
              "<Figure size 432x288 with 1 Axes>"
            ]
          },
          "metadata": {
            "tags": [],
            "needs_background": "light"
          }
        }
      ]
    },
    {
      "cell_type": "code",
      "metadata": {
        "colab": {
          "base_uri": "https://localhost:8080/"
        },
        "id": "YkJTmJ_65dBc",
        "outputId": "489ccdd1-7f3f-41f5-dba5-c8893151fee7"
      },
      "source": [
        "model.predict(([38]))"
      ],
      "execution_count": 23,
      "outputs": [
        {
          "output_type": "execute_result",
          "data": {
            "text/plain": [
              "array([[100.4881]], dtype=float32)"
            ]
          },
          "metadata": {
            "tags": []
          },
          "execution_count": 23
        }
      ]
    }
  ]
}